{
  "cells": [
    {
      "cell_type": "markdown",
      "metadata": {
        "id": "view-in-github",
        "colab_type": "text"
      },
      "source": [
        "<a href=\"https://colab.research.google.com/github/allesrebel/physics-guided-entropy/blob/main/PGENN.ipynb\" target=\"_parent\"><img src=\"https://colab.research.google.com/assets/colab-badge.svg\" alt=\"Open In Colab\"/></a>"
      ]
    },
    {
      "cell_type": "markdown",
      "metadata": {
        "id": "f0OAV-rVhvNL"
      },
      "source": [
        "# Install Conda on Google Colab\n",
        "\n",
        "<!-- By Jaime Rodríguez-Guerra <@jaimergp>. Last modified 2021.08.04 -->\n",
        "\n",
        "`condacolab` simplifies the setup as much as possible, but there are some gotchas.\n",
        "\n",
        "**⚠️ Read this before continuing!**\n",
        "\n",
        "* The `condacolab` commands need to be run the first Code cell!\n",
        "* Once you run `condacolab.install()`, the Python kernel will be restarted. This is **normal and expected**. After that, you can continue running the cells below like normal.\n",
        "* Do not use the `Run all` option. Run the `condacolab` cell _individually_ and wait for the kernel to restart. **Only then**, you can run all cells if you want.\n",
        "* You can only use the `base` environment. Do not try to create new ones; instead update `base` with either:\n",
        "  * `conda install <packages>`\n",
        "  * `conda env update -n base -f environment.yml`\n",
        "* If you want to use GPUs, make sure you are using such an instance before starting!\n",
        "* If you get an error, please raise an issue [here](https://github.com/jaimergp/condacolab/issues)."
      ]
    },
    {
      "cell_type": "code",
      "execution_count": 1,
      "metadata": {
        "colab": {
          "base_uri": "https://localhost:8080/"
        },
        "id": "dzta91EUZnfn",
        "outputId": "d8bba995-a5b5-4414-bd54-7a64653fecbb"
      },
      "outputs": [
        {
          "output_type": "stream",
          "name": "stdout",
          "text": [
            "⏬ Downloading https://github.com/jaimergp/miniforge/releases/latest/download/Mambaforge-colab-Linux-x86_64.sh...\n",
            "📦 Installing...\n",
            "📌 Adjusting configuration...\n",
            "🩹 Patching environment...\n",
            "⏲ Done in 0:00:22\n",
            "🔁 Restarting kernel...\n"
          ]
        }
      ],
      "source": [
        "!pip install -q condacolab\n",
        "import condacolab\n",
        "condacolab.install()"
      ]
    },
    {
      "cell_type": "code",
      "execution_count": 1,
      "metadata": {
        "id": "PQxo5b4kiiWt",
        "colab": {
          "base_uri": "https://localhost:8080/"
        },
        "outputId": "98612cea-be24-4876-9224-7d63429e01cc"
      },
      "outputs": [
        {
          "output_type": "stream",
          "name": "stdout",
          "text": [
            "✨🍰✨ Everything looks OK!\n"
          ]
        }
      ],
      "source": [
        "import condacolab\n",
        "condacolab.check()"
      ]
    },
    {
      "cell_type": "markdown",
      "metadata": {
        "id": "_HDNggG4Ymvv"
      },
      "source": [
        "# PGENN\n",
        "After Conda is online - we can now start installing the dependencies for this tool. We'll install the tools and featurize a bunch of PDB files. We'll extract spacial features using existing featurizers built into deepchem, and couple that with a computationally expensive method called VM2."
      ]
    },
    {
      "cell_type": "code",
      "execution_count": 2,
      "metadata": {
        "colab": {
          "base_uri": "https://localhost:8080/"
        },
        "id": "-f0BNscMlG5n",
        "outputId": "2794c867-96a0-4bc5-c82d-e7f1a464cb99"
      },
      "outputs": [
        {
          "output_type": "stream",
          "name": "stdout",
          "text": [
            "\n",
            "                  __    __    __    __\n",
            "                 /  \\  /  \\  /  \\  /  \\\n",
            "                /    \\/    \\/    \\/    \\\n",
            "███████████████/  /██/  /██/  /██/  /████████████████████████\n",
            "              /  / \\   / \\   / \\   / \\  \\____\n",
            "             /  /   \\_/   \\_/   \\_/   \\    o \\__,\n",
            "            / _/                       \\_____/  `\n",
            "            |/\n",
            "        ███╗   ███╗ █████╗ ███╗   ███╗██████╗  █████╗\n",
            "        ████╗ ████║██╔══██╗████╗ ████║██╔══██╗██╔══██╗\n",
            "        ██╔████╔██║███████║██╔████╔██║██████╔╝███████║\n",
            "        ██║╚██╔╝██║██╔══██║██║╚██╔╝██║██╔══██╗██╔══██║\n",
            "        ██║ ╚═╝ ██║██║  ██║██║ ╚═╝ ██║██████╔╝██║  ██║\n",
            "        ╚═╝     ╚═╝╚═╝  ╚═╝╚═╝     ╚═╝╚═════╝ ╚═╝  ╚═╝\n",
            "\n",
            "        mamba (0.25.0) supported by @QuantStack\n",
            "\n",
            "        GitHub:  https://github.com/mamba-org/mamba\n",
            "        Twitter: https://twitter.com/QuantStack\n",
            "\n",
            "█████████████████████████████████████████████████████████████\n",
            "\n",
            "  Package                        Version  Build                Channel                   Size\n",
            "───────────────────────────────────────────────────────────────────────────────────────────────\n",
            "  Install:\n",
            "───────────────────────────────────────────────────────────────────────────────────────────────\n",
            "\n",
            "\u001b[32m  + boost-cpp                \u001b[00m     1.74.0  h75c5d50_8           conda-forge/linux-64      17MB\n",
            "\u001b[32m  + cairo                    \u001b[00m     1.16.0  ha61ee94_1014        conda-forge/linux-64       2MB\n",
            "\u001b[32m  + cudatoolkit              \u001b[00m     11.2.2  hbe64b41_10          conda-forge/linux-64     919MB\n",
            "\u001b[32m  + deepchem                 \u001b[00m      2.6.1  pyhd8ed1ab_0         conda-forge/noarch       409kB\n",
            "\u001b[32m  + expat                    \u001b[00m      2.4.9  h27087fc_0           conda-forge/linux-64     193kB\n",
            "\u001b[32m  + fftw                     \u001b[00m     3.3.10  nompi_hf0379b8_105   conda-forge/linux-64       2MB\n",
            "\u001b[32m  + font-ttf-dejavu-sans-mono\u001b[00m       2.37  hab24e00_0           conda-forge/noarch       397kB\n",
            "\u001b[32m  + font-ttf-inconsolata     \u001b[00m      3.000  h77eed37_0           conda-forge/noarch        97kB\n",
            "\u001b[32m  + font-ttf-source-code-pro \u001b[00m      2.038  h77eed37_0           conda-forge/noarch       701kB\n",
            "\u001b[32m  + font-ttf-ubuntu          \u001b[00m       0.83  hab24e00_0           conda-forge/noarch         2MB\n",
            "\u001b[32m  + fontconfig               \u001b[00m     2.14.0  hc2a2eb6_1           conda-forge/linux-64     325kB\n",
            "\u001b[32m  + fonts-conda-ecosystem    \u001b[00m          1  0                    conda-forge/noarch         4kB\n",
            "\u001b[32m  + fonts-conda-forge        \u001b[00m          1  0                    conda-forge/noarch         4kB\n",
            "\u001b[32m  + freetype                 \u001b[00m     2.12.1  hca18f0e_0           conda-forge/linux-64     905kB\n",
            "\u001b[32m  + gettext                  \u001b[00m   0.19.8.1  h27087fc_1009        conda-forge/linux-64       4MB\n",
            "\u001b[32m  + joblib                   \u001b[00m      1.2.0  pyhd8ed1ab_0         conda-forge/noarch       210kB\n",
            "\u001b[32m  + libblas                  \u001b[00m      3.9.0  16_linux64_openblas  conda-forge/linux-64      13kB\n",
            "\u001b[32m  + libcblas                 \u001b[00m      3.9.0  16_linux64_openblas  conda-forge/linux-64      13kB\n",
            "\u001b[32m  + libgfortran-ng           \u001b[00m     12.1.0  h69a702a_16          conda-forge/linux-64      23kB\n",
            "\u001b[32m  + libgfortran5             \u001b[00m     12.1.0  hdcd56e2_16          conda-forge/linux-64       2MB\n",
            "\u001b[32m  + libglib                  \u001b[00m     2.72.1  h2d90d5f_0           conda-forge/linux-64       3MB\n",
            "\u001b[32m  + liblapack                \u001b[00m      3.9.0  16_linux64_openblas  conda-forge/linux-64      13kB\n",
            "\u001b[32m  + libopenblas              \u001b[00m     0.3.21  pthreads_h78a6416_3  conda-forge/linux-64      11MB\n",
            "\u001b[32m  + libpng                   \u001b[00m     1.6.38  h753d276_0           conda-forge/linux-64     380kB\n",
            "\u001b[32m  + libuuid                  \u001b[00m     2.32.1  h7f98852_1000        conda-forge/linux-64      28kB\n",
            "\u001b[32m  + libxcb                   \u001b[00m       1.13  h7f98852_1004        conda-forge/linux-64     400kB\n",
            "\u001b[32m  + numpy                    \u001b[00m     1.21.6  py37h976b520_0       conda-forge/linux-64       6MB\n",
            "\u001b[32m  + ocl-icd                  \u001b[00m      2.3.1  h7f98852_0           conda-forge/linux-64     121kB\n",
            "\u001b[32m  + ocl-icd-system           \u001b[00m      1.0.0  1                    conda-forge/linux-64       4kB\n",
            "\u001b[32m  + openbabel                \u001b[00m      3.1.1  py37ha011765_4       conda-forge/linux-64       6MB\n",
            "\u001b[32m  + openmm                   \u001b[00m      7.7.0  py37h9d45a84_1       conda-forge/linux-64      12MB\n",
            "\u001b[32m  + pandas                   \u001b[00m      1.3.5  py37he8f5f7f_0       conda-forge/linux-64      13MB\n",
            "\u001b[32m  + pcre                     \u001b[00m       8.45  h9c3ff4c_0           conda-forge/linux-64     259kB\n",
            "\u001b[32m  + pdbfixer                 \u001b[00m      1.8.1  pyh6c4a22f_0         conda-forge/noarch       510kB\n",
            "\u001b[32m  + pixman                   \u001b[00m     0.40.0  h36c2ea0_0           conda-forge/linux-64     643kB\n",
            "\u001b[32m  + pthread-stubs            \u001b[00m        0.4  h36c2ea0_1001        conda-forge/linux-64       6kB\n",
            "\u001b[32m  + python-dateutil          \u001b[00m      2.8.2  pyhd8ed1ab_0         conda-forge/noarch       246kB\n",
            "\u001b[32m  + pytz                     \u001b[00m     2022.4  pyhd8ed1ab_0         conda-forge/noarch       237kB\n",
            "\u001b[32m  + scikit-learn             \u001b[00m      1.0.2  py37hf9e9bfc_0       conda-forge/linux-64       8MB\n",
            "\u001b[32m  + scipy                    \u001b[00m      1.7.3  py37hf2a6cf1_0       conda-forge/linux-64      23MB\n",
            "\u001b[32m  + threadpoolctl            \u001b[00m      3.1.0  pyh8a188c0_0         conda-forge/noarch        18kB\n",
            "\u001b[32m  + vina                     \u001b[00m      1.2.3  py37h76abb25_0       conda-forge/linux-64     768kB\n",
            "\u001b[32m  + xorg-kbproto             \u001b[00m      1.0.7  h7f98852_1002        conda-forge/linux-64      27kB\n",
            "\u001b[32m  + xorg-libice              \u001b[00m     1.0.10  h7f98852_0           conda-forge/linux-64      59kB\n",
            "\u001b[32m  + xorg-libsm               \u001b[00m      1.2.3  hd9c2040_1000        conda-forge/linux-64      26kB\n",
            "\u001b[32m  + xorg-libx11              \u001b[00m      1.7.2  h7f98852_0           conda-forge/linux-64     963kB\n",
            "\u001b[32m  + xorg-libxau              \u001b[00m      1.0.9  h7f98852_0           conda-forge/linux-64      13kB\n",
            "\u001b[32m  + xorg-libxdmcp            \u001b[00m      1.1.3  h7f98852_0           conda-forge/linux-64      19kB\n",
            "\u001b[32m  + xorg-libxext             \u001b[00m      1.3.4  h7f98852_1           conda-forge/linux-64      55kB\n",
            "\u001b[32m  + xorg-libxrender          \u001b[00m     0.9.10  h7f98852_1003        conda-forge/linux-64      33kB\n",
            "\u001b[32m  + xorg-renderproto         \u001b[00m     0.11.1  h7f98852_1002        conda-forge/linux-64      10kB\n",
            "\u001b[32m  + xorg-xextproto           \u001b[00m      7.3.0  h7f98852_1002        conda-forge/linux-64      28kB\n",
            "\u001b[32m  + xorg-xproto              \u001b[00m     7.0.31  h7f98852_1007        conda-forge/linux-64      75kB\n",
            "\u001b[32m  + zlib                     \u001b[00m     1.2.12  h166bdaf_2           conda-forge/linux-64      93kB\n",
            "\n",
            "  Upgrade:\n",
            "───────────────────────────────────────────────────────────────────────────────────────────────\n",
            "\n",
            "\u001b[31m  - ca-certificates          \u001b[00m  2022.6.15  ha878542_0           conda-forge                   \n",
            "\u001b[32m  + ca-certificates          \u001b[00m  2022.9.24  ha878542_0           conda-forge/linux-64     154kB\n",
            "\u001b[31m  - certifi                  \u001b[00m  2022.6.15  py37h89c1867_0       conda-forge                   \n",
            "\u001b[32m  + certifi                  \u001b[00m  2022.9.24  pyhd8ed1ab_0         conda-forge/noarch       159kB\n",
            "\n",
            "  Downgrade:\n",
            "───────────────────────────────────────────────────────────────────────────────────────────────\n",
            "\n",
            "\u001b[31m  - setuptools               \u001b[00m     65.3.0  py37h89c1867_0       conda-forge                   \n",
            "\u001b[32m  + setuptools               \u001b[00m     59.8.0  py37h89c1867_1       conda-forge/linux-64       1MB\n",
            "\n",
            "  Summary:\n",
            "\n",
            "  Install: 54 packages\n",
            "  Upgrade: 2 packages\n",
            "  Downgrade: 1 packages\n",
            "\n",
            "  Total download: 1GB\n",
            "\n",
            "───────────────────────────────────────────────────────────────────────────────────────────────\n",
            "\n",
            "Preparing transaction: ...working... done\n",
            "Verifying transaction: ...working... done\n",
            "Executing transaction: ...working... By downloading and using the CUDA Toolkit conda packages, you accept the terms and conditions of the CUDA End User License Agreement (EULA): https://docs.nvidia.com/cuda/eula/index.html\n",
            "\n",
            "done\n",
            "\u001b[2K     \u001b[90m━━━━━━━━━━━━━━━━━━━━━━━━━━━━━━━━━━━━━━━━\u001b[0m \u001b[32m2.1/2.1 MB\u001b[0m \u001b[31m58.7 MB/s\u001b[0m eta \u001b[36m0:00:00\u001b[0m\n",
            "\u001b[?25h  Installing build dependencies ... \u001b[?25l\u001b[?25hdone\n",
            "  Getting requirements to build wheel ... \u001b[?25l\u001b[?25hdone\n",
            "  Preparing metadata (pyproject.toml) ... \u001b[?25l\u001b[?25hdone\n",
            "\u001b[2K     \u001b[90m━━━━━━━━━━━━━━━━━━━━━━━━━━━━━━━━━━━━━━━━\u001b[0m \u001b[32m5.7/5.7 MB\u001b[0m \u001b[31m19.9 MB/s\u001b[0m eta \u001b[36m0:00:00\u001b[0m\n",
            "\u001b[?25h  Installing build dependencies ... \u001b[?25l\u001b[?25hdone\n",
            "  Getting requirements to build wheel ... \u001b[?25l\u001b[?25hdone\n",
            "  Preparing metadata (pyproject.toml) ... \u001b[?25l\u001b[?25hdone\n",
            "\u001b[2K     \u001b[90m━━━━━━━━━━━━━━━━━━━━━━━━━━━━━━━━━━━━━━━━\u001b[0m \u001b[32m40.6/40.6 MB\u001b[0m \u001b[31m17.5 MB/s\u001b[0m eta \u001b[36m0:00:00\u001b[0m\n",
            "\u001b[?25h  Installing build dependencies ... \u001b[?25l\u001b[?25hdone\n",
            "  Getting requirements to build wheel ... \u001b[?25l\u001b[?25hdone\n",
            "  Installing backend dependencies ... \u001b[?25l\u001b[?25hdone\n",
            "  Preparing metadata (pyproject.toml) ... \u001b[?25l\u001b[?25hdone\n",
            "\u001b[2K     \u001b[90m━━━━━━━━━━━━━━━━━━━━━━━━━━━━━━━━━━━━━━\u001b[0m \u001b[32m220.4/220.4 kB\u001b[0m \u001b[31m24.4 MB/s\u001b[0m eta \u001b[36m0:00:00\u001b[0m\n",
            "\u001b[2K     \u001b[90m━━━━━━━━━━━━━━━━━━━━━━━━━━━━━━━━━━━━━━\u001b[0m \u001b[32m467.0/467.0 kB\u001b[0m \u001b[31m34.8 MB/s\u001b[0m eta \u001b[36m0:00:00\u001b[0m\n",
            "\u001b[?25h  Preparing metadata (setup.py) ... \u001b[?25l\u001b[?25hdone\n",
            "\u001b[2K     \u001b[90m━━━━━━━━━━━━━━━━━━━━━━━━━━━━━━━━━━━━━━\u001b[0m \u001b[32m708.1/708.1 kB\u001b[0m \u001b[31m45.3 MB/s\u001b[0m eta \u001b[36m0:00:00\u001b[0m\n",
            "\u001b[2K     \u001b[90m━━━━━━━━━━━━━━━━━━━━━━━━━━━━━━━━━━━━━━━━\u001b[0m \u001b[32m36.8/36.8 MB\u001b[0m \u001b[31m26.8 MB/s\u001b[0m eta \u001b[36m0:00:00\u001b[0m\n",
            "\u001b[2K     \u001b[90m━━━━━━━━━━━━━━━━━━━━━━━━━━━━━━━━━━━━━━\u001b[0m \u001b[32m134.4/134.4 kB\u001b[0m \u001b[31m17.1 MB/s\u001b[0m eta \u001b[36m0:00:00\u001b[0m\n",
            "\u001b[2K     \u001b[90m━━━━━━━━━━━━━━━━━━━━━━━━━━━━━━━━━━━━━━\u001b[0m \u001b[32m384.1/384.1 kB\u001b[0m \u001b[31m35.7 MB/s\u001b[0m eta \u001b[36m0:00:00\u001b[0m\n",
            "\u001b[2K     \u001b[90m━━━━━━━━━━━━━━━━━━━━━━━━━━━━━━━━━━━━━━\u001b[0m \u001b[32m111.8/111.8 kB\u001b[0m \u001b[31m12.4 MB/s\u001b[0m eta \u001b[36m0:00:00\u001b[0m\n",
            "\u001b[2K     \u001b[90m━━━━━━━━━━━━━━━━━━━━━━━━━━━━━━━━━━━━━━━━\u001b[0m \u001b[32m11.2/11.2 MB\u001b[0m \u001b[31m71.8 MB/s\u001b[0m eta \u001b[36m0:00:00\u001b[0m\n",
            "\u001b[2K     \u001b[90m━━━━━━━━━━━━━━━━━━━━━━━━━━━━━━━━━━━━━━\u001b[0m \u001b[32m514.4/514.4 kB\u001b[0m \u001b[31m37.3 MB/s\u001b[0m eta \u001b[36m0:00:00\u001b[0m\n",
            "\u001b[2K     \u001b[90m━━━━━━━━━━━━━━━━━━━━━━━━━━━━━━━━━━━━━━━━\u001b[0m \u001b[32m6.4/6.4 MB\u001b[0m \u001b[31m84.8 MB/s\u001b[0m eta \u001b[36m0:00:00\u001b[0m\n",
            "\u001b[2K     \u001b[90m━━━━━━━━━━━━━━━━━━━━━━━━━━━━━━━━━━━━━━━━\u001b[0m \u001b[32m1.9/1.9 MB\u001b[0m \u001b[31m65.4 MB/s\u001b[0m eta \u001b[36m0:00:00\u001b[0m\n",
            "\u001b[2K     \u001b[90m━━━━━━━━━━━━━━━━━━━━━━━━━━━━━━━━━━━━━━━━\u001b[0m \u001b[32m15.2/15.2 MB\u001b[0m \u001b[31m70.5 MB/s\u001b[0m eta \u001b[36m0:00:00\u001b[0m\n",
            "\u001b[2K     \u001b[90m━━━━━━━━━━━━━━━━━━━━━━━━━━━━━━━━━━━━━━━━\u001b[0m \u001b[32m98.4/98.4 kB\u001b[0m \u001b[31m12.9 MB/s\u001b[0m eta \u001b[36m0:00:00\u001b[0m\n",
            "\u001b[2K     \u001b[90m━━━━━━━━━━━━━━━━━━━━━━━━━━━━━━━━━━━━━━\u001b[0m \u001b[32m109.5/109.5 kB\u001b[0m \u001b[31m13.4 MB/s\u001b[0m eta \u001b[36m0:00:00\u001b[0m\n",
            "\u001b[2K     \u001b[90m━━━━━━━━━━━━━━━━━━━━━━━━━━━━━━━━━━━━━━━━\u001b[0m \u001b[32m66.9/66.9 kB\u001b[0m \u001b[31m8.2 MB/s\u001b[0m eta \u001b[36m0:00:00\u001b[0m\n",
            "\u001b[2K     \u001b[90m━━━━━━━━━━━━━━━━━━━━━━━━━━━━━━━━━━━━━━━━\u001b[0m \u001b[32m22.3/22.3 MB\u001b[0m \u001b[31m24.6 MB/s\u001b[0m eta \u001b[36m0:00:00\u001b[0m\n",
            "\u001b[2K     \u001b[90m━━━━━━━━━━━━━━━━━━━━━━━━━━━━━━━━━━━━━━━━\u001b[0m \u001b[32m1.6/1.6 MB\u001b[0m \u001b[31m71.4 MB/s\u001b[0m eta \u001b[36m0:00:00\u001b[0m\n",
            "\u001b[2K     \u001b[90m━━━━━━━━━━━━━━━━━━━━━━━━━━━━━━━━━━━━━━\u001b[0m \u001b[32m133.1/133.1 kB\u001b[0m \u001b[31m16.9 MB/s\u001b[0m eta \u001b[36m0:00:00\u001b[0m\n",
            "\u001b[2K     \u001b[90m━━━━━━━━━━━━━━━━━━━━━━━━━━━━━━━━━━━━━━━\u001b[0m \u001b[32m776.3/776.3 MB\u001b[0m \u001b[31m2.1 MB/s\u001b[0m eta \u001b[36m0:00:00\u001b[0m\n",
            "\u001b[2K     \u001b[90m━━━━━━━━━━━━━━━━━━━━━━━━━━━━━━━━━━━━━━\u001b[0m \u001b[32m140.8/140.8 kB\u001b[0m \u001b[31m18.1 MB/s\u001b[0m eta \u001b[36m0:00:00\u001b[0m\n",
            "\u001b[2K     \u001b[90m━━━━━━━━━━━━━━━━━━━━━━━━━━━━━━━━━━━━━━\u001b[0m \u001b[32m529.2/529.2 kB\u001b[0m \u001b[31m40.0 MB/s\u001b[0m eta \u001b[36m0:00:00\u001b[0m\n",
            "\u001b[2K     \u001b[90m━━━━━━━━━━━━━━━━━━━━━━━━━━━━━━━━━━━━━━━━\u001b[0m \u001b[32m5.9/5.9 MB\u001b[0m \u001b[31m78.7 MB/s\u001b[0m eta \u001b[36m0:00:00\u001b[0m\n",
            "\u001b[2K     \u001b[90m━━━━━━━━━━━━━━━━━━━━━━━━━━━━━━━━━━━━━━\u001b[0m \u001b[32m596.3/596.3 kB\u001b[0m \u001b[31m41.5 MB/s\u001b[0m eta \u001b[36m0:00:00\u001b[0m\n",
            "\u001b[2K     \u001b[90m━━━━━━━━━━━━━━━━━━━━━━━━━━━━━━━━━━━━━━━━\u001b[0m \u001b[32m3.1/3.1 MB\u001b[0m \u001b[31m53.4 MB/s\u001b[0m eta \u001b[36m0:00:00\u001b[0m\n",
            "\u001b[2K     \u001b[90m━━━━━━━━━━━━━━━━━━━━━━━━━━━━━━━━━━━━━━\u001b[0m \u001b[32m948.0/948.0 kB\u001b[0m \u001b[31m40.4 MB/s\u001b[0m eta \u001b[36m0:00:00\u001b[0m\n",
            "\u001b[2K     \u001b[90m━━━━━━━━━━━━━━━━━━━━━━━━━━━━━━━━━━━━━━\u001b[0m \u001b[32m793.8/793.8 kB\u001b[0m \u001b[31m34.1 MB/s\u001b[0m eta \u001b[36m0:00:00\u001b[0m\n",
            "\u001b[2K     \u001b[90m━━━━━━━━━━━━━━━━━━━━━━━━━━━━━━━━━━━━━━\u001b[0m \u001b[32m138.4/138.4 kB\u001b[0m \u001b[31m15.9 MB/s\u001b[0m eta \u001b[36m0:00:00\u001b[0m\n",
            "\u001b[2K     \u001b[90m━━━━━━━━━━━━━━━━━━━━━━━━━━━━━━━━━━━━━━\u001b[0m \u001b[32m107.1/107.1 kB\u001b[0m \u001b[31m13.3 MB/s\u001b[0m eta \u001b[36m0:00:00\u001b[0m\n",
            "\u001b[2K     \u001b[90m━━━━━━━━━━━━━━━━━━━━━━━━━━━━━━━━━━━━━━━━\u001b[0m \u001b[32m2.0/2.0 MB\u001b[0m \u001b[31m42.3 MB/s\u001b[0m eta \u001b[36m0:00:00\u001b[0m\n",
            "\u001b[2K     \u001b[90m━━━━━━━━━━━━━━━━━━━━━━━━━━━━━━━━━━━━━━━━\u001b[0m \u001b[32m1.1/1.1 MB\u001b[0m \u001b[31m42.2 MB/s\u001b[0m eta \u001b[36m0:00:00\u001b[0m\n",
            "\u001b[2K     \u001b[90m━━━━━━━━━━━━━━━━━━━━━━━━━━━━━━━━━━━━━━\u001b[0m \u001b[32m960.8/960.8 kB\u001b[0m \u001b[31m39.0 MB/s\u001b[0m eta \u001b[36m0:00:00\u001b[0m\n",
            "\u001b[2K     \u001b[90m━━━━━━━━━━━━━━━━━━━━━━━━━━━━━━━━━━━━━━\u001b[0m \u001b[32m546.8/546.8 kB\u001b[0m \u001b[31m27.4 MB/s\u001b[0m eta \u001b[36m0:00:00\u001b[0m\n",
            "\u001b[2K     \u001b[90m━━━━━━━━━━━━━━━━━━━━━━━━━━━━━━━━━━━━━━━━\u001b[0m \u001b[32m4.9/4.9 MB\u001b[0m \u001b[31m64.7 MB/s\u001b[0m eta \u001b[36m0:00:00\u001b[0m\n",
            "\u001b[2K     \u001b[90m━━━━━━━━━━━━━━━━━━━━━━━━━━━━━━━━━━━━━━━━\u001b[0m \u001b[32m93.3/93.3 kB\u001b[0m \u001b[31m12.6 MB/s\u001b[0m eta \u001b[36m0:00:00\u001b[0m\n",
            "\u001b[2K     \u001b[90m━━━━━━━━━━━━━━━━━━━━━━━━━━━━━━━━━━━━━━\u001b[0m \u001b[32m232.7/232.7 kB\u001b[0m \u001b[31m26.0 MB/s\u001b[0m eta \u001b[36m0:00:00\u001b[0m\n",
            "\u001b[2K     \u001b[90m━━━━━━━━━━━━━━━━━━━━━━━━━━━━━━━━━━━━━━\u001b[0m \u001b[32m781.3/781.3 kB\u001b[0m \u001b[31m34.6 MB/s\u001b[0m eta \u001b[36m0:00:00\u001b[0m\n",
            "\u001b[2K     \u001b[90m━━━━━━━━━━━━━━━━━━━━━━━━━━━━━━━━━━━━━━\u001b[0m \u001b[32m169.8/169.8 kB\u001b[0m \u001b[31m19.7 MB/s\u001b[0m eta \u001b[36m0:00:00\u001b[0m\n",
            "\u001b[2K     \u001b[90m━━━━━━━━━━━━━━━━━━━━━━━━━━━━━━━━━━━━━━\u001b[0m \u001b[32m123.4/123.4 kB\u001b[0m \u001b[31m17.4 MB/s\u001b[0m eta \u001b[36m0:00:00\u001b[0m\n",
            "\u001b[2K     \u001b[90m━━━━━━━━━━━━━━━━━━━━━━━━━━━━━━━━━━━━━━━━\u001b[0m \u001b[32m4.7/4.7 MB\u001b[0m \u001b[31m67.6 MB/s\u001b[0m eta \u001b[36m0:00:00\u001b[0m\n",
            "\u001b[2K     \u001b[90m━━━━━━━━━━━━━━━━━━━━━━━━━━━━━━━━━━━━━━━━\u001b[0m \u001b[32m1.1/1.1 MB\u001b[0m \u001b[31m31.3 MB/s\u001b[0m eta \u001b[36m0:00:00\u001b[0m\n",
            "\u001b[2K     \u001b[90m━━━━━━━━━━━━━━━━━━━━━━━━━━━━━━━━━━━━━━\u001b[0m \u001b[32m829.2/829.2 kB\u001b[0m \u001b[31m26.1 MB/s\u001b[0m eta \u001b[36m0:00:00\u001b[0m\n",
            "\u001b[?25h  Preparing metadata (setup.py) ... \u001b[?25l\u001b[?25hdone\n",
            "\u001b[2K     \u001b[90m━━━━━━━━━━━━━━━━━━━━━━━━━━━━━━━━━━━━━━\u001b[0m \u001b[32m200.5/200.5 kB\u001b[0m \u001b[31m20.7 MB/s\u001b[0m eta \u001b[36m0:00:00\u001b[0m\n",
            "\u001b[2K     \u001b[90m━━━━━━━━━━━━━━━━━━━━━━━━━━━━━━━━━━━━━━\u001b[0m \u001b[32m532.6/532.6 kB\u001b[0m \u001b[31m19.2 MB/s\u001b[0m eta \u001b[36m0:00:00\u001b[0m\n",
            "\u001b[2K     \u001b[90m━━━━━━━━━━━━━━━━━━━━━━━━━━━━━━━━━━━━━━━━\u001b[0m \u001b[32m94.8/94.8 kB\u001b[0m \u001b[31m12.7 MB/s\u001b[0m eta \u001b[36m0:00:00\u001b[0m\n",
            "\u001b[2K     \u001b[90m━━━━━━━━━━━━━━━━━━━━━━━━━━━━━━━━━━━━━━━━\u001b[0m \u001b[32m58.8/58.8 kB\u001b[0m \u001b[31m7.8 MB/s\u001b[0m eta \u001b[36m0:00:00\u001b[0m\n",
            "\u001b[2K     \u001b[90m━━━━━━━━━━━━━━━━━━━━━━━━━━━━━━━━━━━━━━\u001b[0m \u001b[32m231.3/231.3 kB\u001b[0m \u001b[31m25.4 MB/s\u001b[0m eta \u001b[36m0:00:00\u001b[0m\n",
            "\u001b[2K     \u001b[90m━━━━━━━━━━━━━━━━━━━━━━━━━━━━━━━━━━━━━━\u001b[0m \u001b[32m148.0/148.0 kB\u001b[0m \u001b[31m17.6 MB/s\u001b[0m eta \u001b[36m0:00:00\u001b[0m\n",
            "\u001b[2K     \u001b[90m━━━━━━━━━━━━━━━━━━━━━━━━━━━━━━━━━━━━━━\u001b[0m \u001b[32m155.3/155.3 kB\u001b[0m \u001b[31m19.0 MB/s\u001b[0m eta \u001b[36m0:00:00\u001b[0m\n",
            "\u001b[2K     \u001b[90m━━━━━━━━━━━━━━━━━━━━━━━━━━━━━━━━━━━━━━━━\u001b[0m \u001b[32m1.1/1.1 MB\u001b[0m \u001b[31m31.9 MB/s\u001b[0m eta \u001b[36m0:00:00\u001b[0m\n",
            "\u001b[2K     \u001b[90m━━━━━━━━━━━━━━━━━━━━━━━━━━━━━━━━━━━━━━\u001b[0m \u001b[32m281.3/281.3 kB\u001b[0m \u001b[31m15.6 MB/s\u001b[0m eta \u001b[36m0:00:00\u001b[0m\n",
            "\u001b[2K     \u001b[90m━━━━━━━━━━━━━━━━━━━━━━━━━━━━━━━━━━━━━━\u001b[0m \u001b[32m424.0/424.0 kB\u001b[0m \u001b[31m13.8 MB/s\u001b[0m eta \u001b[36m0:00:00\u001b[0m\n",
            "\u001b[2K     \u001b[90m━━━━━━━━━━━━━━━━━━━━━━━━━━━━━━━━━━━━━━\u001b[0m \u001b[32m132.2/132.2 kB\u001b[0m \u001b[31m13.6 MB/s\u001b[0m eta \u001b[36m0:00:00\u001b[0m\n",
            "\u001b[2K     \u001b[90m━━━━━━━━━━━━━━━━━━━━━━━━━━━━━━━━━━━━━━━━\u001b[0m \u001b[32m1.8/1.8 MB\u001b[0m \u001b[31m45.1 MB/s\u001b[0m eta \u001b[36m0:00:00\u001b[0m\n",
            "\u001b[2K     \u001b[90m━━━━━━━━━━━━━━━━━━━━━━━━━━━━━━━━━━━━━━━━\u001b[0m \u001b[32m59.0/59.0 kB\u001b[0m \u001b[31m8.0 MB/s\u001b[0m eta \u001b[36m0:00:00\u001b[0m\n",
            "\u001b[2K     \u001b[90m━━━━━━━━━━━━━━━━━━━━━━━━━━━━━━━━━━━━━━━━\u001b[0m \u001b[32m1.6/1.6 MB\u001b[0m \u001b[31m43.0 MB/s\u001b[0m eta \u001b[36m0:00:00\u001b[0m\n",
            "\u001b[2K     \u001b[90m━━━━━━━━━━━━━━━━━━━━━━━━━━━━━━━━━━━━━━\u001b[0m \u001b[32m382.3/382.3 kB\u001b[0m \u001b[31m14.6 MB/s\u001b[0m eta \u001b[36m0:00:00\u001b[0m\n",
            "\u001b[2K     \u001b[90m━━━━━━━━━━━━━━━━━━━━━━━━━━━━━━━━━━━━━━━━\u001b[0m \u001b[32m1.1/1.1 MB\u001b[0m \u001b[31m29.2 MB/s\u001b[0m eta \u001b[36m0:00:00\u001b[0m\n",
            "\u001b[2K     \u001b[90m━━━━━━━━━━━━━━━━━━━━━━━━━━━━━━━━━━━━━━\u001b[0m \u001b[32m100.8/100.8 kB\u001b[0m \u001b[31m12.8 MB/s\u001b[0m eta \u001b[36m0:00:00\u001b[0m\n",
            "\u001b[2K     \u001b[90m━━━━━━━━━━━━━━━━━━━━━━━━━━━━━━━━━━━━━━━━\u001b[0m \u001b[32m88.4/88.4 kB\u001b[0m \u001b[31m11.5 MB/s\u001b[0m eta \u001b[36m0:00:00\u001b[0m\n",
            "\u001b[2K     \u001b[90m━━━━━━━━━━━━━━━━━━━━━━━━━━━━━━━━━━━━━━━━\u001b[0m \u001b[32m77.1/77.1 kB\u001b[0m \u001b[31m10.3 MB/s\u001b[0m eta \u001b[36m0:00:00\u001b[0m\n",
            "\u001b[2K     \u001b[90m━━━━━━━━━━━━━━━━━━━━━━━━━━━━━━━━━━━━━━\u001b[0m \u001b[32m151.7/151.7 kB\u001b[0m \u001b[31m19.5 MB/s\u001b[0m eta \u001b[36m0:00:00\u001b[0m\n",
            "\u001b[?25h  Building wheel for mdtraj (pyproject.toml) ... \u001b[?25l\u001b[?25hdone\n",
            "  Building wheel for nglview (pyproject.toml) ... \u001b[?25l\u001b[?25hdone\n",
            "  Building wheel for pymatgen (pyproject.toml) ... \u001b[?25l\u001b[?25hdone\n",
            "  Building wheel for torch-geometric (setup.py) ... \u001b[?25l\u001b[?25hdone\n",
            "  Building wheel for future (setup.py) ... \u001b[?25l\u001b[?25hdone\n",
            "\u001b[33mWARNING: Running pip as the 'root' user can result in broken permissions and conflicting behaviour with the system package manager. It is recommended to use a virtual environment instead: https://pip.pypa.io/warnings/venv\u001b[0m\u001b[33m\n",
            "\u001b[2K     \u001b[90m━━━━━━━━━━━━━━━━━━━━━━━━━━━━━━━━━━━━━━━━\u001b[0m \u001b[32m4.9/4.9 MB\u001b[0m \u001b[31m62.1 MB/s\u001b[0m eta \u001b[36m0:00:00\u001b[0m\n",
            "\u001b[2K     \u001b[90m━━━━━━━━━━━━━━━━━━━━━━━━━━━━━━━━━━━━━━━━\u001b[0m \u001b[32m63.5/63.5 kB\u001b[0m \u001b[31m8.8 MB/s\u001b[0m eta \u001b[36m0:00:00\u001b[0m\n",
            "\u001b[2K     \u001b[90m━━━━━━━━━━━━━━━━━━━━━━━━━━━━━━━━━━━━━━━━\u001b[0m \u001b[32m11.8/11.8 MB\u001b[0m \u001b[31m25.9 MB/s\u001b[0m eta \u001b[36m0:00:00\u001b[0m\n",
            "\u001b[2K     \u001b[90m━━━━━━━━━━━━━━━━━━━━━━━━━━━━━━━━━━━━━━━━\u001b[0m \u001b[32m45.6/45.6 kB\u001b[0m \u001b[31m5.5 MB/s\u001b[0m eta \u001b[36m0:00:00\u001b[0m\n",
            "\u001b[2K     \u001b[90m━━━━━━━━━━━━━━━━━━━━━━━━━━━━━━━━━━━━━━━━\u001b[0m \u001b[32m78.6/78.6 kB\u001b[0m \u001b[31m7.8 MB/s\u001b[0m eta \u001b[36m0:00:00\u001b[0m\n",
            "\u001b[2K     \u001b[90m━━━━━━━━━━━━━━━━━━━━━━━━━━━━━━━━━━━━━━\u001b[0m \u001b[32m103.4/103.4 kB\u001b[0m \u001b[31m13.4 MB/s\u001b[0m eta \u001b[36m0:00:00\u001b[0m\n",
            "\u001b[2K     \u001b[90m━━━━━━━━━━━━━━━━━━━━━━━━━━━━━━━━━━━━━━━━\u001b[0m \u001b[32m52.4/52.4 kB\u001b[0m \u001b[31m7.3 MB/s\u001b[0m eta \u001b[36m0:00:00\u001b[0m\n",
            "\u001b[2K     \u001b[90m━━━━━━━━━━━━━━━━━━━━━━━━━━━━━━━━━━━━━━━━\u001b[0m \u001b[32m41.5/41.5 kB\u001b[0m \u001b[31m5.5 MB/s\u001b[0m eta \u001b[36m0:00:00\u001b[0m\n",
            "\u001b[2K     \u001b[90m━━━━━━━━━━━━━━━━━━━━━━━━━━━━━━━━━━━━━━━━\u001b[0m \u001b[32m3.2/3.2 MB\u001b[0m \u001b[31m81.3 MB/s\u001b[0m eta \u001b[36m0:00:00\u001b[0m\n",
            "\u001b[2K     \u001b[90m━━━━━━━━━━━━━━━━━━━━━━━━━━━━━━━━━━━━━━━━\u001b[0m \u001b[32m96.6/96.6 kB\u001b[0m \u001b[31m12.8 MB/s\u001b[0m eta \u001b[36m0:00:00\u001b[0m\n",
            "\u001b[?25h  Preparing metadata (setup.py) ... \u001b[?25l\u001b[?25hdone\n",
            "\u001b[2K     \u001b[90m━━━━━━━━━━━━━━━━━━━━━━━━━━━━━━━━━━━━━━\u001b[0m \u001b[32m570.5/570.5 kB\u001b[0m \u001b[31m37.5 MB/s\u001b[0m eta \u001b[36m0:00:00\u001b[0m\n",
            "\u001b[2K     \u001b[90m━━━━━━━━━━━━━━━━━━━━━━━━━━━━━━━━━━━━━━━━\u001b[0m \u001b[32m90.6/90.6 kB\u001b[0m \u001b[31m12.6 MB/s\u001b[0m eta \u001b[36m0:00:00\u001b[0m\n",
            "\u001b[2K     \u001b[90m━━━━━━━━━━━━━━━━━━━━━━━━━━━━━━━━━━━━━━━━\u001b[0m \u001b[32m93.0/93.0 kB\u001b[0m \u001b[31m11.0 MB/s\u001b[0m eta \u001b[36m0:00:00\u001b[0m\n",
            "\u001b[2K     \u001b[90m━━━━━━━━━━━━━━━━━━━━━━━━━━━━━━━━━━━━━━━━\u001b[0m \u001b[32m84.7/84.7 kB\u001b[0m \u001b[31m10.6 MB/s\u001b[0m eta \u001b[36m0:00:00\u001b[0m\n",
            "\u001b[2K     \u001b[90m━━━━━━━━━━━━━━━━━━━━━━━━━━━━━━━━━━━━━━━━\u001b[0m \u001b[32m9.5/9.5 MB\u001b[0m \u001b[31m80.8 MB/s\u001b[0m eta \u001b[36m0:00:00\u001b[0m\n",
            "\u001b[2K     \u001b[90m━━━━━━━━━━━━━━━━━━━━━━━━━━━━━━━━━━━━━━\u001b[0m \u001b[32m121.2/121.2 kB\u001b[0m \u001b[31m12.8 MB/s\u001b[0m eta \u001b[36m0:00:00\u001b[0m\n",
            "\u001b[2K     \u001b[90m━━━━━━━━━━━━━━━━━━━━━━━━━━━━━━━━━━━━━━━━\u001b[0m \u001b[32m94.0/94.0 kB\u001b[0m \u001b[31m13.2 MB/s\u001b[0m eta \u001b[36m0:00:00\u001b[0m\n",
            "\u001b[2K     \u001b[90m━━━━━━━━━━━━━━━━━━━━━━━━━━━━━━━━━━━━━━\u001b[0m \u001b[32m100.5/100.5 kB\u001b[0m \u001b[31m13.3 MB/s\u001b[0m eta \u001b[36m0:00:00\u001b[0m\n",
            "\u001b[?25h  Building wheel for littleutils (setup.py) ... \u001b[?25l\u001b[?25hdone\n",
            "\u001b[33mWARNING: Running pip as the 'root' user can result in broken permissions and conflicting behaviour with the system package manager. It is recommended to use a virtual environment instead: https://pip.pypa.io/warnings/venv\u001b[0m\u001b[33m\n",
            "\u001b[0m"
          ]
        }
      ],
      "source": [
        "# To use PDB Fixer inside RDKit\n",
        "!mamba install -q numpy openmm pdbfixer vina deepchem\n",
        "# the primary deeplearning framework + tools\n",
        "!pip install -q mdtraj nglview pymatgen dgllife torch-geometric pytorch_lightning rdkit-pypi\n",
        "# To get DGL (Deep Graph Library)\n",
        "!pip install -q dgl dglgo -f https://data.dgl.ai/wheels/repo.html"
      ]
    },
    {
      "cell_type": "code",
      "execution_count": 3,
      "metadata": {
        "id": "W0f9cEI3lVA8",
        "colab": {
          "base_uri": "https://localhost:8080/"
        },
        "outputId": "d3553744-53fd-4217-d614-aa0ef2efeda1"
      },
      "outputs": [
        {
          "output_type": "stream",
          "name": "stderr",
          "text": [
            "DGL backend not selected or invalid.  Assuming PyTorch for now.\n"
          ]
        },
        {
          "output_type": "stream",
          "name": "stdout",
          "text": [
            "Setting the default backend to \"pytorch\". You can change it in the ~/.dgl/config.json file or export the DGLBACKEND environment variable.  Valid options are: pytorch, mxnet, tensorflow (all lowercase)\n"
          ]
        }
      ],
      "source": [
        "# basic utils we'll be using\n",
        "from collections import defaultdict\n",
        "\n",
        "# for Deep learning ML Code\n",
        "import torch\n",
        "import deepchem\n",
        "from dgl.nn import GraphConv\n",
        "\n",
        "# some RDKit stuff + other utils\n",
        "from rdkit import Chem\n",
        "import tempfile\n",
        "from deepchem.utils import download_url, load_from_disk, docking_utils\n",
        "import numpy\n",
        "from pdbfixer import PDBFixer\n",
        "from openmm.app import PDBFile\n",
        "import pandas\n",
        "\n",
        "# for os stuff/paths\n",
        "import os\n",
        "import time"
      ]
    },
    {
      "cell_type": "markdown",
      "source": [
        "We'll start by pulling the dataset from Mobley's lab github. These will be partially docked versions of the systems. We'll validate the dock later using Deepchem's built in Autodocker, but for now, we'll clean up all the items and generate structures for us to use later."
      ],
      "metadata": {
        "id": "UqpTt1f5KR9p"
      }
    },
    {
      "cell_type": "code",
      "execution_count": 4,
      "metadata": {
        "colab": {
          "base_uri": "https://localhost:8080/"
        },
        "id": "yNjTgfZRlbIj",
        "outputId": "14a87ebd-3c07-4da3-cd27-25a33ff90c53"
      },
      "outputs": [
        {
          "output_type": "stream",
          "name": "stdout",
          "text": [
            "Cloning into 'benchmarksets'...\n",
            "remote: Enumerating objects: 2716, done.\u001b[K\n",
            "remote: Counting objects: 100% (20/20), done.\u001b[K\n",
            "remote: Compressing objects: 100% (15/15), done.\u001b[K\n",
            "remote: Total 2716 (delta 5), reused 10 (delta 5), pack-reused 2696\u001b[K\n",
            "Receiving objects: 100% (2716/2716), 133.08 MiB | 27.52 MiB/s, done.\n",
            "Resolving deltas: 100% (1633/1633), done.\n",
            "Checking out files: 100% (747/747), done.\n"
          ]
        },
        {
          "output_type": "stream",
          "name": "stderr",
          "text": [
            "WARNING:root:Warning: importing 'simtk.openmm' is deprecated.  Import 'openmm' instead.\n"
          ]
        },
        {
          "output_type": "stream",
          "name": "stdout",
          "text": [
            "guest-1.pdb    guest-s13.pdb  ligand_guest-1.pdb    ligand_guest-s13.pdb\n",
            "guest-2.pdb    guest-s14.pdb  ligand_guest-2.pdb    ligand_guest-s14.pdb\n",
            "guest-3.pdb    guest-s15.pdb  ligand_guest-3.pdb    ligand_guest-s15.pdb\n",
            "guest-4.pdb    guest-s16.pdb  ligand_guest-4.pdb    ligand_guest-s16.pdb\n",
            "guest-5.pdb    guest-s17.pdb  ligand_guest-5.pdb    ligand_guest-s17.pdb\n",
            "guest-6.pdb    guest-s18.pdb  ligand_guest-6.pdb    ligand_guest-s18.pdb\n",
            "guest-7.pdb    guest-s19.pdb  ligand_guest-7.pdb    ligand_guest-s19.pdb\n",
            "guest-8.pdb    guest-s20.pdb  ligand_guest-8.pdb    ligand_guest-s20.pdb\n",
            "guest-s10.pdb  guest-s21.pdb  ligand_guest-s10.pdb  ligand_guest-s21.pdb\n",
            "guest-s11.pdb  guest-s22.pdb  ligand_guest-s11.pdb  ligand_guest-s22.pdb\n",
            "guest-s12.pdb  guest-s9.pdb   ligand_guest-s12.pdb  ligand_guest-s9.pdb\n"
          ]
        }
      ],
      "source": [
        "# Grab the raw dataset from Mobley Lab's Github\n",
        "if not os.path.exists('benchmarksets'):\n",
        "  !git clone https://github.com/MobleyLab/benchmarksets.git\n",
        "\n",
        "# create a list of guests we can featurize\n",
        "guests_vina = []\n",
        "host = None\n",
        "for _, _, files in os.walk('benchmarksets/input_files/cd-set1/pdb'):\n",
        "  for file in files:\n",
        "    if 'guest' in file:\n",
        "      guests_vina.append( os.path.splitext(file)[0] )\n",
        "    else:\n",
        "      host = os.path.splitext(file)[0]\n",
        "\n",
        "for root, directory, files in os.walk('benchmarksets/input_files/cd-set1/pdb'):\n",
        "\n",
        "  # pull out the host, we'll need to have it fixed up\n",
        "  host_pdb_fixed = None\n",
        "  for file in files:\n",
        "    if host in file:\n",
        "      fixer = PDBFixer(os.path.join(root,file))\n",
        "      PDBFile.writeFile(fixer.topology, fixer.positions, open(os.path.join(root,file), 'w'))\n",
        "      host_pdb_fixed = os.path.join(root,file)\n",
        "\n",
        "  for file in files:\n",
        "    if 'guest' in file:\n",
        "      fixer = PDBFixer(os.path.join(root,file))\n",
        "      PDBFile.writeFile(fixer.topology, fixer.positions, open(os.path.join(root,file), 'w'))\n",
        "      \n",
        "      try:\n",
        "        # This method creates 2 PDB files, cleaned up (ligand_guest#.pdb) which contains the ligand and (guest#.pdb), which contains the host\n",
        "        docking_utils.prepare_inputs(host_pdb_fixed, os.path.join(root,file), replace_nonstandard_residues=False,\n",
        "                              remove_heterogens=False, remove_water=False,\n",
        "                              add_hydrogens=False, pdb_name=os.path.splitext(file)[0])\n",
        "      except Exception as e:\n",
        "        print(f'{e} - {file} Failed to be Cleaned') \n",
        "\n",
        "# Define simple featurizer function, to extract features from a \n",
        "# docked version of the system\n",
        "def compute_features_vina(featurizer, ligand):\n",
        "  # Compute features for a given complex\n",
        "  protein_file = f'{ligand}.pdb'\n",
        "  ligand_file = f'ligand_{ligand}.pdb'\n",
        "\n",
        "  # Let's find good docks/poses with deepchem's auto docker\n",
        "  docker = deepchem.dock.docking.Docker(\n",
        "      pose_generator=deepchem.dock.VinaPoseGenerator())\n",
        "  [p, l], score = next( docker.dock(\n",
        "      molecular_complex = (protein_file, ligand_file),\n",
        "      use_pose_generator_scores = True) )\n",
        "\n",
        "  # create a single complex, which we will run through the featurizer  \n",
        "  complex_mol = Chem.CombineMols(p, l)\n",
        "  Chem.SanitizeMol(complex_mol)\n",
        "\n",
        "  # just to checkout the SMILES\n",
        "  print(f'{ligand} via vina', Chem.MolToSmiles(complex_mol))\n",
        "\n",
        "  # Featurize the Docked Complex\n",
        "  return featurizer.featurize(complex_mol)\n",
        "\n",
        "# Just to see all the PDB files we've just generated\n",
        "!ls *.pdb"
      ]
    },
    {
      "cell_type": "markdown",
      "source": [
        "Now we'll strip all the docking information/position information by converting to a SMILES for both host and guest, then combining them."
      ],
      "metadata": {
        "id": "1IAp6CUMUYPk"
      }
    },
    {
      "cell_type": "code",
      "source": [
        "# Grab the raw dataset from Mobley Lab's Github\n",
        "if not os.path.exists('benchmarksets'):\n",
        "  !git clone https://github.com/MobleyLab/benchmarksets.git\n",
        "\n",
        "# create a lookup table for the ligand SMILES\n",
        "ligand_lut = \\\n",
        "{\n",
        "\t'guest-1': 'CCCC[NH3+]',\n",
        "\t'guest-2': 'CCCCCC[NH3+]',\n",
        "\t'guest-3': 'CCCCCCCC[NH3+]',\n",
        "\t'guest-4': 'OC1CCCC1',\n",
        "\t'guest-5': 'OC1CCCCCC1',\n",
        "\t'guest-6': 'CCCC([O-])=O',\n",
        "\t'guest-7': 'CCCCCC([O-])=O',\n",
        "\t'guest-8': 'CCCCCCCC([O-])=O',\n",
        "\t'guest-s9': 'CCCC[NH2+]C',\n",
        "\t'guest-s10': 'CCCC(C)[NH3+]',\n",
        "\t'guest-s11': 'CCCCC[NH3+]',\n",
        "\t'guest-s12': 'CCCCCC[NH2+]C',\n",
        "\t'guest-s13': 'CCCCCC(C)[NH3+]',\n",
        "\t'guest-s14': 'CCCCCCC[NH3+]',\n",
        "\t'guest-s15': 'CCCCCCC(C)[NH3+]',\n",
        "\t'guest-s16': 'OC1CCC1',\n",
        "\t'guest-s17': 'OC1CCCCCCC1',\n",
        "\t'guest-s18': 'CCCCC([O-])=O',\n",
        "\t'guest-s19': 'CCC/C=C/C([O-])',\n",
        "\t'guest-s20': 'CC/C=C/CC([O-])',\n",
        "\t'guest-s21': 'CCCCCCC([O-])=O',\n",
        "\t'guest-s22': '[O-]C(=O)CCCCC=C'\n",
        "}\n",
        "\n",
        "host_smiles = 'C([C@@H]1[C@@H]2[C@@H]([C@H]([C@H](O1)O[C@@H]3[C@H](O[C@@H]([C@@H]([C@H]3O)O)O[C@@H]4[C@H](O[C@@H]([C@@H]([C@H]4O)O)O[C@@H]5[C@H](O[C@@H]([C@@H]([C@H]5O)O)O[C@@H]6[C@H](O[C@@H]([C@@H]([C@H]6O)O)O[C@@H]7[C@H](O[C@H](O2)[C@@H]([C@H]7O)O)CO)CO)CO)CO)CO)O)O)O'\n",
        "\n",
        "# Define simple featurizer function, to extract features from a \n",
        "# docked version of the system\n",
        "def compute_features_pure(featurizer, ligand):\n",
        "  ligand_smiles = ligand_lut[ligand]\n",
        "\n",
        "  # strip out position infomation and get smiles instead\n",
        "  host = Chem.MolFromSmiles(host_smiles)\n",
        "  guest = Chem.MolFromSmiles(ligand_smiles)\n",
        "\n",
        "\n",
        "  complex_mol = Chem.CombineMols(host, guest)\n",
        "\n",
        "  # Print Out the Smiles after Stripping location information\n",
        "  print(f'{ligand} pure', Chem.MolToSmiles(complex_mol))\n",
        "\n",
        "  # create a single complex, which we will run through the featurizer  \n",
        "  Chem.SanitizeMol(complex_mol)\n",
        "\n",
        "  # Featurize the Docked Complex\n",
        "  return featurizer.featurize(complex_mol)"
      ],
      "metadata": {
        "id": "tnvAQ6dl8OiK"
      },
      "execution_count": 5,
      "outputs": []
    },
    {
      "cell_type": "markdown",
      "source": [
        "Finally, we'll pull the pure physics based data done on CalStateLA's sirnewton cluster! (Freely available, feel free to cite us if you choose to use it)"
      ],
      "metadata": {
        "id": "CcB8z81qVBef"
      }
    },
    {
      "cell_type": "code",
      "execution_count": 6,
      "metadata": {
        "colab": {
          "base_uri": "https://localhost:8080/"
        },
        "id": "DgqvlbVjAnMx",
        "outputId": "f4d0d01a-6262-4c2b-fac3-8ec522e17a12"
      },
      "outputs": [
        {
          "output_type": "stream",
          "name": "stdout",
          "text": [
            "Cloning into 'cd_set1_gaff_vcharge'...\n",
            "remote: Enumerating objects: 4513, done.\u001b[K\n",
            "remote: Counting objects: 100% (2276/2276), done.\u001b[K\n",
            "remote: Compressing objects: 100% (1049/1049), done.\u001b[K\n",
            "remote: Total 4513 (delta 1257), reused 2239 (delta 1223), pack-reused 2237\u001b[K\n",
            "Receiving objects: 100% (4513/4513), 1.21 GiB | 23.52 MiB/s, done.\n",
            "Resolving deltas: 100% (2620/2620), done.\n",
            "Checking out files: 100% (6016/6016), done.\n",
            "guest-s15 vm2_rndm entropy added, value 206.4994138131\n",
            "guest-s15 vm2_rndm complex added\n",
            "guest-s15 via vm2 CCCCCC[C@H](C)[NH3+].OC[C@H]1O[C@@H]2O[C@@H]3[C@@H](CO)O[C@H](O[C@@H]4[C@@H](CO)O[C@H](O[C@@H]5[C@@H](CO)O[C@H](O[C@@H]6[C@@H](CO)O[C@H](O[C@@H]7[C@@H](CO)O[C@H](O[C@H]1[C@H](O)[C@H]2O)[C@H](O)[C@H]7O)[C@H](O)[C@H]6O)[C@H](O)[C@H]5O)[C@H](O)[C@H]4O)[C@H](O)[C@H]3O\n",
            "guest-s20 vm2_rndm complex added\n",
            "guest-s20 via vm2 CC/C=C/CC(=O)[O-].OC[C@H]1O[C@@H]2O[C@@H]3[C@@H](CO)O[C@H](O[C@@H]4[C@@H](CO)O[C@H](O[C@@H]5[C@@H](CO)O[C@H](O[C@@H]6[C@@H](CO)O[C@H](O[C@@H]7[C@@H](CO)O[C@H](O[C@H]1[C@H](O)[C@H]2O)[C@H](O)[C@H]7O)[C@H](O)[C@H]6O)[C@H](O)[C@H]5O)[C@H](O)[C@H]4O)[C@H](O)[C@H]3O\n",
            "guest-s20 vm2_rndm entropy added, value 181.7549219091\n",
            "guest-3 vm2_rndm entropy added, value 204.2895422446\n",
            "guest-3 vm2_rndm complex added\n",
            "guest-3 via vm2 CCCCCCCC[NH3+].OC[C@H]1O[C@@H]2O[C@@H]3[C@@H](CO)O[C@H](O[C@@H]4[C@@H](CO)O[C@H](O[C@@H]5[C@@H](CO)O[C@H](O[C@@H]6[C@@H](CO)O[C@H](O[C@@H]7[C@@H](CO)O[C@H](O[C@H]1[C@H](O)[C@H]2O)[C@H](O)[C@H]7O)[C@H](O)[C@H]6O)[C@H](O)[C@H]5O)[C@H](O)[C@H]4O)[C@H](O)[C@H]3O\n",
            "guest-5 vm2_rndm entropy added, value 191.7429030799\n",
            "guest-5 vm2_rndm complex added\n",
            "guest-5 via vm2 OC1CCCCCC1.OC[C@H]1O[C@@H]2O[C@@H]3[C@@H](CO)O[C@H](O[C@@H]4[C@@H](CO)O[C@H](O[C@@H]5[C@@H](CO)O[C@H](O[C@@H]6[C@@H](CO)O[C@H](O[C@@H]7[C@@H](CO)O[C@H](O[C@H]1[C@H](O)[C@H]2O)[C@H](O)[C@H]7O)[C@H](O)[C@H]6O)[C@H](O)[C@H]5O)[C@H](O)[C@H]4O)[C@H](O)[C@H]3O\n",
            "guest-s10 vm2_rndm entropy added, value 189.3607251545\n",
            "guest-s10 vm2_rndm complex added\n",
            "guest-s10 via vm2 CCC[C@@H](C)[NH3+].OC[C@H]1O[C@@H]2O[C@@H]3[C@@H](CO)O[C@H](O[C@@H]4[C@@H](CO)O[C@H](O[C@@H]5[C@@H](CO)O[C@H](O[C@@H]6[C@@H](CO)O[C@H](O[C@@H]7[C@@H](CO)O[C@H](O[C@H]1[C@H](O)[C@H]2O)[C@H](O)[C@H]7O)[C@H](O)[C@H]6O)[C@H](O)[C@H]5O)[C@H](O)[C@H]4O)[C@H](O)[C@H]3O\n",
            "guest-s9 vm2_rndm entropy added, value 189.3446860898\n",
            "guest-s9 vm2_rndm complex added\n",
            "guest-s9 via vm2 CCCC[NH2+]C.OC[C@H]1O[C@@H]2O[C@@H]3[C@@H](CO)O[C@H](O[C@@H]4[C@@H](CO)O[C@H](O[C@@H]5[C@@H](CO)O[C@H](O[C@@H]6[C@@H](CO)O[C@H](O[C@@H]7[C@@H](CO)O[C@H](O[C@H]1[C@H](O)[C@H]2O)[C@H](O)[C@H]7O)[C@H](O)[C@H]6O)[C@H](O)[C@H]5O)[C@H](O)[C@H]4O)[C@H](O)[C@H]3O\n",
            "guest-8 vm2_rndm complex added\n",
            "guest-8 via vm2 CCCCCCCC(=O)[O-].OC[C@H]1O[C@@H]2O[C@@H]3[C@@H](CO)O[C@H](O[C@@H]4[C@@H](CO)O[C@H](O[C@@H]5[C@@H](CO)O[C@H](O[C@@H]6[C@@H](CO)O[C@H](O[C@@H]7[C@@H](CO)O[C@H](O[C@H]1[C@H](O)[C@H]2O)[C@H](O)[C@H]7O)[C@H](O)[C@H]6O)[C@H](O)[C@H]5O)[C@H](O)[C@H]4O)[C@H](O)[C@H]3O\n",
            "guest-8 vm2_rndm entropy added, value 194.3942112526\n",
            "guest-6 vm2_rndm entropy added, value 175.754582276\n",
            "guest-6 vm2_rndm complex added\n",
            "guest-6 via vm2 CCCC(=O)[O-].OC[C@H]1O[C@@H]2O[C@@H]3[C@@H](CO)O[C@H](O[C@@H]4[C@@H](CO)O[C@H](O[C@@H]5[C@@H](CO)O[C@H](O[C@@H]6[C@@H](CO)O[C@H](O[C@@H]7[C@@H](CO)O[C@H](O[C@H]1[C@H](O)[C@H]2O)[C@H](O)[C@H]7O)[C@H](O)[C@H]6O)[C@H](O)[C@H]5O)[C@H](O)[C@H]4O)[C@H](O)[C@H]3O\n",
            "guest-s17 vm2_rndm entropy added, value 198.6330285238\n",
            "guest-s17 vm2_rndm complex added\n",
            "guest-s17 via vm2 OC1CCCCCCC1.OC[C@H]1O[C@@H]2O[C@@H]3[C@@H](CO)O[C@H](O[C@@H]4[C@@H](CO)O[C@H](O[C@@H]5[C@@H](CO)O[C@H](O[C@@H]6[C@@H](CO)O[C@H](O[C@@H]7[C@@H](CO)O[C@H](O[C@H]1[C@H](O)[C@H]2O)[C@H](O)[C@H]7O)[C@H](O)[C@H]6O)[C@H](O)[C@H]5O)[C@H](O)[C@H]4O)[C@H](O)[C@H]3O\n",
            "guest-2 vm2_rndm entropy added, value 194.8641011981\n",
            "guest-2 vm2_rndm complex added\n",
            "guest-2 via vm2 CCCCCC[NH3+].OC[C@H]1O[C@@H]2O[C@@H]3[C@@H](CO)O[C@H](O[C@@H]4[C@@H](CO)O[C@H](O[C@@H]5[C@@H](CO)O[C@H](O[C@@H]6[C@@H](CO)O[C@H](O[C@@H]7[C@@H](CO)O[C@H](O[C@H]1[C@H](O)[C@H]2O)[C@H](O)[C@H]7O)[C@H](O)[C@H]6O)[C@H](O)[C@H]5O)[C@H](O)[C@H]4O)[C@H](O)[C@H]3O\n",
            "guest-s12 vm2_rndm complex added\n",
            "guest-s12 via vm2 CCCCCC[NH2+]C.OC[C@H]1O[C@@H]2O[C@@H]3[C@@H](CO)O[C@H](O[C@@H]4[C@@H](CO)O[C@H](O[C@@H]5[C@@H](CO)O[C@H](O[C@@H]6[C@@H](CO)O[C@H](O[C@@H]7[C@@H](CO)O[C@H](O[C@H]1[C@H](O)[C@H]2O)[C@H](O)[C@H]7O)[C@H](O)[C@H]6O)[C@H](O)[C@H]5O)[C@H](O)[C@H]4O)[C@H](O)[C@H]3O\n",
            "guest-s12 vm2_rndm entropy added, value 200.6813221872\n",
            "guest-s22 vm2_rndm complex added\n",
            "guest-s22 via vm2 C=CCCCCC(=O)[O-].OC[C@H]1O[C@@H]2O[C@@H]3[C@@H](CO)O[C@H](O[C@@H]4[C@@H](CO)O[C@H](O[C@@H]5[C@@H](CO)O[C@H](O[C@@H]6[C@@H](CO)O[C@H](O[C@@H]7[C@@H](CO)O[C@H](O[C@H]1[C@H](O)[C@H]2O)[C@H](O)[C@H]7O)[C@H](O)[C@H]6O)[C@H](O)[C@H]5O)[C@H](O)[C@H]4O)[C@H](O)[C@H]3O\n",
            "guest-s22 vm2_rndm entropy added, value 184.7993462412\n",
            "guest-s18 vm2_rndm entropy added, value 181.1766205127\n",
            "guest-s18 vm2_rndm complex added\n",
            "guest-s18 via vm2 CCCCC(=O)[O-].OC[C@H]1O[C@@H]2O[C@@H]3[C@@H](CO)O[C@H](O[C@@H]4[C@@H](CO)O[C@H](O[C@@H]5[C@@H](CO)O[C@H](O[C@@H]6[C@@H](CO)O[C@H](O[C@@H]7[C@@H](CO)O[C@H](O[C@H]1[C@H](O)[C@H]2O)[C@H](O)[C@H]7O)[C@H](O)[C@H]6O)[C@H](O)[C@H]5O)[C@H](O)[C@H]4O)[C@H](O)[C@H]3O\n",
            "guest-1 vm2_rndm entropy added, value 184.4568774535\n",
            "guest-1 vm2_rndm complex added\n",
            "guest-1 via vm2 CCCC[NH3+].OC[C@H]1O[C@@H]2O[C@@H]3[C@@H](CO)O[C@H](O[C@@H]4[C@@H](CO)O[C@H](O[C@@H]5[C@@H](CO)O[C@H](O[C@@H]6[C@@H](CO)O[C@H](O[C@@H]7[C@@H](CO)O[C@H](O[C@H]1[C@H](O)[C@H]2O)[C@H](O)[C@H]7O)[C@H](O)[C@H]6O)[C@H](O)[C@H]5O)[C@H](O)[C@H]4O)[C@H](O)[C@H]3O\n",
            "guest-s19 vm2_rndm entropy added, value 178.9986342428\n",
            "guest-s19 vm2_rndm complex added\n",
            "guest-s19 via vm2 CCC/C=C/C(=O)[O-].OC[C@H]1O[C@@H]2O[C@@H]3[C@@H](CO)O[C@H](O[C@@H]4[C@@H](CO)O[C@H](O[C@@H]5[C@@H](CO)O[C@H](O[C@@H]6[C@@H](CO)O[C@H](O[C@@H]7[C@@H](CO)O[C@H](O[C@H]1[C@H](O)[C@H]2O)[C@H](O)[C@H]7O)[C@H](O)[C@H]6O)[C@H](O)[C@H]5O)[C@H](O)[C@H]4O)[C@H](O)[C@H]3O\n",
            "guest-s13 vm2_rndm entropy added, value 201.1001034992\n",
            "guest-s13 vm2_rndm complex added\n",
            "guest-s13 via vm2 CCCCC[C@@H](C)[NH3+].OC[C@H]1O[C@@H]2O[C@@H]3[C@@H](CO)O[C@H](O[C@@H]4[C@@H](CO)O[C@H](O[C@@H]5[C@@H](CO)O[C@H](O[C@@H]6[C@@H](CO)O[C@H](O[C@@H]7[C@@H](CO)O[C@H](O[C@H]1[C@H](O)[C@H]2O)[C@H](O)[C@H]7O)[C@H](O)[C@H]6O)[C@H](O)[C@H]5O)[C@H](O)[C@H]4O)[C@H](O)[C@H]3O\n",
            "guest-7 vm2_rndm entropy added, value 184.0835436779\n",
            "guest-7 vm2_rndm complex added\n",
            "guest-7 via vm2 CCCCCC(=O)[O-].OC[C@H]1O[C@@H]2O[C@@H]3[C@@H](CO)O[C@H](O[C@@H]4[C@@H](CO)O[C@H](O[C@@H]5[C@@H](CO)O[C@H](O[C@@H]6[C@@H](CO)O[C@H](O[C@@H]7[C@@H](CO)O[C@H](O[C@H]1[C@H](O)[C@H]2O)[C@H](O)[C@H]7O)[C@H](O)[C@H]6O)[C@H](O)[C@H]5O)[C@H](O)[C@H]4O)[C@H](O)[C@H]3O\n",
            "guest-s14 vm2_rndm entropy added, value 199.4108439999\n",
            "guest-s14 vm2_rndm complex added\n",
            "guest-s14 via vm2 CCCCCCC[NH3+].OC[C@H]1O[C@@H]2O[C@@H]3[C@@H](CO)O[C@H](O[C@@H]4[C@@H](CO)O[C@H](O[C@@H]5[C@@H](CO)O[C@H](O[C@@H]6[C@@H](CO)O[C@H](O[C@@H]7[C@@H](CO)O[C@H](O[C@H]1[C@H](O)[C@H]2O)[C@H](O)[C@H]7O)[C@H](O)[C@H]6O)[C@H](O)[C@H]5O)[C@H](O)[C@H]4O)[C@H](O)[C@H]3O\n",
            "guest-4 vm2_rndm complex added\n",
            "guest-4 via vm2 OC1CCCC1.OC[C@H]1O[C@@H]2O[C@@H]3[C@@H](CO)O[C@H](O[C@@H]4[C@@H](CO)O[C@H](O[C@@H]5[C@@H](CO)O[C@H](O[C@@H]6[C@@H](CO)O[C@H](O[C@@H]7[C@@H](CO)O[C@H](O[C@H]1[C@H](O)[C@H]2O)[C@H](O)[C@H]7O)[C@H](O)[C@H]6O)[C@H](O)[C@H]5O)[C@H](O)[C@H]4O)[C@H](O)[C@H]3O\n",
            "guest-4 vm2_rndm entropy added, value 180.5394436042\n",
            "guest-s16 vm2_rndm complex added\n",
            "guest-s16 via vm2 OC1CCC1.OC[C@H]1O[C@@H]2O[C@@H]3[C@@H](CO)O[C@H](O[C@@H]4[C@@H](CO)O[C@H](O[C@@H]5[C@@H](CO)O[C@H](O[C@@H]6[C@@H](CO)O[C@H](O[C@@H]7[C@@H](CO)O[C@H](O[C@H]1[C@H](O)[C@H]2O)[C@H](O)[C@H]7O)[C@H](O)[C@H]6O)[C@H](O)[C@H]5O)[C@H](O)[C@H]4O)[C@H](O)[C@H]3O\n",
            "guest-s16 vm2_rndm entropy added, value 175.6857741793\n",
            "guest-s21 vm2_rndm entropy added, value 189.1355443828\n",
            "guest-s21 vm2_rndm complex added\n",
            "guest-s21 via vm2 CCCCCCC(=O)[O-].OC[C@H]1O[C@@H]2O[C@@H]3[C@@H](CO)O[C@H](O[C@@H]4[C@@H](CO)O[C@H](O[C@@H]5[C@@H](CO)O[C@H](O[C@@H]6[C@@H](CO)O[C@H](O[C@@H]7[C@@H](CO)O[C@H](O[C@H]1[C@H](O)[C@H]2O)[C@H](O)[C@H]7O)[C@H](O)[C@H]6O)[C@H](O)[C@H]5O)[C@H](O)[C@H]4O)[C@H](O)[C@H]3O\n",
            "guest-s11 vm2_rndm entropy added, value 189.6824372275\n",
            "guest-s11 vm2_rndm complex added\n",
            "guest-s11 via vm2 CCCCC[NH3+].OC[C@H]1O[C@@H]2O[C@@H]3[C@@H](CO)O[C@H](O[C@@H]4[C@@H](CO)O[C@H](O[C@@H]5[C@@H](CO)O[C@H](O[C@@H]6[C@@H](CO)O[C@H](O[C@@H]7[C@@H](CO)O[C@H](O[C@H]1[C@H](O)[C@H]2O)[C@H](O)[C@H]7O)[C@H](O)[C@H]6O)[C@H](O)[C@H]5O)[C@H](O)[C@H]4O)[C@H](O)[C@H]3O\n",
            "Got Host Entropy 155.2544142096\n",
            "Got ligand entropy for guest-s15 as 155.2544142096\n",
            "VM2 calculated Binding Entropy Delta for guest-s15 as -15.984964834700037\n",
            "Got ligand entropy for guest-s20 as 155.2544142096\n",
            "VM2 calculated Binding Entropy Delta for guest-s20 as -17.96156050830001\n",
            "Got ligand entropy for guest-3 as 155.2544142096\n",
            "VM2 calculated Binding Entropy Delta for guest-3 as -14.463729263200008\n",
            "Got ligand entropy for guest-5 as 155.2544142096\n",
            "VM2 calculated Binding Entropy Delta for guest-5 as -11.643983203300024\n",
            "Got ligand entropy for guest-s10 as 155.2544142096\n",
            "VM2 calculated Binding Entropy Delta for guest-s10 as -12.05791344650001\n",
            "Got ligand entropy for guest-s9 as 155.2544142096\n",
            "VM2 calculated Binding Entropy Delta for guest-s9 as -13.06114478500001\n",
            "Got ligand entropy for guest-8 as 155.2544142096\n",
            "VM2 calculated Binding Entropy Delta for guest-8 as -16.501531549200024\n",
            "Got ligand entropy for guest-6 as 155.2544142096\n",
            "VM2 calculated Binding Entropy Delta for guest-6 as -15.66616097100001\n",
            "Got ligand entropy for guest-s17 as 155.2544142096\n",
            "VM2 calculated Binding Entropy Delta for guest-s17 as -13.060406153900004\n",
            "Got ligand entropy for guest-2 as 155.2544142096\n",
            "VM2 calculated Binding Entropy Delta for guest-2 as -13.954640460400014\n",
            "Got ligand entropy for guest-s12 as 155.2544142096\n",
            "VM2 calculated Binding Entropy Delta for guest-s12 as -15.58721829190003\n",
            "Got ligand entropy for guest-s22 as 155.2544142096\n",
            "VM2 calculated Binding Entropy Delta for guest-s22 as -16.25766907830001\n",
            "Got ligand entropy for guest-s18 as 155.2544142096\n",
            "VM2 calculated Binding Entropy Delta for guest-s18 as -16.73707489100002\n",
            "Got ligand entropy for guest-1 as 155.2544142096\n",
            "VM2 calculated Binding Entropy Delta for guest-1 as -12.358470837699997\n",
            "Got ligand entropy for guest-s19 as 155.2544142096\n",
            "VM2 calculated Binding Entropy Delta for guest-s19 as -13.83713399940001\n",
            "Got ligand entropy for guest-s13 as 155.2544142096\n",
            "VM2 calculated Binding Entropy Delta for guest-s13 as -15.005527764100009\n",
            "Got ligand entropy for guest-7 as 155.2544142096\n",
            "VM2 calculated Binding Entropy Delta for guest-7 as -15.171784006400003\n",
            "Got ligand entropy for guest-s14 as 155.2544142096\n",
            "VM2 calculated Binding Entropy Delta for guest-s14 as -14.070438818800028\n",
            "Got ligand entropy for guest-4 as 155.2544142096\n",
            "VM2 calculated Binding Entropy Delta for guest-4 as -11.082448269800011\n",
            "Got ligand entropy for guest-s16 as 155.2544142096\n",
            "VM2 calculated Binding Entropy Delta for guest-s16 as -11.494774320000033\n",
            "Got ligand entropy for guest-s21 as 155.2544142096\n",
            "VM2 calculated Binding Entropy Delta for guest-s21 as -15.748757891600007\n",
            "Got ligand entropy for guest-s11 as 155.2544142096\n",
            "VM2 calculated Binding Entropy Delta for guest-s11 as -13.142006565600013\n"
          ]
        }
      ],
      "source": [
        "# Grab the VM2 data processed by SirNewton @ CalstateLA!\n",
        "if not os.path.exists('cd_set1_gaff_vcharge'):\n",
        "  !git clone https://github.com/allesrebel/cd_set1_gaff_vcharge.git\n",
        "\n",
        "# Then extract the data we want to process from the VM2 \n",
        "# (tork) conformer searches for the minimized structure\n",
        "# we have multiple options we can try out\n",
        "vm2_run = ['fast_vm2_rndm', 'fast_vm2_single', 'vm2_rndm', 'vm2_single']\n",
        "\n",
        "# for now, we'll choose the vn2_rndm run, but could use all of them eventually\n",
        "chosen_run = 'vm2_rndm'\n",
        "\n",
        "complexes = {}\n",
        "vm2_entropy = {}\n",
        "guests_vm2 = []\n",
        "\n",
        "def extract_entropy_from_out(file_path:str) -> float:\n",
        "  with open(file_path, encoding=\"ISO-8859-1\") as f:\n",
        "    for line in f:\n",
        "      if 'Entropy' in line and '-TS' in line:\n",
        "        return float( line.split()[2] )\n",
        "\n",
        "for root, _, files in os.walk(f'cd_set1_gaff_vcharge/run/2_vm2_runs/{chosen_run}/complexes/CD'):\n",
        "  # Extract the mol2 file from this folder\n",
        "  for file in files:\n",
        "    if 'mol2' in file:\n",
        "      ligand = file.split('_')[1]\n",
        "      guests_vm2.append(ligand)\n",
        "      print(ligand, f'{chosen_run} complex added')\n",
        "\n",
        "      # Use the best complex / lowest energy complex from VM2\n",
        "      # for featurization!\n",
        "      # These will by default be sanitized by RDKit\n",
        "      minimized_complex = Chem.rdmolfiles.MolFromMol2File(os.path.join(root,file))\n",
        "\n",
        "      # just to checkout the SMILES\n",
        "      print(f'{ligand} via vm2', Chem.MolToSmiles(minimized_complex))\n",
        "\n",
        "      complexes[ligand] = minimized_complex\n",
        "    \n",
        "    if 'summary.out' in file:\n",
        "      ligand = file.split('_')[1]\n",
        "      vm2_entropy[ligand] = extract_entropy_from_out(os.path.join(root,file))\n",
        "      print(ligand, f'{chosen_run} entropy added, value {vm2_entropy[ligand]}')\n",
        "\n",
        "# Now we'll uniformally apply the host and the ligand values\n",
        "# to finalize the entropy calcs available/extracted during\n",
        "# complex extraction earlier\n",
        "for root, _, files in os.walk(f'cd_set1_gaff_vcharge/run/2_vm2_runs/{chosen_run}/hosts/CD'):\n",
        "  for file in files:\n",
        "    if 'summary.out' in file:\n",
        "      host_entropy = extract_entropy_from_out(os.path.join(root,file))\n",
        "      print(f'Got Host Entropy {host_entropy}')\n",
        "\n",
        "for ligand in vm2_entropy:\n",
        "  for root, _, files in os.walk(f'cd_set1_gaff_vcharge/run/2_vm2_runs/{chosen_run}/ligands/{ligand}'):\n",
        "    for file in files:\n",
        "      if 'summary.out' in file:\n",
        "        ligand_entropy = extract_entropy_from_out(os.path.join(root,file))\n",
        "        print(f'Got ligand entropy for {ligand} as {host_entropy}')\n",
        "\n",
        "        # Calculating Delta Entropy\n",
        "        vm2_entropy[ligand] -= ligand_entropy + host_entropy\n",
        "        vm2_entropy[ligand] *= -(1.0) # /300.0) K = 300 for all experiments\n",
        "        print(f'VM2 calculated Binding Entropy Delta for {ligand} as {vm2_entropy[ligand]}')\n",
        "\n",
        "\n",
        "# Define simple featurizer function, to extract features from a \n",
        "# docked version of the system\n",
        "def compute_features_vm2(featurizer, ligand):\n",
        "  # We already have RDKit Mols, we can directly run the\n",
        "  # featurizer over it!\n",
        "  complex_mol = complexes[ligand]\n",
        "\n",
        "  # Featurize the Docked Complex\n",
        "  return featurizer.featurize(complex_mol)"
      ]
    },
    {
      "cell_type": "markdown",
      "metadata": {
        "id": "dfHN1O0KQQe7"
      },
      "source": [
        "If we wanted to, we could instead do everything though SMILES (as we did with the pure data driven model) - but we actually already have MOL2, SDFs, and PDB files - might as well run it through the internal docking engine, Vina and see if they are decent."
      ]
    },
    {
      "cell_type": "markdown",
      "metadata": {
        "id": "YZa3wmHYTj5J"
      },
      "source": [
        "Now that we have all the data, we need to begin by docking the guests with the hosts. This input should be derived from VM2, but for now we'll do it through deepchem's Docker module. "
      ]
    },
    {
      "cell_type": "code",
      "execution_count": 7,
      "metadata": {
        "id": "8aRayW4NhwOD"
      },
      "outputs": [],
      "source": [
        "from typing import List, Tuple\n",
        "import numpy\n",
        "\n",
        "from deepchem.utils.typing import RDKitAtom, RDKitBond, RDKitMol\n",
        "from deepchem.feat.graph_data import GraphData\n",
        "from deepchem.feat.base_classes import MolecularFeaturizer\n",
        "\n",
        "from deepchem.utils.molecule_feature_utils import one_hot_encode\n",
        "from deepchem.utils.molecule_feature_utils import get_atom_type_one_hot\n",
        "from deepchem.utils.molecule_feature_utils import construct_hydrogen_bonding_info\n",
        "from deepchem.utils.molecule_feature_utils import get_atom_hydrogen_bonding_one_hot\n",
        "from deepchem.utils.molecule_feature_utils import get_atom_hybridization_one_hot\n",
        "from deepchem.utils.molecule_feature_utils import get_atom_total_num_Hs_one_hot\n",
        "from deepchem.utils.molecule_feature_utils import get_atom_is_in_aromatic_one_hot\n",
        "from deepchem.utils.molecule_feature_utils import get_atom_chirality_one_hot\n",
        "from deepchem.utils.molecule_feature_utils import get_atom_formal_charge\n",
        "from deepchem.utils.molecule_feature_utils import get_atom_partial_charge\n",
        "from deepchem.utils.molecule_feature_utils import get_atom_total_degree_one_hot\n",
        "from deepchem.utils.molecule_feature_utils import get_bond_type_one_hot\n",
        "from deepchem.utils.molecule_feature_utils import get_bond_is_in_same_ring_one_hot\n",
        "from deepchem.utils.molecule_feature_utils import get_bond_is_conjugated_one_hot\n",
        "from deepchem.utils.molecule_feature_utils import get_bond_stereo_one_hot\n",
        "from deepchem.utils.molecule_feature_utils import get_atom_formal_charge_one_hot\n",
        "from deepchem.utils.molecule_feature_utils import get_atom_implicit_valence_one_hot\n",
        "from deepchem.utils.molecule_feature_utils import get_atom_explicit_valence_one_hot\n",
        "from deepchem.utils.rdkit_utils import compute_all_pairs_shortest_path\n",
        "from deepchem.utils.rdkit_utils import compute_pairwise_ring_info\n",
        "\n",
        "def _construct_atom_feature(atom: RDKitAtom, h_bond_infos: List[Tuple[int,str]],\n",
        "                            use_chirality: bool,\n",
        "                            use_partial_charge: bool) -> numpy.ndarray:\n",
        "  \"\"\"Construct an atom feature from a RDKit atom object.\n",
        "  Parameters\n",
        "  ----------\n",
        "  atom: rdkit.Chem.rdchem.Atom\n",
        "    RDKit atom object\n",
        "  h_bond_infos: List[Tuple[int, str]]\n",
        "    A list of tuple `(atom_index, hydrogen_bonding_type)`.\n",
        "    Basically, it is expected that this value is the return value of\n",
        "    `construct_hydrogen_bonding_info`. The `hydrogen_bonding_type`\n",
        "    value is \"Acceptor\" or \"Donor\".\n",
        "  use_chirality: bool\n",
        "    Whether to use chirality information or not.\n",
        "  use_partial_charge: bool\n",
        "    Whether to use partial charge data or not.\n",
        "  Returns\n",
        "  -------\n",
        "  numpy.ndarray\n",
        "    A one-hot vector of the atom feature.\n",
        "  \"\"\"\n",
        "  atom_type = get_atom_type_one_hot(atom)\n",
        "  formal_charge = get_atom_formal_charge(atom)\n",
        "  hybridization = get_atom_hybridization_one_hot(atom)\n",
        "  acceptor_donor = get_atom_hydrogen_bonding_one_hot(atom, h_bond_infos)\n",
        "  aromatic = get_atom_is_in_aromatic_one_hot(atom)\n",
        "  degree = get_atom_total_degree_one_hot(atom)\n",
        "  total_num_Hs = get_atom_total_num_Hs_one_hot(atom)\n",
        "  atom_feat = numpy.concatenate([\n",
        "      atom_type, formal_charge, hybridization, acceptor_donor, aromatic, degree,\n",
        "      total_num_Hs, [ 0.0 ] # for Physics Guided Term\n",
        "  ])\n",
        "\n",
        "  if use_chirality:\n",
        "    chirality = get_atom_chirality_one_hot(atom)\n",
        "    atom_feat = numpy.concatenate([atom_feat, numpy.array(chirality)])\n",
        "\n",
        "  if use_partial_charge:\n",
        "    partial_charge = get_atom_partial_charge(atom)\n",
        "    atom_feat = numpy.concatenate([atom_feat, numpy.array(partial_charge)])\n",
        "  return atom_feat\n",
        "\n",
        "\n",
        "def _construct_bond_feature(bond: RDKitBond) -> numpy.ndarray:\n",
        "  \"\"\"Construct a bond feature from a RDKit bond object.\n",
        "  Parameters\n",
        "  ---------\n",
        "  bond: rdkit.Chem.rdchem.Bond\n",
        "    RDKit bond object\n",
        "  Returns\n",
        "  -------\n",
        "  numpy.ndarray\n",
        "    A one-hot vector of the bond feature.\n",
        "  \"\"\"\n",
        "  bond_type = get_bond_type_one_hot(bond)\n",
        "  same_ring = get_bond_is_in_same_ring_one_hot(bond)\n",
        "  conjugated = get_bond_is_conjugated_one_hot(bond)\n",
        "  stereo = get_bond_stereo_one_hot(bond)\n",
        "  return numpy.concatenate([bond_type, same_ring, conjugated, stereo])\n",
        "\n",
        "class ModdedMolGraphConvFeaturizer(MolecularFeaturizer):\n",
        "  \"\"\"This class is a featurizer of general graph convolution networks for molecules.\n",
        "  The default node(atom) and edge(bond) representations are based on\n",
        "  `WeaveNet paper <https://arxiv.org/abs/1603.00856>`_. If you want to use your own representations,\n",
        "  you could use this class as a guide to define your original Featurizer. In many cases, it's enough\n",
        "  to modify return values of `construct_atom_feature` or `construct_bond_feature`.\n",
        "  The default node representation are constructed by concatenating the following values,\n",
        "  and the feature length is 30.\n",
        "  - Atom type: A one-hot vector of this atom, \"C\", \"N\", \"O\", \"F\", \"P\", \"S\", \"Cl\", \"Br\", \"I\", \"other atoms\".\n",
        "  - Formal charge: Integer electronic charge.\n",
        "  - Hybridization: A one-hot vector of \"sp\", \"sp2\", \"sp3\".\n",
        "  - Hydrogen bonding: A one-hot vector of whether this atom is a hydrogen bond donor or acceptor.\n",
        "  - Aromatic: A one-hot vector of whether the atom belongs to an aromatic ring.\n",
        "  - Degree: A one-hot vector of the degree (0-5) of this atom.\n",
        "  - Number of Hydrogens: A one-hot vector of the number of hydrogens (0-4) that this atom connected.\n",
        "  - Chirality: A one-hot vector of the chirality, \"R\" or \"S\". (Optional)\n",
        "  - Partial charge: Calculated partial charge. (Optional)\n",
        "  The default edge representation are constructed by concatenating the following values,\n",
        "  and the feature length is 11.\n",
        "  - Bond type: A one-hot vector of the bond type, \"single\", \"double\", \"triple\", or \"aromatic\".\n",
        "  - Same ring: A one-hot vector of whether the atoms in the pair are in the same ring.\n",
        "  - Conjugated: A one-hot vector of whether this bond is conjugated or not.\n",
        "  - Stereo: A one-hot vector of the stereo configuration of a bond.\n",
        "  If you want to know more details about features, please check the paper [1]_ and\n",
        "  utilities in deepchem.utils.molecule_feature_utils.py.\n",
        "  Examples\n",
        "  --------\n",
        "  >>> smiles = [\"C1CCC1\", \"C1=CC=CN=C1\"]\n",
        "  >>> featurizer = MolGraphConvFeaturizer(use_edges=True)\n",
        "  >>> out = featurizer.featurize(smiles)\n",
        "  >>> type(out[0])\n",
        "  <class 'deepchem.feat.graph_data.GraphData'>\n",
        "  >>> out[0].num_node_features\n",
        "  30\n",
        "  >>> out[0].num_edge_features\n",
        "  11\n",
        "  References\n",
        "  ----------\n",
        "  .. [1] Kearnes, Steven, et al. \"Molecular graph convolutions: moving beyond fingerprints.\"\n",
        "     Journal of computer-aided molecular design 30.8 (2016):595-608.\n",
        "  Note\n",
        "  ----\n",
        "  This class requires RDKit to be installed.\n",
        "  \"\"\"\n",
        "\n",
        "  def __init__(self,\n",
        "               use_edges: bool = False,\n",
        "               use_chirality: bool = False,\n",
        "               use_partial_charge: bool = False):\n",
        "    \"\"\"\n",
        "    Parameters\n",
        "    ----------\n",
        "    use_edges: bool, default False\n",
        "      Whether to use edge features or not.\n",
        "    use_chirality: bool, default False\n",
        "      Whether to use chirality information or not.\n",
        "      If True, featurization becomes slow.\n",
        "    use_partial_charge: bool, default False\n",
        "      Whether to use partial charge data or not.\n",
        "      If True, this featurizer computes gasteiger charges.\n",
        "      Therefore, there is a possibility to fail to featurize for some molecules\n",
        "      and featurization becomes slow.\n",
        "    \"\"\"\n",
        "    self.use_edges = use_edges\n",
        "    self.use_partial_charge = use_partial_charge\n",
        "    self.use_chirality = use_chirality\n",
        "\n",
        "  def _featurize(self, datapoint: RDKitMol, **kwargs) -> GraphData:\n",
        "    \"\"\"Calculate molecule graph features from RDKit mol object.\n",
        "    Parameters\n",
        "    ----------\n",
        "    datapoint: rdkit.Chem.rdchem.Mol\n",
        "      RDKit mol object.\n",
        "    Returns\n",
        "    -------\n",
        "    graph: GraphData\n",
        "      A molecule graph with some features.\n",
        "    \"\"\"\n",
        "    assert datapoint.GetNumAtoms(\n",
        "    ) > 1, \"More than one atom should be present in the molecule for this featurizer to work.\"\n",
        "    if 'mol' in kwargs:\n",
        "      datapoint = kwargs.get(\"mol\")\n",
        "      raise DeprecationWarning(\n",
        "          'Mol is being phased out as a parameter, please pass \"datapoint\" instead.'\n",
        "      )\n",
        "\n",
        "    if self.use_partial_charge:\n",
        "      try:\n",
        "        datapoint.GetAtomWithIdx(0).GetProp('_GasteigerCharge')\n",
        "      except:\n",
        "        # If partial charges were not computed\n",
        "        try:\n",
        "          from rdkit.Chem import AllChem\n",
        "          AllChem.ComputeGasteigerCharges(datapoint)\n",
        "        except ModuleNotFoundError:\n",
        "          raise ImportError(\"This class requires RDKit to be installed.\")\n",
        "\n",
        "    # construct atom (node) feature\n",
        "    h_bond_infos = construct_hydrogen_bonding_info(datapoint)\n",
        "    atom_features = numpy.asarray(\n",
        "        [\n",
        "            _construct_atom_feature(atom, h_bond_infos, self.use_chirality,\n",
        "                                    self.use_partial_charge)\n",
        "            for atom in datapoint.GetAtoms()\n",
        "        ],\n",
        "        dtype=float,\n",
        "    )\n",
        "\n",
        "    # construct edge (bond) index\n",
        "    src, dest = [], []\n",
        "    for bond in datapoint.GetBonds():\n",
        "      # add edge list considering a directed graph\n",
        "      start, end = bond.GetBeginAtomIdx(), bond.GetEndAtomIdx()\n",
        "      src += [start, end]\n",
        "      dest += [end, start]\n",
        "\n",
        "    # construct edge (bond) feature\n",
        "    bond_features = None  # deafult None\n",
        "    if self.use_edges:\n",
        "      features = []\n",
        "      for bond in datapoint.GetBonds():\n",
        "        features += 2 * [_construct_bond_feature(bond)]\n",
        "      bond_features = numpy.asarray(features, dtype=float)\n",
        "\n",
        "    # load_sdf_files returns pos as strings but user can also specify\n",
        "    # numpy arrays for atom coordinates\n",
        "    pos = numpy.ndarray(1)\n",
        "    if 'pos_x' in kwargs and 'pos_y' in kwargs and 'pos_z' in kwargs:\n",
        "      if isinstance(kwargs['pos_x'], str):\n",
        "        pos_x = eval(kwargs['pos_x'])\n",
        "      elif isinstance(kwargs['pos_x'], numpy.ndarray):\n",
        "        pos_x = kwargs['pos_x']\n",
        "      if isinstance(kwargs['pos_y'], str):\n",
        "        pos_y = eval(kwargs['pos_y'])\n",
        "      elif isinstance(kwargs['pos_y'], numpy.ndarray):\n",
        "        pos_y = kwargs['pos_y']\n",
        "      if isinstance(kwargs['pos_z'], str):\n",
        "        pos_z = eval(kwargs['pos_z'])\n",
        "      elif isinstance(kwargs['pos_z'], numpy.ndarray):\n",
        "        pos_z = kwargs['pos_z']\n",
        "\n",
        "      for x, y, z in zip(pos_x, pos_y, pos_z):\n",
        "        pos.append([x, y, z])\n",
        "    return GraphData(node_features=atom_features,\n",
        "                     edge_index=numpy.asarray([src, dest], dtype=int),\n",
        "                     edge_features=bond_features)"
      ]
    },
    {
      "cell_type": "markdown",
      "metadata": {
        "id": "IaE8bDvxN45H"
      },
      "source": [
        "In a similar manner, we'll create a modified version of the circular fingerprint with a bit of extra space for some physics guided component. Specifically the calculation from VM2."
      ]
    },
    {
      "cell_type": "code",
      "execution_count": 8,
      "metadata": {
        "id": "655Tg3ekOCfp"
      },
      "outputs": [],
      "source": [
        "\"\"\"\n",
        "Topological fingerprints.\n",
        "\"\"\"\n",
        "from typing import Dict\n",
        "\n",
        "from deepchem.utils.typing import RDKitMol\n",
        "from deepchem.feat.base_classes import MolecularFeaturizer\n",
        "\n",
        "\n",
        "class ModifiedCircularFingerprint(MolecularFeaturizer):\n",
        "  \"\"\"Circular (Morgan) fingerprints.\n",
        "\n",
        "  Extended Connectivity Circular Fingerprints compute a bag-of-words style\n",
        "  representation of a molecule by breaking it into local neighborhoods and\n",
        "  hashing into a bit vector of the specified size. It is used specifically\n",
        "  for structure-activity modelling. See [1]_ for more details.\n",
        "\n",
        "  References\n",
        "  ----------\n",
        "  .. [1] Rogers, David, and Mathew Hahn. \"Extended-connectivity fingerprints.\"\n",
        "     Journal of chemical information and modeling 50.5 (2010): 742-754.\n",
        "\n",
        "  Note\n",
        "  ----\n",
        "  This class requires RDKit to be installed.\n",
        "\n",
        "  Examples\n",
        "  --------\n",
        "  >>> import deepchem as dc\n",
        "  >>> from rdkit import Chem\n",
        "  >>> smiles = ['C1=CC=CC=C1']\n",
        "  >>> # Example 1: (size = 2048, radius = 4)\n",
        "  >>> featurizer = dc.feat.CircularFingerprint(size=2048, radius=4)\n",
        "  >>> features = featurizer.featurize(smiles)\n",
        "  >>> type(features[0])\n",
        "  <class 'numpy.ndarray'>\n",
        "  >>> features[0].shape\n",
        "  (2048,)\n",
        "\n",
        "  >>> # Example 2: (size = 2048, radius = 4, sparse = True, smiles = True)\n",
        "  >>> featurizer = dc.feat.CircularFingerprint(size=2048, radius=8,\n",
        "  ...                                          sparse=True, smiles=True)\n",
        "  >>> features = featurizer.featurize(smiles)\n",
        "  >>> type(features[0]) # dict containing fingerprints\n",
        "  <class 'dict'>\n",
        "\n",
        "  \"\"\"\n",
        "\n",
        "  def __init__(self,\n",
        "               radius: int = 2,\n",
        "               size: int = 2048,\n",
        "               chiral: bool = False,\n",
        "               bonds: bool = True,\n",
        "               features: bool = False,\n",
        "               sparse: bool = False,\n",
        "               smiles: bool = False,\n",
        "               is_counts_based: bool = False):\n",
        "    \"\"\"\n",
        "    Parameters\n",
        "    ----------\n",
        "    radius: int, optional (default 2)\n",
        "      Fingerprint radius.\n",
        "    size: int, optional (default 2048)\n",
        "      Length of generated bit vector.\n",
        "    chiral: bool, optional (default False)\n",
        "      Whether to consider chirality in fingerprint generation.\n",
        "    bonds: bool, optional (default True)\n",
        "      Whether to consider bond order in fingerprint generation.\n",
        "    features: bool, optional (default False)\n",
        "      Whether to use feature information instead of atom information; see\n",
        "      RDKit docs for more info.\n",
        "    sparse: bool, optional (default False)\n",
        "      Whether to return a dict for each molecule containing the sparse\n",
        "      fingerprint.\n",
        "    smiles: bool, optional (default False)\n",
        "      Whether to calculate SMILES strings for fragment IDs (only applicable\n",
        "      when calculating sparse fingerprints).\n",
        "    is_counts_based: bool, optional (default False)\n",
        "      Whether to generates a counts-based fingerprint.\n",
        "    \"\"\"\n",
        "    self.radius = radius\n",
        "    self.size = size\n",
        "    self.chiral = chiral\n",
        "    self.bonds = bonds\n",
        "    self.features = features\n",
        "    self.sparse = sparse\n",
        "    self.smiles = smiles\n",
        "    self.is_counts_based = is_counts_based\n",
        "\n",
        "  def _featurize(self, datapoint: RDKitMol, **kwargs) -> numpy.ndarray:\n",
        "    \"\"\"Calculate circular fingerprint.\n",
        "\n",
        "    Parameters\n",
        "    ----------\n",
        "    datapoint: rdkit.Chem.rdchem.Mol\n",
        "      RDKit Mol object\n",
        "\n",
        "    Returns\n",
        "    -------\n",
        "    np.ndarray\n",
        "      A numpy array of circular fingerprint.\n",
        "    \"\"\"\n",
        "    try:\n",
        "      from rdkit import Chem, DataStructs\n",
        "      from rdkit.Chem import rdMolDescriptors\n",
        "    except ModuleNotFoundError:\n",
        "      raise ImportError(\"This class requires RDKit to be installed.\")\n",
        "    if 'mol' in kwargs:\n",
        "      datapoint = kwargs.get(\"mol\")\n",
        "      raise DeprecationWarning(\n",
        "          'Mol is being phased out as a parameter, please pass \"datapoint\" instead.'\n",
        "      )\n",
        "    if self.sparse:\n",
        "      info: Dict = {}\n",
        "      fp = rdMolDescriptors.GetMorganFingerprint(datapoint,\n",
        "                                                 self.radius,\n",
        "                                                 useChirality=self.chiral,\n",
        "                                                 useBondTypes=self.bonds,\n",
        "                                                 useFeatures=self.features,\n",
        "                                                 bitInfo=info)\n",
        "      fp = fp.GetNonzeroElements()  # convert to a dict\n",
        "\n",
        "      # generate SMILES for fragments\n",
        "      if self.smiles:\n",
        "        fp_smiles = {}\n",
        "        for fragment_id, count in fp.items():\n",
        "          root, radius = info[fragment_id][0]\n",
        "          env = Chem.FindAtomEnvironmentOfRadiusN(datapoint, radius, root)\n",
        "          frag = Chem.PathToSubmol(datapoint, env)\n",
        "          smiles = Chem.MolToSmiles(frag)\n",
        "          fp_smiles[fragment_id] = {'smiles': smiles, 'count': count}\n",
        "        fp = fp_smiles\n",
        "    else:\n",
        "      if self.is_counts_based:\n",
        "        fp_sparse = rdMolDescriptors.GetHashedMorganFingerprint(\n",
        "            datapoint,\n",
        "            self.radius,\n",
        "            nBits=self.size,\n",
        "            useChirality=self.chiral,\n",
        "            useBondTypes=self.bonds,\n",
        "            useFeatures=self.features)\n",
        "        fp = numpy.zeros(\n",
        "            (self.size,), dtype=float\n",
        "        )  # initialise numpy array of zeros (shape: (required size,))\n",
        "        DataStructs.ConvertToNumpyArray(fp_sparse, fp)\n",
        "      else:\n",
        "        fp = rdMolDescriptors.GetMorganFingerprintAsBitVect(\n",
        "            datapoint,\n",
        "            self.radius,\n",
        "            nBits=self.size,\n",
        "            useChirality=self.chiral,\n",
        "            useBondTypes=self.bonds,\n",
        "            useFeatures=self.features)\n",
        "        fp = numpy.asarray(fp, dtype=float)\n",
        "    \n",
        "    # And finally allow for the physics guided term \n",
        "    # by adding one additional feature vector item\n",
        "    fp = numpy.concatenate([ fp, [ 0.0 ] ]) # for Physics Guided Term\n",
        "    return fp\n",
        "\n",
        "  def __hash__(self):\n",
        "    return hash((self.radius, self.size, self.chiral, self.bonds, self.features,\n",
        "                 self.sparse, self.smiles))\n",
        "\n",
        "  def __eq__(self, other):\n",
        "    if not isinstance(self, other.__class__):\n",
        "      return False\n",
        "    return self.radius == other.radius and \\\n",
        "           self.size == other.size and \\\n",
        "           self.chiral == other.chiral and \\\n",
        "           self.bonds == other.bonds and \\\n",
        "           self.features == other.features and \\\n",
        "           self.sparse == other.sparse and \\\n",
        "           self.smiles == other.smiles\n"
      ]
    },
    {
      "cell_type": "code",
      "execution_count": 9,
      "metadata": {
        "colab": {
          "base_uri": "https://localhost:8080/"
        },
        "id": "sktd0zcuOrzX",
        "outputId": "2f4193ce-1288-401d-95ad-092ee6250e5b"
      },
      "outputs": [
        {
          "output_type": "stream",
          "name": "stdout",
          "text": [
            "Processing guest-s15 complex using Circular Fingerprint\n",
            "Processing guest-s20 complex using Circular Fingerprint\n",
            "Processing guest-3 complex using Circular Fingerprint\n",
            "Processing guest-5 complex using Circular Fingerprint\n",
            "Processing guest-s10 complex using Circular Fingerprint\n",
            "Processing guest-s9 complex using Circular Fingerprint\n",
            "Processing guest-8 complex using Circular Fingerprint\n",
            "Processing guest-6 complex using Circular Fingerprint\n",
            "Processing guest-s17 complex using Circular Fingerprint\n",
            "Processing guest-2 complex using Circular Fingerprint\n",
            "Processing guest-s12 complex using Circular Fingerprint\n",
            "Processing guest-s22 complex using Circular Fingerprint\n",
            "Processing guest-s18 complex using Circular Fingerprint\n",
            "Processing guest-1 complex using Circular Fingerprint\n",
            "Processing guest-s19 complex using Circular Fingerprint\n",
            "Processing guest-s13 complex using Circular Fingerprint\n",
            "Processing guest-7 complex using Circular Fingerprint\n",
            "Processing guest-s14 complex using Circular Fingerprint\n",
            "Processing guest-4 complex using Circular Fingerprint\n",
            "Processing guest-s16 complex using Circular Fingerprint\n",
            "Processing guest-s21 complex using Circular Fingerprint\n",
            "Processing guest-s11 complex using Circular Fingerprint\n",
            "Processing guest-s15 complex using Graph Conv Featurizer\n",
            "Processing guest-s20 complex using Graph Conv Featurizer\n",
            "Processing guest-3 complex using Graph Conv Featurizer\n",
            "Processing guest-5 complex using Graph Conv Featurizer\n",
            "Processing guest-s10 complex using Graph Conv Featurizer\n",
            "Processing guest-s9 complex using Graph Conv Featurizer\n",
            "Processing guest-8 complex using Graph Conv Featurizer\n",
            "Processing guest-6 complex using Graph Conv Featurizer\n",
            "Processing guest-s17 complex using Graph Conv Featurizer\n",
            "Processing guest-2 complex using Graph Conv Featurizer\n",
            "Processing guest-s12 complex using Graph Conv Featurizer\n",
            "Processing guest-s22 complex using Graph Conv Featurizer\n",
            "Processing guest-s18 complex using Graph Conv Featurizer\n",
            "Processing guest-1 complex using Graph Conv Featurizer\n",
            "Processing guest-s19 complex using Graph Conv Featurizer\n",
            "Processing guest-s13 complex using Graph Conv Featurizer\n",
            "Processing guest-7 complex using Graph Conv Featurizer\n",
            "Processing guest-s14 complex using Graph Conv Featurizer\n",
            "Processing guest-4 complex using Graph Conv Featurizer\n",
            "Processing guest-s16 complex using Graph Conv Featurizer\n",
            "Processing guest-s21 complex using Graph Conv Featurizer\n",
            "Processing guest-s11 complex using Graph Conv Featurizer\n",
            "Processing guest-s15 complex using Modded Graph Conv Featurizer\n",
            "Processing guest-s20 complex using Modded Graph Conv Featurizer\n",
            "Processing guest-3 complex using Modded Graph Conv Featurizer\n",
            "Processing guest-5 complex using Modded Graph Conv Featurizer\n",
            "Processing guest-s10 complex using Modded Graph Conv Featurizer\n",
            "Processing guest-s9 complex using Modded Graph Conv Featurizer\n",
            "Processing guest-8 complex using Modded Graph Conv Featurizer\n",
            "Processing guest-6 complex using Modded Graph Conv Featurizer\n",
            "Processing guest-s17 complex using Modded Graph Conv Featurizer\n",
            "Processing guest-2 complex using Modded Graph Conv Featurizer\n",
            "Processing guest-s12 complex using Modded Graph Conv Featurizer\n",
            "Processing guest-s22 complex using Modded Graph Conv Featurizer\n",
            "Processing guest-s18 complex using Modded Graph Conv Featurizer\n",
            "Processing guest-1 complex using Modded Graph Conv Featurizer\n",
            "Processing guest-s19 complex using Modded Graph Conv Featurizer\n",
            "Processing guest-s13 complex using Modded Graph Conv Featurizer\n",
            "Processing guest-7 complex using Modded Graph Conv Featurizer\n",
            "Processing guest-s14 complex using Modded Graph Conv Featurizer\n",
            "Processing guest-4 complex using Modded Graph Conv Featurizer\n",
            "Processing guest-s16 complex using Modded Graph Conv Featurizer\n",
            "Processing guest-s21 complex using Modded Graph Conv Featurizer\n",
            "Processing guest-s11 complex using Modded Graph Conv Featurizer\n",
            "Processing guest-s15 complex using Modded Circular Fingerprint\n",
            "Processing guest-s20 complex using Modded Circular Fingerprint\n",
            "Processing guest-3 complex using Modded Circular Fingerprint\n",
            "Processing guest-5 complex using Modded Circular Fingerprint\n",
            "Processing guest-s10 complex using Modded Circular Fingerprint\n",
            "Processing guest-s9 complex using Modded Circular Fingerprint\n",
            "Processing guest-8 complex using Modded Circular Fingerprint\n",
            "Processing guest-6 complex using Modded Circular Fingerprint\n",
            "Processing guest-s17 complex using Modded Circular Fingerprint\n",
            "Processing guest-2 complex using Modded Circular Fingerprint\n",
            "Processing guest-s12 complex using Modded Circular Fingerprint\n",
            "Processing guest-s22 complex using Modded Circular Fingerprint\n",
            "Processing guest-s18 complex using Modded Circular Fingerprint\n",
            "Processing guest-1 complex using Modded Circular Fingerprint\n",
            "Processing guest-s19 complex using Modded Circular Fingerprint\n",
            "Processing guest-s13 complex using Modded Circular Fingerprint\n",
            "Processing guest-7 complex using Modded Circular Fingerprint\n",
            "Processing guest-s14 complex using Modded Circular Fingerprint\n",
            "Processing guest-4 complex using Modded Circular Fingerprint\n",
            "Processing guest-s16 complex using Modded Circular Fingerprint\n",
            "Processing guest-s21 complex using Modded Circular Fingerprint\n",
            "Processing guest-s11 complex using Modded Circular Fingerprint\n"
          ]
        }
      ],
      "source": [
        "# Featurize Dataset, using intial data calculated by VM2\n",
        "all_features_vm2 = {}\n",
        "\n",
        "# Theoretically, the guests should match between\n",
        "# vm2 and vina docked structures\n",
        "guests = guests_vm2\n",
        "\n",
        "# Define featurizers\n",
        "featureizers = []\n",
        "featureizers.append( ('Circular Fingerprint', deepchem.feat.CircularFingerprint() ) )\n",
        "featureizers.append( ('Graph Conv Featurizer', deepchem.feat.MolGraphConvFeaturizer() ) )\n",
        "featureizers.append( ('Modded Graph Conv Featurizer', ModdedMolGraphConvFeaturizer() ) )\n",
        "featureizers.append( ('Modded Circular Fingerprint', ModifiedCircularFingerprint() ) )\n",
        "# Need to debug!\n",
        "#featureizers.append( ('Contact Featurizer', deepchem.feat.ContactCircularFingerprint() ) )\n",
        "\n",
        "for featurizer_name, featureizer_model in featureizers:\n",
        "\n",
        "  all_features_vm2[featurizer_name] = {}\n",
        "\n",
        "  for guest in guests:\n",
        "    print(f'Processing {guest} complex using {featurizer_name}')\n",
        "\n",
        "    #features = compute_features_vina\\\n",
        "    features = compute_features_vm2\\\n",
        "    (\n",
        "      featureizer_model,\n",
        "      guest\n",
        "    )\n",
        "    if features is None :\n",
        "      print(f'Featurization failed for {guest} complex using {featurizer_name}!')\n",
        "      continue\n",
        "\n",
        "    all_features_vm2[featurizer_name][guest] = features\n",
        "    # break DEBUG: only does 1 of each "
      ]
    },
    {
      "cell_type": "markdown",
      "metadata": {
        "id": "1EAMVWvWIJ01"
      },
      "source": [
        "To compare results, we'll look at the results if we have Vina Auto Doc and perform the same featurization on the conformer. There isn't a physics guided component here, so we won't featureize with those. (But we could!)"
      ]
    },
    {
      "cell_type": "code",
      "execution_count": null,
      "metadata": {
        "colab": {
          "base_uri": "https://localhost:8080/"
        },
        "id": "FN7czVQHjncI",
        "outputId": "963f2c99-234b-4bb2-e329-fefb952a5369"
      },
      "outputs": [
        {
          "output_type": "stream",
          "name": "stdout",
          "text": [
            "Processing guest-s17 complex using Circular Fingerprint\n",
            "guest-s17 via vina CCCCCCC.OC[C@H]1O[C@@H]2O[C@@H]3[C@@H](CO)O[C@H](O[C@@H]4[C@@H](CO)O[C@H](O[C@@H]5[C@@H](CO)O[C@H](O[C@@H]6[C@@H](CO)O[C@H](O[C@@H]7[C@@H](CO)O[C@H](O[C@H]1[C@H](O)[C@H]2O)[C@H](O)[C@H]7O)[C@H](O)[C@H]6O)[C@H](O)[C@H]5O)[C@H](O)[C@H]4O)[C@H](O)[C@H]3O.[HH].[HH].[HH].[HH].[HH].[HH].[HH].[HH].[HH].[HH].[HH].[HH].[HH].[HH].[HH].[HH]\n",
            "Processing guest-s17 complex using Graph Conv Featurizer\n",
            "guest-s17 via vina CCCCCCC.OC[C@H]1O[C@@H]2O[C@@H]3[C@@H](CO)O[C@H](O[C@@H]4[C@@H](CO)O[C@H](O[C@@H]5[C@@H](CO)O[C@H](O[C@@H]6[C@@H](CO)O[C@H](O[C@@H]7[C@@H](CO)O[C@H](O[C@H]1[C@H](O)[C@H]2O)[C@H](O)[C@H]7O)[C@H](O)[C@H]6O)[C@H](O)[C@H]5O)[C@H](O)[C@H]4O)[C@H](O)[C@H]3O.[HH].[HH].[HH].[HH].[HH].[HH].[HH].[HH].[HH].[HH].[HH].[HH].[HH].[HH].[HH].[HH]\n"
          ]
        }
      ],
      "source": [
        "# Featurize Dataset, but instead of VM2, we'll use vina to create \n",
        "# a good docking position from various poses. Then we'll featurize based\n",
        "# on that docked conformer!\n",
        "all_features_vina = {}\n",
        "\n",
        "# Theoretically, the guests should match between\n",
        "# vm2 and vina docked structures, but really depends on the conformer search\n",
        "guests = guests_vina\n",
        "\n",
        "# Define featurizers\n",
        "featureizers = []\n",
        "featureizers.append( ('Circular Fingerprint', deepchem.feat.CircularFingerprint() ) )\n",
        "featureizers.append( ('Graph Conv Featurizer', deepchem.feat.MolGraphConvFeaturizer() ) )\n",
        "\n",
        "for featurizer_name, featureizer_model in featureizers:\n",
        "\n",
        "  all_features_vina[featurizer_name] = {}\n",
        "\n",
        "  for guest in guests:\n",
        "    print(f'Processing {guest} complex using {featurizer_name}')\n",
        "\n",
        "    features = compute_features_vina\\\n",
        "    (\n",
        "      featureizer_model,\n",
        "      guest\n",
        "    )\n",
        "    if features is None :\n",
        "      print(f'Featurization failed for {guest} complex using {featurizer_name}!')\n",
        "      continue\n",
        "\n",
        "    all_features_vina[featurizer_name][guest] = features\n",
        "    break # DEBUG: only does 1 of each "
      ]
    },
    {
      "cell_type": "code",
      "source": [
        "# Featurize Dataset, but instead of VM2, we'll use vina to create \n",
        "# a good docking position from various poses. Then we'll featurize based\n",
        "# on that docked conformer!\n",
        "all_features_pure = {}\n",
        "\n",
        "# Theoretically, the guests should match between\n",
        "# vm2 and vina docked structures, but really depends on the conformer search\n",
        "guests = guests_vm2 # re use vm2 guests\n",
        "\n",
        "# Define featurizers\n",
        "featureizers = []\n",
        "featureizers.append( ('Circular Fingerprint', deepchem.feat.CircularFingerprint() ) )\n",
        "featureizers.append( ('Graph Conv Featurizer', deepchem.feat.MolGraphConvFeaturizer() ) )\n",
        "\n",
        "for featurizer_name, featureizer_model in featureizers:\n",
        "\n",
        "  all_features_pure[featurizer_name] = {}\n",
        "\n",
        "  for guest in guests:\n",
        "    print(f'Processing {guest} complex using {featurizer_name}')\n",
        "\n",
        "    features = compute_features_pure\\\n",
        "    (\n",
        "      featureizer_model,\n",
        "      guest\n",
        "    )\n",
        "    if features is None :\n",
        "      print(f'Featurization failed for {guest} complex using {featurizer_name}!')\n",
        "      continue\n",
        "\n",
        "    all_features_pure[featurizer_name][guest] = features\n",
        "    # break # DEBUG: only does 1 of each "
      ],
      "metadata": {
        "colab": {
          "base_uri": "https://localhost:8080/"
        },
        "id": "MBk5qrcfRhm1",
        "outputId": "54165b4b-1711-47f5-f3ac-da1187f760c2"
      },
      "execution_count": 10,
      "outputs": [
        {
          "output_type": "stream",
          "name": "stdout",
          "text": [
            "Processing guest-s15 complex using Circular Fingerprint\n",
            "guest-s15 pure CCCCCCC(C)[NH3+].OC[C@H]1O[C@@H]2O[C@@H]3[C@@H](CO)O[C@H](O[C@@H]4[C@@H](CO)O[C@H](O[C@@H]5[C@@H](CO)O[C@H](O[C@@H]6[C@@H](CO)O[C@H](O[C@@H]7[C@@H](CO)O[C@H](O[C@H]1[C@H](O)[C@H]2O)[C@H](O)[C@H]7O)[C@H](O)[C@H]6O)[C@H](O)[C@H]5O)[C@H](O)[C@H]4O)[C@H](O)[C@H]3O\n",
            "Processing guest-s20 complex using Circular Fingerprint\n",
            "guest-s20 pure CC/C=C/CC[O-].OC[C@H]1O[C@@H]2O[C@@H]3[C@@H](CO)O[C@H](O[C@@H]4[C@@H](CO)O[C@H](O[C@@H]5[C@@H](CO)O[C@H](O[C@@H]6[C@@H](CO)O[C@H](O[C@@H]7[C@@H](CO)O[C@H](O[C@H]1[C@H](O)[C@H]2O)[C@H](O)[C@H]7O)[C@H](O)[C@H]6O)[C@H](O)[C@H]5O)[C@H](O)[C@H]4O)[C@H](O)[C@H]3O\n",
            "Processing guest-3 complex using Circular Fingerprint\n",
            "guest-3 pure CCCCCCCC[NH3+].OC[C@H]1O[C@@H]2O[C@@H]3[C@@H](CO)O[C@H](O[C@@H]4[C@@H](CO)O[C@H](O[C@@H]5[C@@H](CO)O[C@H](O[C@@H]6[C@@H](CO)O[C@H](O[C@@H]7[C@@H](CO)O[C@H](O[C@H]1[C@H](O)[C@H]2O)[C@H](O)[C@H]7O)[C@H](O)[C@H]6O)[C@H](O)[C@H]5O)[C@H](O)[C@H]4O)[C@H](O)[C@H]3O\n",
            "Processing guest-5 complex using Circular Fingerprint\n",
            "guest-5 pure OC1CCCCCC1.OC[C@H]1O[C@@H]2O[C@@H]3[C@@H](CO)O[C@H](O[C@@H]4[C@@H](CO)O[C@H](O[C@@H]5[C@@H](CO)O[C@H](O[C@@H]6[C@@H](CO)O[C@H](O[C@@H]7[C@@H](CO)O[C@H](O[C@H]1[C@H](O)[C@H]2O)[C@H](O)[C@H]7O)[C@H](O)[C@H]6O)[C@H](O)[C@H]5O)[C@H](O)[C@H]4O)[C@H](O)[C@H]3O\n",
            "Processing guest-s10 complex using Circular Fingerprint\n",
            "guest-s10 pure CCCC(C)[NH3+].OC[C@H]1O[C@@H]2O[C@@H]3[C@@H](CO)O[C@H](O[C@@H]4[C@@H](CO)O[C@H](O[C@@H]5[C@@H](CO)O[C@H](O[C@@H]6[C@@H](CO)O[C@H](O[C@@H]7[C@@H](CO)O[C@H](O[C@H]1[C@H](O)[C@H]2O)[C@H](O)[C@H]7O)[C@H](O)[C@H]6O)[C@H](O)[C@H]5O)[C@H](O)[C@H]4O)[C@H](O)[C@H]3O\n",
            "Processing guest-s9 complex using Circular Fingerprint\n",
            "guest-s9 pure CCCC[NH2+]C.OC[C@H]1O[C@@H]2O[C@@H]3[C@@H](CO)O[C@H](O[C@@H]4[C@@H](CO)O[C@H](O[C@@H]5[C@@H](CO)O[C@H](O[C@@H]6[C@@H](CO)O[C@H](O[C@@H]7[C@@H](CO)O[C@H](O[C@H]1[C@H](O)[C@H]2O)[C@H](O)[C@H]7O)[C@H](O)[C@H]6O)[C@H](O)[C@H]5O)[C@H](O)[C@H]4O)[C@H](O)[C@H]3O\n",
            "Processing guest-8 complex using Circular Fingerprint\n",
            "guest-8 pure CCCCCCCC(=O)[O-].OC[C@H]1O[C@@H]2O[C@@H]3[C@@H](CO)O[C@H](O[C@@H]4[C@@H](CO)O[C@H](O[C@@H]5[C@@H](CO)O[C@H](O[C@@H]6[C@@H](CO)O[C@H](O[C@@H]7[C@@H](CO)O[C@H](O[C@H]1[C@H](O)[C@H]2O)[C@H](O)[C@H]7O)[C@H](O)[C@H]6O)[C@H](O)[C@H]5O)[C@H](O)[C@H]4O)[C@H](O)[C@H]3O\n",
            "Processing guest-6 complex using Circular Fingerprint\n",
            "guest-6 pure CCCC(=O)[O-].OC[C@H]1O[C@@H]2O[C@@H]3[C@@H](CO)O[C@H](O[C@@H]4[C@@H](CO)O[C@H](O[C@@H]5[C@@H](CO)O[C@H](O[C@@H]6[C@@H](CO)O[C@H](O[C@@H]7[C@@H](CO)O[C@H](O[C@H]1[C@H](O)[C@H]2O)[C@H](O)[C@H]7O)[C@H](O)[C@H]6O)[C@H](O)[C@H]5O)[C@H](O)[C@H]4O)[C@H](O)[C@H]3O\n",
            "Processing guest-s17 complex using Circular Fingerprint\n",
            "guest-s17 pure OC1CCCCCCC1.OC[C@H]1O[C@@H]2O[C@@H]3[C@@H](CO)O[C@H](O[C@@H]4[C@@H](CO)O[C@H](O[C@@H]5[C@@H](CO)O[C@H](O[C@@H]6[C@@H](CO)O[C@H](O[C@@H]7[C@@H](CO)O[C@H](O[C@H]1[C@H](O)[C@H]2O)[C@H](O)[C@H]7O)[C@H](O)[C@H]6O)[C@H](O)[C@H]5O)[C@H](O)[C@H]4O)[C@H](O)[C@H]3O\n",
            "Processing guest-2 complex using Circular Fingerprint\n",
            "guest-2 pure CCCCCC[NH3+].OC[C@H]1O[C@@H]2O[C@@H]3[C@@H](CO)O[C@H](O[C@@H]4[C@@H](CO)O[C@H](O[C@@H]5[C@@H](CO)O[C@H](O[C@@H]6[C@@H](CO)O[C@H](O[C@@H]7[C@@H](CO)O[C@H](O[C@H]1[C@H](O)[C@H]2O)[C@H](O)[C@H]7O)[C@H](O)[C@H]6O)[C@H](O)[C@H]5O)[C@H](O)[C@H]4O)[C@H](O)[C@H]3O\n",
            "Processing guest-s12 complex using Circular Fingerprint\n",
            "guest-s12 pure CCCCCC[NH2+]C.OC[C@H]1O[C@@H]2O[C@@H]3[C@@H](CO)O[C@H](O[C@@H]4[C@@H](CO)O[C@H](O[C@@H]5[C@@H](CO)O[C@H](O[C@@H]6[C@@H](CO)O[C@H](O[C@@H]7[C@@H](CO)O[C@H](O[C@H]1[C@H](O)[C@H]2O)[C@H](O)[C@H]7O)[C@H](O)[C@H]6O)[C@H](O)[C@H]5O)[C@H](O)[C@H]4O)[C@H](O)[C@H]3O\n",
            "Processing guest-s22 complex using Circular Fingerprint\n",
            "guest-s22 pure C=CCCCCC(=O)[O-].OC[C@H]1O[C@@H]2O[C@@H]3[C@@H](CO)O[C@H](O[C@@H]4[C@@H](CO)O[C@H](O[C@@H]5[C@@H](CO)O[C@H](O[C@@H]6[C@@H](CO)O[C@H](O[C@@H]7[C@@H](CO)O[C@H](O[C@H]1[C@H](O)[C@H]2O)[C@H](O)[C@H]7O)[C@H](O)[C@H]6O)[C@H](O)[C@H]5O)[C@H](O)[C@H]4O)[C@H](O)[C@H]3O\n",
            "Processing guest-s18 complex using Circular Fingerprint\n",
            "guest-s18 pure CCCCC(=O)[O-].OC[C@H]1O[C@@H]2O[C@@H]3[C@@H](CO)O[C@H](O[C@@H]4[C@@H](CO)O[C@H](O[C@@H]5[C@@H](CO)O[C@H](O[C@@H]6[C@@H](CO)O[C@H](O[C@@H]7[C@@H](CO)O[C@H](O[C@H]1[C@H](O)[C@H]2O)[C@H](O)[C@H]7O)[C@H](O)[C@H]6O)[C@H](O)[C@H]5O)[C@H](O)[C@H]4O)[C@H](O)[C@H]3O\n",
            "Processing guest-1 complex using Circular Fingerprint\n",
            "guest-1 pure CCCC[NH3+].OC[C@H]1O[C@@H]2O[C@@H]3[C@@H](CO)O[C@H](O[C@@H]4[C@@H](CO)O[C@H](O[C@@H]5[C@@H](CO)O[C@H](O[C@@H]6[C@@H](CO)O[C@H](O[C@@H]7[C@@H](CO)O[C@H](O[C@H]1[C@H](O)[C@H]2O)[C@H](O)[C@H]7O)[C@H](O)[C@H]6O)[C@H](O)[C@H]5O)[C@H](O)[C@H]4O)[C@H](O)[C@H]3O\n",
            "Processing guest-s19 complex using Circular Fingerprint\n",
            "guest-s19 pure CCC/C=C/C[O-].OC[C@H]1O[C@@H]2O[C@@H]3[C@@H](CO)O[C@H](O[C@@H]4[C@@H](CO)O[C@H](O[C@@H]5[C@@H](CO)O[C@H](O[C@@H]6[C@@H](CO)O[C@H](O[C@@H]7[C@@H](CO)O[C@H](O[C@H]1[C@H](O)[C@H]2O)[C@H](O)[C@H]7O)[C@H](O)[C@H]6O)[C@H](O)[C@H]5O)[C@H](O)[C@H]4O)[C@H](O)[C@H]3O\n",
            "Processing guest-s13 complex using Circular Fingerprint\n",
            "guest-s13 pure CCCCCC(C)[NH3+].OC[C@H]1O[C@@H]2O[C@@H]3[C@@H](CO)O[C@H](O[C@@H]4[C@@H](CO)O[C@H](O[C@@H]5[C@@H](CO)O[C@H](O[C@@H]6[C@@H](CO)O[C@H](O[C@@H]7[C@@H](CO)O[C@H](O[C@H]1[C@H](O)[C@H]2O)[C@H](O)[C@H]7O)[C@H](O)[C@H]6O)[C@H](O)[C@H]5O)[C@H](O)[C@H]4O)[C@H](O)[C@H]3O\n",
            "Processing guest-7 complex using Circular Fingerprint\n",
            "guest-7 pure CCCCCC(=O)[O-].OC[C@H]1O[C@@H]2O[C@@H]3[C@@H](CO)O[C@H](O[C@@H]4[C@@H](CO)O[C@H](O[C@@H]5[C@@H](CO)O[C@H](O[C@@H]6[C@@H](CO)O[C@H](O[C@@H]7[C@@H](CO)O[C@H](O[C@H]1[C@H](O)[C@H]2O)[C@H](O)[C@H]7O)[C@H](O)[C@H]6O)[C@H](O)[C@H]5O)[C@H](O)[C@H]4O)[C@H](O)[C@H]3O\n",
            "Processing guest-s14 complex using Circular Fingerprint\n",
            "guest-s14 pure CCCCCCC[NH3+].OC[C@H]1O[C@@H]2O[C@@H]3[C@@H](CO)O[C@H](O[C@@H]4[C@@H](CO)O[C@H](O[C@@H]5[C@@H](CO)O[C@H](O[C@@H]6[C@@H](CO)O[C@H](O[C@@H]7[C@@H](CO)O[C@H](O[C@H]1[C@H](O)[C@H]2O)[C@H](O)[C@H]7O)[C@H](O)[C@H]6O)[C@H](O)[C@H]5O)[C@H](O)[C@H]4O)[C@H](O)[C@H]3O\n",
            "Processing guest-4 complex using Circular Fingerprint\n",
            "guest-4 pure OC1CCCC1.OC[C@H]1O[C@@H]2O[C@@H]3[C@@H](CO)O[C@H](O[C@@H]4[C@@H](CO)O[C@H](O[C@@H]5[C@@H](CO)O[C@H](O[C@@H]6[C@@H](CO)O[C@H](O[C@@H]7[C@@H](CO)O[C@H](O[C@H]1[C@H](O)[C@H]2O)[C@H](O)[C@H]7O)[C@H](O)[C@H]6O)[C@H](O)[C@H]5O)[C@H](O)[C@H]4O)[C@H](O)[C@H]3O\n",
            "Processing guest-s16 complex using Circular Fingerprint\n",
            "guest-s16 pure OC1CCC1.OC[C@H]1O[C@@H]2O[C@@H]3[C@@H](CO)O[C@H](O[C@@H]4[C@@H](CO)O[C@H](O[C@@H]5[C@@H](CO)O[C@H](O[C@@H]6[C@@H](CO)O[C@H](O[C@@H]7[C@@H](CO)O[C@H](O[C@H]1[C@H](O)[C@H]2O)[C@H](O)[C@H]7O)[C@H](O)[C@H]6O)[C@H](O)[C@H]5O)[C@H](O)[C@H]4O)[C@H](O)[C@H]3O\n",
            "Processing guest-s21 complex using Circular Fingerprint\n",
            "guest-s21 pure CCCCCCC(=O)[O-].OC[C@H]1O[C@@H]2O[C@@H]3[C@@H](CO)O[C@H](O[C@@H]4[C@@H](CO)O[C@H](O[C@@H]5[C@@H](CO)O[C@H](O[C@@H]6[C@@H](CO)O[C@H](O[C@@H]7[C@@H](CO)O[C@H](O[C@H]1[C@H](O)[C@H]2O)[C@H](O)[C@H]7O)[C@H](O)[C@H]6O)[C@H](O)[C@H]5O)[C@H](O)[C@H]4O)[C@H](O)[C@H]3O\n",
            "Processing guest-s11 complex using Circular Fingerprint\n",
            "guest-s11 pure CCCCC[NH3+].OC[C@H]1O[C@@H]2O[C@@H]3[C@@H](CO)O[C@H](O[C@@H]4[C@@H](CO)O[C@H](O[C@@H]5[C@@H](CO)O[C@H](O[C@@H]6[C@@H](CO)O[C@H](O[C@@H]7[C@@H](CO)O[C@H](O[C@H]1[C@H](O)[C@H]2O)[C@H](O)[C@H]7O)[C@H](O)[C@H]6O)[C@H](O)[C@H]5O)[C@H](O)[C@H]4O)[C@H](O)[C@H]3O\n",
            "Processing guest-s15 complex using Graph Conv Featurizer\n",
            "guest-s15 pure CCCCCCC(C)[NH3+].OC[C@H]1O[C@@H]2O[C@@H]3[C@@H](CO)O[C@H](O[C@@H]4[C@@H](CO)O[C@H](O[C@@H]5[C@@H](CO)O[C@H](O[C@@H]6[C@@H](CO)O[C@H](O[C@@H]7[C@@H](CO)O[C@H](O[C@H]1[C@H](O)[C@H]2O)[C@H](O)[C@H]7O)[C@H](O)[C@H]6O)[C@H](O)[C@H]5O)[C@H](O)[C@H]4O)[C@H](O)[C@H]3O\n",
            "Processing guest-s20 complex using Graph Conv Featurizer\n",
            "guest-s20 pure CC/C=C/CC[O-].OC[C@H]1O[C@@H]2O[C@@H]3[C@@H](CO)O[C@H](O[C@@H]4[C@@H](CO)O[C@H](O[C@@H]5[C@@H](CO)O[C@H](O[C@@H]6[C@@H](CO)O[C@H](O[C@@H]7[C@@H](CO)O[C@H](O[C@H]1[C@H](O)[C@H]2O)[C@H](O)[C@H]7O)[C@H](O)[C@H]6O)[C@H](O)[C@H]5O)[C@H](O)[C@H]4O)[C@H](O)[C@H]3O\n",
            "Processing guest-3 complex using Graph Conv Featurizer\n",
            "guest-3 pure CCCCCCCC[NH3+].OC[C@H]1O[C@@H]2O[C@@H]3[C@@H](CO)O[C@H](O[C@@H]4[C@@H](CO)O[C@H](O[C@@H]5[C@@H](CO)O[C@H](O[C@@H]6[C@@H](CO)O[C@H](O[C@@H]7[C@@H](CO)O[C@H](O[C@H]1[C@H](O)[C@H]2O)[C@H](O)[C@H]7O)[C@H](O)[C@H]6O)[C@H](O)[C@H]5O)[C@H](O)[C@H]4O)[C@H](O)[C@H]3O\n",
            "Processing guest-5 complex using Graph Conv Featurizer\n",
            "guest-5 pure OC1CCCCCC1.OC[C@H]1O[C@@H]2O[C@@H]3[C@@H](CO)O[C@H](O[C@@H]4[C@@H](CO)O[C@H](O[C@@H]5[C@@H](CO)O[C@H](O[C@@H]6[C@@H](CO)O[C@H](O[C@@H]7[C@@H](CO)O[C@H](O[C@H]1[C@H](O)[C@H]2O)[C@H](O)[C@H]7O)[C@H](O)[C@H]6O)[C@H](O)[C@H]5O)[C@H](O)[C@H]4O)[C@H](O)[C@H]3O\n",
            "Processing guest-s10 complex using Graph Conv Featurizer\n",
            "guest-s10 pure CCCC(C)[NH3+].OC[C@H]1O[C@@H]2O[C@@H]3[C@@H](CO)O[C@H](O[C@@H]4[C@@H](CO)O[C@H](O[C@@H]5[C@@H](CO)O[C@H](O[C@@H]6[C@@H](CO)O[C@H](O[C@@H]7[C@@H](CO)O[C@H](O[C@H]1[C@H](O)[C@H]2O)[C@H](O)[C@H]7O)[C@H](O)[C@H]6O)[C@H](O)[C@H]5O)[C@H](O)[C@H]4O)[C@H](O)[C@H]3O\n",
            "Processing guest-s9 complex using Graph Conv Featurizer\n",
            "guest-s9 pure CCCC[NH2+]C.OC[C@H]1O[C@@H]2O[C@@H]3[C@@H](CO)O[C@H](O[C@@H]4[C@@H](CO)O[C@H](O[C@@H]5[C@@H](CO)O[C@H](O[C@@H]6[C@@H](CO)O[C@H](O[C@@H]7[C@@H](CO)O[C@H](O[C@H]1[C@H](O)[C@H]2O)[C@H](O)[C@H]7O)[C@H](O)[C@H]6O)[C@H](O)[C@H]5O)[C@H](O)[C@H]4O)[C@H](O)[C@H]3O\n",
            "Processing guest-8 complex using Graph Conv Featurizer\n",
            "guest-8 pure CCCCCCCC(=O)[O-].OC[C@H]1O[C@@H]2O[C@@H]3[C@@H](CO)O[C@H](O[C@@H]4[C@@H](CO)O[C@H](O[C@@H]5[C@@H](CO)O[C@H](O[C@@H]6[C@@H](CO)O[C@H](O[C@@H]7[C@@H](CO)O[C@H](O[C@H]1[C@H](O)[C@H]2O)[C@H](O)[C@H]7O)[C@H](O)[C@H]6O)[C@H](O)[C@H]5O)[C@H](O)[C@H]4O)[C@H](O)[C@H]3O\n",
            "Processing guest-6 complex using Graph Conv Featurizer\n",
            "guest-6 pure CCCC(=O)[O-].OC[C@H]1O[C@@H]2O[C@@H]3[C@@H](CO)O[C@H](O[C@@H]4[C@@H](CO)O[C@H](O[C@@H]5[C@@H](CO)O[C@H](O[C@@H]6[C@@H](CO)O[C@H](O[C@@H]7[C@@H](CO)O[C@H](O[C@H]1[C@H](O)[C@H]2O)[C@H](O)[C@H]7O)[C@H](O)[C@H]6O)[C@H](O)[C@H]5O)[C@H](O)[C@H]4O)[C@H](O)[C@H]3O\n",
            "Processing guest-s17 complex using Graph Conv Featurizer\n",
            "guest-s17 pure OC1CCCCCCC1.OC[C@H]1O[C@@H]2O[C@@H]3[C@@H](CO)O[C@H](O[C@@H]4[C@@H](CO)O[C@H](O[C@@H]5[C@@H](CO)O[C@H](O[C@@H]6[C@@H](CO)O[C@H](O[C@@H]7[C@@H](CO)O[C@H](O[C@H]1[C@H](O)[C@H]2O)[C@H](O)[C@H]7O)[C@H](O)[C@H]6O)[C@H](O)[C@H]5O)[C@H](O)[C@H]4O)[C@H](O)[C@H]3O\n",
            "Processing guest-2 complex using Graph Conv Featurizer\n",
            "guest-2 pure CCCCCC[NH3+].OC[C@H]1O[C@@H]2O[C@@H]3[C@@H](CO)O[C@H](O[C@@H]4[C@@H](CO)O[C@H](O[C@@H]5[C@@H](CO)O[C@H](O[C@@H]6[C@@H](CO)O[C@H](O[C@@H]7[C@@H](CO)O[C@H](O[C@H]1[C@H](O)[C@H]2O)[C@H](O)[C@H]7O)[C@H](O)[C@H]6O)[C@H](O)[C@H]5O)[C@H](O)[C@H]4O)[C@H](O)[C@H]3O\n",
            "Processing guest-s12 complex using Graph Conv Featurizer\n",
            "guest-s12 pure CCCCCC[NH2+]C.OC[C@H]1O[C@@H]2O[C@@H]3[C@@H](CO)O[C@H](O[C@@H]4[C@@H](CO)O[C@H](O[C@@H]5[C@@H](CO)O[C@H](O[C@@H]6[C@@H](CO)O[C@H](O[C@@H]7[C@@H](CO)O[C@H](O[C@H]1[C@H](O)[C@H]2O)[C@H](O)[C@H]7O)[C@H](O)[C@H]6O)[C@H](O)[C@H]5O)[C@H](O)[C@H]4O)[C@H](O)[C@H]3O\n",
            "Processing guest-s22 complex using Graph Conv Featurizer\n",
            "guest-s22 pure C=CCCCCC(=O)[O-].OC[C@H]1O[C@@H]2O[C@@H]3[C@@H](CO)O[C@H](O[C@@H]4[C@@H](CO)O[C@H](O[C@@H]5[C@@H](CO)O[C@H](O[C@@H]6[C@@H](CO)O[C@H](O[C@@H]7[C@@H](CO)O[C@H](O[C@H]1[C@H](O)[C@H]2O)[C@H](O)[C@H]7O)[C@H](O)[C@H]6O)[C@H](O)[C@H]5O)[C@H](O)[C@H]4O)[C@H](O)[C@H]3O\n",
            "Processing guest-s18 complex using Graph Conv Featurizer\n",
            "guest-s18 pure CCCCC(=O)[O-].OC[C@H]1O[C@@H]2O[C@@H]3[C@@H](CO)O[C@H](O[C@@H]4[C@@H](CO)O[C@H](O[C@@H]5[C@@H](CO)O[C@H](O[C@@H]6[C@@H](CO)O[C@H](O[C@@H]7[C@@H](CO)O[C@H](O[C@H]1[C@H](O)[C@H]2O)[C@H](O)[C@H]7O)[C@H](O)[C@H]6O)[C@H](O)[C@H]5O)[C@H](O)[C@H]4O)[C@H](O)[C@H]3O\n",
            "Processing guest-1 complex using Graph Conv Featurizer\n",
            "guest-1 pure CCCC[NH3+].OC[C@H]1O[C@@H]2O[C@@H]3[C@@H](CO)O[C@H](O[C@@H]4[C@@H](CO)O[C@H](O[C@@H]5[C@@H](CO)O[C@H](O[C@@H]6[C@@H](CO)O[C@H](O[C@@H]7[C@@H](CO)O[C@H](O[C@H]1[C@H](O)[C@H]2O)[C@H](O)[C@H]7O)[C@H](O)[C@H]6O)[C@H](O)[C@H]5O)[C@H](O)[C@H]4O)[C@H](O)[C@H]3O\n",
            "Processing guest-s19 complex using Graph Conv Featurizer\n",
            "guest-s19 pure CCC/C=C/C[O-].OC[C@H]1O[C@@H]2O[C@@H]3[C@@H](CO)O[C@H](O[C@@H]4[C@@H](CO)O[C@H](O[C@@H]5[C@@H](CO)O[C@H](O[C@@H]6[C@@H](CO)O[C@H](O[C@@H]7[C@@H](CO)O[C@H](O[C@H]1[C@H](O)[C@H]2O)[C@H](O)[C@H]7O)[C@H](O)[C@H]6O)[C@H](O)[C@H]5O)[C@H](O)[C@H]4O)[C@H](O)[C@H]3O\n",
            "Processing guest-s13 complex using Graph Conv Featurizer\n",
            "guest-s13 pure CCCCCC(C)[NH3+].OC[C@H]1O[C@@H]2O[C@@H]3[C@@H](CO)O[C@H](O[C@@H]4[C@@H](CO)O[C@H](O[C@@H]5[C@@H](CO)O[C@H](O[C@@H]6[C@@H](CO)O[C@H](O[C@@H]7[C@@H](CO)O[C@H](O[C@H]1[C@H](O)[C@H]2O)[C@H](O)[C@H]7O)[C@H](O)[C@H]6O)[C@H](O)[C@H]5O)[C@H](O)[C@H]4O)[C@H](O)[C@H]3O\n",
            "Processing guest-7 complex using Graph Conv Featurizer\n",
            "guest-7 pure CCCCCC(=O)[O-].OC[C@H]1O[C@@H]2O[C@@H]3[C@@H](CO)O[C@H](O[C@@H]4[C@@H](CO)O[C@H](O[C@@H]5[C@@H](CO)O[C@H](O[C@@H]6[C@@H](CO)O[C@H](O[C@@H]7[C@@H](CO)O[C@H](O[C@H]1[C@H](O)[C@H]2O)[C@H](O)[C@H]7O)[C@H](O)[C@H]6O)[C@H](O)[C@H]5O)[C@H](O)[C@H]4O)[C@H](O)[C@H]3O\n",
            "Processing guest-s14 complex using Graph Conv Featurizer\n",
            "guest-s14 pure CCCCCCC[NH3+].OC[C@H]1O[C@@H]2O[C@@H]3[C@@H](CO)O[C@H](O[C@@H]4[C@@H](CO)O[C@H](O[C@@H]5[C@@H](CO)O[C@H](O[C@@H]6[C@@H](CO)O[C@H](O[C@@H]7[C@@H](CO)O[C@H](O[C@H]1[C@H](O)[C@H]2O)[C@H](O)[C@H]7O)[C@H](O)[C@H]6O)[C@H](O)[C@H]5O)[C@H](O)[C@H]4O)[C@H](O)[C@H]3O\n",
            "Processing guest-4 complex using Graph Conv Featurizer\n",
            "guest-4 pure OC1CCCC1.OC[C@H]1O[C@@H]2O[C@@H]3[C@@H](CO)O[C@H](O[C@@H]4[C@@H](CO)O[C@H](O[C@@H]5[C@@H](CO)O[C@H](O[C@@H]6[C@@H](CO)O[C@H](O[C@@H]7[C@@H](CO)O[C@H](O[C@H]1[C@H](O)[C@H]2O)[C@H](O)[C@H]7O)[C@H](O)[C@H]6O)[C@H](O)[C@H]5O)[C@H](O)[C@H]4O)[C@H](O)[C@H]3O\n",
            "Processing guest-s16 complex using Graph Conv Featurizer\n",
            "guest-s16 pure OC1CCC1.OC[C@H]1O[C@@H]2O[C@@H]3[C@@H](CO)O[C@H](O[C@@H]4[C@@H](CO)O[C@H](O[C@@H]5[C@@H](CO)O[C@H](O[C@@H]6[C@@H](CO)O[C@H](O[C@@H]7[C@@H](CO)O[C@H](O[C@H]1[C@H](O)[C@H]2O)[C@H](O)[C@H]7O)[C@H](O)[C@H]6O)[C@H](O)[C@H]5O)[C@H](O)[C@H]4O)[C@H](O)[C@H]3O\n",
            "Processing guest-s21 complex using Graph Conv Featurizer\n",
            "guest-s21 pure CCCCCCC(=O)[O-].OC[C@H]1O[C@@H]2O[C@@H]3[C@@H](CO)O[C@H](O[C@@H]4[C@@H](CO)O[C@H](O[C@@H]5[C@@H](CO)O[C@H](O[C@@H]6[C@@H](CO)O[C@H](O[C@@H]7[C@@H](CO)O[C@H](O[C@H]1[C@H](O)[C@H]2O)[C@H](O)[C@H]7O)[C@H](O)[C@H]6O)[C@H](O)[C@H]5O)[C@H](O)[C@H]4O)[C@H](O)[C@H]3O\n",
            "Processing guest-s11 complex using Graph Conv Featurizer\n",
            "guest-s11 pure CCCCC[NH3+].OC[C@H]1O[C@@H]2O[C@@H]3[C@@H](CO)O[C@H](O[C@@H]4[C@@H](CO)O[C@H](O[C@@H]5[C@@H](CO)O[C@H](O[C@@H]6[C@@H](CO)O[C@H](O[C@@H]7[C@@H](CO)O[C@H](O[C@H]1[C@H](O)[C@H]2O)[C@H](O)[C@H]7O)[C@H](O)[C@H]6O)[C@H](O)[C@H]5O)[C@H](O)[C@H]4O)[C@H](O)[C@H]3O\n"
          ]
        }
      ]
    },
    {
      "cell_type": "markdown",
      "metadata": {
        "id": "07DeU2M3S_qK"
      },
      "source": [
        "Now that we've collected all the base features!\n",
        "Now to do the actual neural network. Combining the features extracted from the poses, adding in VM2 entropy data, and the actual value to train against, to produce a dataset.\n",
        "We'll set aside some points for validation later - but let's see if we can find some neat patterns with the ML model.\n",
        "To save some processing time in the future, we'll pickle the file, later we can load from disk if we need too"
      ]
    },
    {
      "cell_type": "code",
      "execution_count": 64,
      "metadata": {
        "colab": {
          "base_uri": "https://localhost:8080/"
        },
        "id": "rr4ErtucXli1",
        "outputId": "8c6b03e6-b57e-460f-c617-08c0baceb7ac"
      },
      "outputs": [
        {
          "output_type": "stream",
          "name": "stdout",
          "text": [
            "Drive already mounted at /content/drive; to attempt to forcibly remount, call drive.mount(\"/content/drive\", force_remount=True).\n"
          ]
        }
      ],
      "source": [
        "import pickle\n",
        "from google.colab import files, drive\n",
        "\n",
        "drive.mount('/content/drive')\n",
        "\n",
        "with open(\"/content/drive/My Drive/metrics_data.pickle\",\"wb\") as f:\n",
        "  pickle.dump(metrics_data, f)\n",
        "with open(\"/content/drive/My Drive/dataset_data.pickle\",\"wb\") as f:\n",
        "  pickle.dump(dataset_data, f)\n",
        "with open(\"/content/drive/My Drive/finalresults_data.pickle\",\"wb\") as f:\n",
        "  pickle.dump(final_metrics, f)\n",
        "with open(\"/content/drive/My Drive/losses.pickle\",\"wb\") as f:\n",
        "  pickle.dump(losses, f)\n",
        "with open(\"/content/drive/My Drive/metrics_by_guest.pickle\",\"wb\") as f:\n",
        "  pickle.dump(metrics_by_guest, f)\n",
        "# with open(\"/content/drive/My Drive/DNN_Model.pickle\",\"wb\") as f:\n",
        "#   pickle.dump(DNN_Model, f)\n",
        "# with open(\"/content/drive/My Drive/PGNN_DNN_Model.pickle\",\"wb\") as f:\n",
        "#   pickle.dump(PGNN_DNN_Model, f)\n",
        "# with open(\"/content/drive/My Drive/GCN_Model.pickle\",\"wb\") as f:\n",
        "#   pickle.dump(GCN_Model, f)\n",
        "# with open(\"/content/drive/My Drive/GCN_Model_PGENN.pickle\",\"wb\") as f:\n",
        "#   pickle.dump(GCN_Model_PGENN, f)"
      ]
    },
    {
      "cell_type": "code",
      "source": [
        "from google.colab import drive\n",
        "drive.mount('/content/drive')"
      ],
      "metadata": {
        "colab": {
          "base_uri": "https://localhost:8080/"
        },
        "id": "y6ELkmgqLyrq",
        "outputId": "0dd5d72f-8d56-403c-ea97-3dfae665ba5b"
      },
      "execution_count": null,
      "outputs": [
        {
          "output_type": "stream",
          "name": "stdout",
          "text": [
            "Drive already mounted at /content/drive; to attempt to forcibly remount, call drive.mount(\"/content/drive\", force_remount=True).\n"
          ]
        }
      ]
    },
    {
      "cell_type": "markdown",
      "metadata": {
        "id": "3sDCbzYo1YhO"
      },
      "source": [
        "The inverse operation to the one above!"
      ]
    },
    {
      "cell_type": "code",
      "execution_count": 65,
      "metadata": {
        "colab": {
          "base_uri": "https://localhost:8080/"
        },
        "id": "Zu6-5qAby_So",
        "outputId": "b8e31089-ddc6-4ee5-90d8-fcaf56ce43e3"
      },
      "outputs": [
        {
          "output_type": "stream",
          "name": "stdout",
          "text": [
            "Drive already mounted at /content/drive; to attempt to forcibly remount, call drive.mount(\"/content/drive\", force_remount=True).\n"
          ]
        }
      ],
      "source": [
        "import pickle\n",
        "from google.colab import files, drive\n",
        "\n",
        "drive.mount('/content/drive')\n",
        "\n",
        "with open(\"/content/drive/My Drive/metrics_data.pickle\",\"rb\") as f:\n",
        "  metrics_data = pickle.load(f)\n",
        "with open(\"/content/drive/My Drive/dataset_data.pickle\",\"rb\") as f:\n",
        "  dataset_data = pickle.load(f)\n",
        "with open(\"/content/drive/My Drive/finalresults_data.pickle\",\"rb\") as f:\n",
        "  final_metrics = pickle.load(f)\n",
        "with open(\"/content/drive/My Drive/losses.pickle\",\"rb\") as f:\n",
        "  losses = pickle.load(f)\n",
        "with open(\"/content/drive/My Drive/metrics_by_guest.pickle\",\"rb\") as f:\n",
        "  metrics_by_guest = pickle.load(f)\n",
        "#with open(\"/content/drive/My Drive/DNN_Model.pickle\",\"rb\") as f:\n",
        "  #DNN_Model = pickle.load(f)\n",
        "#with open(\"/content/drive/My Drive/PGNN_DNN_Model.pickle\",\"rb\") as f:\n",
        "  #PGNN_DNN_Model = pickle.load(f)\n",
        "#with open(\"/content/drive/My Drive/GCN_Model.pickle\",\"rb\") as f:\n",
        "  #GCN_Model = pickle.load(f)\n",
        "#with open(\"/content/drive/My Drive/GCN_Model_PGENN.pickle\",\"rb\") as f:\n",
        "  #GCN_Model_PGENN = pickle.load(f)"
      ]
    },
    {
      "cell_type": "markdown",
      "source": [
        "Let's also check the output of the features across some interesting datapoints! Note featurizing results in different outputs depending on which featurizer is used."
      ],
      "metadata": {
        "id": "uf_aCpCyBaz0"
      }
    },
    {
      "cell_type": "code",
      "source": [
        "for guest in all_features_pure['Graph Conv Featurizer']:\n",
        "  print( f'Graph Conv for {guest}', (all_features_pure['Graph Conv Featurizer'][guest] == all_features_vm2['Graph Conv Featurizer'][guest]).all() )\n",
        "for guest in all_features_pure['Circular Fingerprint']:\n",
        "  print( f'Circular for {guest}', (all_features_pure['Circular Fingerprint'][guest] == all_features_vm2['Circular Fingerprint'][guest]).all() )"
      ],
      "metadata": {
        "colab": {
          "base_uri": "https://localhost:8080/"
        },
        "id": "L_VDpbsSBeHn",
        "outputId": "2bb6e7ac-1504-4b7c-804b-7d436b9cd6b0"
      },
      "execution_count": 12,
      "outputs": [
        {
          "output_type": "stream",
          "name": "stdout",
          "text": [
            "Graph Conv for guest-s15 False\n",
            "Graph Conv for guest-s20 False\n",
            "Graph Conv for guest-3 False\n",
            "Graph Conv for guest-5 False\n",
            "Graph Conv for guest-s10 False\n",
            "Graph Conv for guest-s9 False\n",
            "Graph Conv for guest-8 False\n",
            "Graph Conv for guest-6 False\n",
            "Graph Conv for guest-s17 False\n",
            "Graph Conv for guest-2 False\n",
            "Graph Conv for guest-s12 False\n",
            "Graph Conv for guest-s22 False\n",
            "Graph Conv for guest-s18 False\n",
            "Graph Conv for guest-1 False\n",
            "Graph Conv for guest-s19 False\n",
            "Graph Conv for guest-s13 False\n",
            "Graph Conv for guest-7 False\n",
            "Graph Conv for guest-s14 False\n",
            "Graph Conv for guest-4 False\n",
            "Graph Conv for guest-s16 False\n",
            "Graph Conv for guest-s21 False\n",
            "Graph Conv for guest-s11 False\n",
            "Circular for guest-s15 True\n",
            "Circular for guest-s20 False\n",
            "Circular for guest-3 True\n",
            "Circular for guest-5 True\n",
            "Circular for guest-s10 True\n",
            "Circular for guest-s9 True\n",
            "Circular for guest-8 True\n",
            "Circular for guest-6 True\n",
            "Circular for guest-s17 True\n",
            "Circular for guest-2 True\n",
            "Circular for guest-s12 True\n",
            "Circular for guest-s22 True\n",
            "Circular for guest-s18 True\n",
            "Circular for guest-1 True\n",
            "Circular for guest-s19 False\n",
            "Circular for guest-s13 True\n",
            "Circular for guest-7 True\n",
            "Circular for guest-s14 True\n",
            "Circular for guest-4 True\n",
            "Circular for guest-s16 True\n",
            "Circular for guest-s21 True\n",
            "Circular for guest-s11 True\n"
          ]
        }
      ]
    },
    {
      "cell_type": "markdown",
      "metadata": {
        "id": "wURsFLQf3FW-"
      },
      "source": [
        "The actual model will be as basic as possible but some adjustments to better deal with the low volume of data we have to work with. \n",
        "A densely/fully connected layers with dropout regulation.  "
      ]
    },
    {
      "cell_type": "markdown",
      "metadata": {
        "id": "MkevEThAVk30"
      },
      "source": [
        "Convert the Fingerprinted data into a regular Deepchem Data set -\n",
        "This is critical to ensure that the models will work with Deepchem's built in models (and so we can do multifold cross validation later). All measurements in kcal/mol"
      ]
    },
    {
      "cell_type": "code",
      "execution_count": 13,
      "metadata": {
        "colab": {
          "base_uri": "https://localhost:8080/"
        },
        "id": "k-qkSizkSqM8",
        "outputId": "eb5c894d-9c89-4a82-e08e-08f285518857"
      },
      "outputs": [
        {
          "output_type": "execute_result",
          "data": {
            "text/plain": [
              "{'guest-1': 0.595,\n",
              " 'guest-2': 0.6570000000000005,\n",
              " 'guest-3': 0.8540000000000001,\n",
              " 'guest-4': 0.6100000000000003,\n",
              " 'guest-5': 0.4800000000000004,\n",
              " 'guest-6': 1.0239999999999998,\n",
              " 'guest-7': 0.020000000000000018,\n",
              " 'guest-8': 0.2679999999999998,\n",
              " 'guest-s9': 0.8849999999999998,\n",
              " 'guest-s10': 0.9160000000000001,\n",
              " 'guest-s11': 0.5599999999999996,\n",
              " 'guest-s12': 0.6840000000000002,\n",
              " 'guest-s13': 0.6760000000000002,\n",
              " 'guest-s14': 0.5230000000000006,\n",
              " 'guest-s15': 0.5739999999999998,\n",
              " 'guest-s16': 0.7280000000000002,\n",
              " 'guest-s17': -2.2969999999999997,\n",
              " 'guest-s18': 0.15399999999999991,\n",
              " 'guest-s19': 0.7760000000000002,\n",
              " 'guest-s20': 0.34899999999999975,\n",
              " 'guest-s21': 0.1990000000000003,\n",
              " 'guest-s22': 0.8830000000000005}"
            ]
          },
          "metadata": {},
          "execution_count": 13
        }
      ],
      "source": [
        "# Obtain binding Experimental Entropy from Exp Binding Free energy - Exp Binding Enthalpy\n",
        "experimental_data = {\n",
        "    'guest-1': -1.575+2.17,\n",
        "    'guest-2': -3.533+4.19,\n",
        "    'guest-3': -4.606+5.46,\n",
        "    'guest-4': -2.130+2.74,\n",
        "    'guest-5': -2.510+2.99,\n",
        "    'guest-6': -1.506+2.53,\n",
        "    'guest-7': -3.380+3.40,\n",
        "    'guest-8': -4.622+4.89,\n",
        "    'guest-s9': -1.685+2.57,\n",
        "    'guest-s10': -1.764+2.68,\n",
        "    'guest-s11': -2.720+3.28,\n",
        "    'guest-s12': -3.516+4.20,\n",
        "    'guest-s13': -3.604+4.28,\n",
        "    'guest-s14': -4.137+4.66,\n",
        "    'guest-s15': -4.166+4.74,\n",
        "    'guest-s16': -2.022+2.75,\n",
        "    'guest-s17': -3.227+0.93,\n",
        "    'guest-s18': -2.596+2.75,\n",
        "    'guest-s19': -3.344+4.12,\n",
        "    'guest-s20': -3.011+3.36,\n",
        "    'guest-s21': -3.991+4.19,\n",
        "    'guest-s22': -3.597+4.48\n",
        "}\n",
        "experimental_data"
      ]
    },
    {
      "cell_type": "markdown",
      "source": [
        "Because model convergence varied on Guest s17, we'll remove it from the dataset and observe the difference."
      ],
      "metadata": {
        "id": "4VBCb71-lIvW"
      }
    },
    {
      "cell_type": "code",
      "source": [
        "all_datasets = [all_features_vm2, all_features_pure] # all_features_vina\n",
        "for dataset in all_datasets:\n",
        "  for featureizer_type, structures in dataset.items():\n",
        "    if( 'guest-s17' in structures ):\n",
        "      del structures['guest-s17']\n",
        "\n",
        "    print( f'{featureizer_type}, with {len(structures)} items' )"
      ],
      "metadata": {
        "colab": {
          "base_uri": "https://localhost:8080/"
        },
        "id": "NYpWKnUTo-LG",
        "outputId": "d56b0294-2466-4f57-8029-e5b4f8909eec"
      },
      "execution_count": 14,
      "outputs": [
        {
          "output_type": "stream",
          "name": "stdout",
          "text": [
            "Circular Fingerprint, with 21 items\n",
            "Graph Conv Featurizer, with 21 items\n",
            "Modded Graph Conv Featurizer, with 21 items\n",
            "Modded Circular Fingerprint, with 21 items\n",
            "Circular Fingerprint, with 21 items\n",
            "Graph Conv Featurizer, with 21 items\n"
          ]
        }
      ]
    },
    {
      "cell_type": "markdown",
      "metadata": {
        "id": "L-3giyNyIFmT"
      },
      "source": [
        "To finalize our Physics guided model approach, we'll inject the features from VM2 into the model's input feature vector. \n",
        "We'll do this step at the same time as converting the existing features into a deepchem Dataset object."
      ]
    },
    {
      "cell_type": "code",
      "execution_count": 95,
      "metadata": {
        "colab": {
          "base_uri": "https://localhost:8080/"
        },
        "id": "PJ6o9vhHerHo",
        "outputId": "1dea1687-98c0-4b6b-f7dc-869ae9b43bf4"
      },
      "outputs": [
        {
          "output_type": "stream",
          "name": "stdout",
          "text": [
            "Circular Fingerprint, with 21 items\n",
            "Graph Conv Featurizer, with 21 items\n",
            "Modded Graph Conv Featurizer, with 21 items\n",
            "Modded Circular Fingerprint, with 21 items\n",
            "Circular Fingerprint, with 21 items\n",
            "Graph Conv Featurizer, with 21 items\n",
            "defaultdict(<class 'dict'>, {'vm2': {'Circular Fingerprint': <NumpyDataset X.shape: (21, 2048), y.shape: (21,), w.shape: (21,), ids: ['guest-s15' 'guest-s20' 'guest-3' ... 'guest-s16' 'guest-s21' 'guest-s11'], task_names: [0]>, 'Graph Conv Featurizer': <NumpyDataset X.shape: (21,), y.shape: (21,), w.shape: (21,), ids: ['guest-s15' 'guest-s20' 'guest-3' ... 'guest-s16' 'guest-s21' 'guest-s11'], task_names: [0]>, 'Modded Graph Conv Featurizer': <NumpyDataset X.shape: (21,), y.shape: (21,), w.shape: (21,), ids: ['guest-s15' 'guest-s20' 'guest-3' ... 'guest-s16' 'guest-s21' 'guest-s11'], task_names: [0]>, 'Modded Circular Fingerprint': <NumpyDataset X.shape: (21, 2049), y.shape: (21,), w.shape: (21,), ids: ['guest-s15' 'guest-s20' 'guest-3' ... 'guest-s16' 'guest-s21' 'guest-s11'], task_names: [0]>}, 'pure': {'Circular Fingerprint': <NumpyDataset X.shape: (21, 2048), y.shape: (21,), w.shape: (21,), ids: ['guest-s15' 'guest-s20' 'guest-3' ... 'guest-s16' 'guest-s21' 'guest-s11'], task_names: [0]>, 'Graph Conv Featurizer': <NumpyDataset X.shape: (21,), y.shape: (21,), w.shape: (21,), ids: ['guest-s15' 'guest-s20' 'guest-3' ... 'guest-s16' 'guest-s21' 'guest-s11'], task_names: [0]>}})\n"
          ]
        }
      ],
      "source": [
        "datasets = defaultdict(dict)\n",
        "\n",
        "#dock_types = ['vm2', 'vina', 'pure']\n",
        "dock_types = ['vm2','pure']\n",
        "for dock_type in dock_types:\n",
        "\n",
        "  if dock_type is 'vm2':\n",
        "    # selecting the vm2 datashet\n",
        "    all_features = all_features_vm2\n",
        "  elif dock_type is 'vina':\n",
        "    all_features = all_features_vina\n",
        "  elif dock_type is 'pure':\n",
        "    all_features = all_features_pure\n",
        "  else:\n",
        "    print('Whooops! ERROR')\n",
        "\n",
        "  for featureizer_type, structures in all_features.items():\n",
        "    print( f'{featureizer_type}, with {len(structures)} items' )\n",
        "    guests = []\n",
        "    features = []\n",
        "    labels = []\n",
        "    for guest, feature in structures.items():\n",
        "      guests.append( guest )\n",
        "      # Here we'll check if this particular feature is\n",
        "      # for a hybrid model, in which case we'll modify\n",
        "      # the feature vector inplace with the extracted value\n",
        "      if featureizer_type == 'Modded Graph Conv Featurizer':\n",
        "        for node in range(feature[0].num_nodes):\n",
        "          # change the final element to match the extracted VM2\n",
        "          feature[0].node_features[node][-1] = vm2_entropy[guest]\n",
        "      elif featureizer_type == 'Modded Circular Fingerprint':\n",
        "        # change the final entry to match the extracted VM2\n",
        "        feature[0][-1] = vm2_entropy[guest]\n",
        "      features.append( feature[0] )\n",
        "      labels.append( experimental_data[guest] )\n",
        "    X = numpy.stack(features, axis=0)\n",
        "    y = numpy.stack(labels, axis=0)\n",
        "    ids = numpy.stack(guests,axis=0)\n",
        "    # produce the actual Deepchem dataset\n",
        "    datasets[dock_type][featureizer_type] = deepchem.data.NumpyDataset(X=X, y=y, ids=ids)\n",
        "\n",
        "  # Copy Dataset for other applicable models\n",
        "  if featureizer_type == 'Circular Fingerprint':\n",
        "    print(f'Copying {featureizer_type} for Linear Regression')\n",
        "    datasets[dock_type]['Linear Regression'] = deepchem.data.NumpyDataset(X=X, y=y, ids=ids)\n",
        "\n",
        "print( datasets )"
      ]
    },
    {
      "cell_type": "markdown",
      "metadata": {
        "id": "gzNSojFchNpW"
      },
      "source": [
        "\n",
        "\n",
        "---\n",
        "\n",
        "Now that we've collected all our data, we must develop the models to consume the cleaned up data. This data is directly from the "
      ]
    },
    {
      "cell_type": "markdown",
      "metadata": {
        "id": "UfSsUNOZdOqe"
      },
      "source": [
        "The simplest model is a linear logistic regression, we'll use sklearn's built in model for this one."
      ]
    },
    {
      "cell_type": "code",
      "execution_count": 79,
      "metadata": {
        "id": "0tec3j4zdZ7d"
      },
      "outputs": [],
      "source": [
        "from sklearn.linear_model import LinearRegression\n",
        "sklearn_model = LinearRegression()\n",
        "linear_model = deepchem.models.SklearnModel(sklearn_model)"
      ]
    },
    {
      "cell_type": "markdown",
      "metadata": {
        "id": "92rtrx4MPmp2"
      },
      "source": [
        "For our 'enhanced' base line, we'll utilize a regular Deep Learning model with basic regularization. We'll adjust the model to find the model with the "
      ]
    },
    {
      "cell_type": "code",
      "execution_count": 88,
      "metadata": {
        "id": "c0xAwxN62hEM"
      },
      "outputs": [],
      "source": [
        "class DNN_Regression_Model(torch.nn.Module):\n",
        "\n",
        "  def __init__(self, input_feature_size=2048, hidden_layers=1, units=1000, dropout=0.5, **kwargs):\n",
        "    # Do regular init stuff in torch.nn.Module\n",
        "    super(DNN_Regression_Model, self).__init__()\n",
        "\n",
        "    # Keep track of Hyperparams\n",
        "    self.layer_count = hidden_layers + 1 #for input layer\n",
        "    self.units = units\n",
        "    self.dropout = dropout\n",
        "\n",
        "    # Create the layers\n",
        "    self.layers = torch.nn.ModuleList()\n",
        "    for i in range(self.layer_count):\n",
        "      if i == 0: # Input Layer\n",
        "        self.layers.append( torch.nn.Linear(input_feature_size, units) )\n",
        "      elif i < self.layer_count - 1: # Hidden Layers\n",
        "        self.layers.append( torch.nn.Linear(units, units) )\n",
        "      else: # Output Layer (regression)\n",
        "        self.layers.append( torch.nn.Linear(units, 1) )\n",
        " \n",
        "  def forward(self, inputs):\n",
        "    y = None\n",
        "\n",
        "    for layer in range(self.layer_count):\n",
        "      if layer == 0: # Input Layer\n",
        "        y = torch.nn.functional.relu( self.layers[layer](inputs) )\n",
        "      else: # All other layers\n",
        "        y = torch.nn.functional.relu( self.layers[layer](y) )\n",
        "      \n",
        "      if layer < self.layer_count - 1: # Every Layer BUT Output layer\n",
        "        y = torch.nn.functional.dropout(y, p=self.dropout, training=self.training)\n",
        "      else: # Output Layer\n",
        "        y = torch.sigmoid(y)\n",
        "\n",
        "    return y\n",
        "\n",
        "# Finalize the model, via TorchModel\n",
        "# by creating an instance of the model, coupled with a basic L2 Loss function\n",
        "# Torch Model then overlays a learning algo ontop both (Adam w/ default settings)\n",
        "# (inserted tuning parameters)\n",
        "dnn_hyperparams = {'dropout': 0.9, 'learning_rate': 0.001, 'layers': 1, 'units': 2000}\n",
        "dnn_torch_model = DNN_Regression_Model(**dnn_hyperparams)\n",
        "DNN_Model = deepchem.models.TorchModel(dnn_torch_model, deepchem.models.losses.L2Loss(), log_frequency=1, **dnn_hyperparams)\n",
        "\n",
        "# Finally the physics guided version (inserted optimized parameters from tuning)\n",
        "pgnn_dnn_torch_model = DNN_Regression_Model(input_feature_size=2049, **dnn_hyperparams)\n",
        "PGNN_DNN_Model = deepchem.models.TorchModel(pgnn_dnn_torch_model, deepchem.models.losses.L2Loss(), log_frequency=1, **dnn_hyperparams)"
      ]
    },
    {
      "cell_type": "markdown",
      "metadata": {
        "id": "5Y-flWSXlX4n"
      },
      "source": [
        "For now, we'll use the boxed GCN model from deepchem in regression mode. It's about the same as above, but with the fit working correctly. The above needs a fit function that correctly handles the graph data."
      ]
    },
    {
      "cell_type": "code",
      "execution_count": 89,
      "metadata": {
        "id": "wv6gmB-ljB6C"
      },
      "outputs": [],
      "source": [
        "# tuned from a grid search of the hyperparameter optimization (below)\n",
        "gcn_hyperparams = {'dropout': 0.2, 'predictor_dropout': 0.2, 'learning_rate': 0.0001, 'predictor_hidden_feats': 640}\n",
        "\n",
        "GCN_Model_PGENN = deepchem.models.GCNModel(mode='regression', number_atom_features=31, n_tasks=1, log_frequency=1, **gcn_hyperparams)\n",
        "GCN_Model = deepchem.models.GCNModel(mode='regression', number_atom_features=30, n_tasks=1, log_frequency=1, **gcn_hyperparams)"
      ]
    },
    {
      "cell_type": "markdown",
      "metadata": {
        "id": "6jwc_0usjwWX"
      },
      "source": [
        "To understand how the some regular learning based methods stack up, we'll run each model through the same metrics collection, using the same data. "
      ]
    },
    {
      "cell_type": "code",
      "execution_count": 117,
      "metadata": {
        "colab": {
          "base_uri": "https://localhost:8080/",
          "height": 1000
        },
        "id": "Boax6Fsi_SjH",
        "outputId": "67481d08-ec5f-447a-c2c8-0a1eddd5dbc8"
      },
      "outputs": [
        {
          "output_type": "stream",
          "name": "stdout",
          "text": [
            "random split, defaults to 80%:20%\n",
            "training with data from vm2 for: Circular Fingerprint\n",
            "collected data for fold 0\n",
            "collected data for fold 1\n",
            "collected data for fold 2\n",
            "collected data for fold 3\n",
            "collected data for fold 4\n",
            "collected data for fold 5\n",
            "collected data for fold 6\n",
            "collected data for fold 7\n",
            "collected data for fold 8\n",
            "collected data for fold 9\n",
            "training with data from vm2 for: Graph Conv Featurizer\n"
          ]
        },
        {
          "output_type": "stream",
          "name": "stderr",
          "text": [
            "/usr/local/lib/python3.7/site-packages/torch/amp/autocast_mode.py:198: UserWarning: User provided device_type of 'cuda', but CUDA is not available. Disabling\n",
            "  warnings.warn('User provided device_type of \\'cuda\\', but CUDA is not available. Disabling')\n"
          ]
        },
        {
          "output_type": "stream",
          "name": "stdout",
          "text": [
            "collected data for fold 0\n"
          ]
        },
        {
          "output_type": "stream",
          "name": "stderr",
          "text": [
            "/usr/local/lib/python3.7/site-packages/torch/amp/autocast_mode.py:198: UserWarning: User provided device_type of 'cuda', but CUDA is not available. Disabling\n",
            "  warnings.warn('User provided device_type of \\'cuda\\', but CUDA is not available. Disabling')\n"
          ]
        },
        {
          "output_type": "stream",
          "name": "stdout",
          "text": [
            "collected data for fold 1\n"
          ]
        },
        {
          "output_type": "stream",
          "name": "stderr",
          "text": [
            "/usr/local/lib/python3.7/site-packages/torch/amp/autocast_mode.py:198: UserWarning: User provided device_type of 'cuda', but CUDA is not available. Disabling\n",
            "  warnings.warn('User provided device_type of \\'cuda\\', but CUDA is not available. Disabling')\n"
          ]
        },
        {
          "output_type": "stream",
          "name": "stdout",
          "text": [
            "collected data for fold 2\n"
          ]
        },
        {
          "output_type": "stream",
          "name": "stderr",
          "text": [
            "/usr/local/lib/python3.7/site-packages/torch/amp/autocast_mode.py:198: UserWarning: User provided device_type of 'cuda', but CUDA is not available. Disabling\n",
            "  warnings.warn('User provided device_type of \\'cuda\\', but CUDA is not available. Disabling')\n"
          ]
        },
        {
          "output_type": "stream",
          "name": "stdout",
          "text": [
            "collected data for fold 3\n"
          ]
        },
        {
          "output_type": "stream",
          "name": "stderr",
          "text": [
            "/usr/local/lib/python3.7/site-packages/torch/amp/autocast_mode.py:198: UserWarning: User provided device_type of 'cuda', but CUDA is not available. Disabling\n",
            "  warnings.warn('User provided device_type of \\'cuda\\', but CUDA is not available. Disabling')\n"
          ]
        },
        {
          "output_type": "stream",
          "name": "stdout",
          "text": [
            "collected data for fold 4\n"
          ]
        },
        {
          "output_type": "stream",
          "name": "stderr",
          "text": [
            "/usr/local/lib/python3.7/site-packages/torch/amp/autocast_mode.py:198: UserWarning: User provided device_type of 'cuda', but CUDA is not available. Disabling\n",
            "  warnings.warn('User provided device_type of \\'cuda\\', but CUDA is not available. Disabling')\n"
          ]
        },
        {
          "output_type": "stream",
          "name": "stdout",
          "text": [
            "collected data for fold 5\n"
          ]
        },
        {
          "output_type": "stream",
          "name": "stderr",
          "text": [
            "/usr/local/lib/python3.7/site-packages/torch/amp/autocast_mode.py:198: UserWarning: User provided device_type of 'cuda', but CUDA is not available. Disabling\n",
            "  warnings.warn('User provided device_type of \\'cuda\\', but CUDA is not available. Disabling')\n"
          ]
        },
        {
          "output_type": "stream",
          "name": "stdout",
          "text": [
            "collected data for fold 6\n"
          ]
        },
        {
          "output_type": "stream",
          "name": "stderr",
          "text": [
            "/usr/local/lib/python3.7/site-packages/torch/amp/autocast_mode.py:198: UserWarning: User provided device_type of 'cuda', but CUDA is not available. Disabling\n",
            "  warnings.warn('User provided device_type of \\'cuda\\', but CUDA is not available. Disabling')\n"
          ]
        },
        {
          "output_type": "stream",
          "name": "stdout",
          "text": [
            "collected data for fold 7\n"
          ]
        },
        {
          "output_type": "stream",
          "name": "stderr",
          "text": [
            "/usr/local/lib/python3.7/site-packages/torch/amp/autocast_mode.py:198: UserWarning: User provided device_type of 'cuda', but CUDA is not available. Disabling\n",
            "  warnings.warn('User provided device_type of \\'cuda\\', but CUDA is not available. Disabling')\n"
          ]
        },
        {
          "output_type": "stream",
          "name": "stdout",
          "text": [
            "collected data for fold 8\n"
          ]
        },
        {
          "output_type": "stream",
          "name": "stderr",
          "text": [
            "/usr/local/lib/python3.7/site-packages/torch/amp/autocast_mode.py:198: UserWarning: User provided device_type of 'cuda', but CUDA is not available. Disabling\n",
            "  warnings.warn('User provided device_type of \\'cuda\\', but CUDA is not available. Disabling')\n",
            "WARNING:matplotlib.legend:No handles with labels found to put in legend.\n"
          ]
        },
        {
          "output_type": "stream",
          "name": "stdout",
          "text": [
            "collected data for fold 9\n",
            "training with data from vm2 for: Modded Graph Conv Featurizer\n"
          ]
        },
        {
          "output_type": "stream",
          "name": "stderr",
          "text": [
            "/usr/local/lib/python3.7/site-packages/torch/amp/autocast_mode.py:198: UserWarning: User provided device_type of 'cuda', but CUDA is not available. Disabling\n",
            "  warnings.warn('User provided device_type of \\'cuda\\', but CUDA is not available. Disabling')\n"
          ]
        },
        {
          "output_type": "stream",
          "name": "stdout",
          "text": [
            "collected data for fold 0\n"
          ]
        },
        {
          "output_type": "stream",
          "name": "stderr",
          "text": [
            "/usr/local/lib/python3.7/site-packages/torch/amp/autocast_mode.py:198: UserWarning: User provided device_type of 'cuda', but CUDA is not available. Disabling\n",
            "  warnings.warn('User provided device_type of \\'cuda\\', but CUDA is not available. Disabling')\n"
          ]
        },
        {
          "output_type": "stream",
          "name": "stdout",
          "text": [
            "collected data for fold 1\n"
          ]
        },
        {
          "output_type": "stream",
          "name": "stderr",
          "text": [
            "/usr/local/lib/python3.7/site-packages/torch/amp/autocast_mode.py:198: UserWarning: User provided device_type of 'cuda', but CUDA is not available. Disabling\n",
            "  warnings.warn('User provided device_type of \\'cuda\\', but CUDA is not available. Disabling')\n"
          ]
        },
        {
          "output_type": "stream",
          "name": "stdout",
          "text": [
            "collected data for fold 2\n"
          ]
        },
        {
          "output_type": "stream",
          "name": "stderr",
          "text": [
            "/usr/local/lib/python3.7/site-packages/torch/amp/autocast_mode.py:198: UserWarning: User provided device_type of 'cuda', but CUDA is not available. Disabling\n",
            "  warnings.warn('User provided device_type of \\'cuda\\', but CUDA is not available. Disabling')\n"
          ]
        },
        {
          "output_type": "stream",
          "name": "stdout",
          "text": [
            "collected data for fold 3\n"
          ]
        },
        {
          "output_type": "stream",
          "name": "stderr",
          "text": [
            "/usr/local/lib/python3.7/site-packages/torch/amp/autocast_mode.py:198: UserWarning: User provided device_type of 'cuda', but CUDA is not available. Disabling\n",
            "  warnings.warn('User provided device_type of \\'cuda\\', but CUDA is not available. Disabling')\n"
          ]
        },
        {
          "output_type": "stream",
          "name": "stdout",
          "text": [
            "collected data for fold 4\n"
          ]
        },
        {
          "output_type": "stream",
          "name": "stderr",
          "text": [
            "/usr/local/lib/python3.7/site-packages/torch/amp/autocast_mode.py:198: UserWarning: User provided device_type of 'cuda', but CUDA is not available. Disabling\n",
            "  warnings.warn('User provided device_type of \\'cuda\\', but CUDA is not available. Disabling')\n"
          ]
        },
        {
          "output_type": "stream",
          "name": "stdout",
          "text": [
            "collected data for fold 5\n"
          ]
        },
        {
          "output_type": "stream",
          "name": "stderr",
          "text": [
            "/usr/local/lib/python3.7/site-packages/torch/amp/autocast_mode.py:198: UserWarning: User provided device_type of 'cuda', but CUDA is not available. Disabling\n",
            "  warnings.warn('User provided device_type of \\'cuda\\', but CUDA is not available. Disabling')\n"
          ]
        },
        {
          "output_type": "stream",
          "name": "stdout",
          "text": [
            "collected data for fold 6\n"
          ]
        },
        {
          "output_type": "stream",
          "name": "stderr",
          "text": [
            "/usr/local/lib/python3.7/site-packages/torch/amp/autocast_mode.py:198: UserWarning: User provided device_type of 'cuda', but CUDA is not available. Disabling\n",
            "  warnings.warn('User provided device_type of \\'cuda\\', but CUDA is not available. Disabling')\n"
          ]
        },
        {
          "output_type": "stream",
          "name": "stdout",
          "text": [
            "collected data for fold 7\n"
          ]
        },
        {
          "output_type": "stream",
          "name": "stderr",
          "text": [
            "/usr/local/lib/python3.7/site-packages/torch/amp/autocast_mode.py:198: UserWarning: User provided device_type of 'cuda', but CUDA is not available. Disabling\n",
            "  warnings.warn('User provided device_type of \\'cuda\\', but CUDA is not available. Disabling')\n"
          ]
        },
        {
          "output_type": "stream",
          "name": "stdout",
          "text": [
            "collected data for fold 8\n"
          ]
        },
        {
          "output_type": "stream",
          "name": "stderr",
          "text": [
            "/usr/local/lib/python3.7/site-packages/torch/amp/autocast_mode.py:198: UserWarning: User provided device_type of 'cuda', but CUDA is not available. Disabling\n",
            "  warnings.warn('User provided device_type of \\'cuda\\', but CUDA is not available. Disabling')\n",
            "WARNING:matplotlib.legend:No handles with labels found to put in legend.\n"
          ]
        },
        {
          "output_type": "stream",
          "name": "stdout",
          "text": [
            "collected data for fold 9\n",
            "training with data from vm2 for: Modded Circular Fingerprint\n",
            "collected data for fold 0\n",
            "collected data for fold 1\n",
            "collected data for fold 2\n",
            "collected data for fold 3\n",
            "collected data for fold 4\n",
            "collected data for fold 5\n",
            "collected data for fold 6\n",
            "collected data for fold 7\n",
            "collected data for fold 8\n",
            "collected data for fold 9\n"
          ]
        },
        {
          "output_type": "display_data",
          "data": {
            "text/plain": [
              "<Figure size 432x288 with 1 Axes>"
            ],
            "image/png": "[encoded data removed]"
          },
          "metadata": {
            "needs_background": "light"
          }
        },
        {
          "output_type": "display_data",
          "data": {
            "text/plain": [
              "<Figure size 432x288 with 1 Axes>"
            ],
            "image/png": "[encoded data removed]"
          },
          "metadata": {
            "needs_background": "light"
          }
        },
        {
          "output_type": "display_data",
          "data": {
            "text/plain": [
              "<Figure size 432x288 with 1 Axes>"
            ],
            "image/png": "[encoded data removed]"
          },
          "metadata": {
            "needs_background": "light"
          }
        },
        {
          "output_type": "display_data",
          "data": {
            "text/plain": [
              "<Figure size 432x288 with 1 Axes>"
            ],
            "image/png": "[encoded data removed]"
          },
          "metadata": {
            "needs_background": "light"
          }
        },
        {
          "output_type": "display_data",
          "data": {
            "text/plain": [
              "<Figure size 432x288 with 1 Axes>"
            ],
            "image/png": "[encoded data removed]"
          },
          "metadata": {
            "needs_background": "light"
          }
        }
      ],
      "source": [
        "model_lookup = {\n",
        "        'pure': {\n",
        "            'Circular Fingerprint': 'DNN',\n",
        "            'Graph Conv Featurizer': 'GCN'\n",
        "        },\n",
        "        'vm2': {\n",
        "            'Circular Fingerprint': 'Min DNN',\n",
        "            'Graph Conv Featurizer': 'Min GCN',\n",
        "            'Modded Graph Conv Featurizer': 'PGGCN',\n",
        "            'Modded Circular Fingerprint': 'PGDNN'\n",
        "        }\n",
        "}\n",
        "\n",
        "# Creating a RandomSplitter object\n",
        "print('random split, defaults to 80%:20%')\n",
        "splitter = deepchem.splits.RandomSplitter()\n",
        "losses = defaultdict(dict)\n",
        "\n",
        "# Our goal is to use the limited data we have in\n",
        "# multiple folds, known as k-fold validation\n",
        "K = 10\n",
        "\n",
        "# Finally, the metrics we want to eval each model\n",
        "# performance perfold\n",
        "metrics = [\n",
        "    #deepchem.metrics.Metric(deepchem.metrics.r2_score, mode='regression'),\n",
        "    deepchem.metrics.Metric(deepchem.metrics.rms_score, mode='regression'),\n",
        "    #deepchem.metrics.Metric(deepchem.metrics.mean_squared_error, mode='regression'),\n",
        "    #deepchem.metrics.Metric(deepchem.metrics.mean_absolute_error, mode='regression'),\n",
        "    #deepchem.metrics.Metric(deepchem.metrics.pearson_r2_score, mode='regression'),\n",
        "    #deepchem.metrics.Metric(deepchem.metrics.mae_score, mode='regression'),\n",
        "    #deepchem.metrics.Metric(deepchem.metrics.concordance_index, mode='regression') \n",
        "]\n",
        "\n",
        "metrics_data = defaultdict(dict)\n",
        "dataset_data = defaultdict(dict)\n",
        "metrics_by_guest = defaultdict(dict)\n",
        "\n",
        "for dock_type, input_datasets in datasets.items():\n",
        "  # shortcut to disable docking for specific types (say just vm2)\n",
        "  if dock_type != 'vm2':\n",
        "    continue\n",
        "\n",
        "  # we'll collect data per fold as well to graph out!\n",
        "  import matplotlib.pyplot as plt\n",
        "  from sklearn.metrics import mean_squared_error\n",
        "  fig, ax = plt.subplots()\n",
        "  labels = []\n",
        "  x = []\n",
        "  y = []\n",
        "  system_to_xtick = {}\n",
        "  counter = 0\n",
        "\n",
        "  for featureizer_type, dataset in input_datasets.items():\n",
        "    print(f'training with data from {dock_type} for: {featureizer_type}')\n",
        "    model = None # Will be populated based on Featurizer\n",
        "    \n",
        "    if featureizer_type == 'Circular Fingerprint':\n",
        "      dnn_torch_model = DNN_Regression_Model(**dnn_hyperparams)\n",
        "      DNN_Model = deepchem.models.TorchModel(dnn_torch_model, deepchem.models.losses.L2Loss(), log_frequency=1, **dnn_hyperparams)\n",
        "      model = DNN_Model\n",
        "      # continue; # skip for now, note VM2 DNN gets replaced w/ Pure\n",
        "      \n",
        "    elif featureizer_type == 'Graph Conv Featurizer':\n",
        "      GCN_Model = deepchem.models.GCNModel(mode='regression', number_atom_features=30, n_tasks=1, log_frequency=1, **gcn_hyperparams)\n",
        "      model = GCN_Model\n",
        "      # continue; # skip for now, note VM2 DNN gets replaced w/ Pure\n",
        "\n",
        "    elif featureizer_type == 'Modded Graph Conv Featurizer':\n",
        "      GCN_Model_PGENN = deepchem.models.GCNModel(mode='regression', number_atom_features=31, n_tasks=1, log_frequency=1, **gcn_hyperparams)\n",
        "      model = GCN_Model_PGENN\n",
        "\n",
        "    elif featureizer_type == 'Modded Circular Fingerprint':\n",
        "      pgnn_dnn_torch_model = DNN_Regression_Model(input_feature_size=2049, **dnn_hyperparams)\n",
        "      PGNN_DNN_Model = deepchem.models.TorchModel(pgnn_dnn_torch_model, deepchem.models.losses.L2Loss(), log_frequency=1, **dnn_hyperparams)\n",
        "      model = PGNN_DNN_Model\n",
        "\n",
        "    elif featureizer_type == 'Linear Regression':\n",
        "      model = linear_model\n",
        "      # continue; # skip for now\n",
        "    \n",
        "    # instead of doing a single test/train split, we'll do folding instead\n",
        "    #train_dataset, test_dataset = splitter.train_test_split(dataset)\n",
        "\n",
        "    # We'll collect the folds, and perfold, train / Eval the model\n",
        "    folds = splitter.k_fold_split(dataset, K)\n",
        "    metrics_data[dock_type][featureizer_type] = {}\n",
        "    dataset_data[dock_type][featureizer_type] = {}\n",
        "    losses[dock_type][featureizer_type] = defaultdict(list)\n",
        "    metrics_by_guest[dock_type][featureizer_type] = defaultdict(dict)\n",
        "\n",
        "    for fold_id, fold_dataset in enumerate(folds):\n",
        "      train_dataset, test_dataset = fold_dataset\n",
        "      if 'Linear Regression' not in featureizer_type:\n",
        "        model.fit(train_dataset, nb_epoch=100, all_losses=losses[dock_type][featureizer_type][fold_id], restore = False)\n",
        "      else:\n",
        "        model.fit(train_dataset, restore = False)\n",
        "\n",
        "      # try out the trained model across \n",
        "      for input, true_data, weight, id in dataset.itersamples():\n",
        "        if id not in system_to_xtick:\n",
        "          system_to_xtick[id] = counter\n",
        "          x.append(counter)\n",
        "          labels.append(id)\n",
        "          counter += 1\n",
        "          y.append(0)\n",
        "\n",
        "        if 'Circular Fingerprint' in featureizer_type:\n",
        "          data_size = dataset.X.shape[1]\n",
        "          prediction = model.predict(deepchem.data.NumpyDataset(input.reshape(1,data_size)))[0][0]\n",
        "          y[system_to_xtick[id]] = mean_squared_error( [prediction], [true_data], squared = False )\n",
        "          #metrics_by_guest[dock_type][featureizer_type][fold_id][id] = y[system_to_xtick[id]] # save the data from this set\n",
        "        else:\n",
        "          pass\n",
        "          #y[system_to_xtick[id]] = model.predict(deepchem.feat.GraphData(input))[0][0]\n",
        "      \n",
        "      # extract out the test data results\n",
        "      predictions = model.predict(test_dataset);\n",
        "      \n",
        "      for index, ( input, true_data, weight, id ) in enumerate( test_dataset.itersamples() ):\n",
        "        metrics_by_guest[dock_type][featureizer_type][fold_id][id] = mean_squared_error( predictions[index], [true_data], squared = False ) # save the data from this set\n",
        "\n",
        "      if 'Circular Fingerprint' in featureizer_type:\n",
        "        ax.scatter(x, y, label=fold_id)\n",
        "\n",
        "      # record the data for extraction later\n",
        "      metrics_data[dock_type][featureizer_type][fold_id] = (model.evaluate(train_dataset, metrics),model.evaluate(test_dataset, metrics))\n",
        "      dataset_data[dock_type][featureizer_type][fold_id] = (train_dataset, test_dataset)\n",
        "\n",
        "      print(f'collected data for fold {fold_id}')\n",
        "      # break # for debug\n",
        "\n",
        "    ax.set_ylabel('RMSE(kcal/mol)')\n",
        "    ax.set_xlabel('Host-Guest System')\n",
        "    ax.set(ylim=(0, 0.6))\n",
        "    ax.set_title(f'{model_lookup[dock_type][featureizer_type]} Entropy Error vs. Host-Guest Systems')\n",
        "    ax.legend()\n",
        "    plt.xticks(x, labels, rotation='vertical', label='physical')\n",
        "    plt.savefig(f'{dock_type}_{featureizer_type}.png')\n",
        "\n",
        "    # Generate a new figure\n",
        "    fig, ax = plt.subplots()\n",
        "    labels = []\n",
        "    x = []\n",
        "    y = []\n",
        "    system_to_xtick = {}\n",
        "    counter = 0"
      ]
    },
    {
      "cell_type": "code",
      "source": [
        "# extract out the data per guest from the above data\n",
        "extracted_data_by_guest = defaultdict(dict)\n",
        "for dock_type in dataset_data:\n",
        "  for model_type in dataset_data[dock_type]:\n",
        "    extracted_data_by_guest[dock_type][model_type] = defaultdict(list)\n",
        "    for fold_id, datasets_from_fold in dataset_data[dock_type][model_type].items():\n",
        "      train, test = datasets_from_fold\n",
        "      for input, true_data, weight, id in test.itersamples():\n",
        "        if id not in metrics_by_guest[dock_type][model_type][fold_id]:\n",
        "          print(f'missed {id} in fold {fold_id} of {model_type} {dock_type}')\n",
        "        else:\n",
        "          extracted_data_by_guest[dock_type][model_type][id].append( metrics_by_guest[dock_type][model_type][fold_id][id] )\n",
        "print( extracted_data_by_guest )"
      ],
      "metadata": {
        "colab": {
          "base_uri": "https://localhost:8080/"
        },
        "id": "AluSatuNcxjP",
        "outputId": "0a6d0cfc-4647-4bdb-eea0-6e5cc1377091"
      },
      "execution_count": 118,
      "outputs": [
        {
          "output_type": "stream",
          "name": "stdout",
          "text": [
            "defaultdict(<class 'dict'>, {'vm2': {'Circular Fingerprint': defaultdict(<class 'list'>, {'guest-s14': [0.13467645835876407], 'guest-s21': [0.3009999999999997], 'guest-7': [0.48], 'guest-1': [0.01231565952301028], 'guest-s15': [0.10435175991058365], 'guest-2': [0.014944786548614974], 'guest-4': [0.028546199798584304], 'guest-s19': [0.04865577125549292], 'guest-s10': [0.008546820640564112], 'guest-s18': [0.3460000000000001], 'guest-6': [0.07385076189041118], 'guest-3': [0.271741358280182], 'guest-s9': [0.008578488826751496], 'guest-5': [0.033808786869048646], 'guest-s13': [0.08831411695480362], 'guest-s12': [0.014406696319579915], 'guest-s11': [0.08761173725128213], 'guest-8': [0.2320000000000002], 'guest-s22': [0.015152736186981652], 'guest-s16': [0.011418774604797566], 'guest-s20': [0.15100000000000025]}), 'Graph Conv Featurizer': defaultdict(<class 'list'>, {'guest-s21': [0.06101113462448149], 'guest-s20': [0.20158120298385596], 'guest-8': [0.09918818545341512], 'guest-s13': [0.27891886329650895], 'guest-s14': [0.039231596469879726], 'guest-s22': [0.43420122432708785], 'guest-s15': [0.012356578350066982], 'guest-s9': [0.2771295404434202], 'guest-2': [0.04087830114364577], 'guest-4': [0.1098485732078549], 'guest-1': [0.18463328361511233], 'guest-7': [0.6349013257026672], 'guest-5': [0.3760671806335445], 'guest-s12': [0.18068887329101546], 'guest-s16': [0.2014765591621397], 'guest-s18': [0.6269651494026185], 'guest-s10': [0.00117646789550796], 'guest-3': [0.0319416799545289], 'guest-s11': [0.3698155903816227], 'guest-s19': [0.03854653930664087], 'guest-6': [0.30330963039398173]}), 'Modded Graph Conv Featurizer': defaultdict(<class 'list'>, {'guest-s21': [0.2610089192390439], 'guest-s10': [0.38898204898834243], 'guest-8': [0.13844925832748434], 'guest-s15': [0.14876943731307968], 'guest-s11': [0.09840005874633828], 'guest-6': [0.4568554868698118], 'guest-s20': [0.16177920198440576], 'guest-5': [0.2740991902351375], 'guest-s18': [0.4997984013557435], 'guest-7': [0.6615563440322876], 'guest-3': [0.10819259071350107], 'guest-s22': [0.21098713445663497], 'guest-2': [0.14538741636276198], 'guest-1': [0.27530822038650515], 'guest-s9': [0.06244016647338846], 'guest-s14': [0.25983637762069645], 'guest-s19': [0.0033312807083132334], 'guest-4': [0.30073256731033293], 'guest-s13': [0.054277359485626064], 'guest-s12': [0.02727688884735091], 'guest-s16': [0.13487426948547343]}), 'Modded Circular Fingerprint': defaultdict(<class 'list'>, {'guest-s12': [0.10723568534851058], 'guest-s21': [0.3009999999999997], 'guest-s14': [0.16143816900253238], 'guest-6': [0.34041995906829814], 'guest-s19': [0.07194467687606787], 'guest-5': [0.03382964849472003], 'guest-s11': [0.12112438917160073], 'guest-8': [0.2320000000000002], 'guest-s20': [0.15100000000000025], 'guest-3': [0.273410526752472], 'guest-4': [0.07956092119216951], 'guest-2': [0.037057871341705795], 'guest-s16': [0.017372474193572796], 'guest-s15': [0.09503930902481095], 'guest-s18': [0.3460000000000001], 'guest-s22': [0.026540474414824988], 'guest-7': [0.48], 'guest-1': [0.009471623897552517], 'guest-s13': [0.07377445793151871], 'guest-s9': [0.011572549343108918], 'guest-s10': [0.0057696018218995615]})}})\n"
          ]
        }
      ]
    },
    {
      "cell_type": "code",
      "source": [
        "# convert the extracted data into something that matplot lib likes\n",
        "import matplotlib.pyplot as plt\n",
        "from sklearn.metrics import mean_squared_error\n",
        "import matplotlib.ticker as ticker\n",
        "import numpy as np\n",
        "\n",
        "# to get rid of negative signs in y axis, we'll use tick formatter\n",
        "@ticker.FuncFormatter\n",
        "def major_formatter(x, pos):\n",
        "    label = str(round(abs(-x), 2)) if x < 0 else str(round(x,2))\n",
        "    return label\n",
        "\n",
        "# model lookup info for this figure\n",
        "model_lookup = {\n",
        "        'pure': {\n",
        "            'Circular Fingerprint': 'DNN',\n",
        "            'Graph Conv Featurizer': 'GCN'\n",
        "        },\n",
        "        'vm2': {\n",
        "            'Circular Fingerprint': 'Min DNN',\n",
        "            'Graph Conv Featurizer': 'Min GCN',\n",
        "            'Modded Graph Conv Featurizer': 'PGGCN',\n",
        "            'Modded Circular Fingerprint': 'PGDNN'\n",
        "        }\n",
        "}\n",
        "\n",
        "plotting_data = defaultdict(dict)\n",
        "\n",
        "# Generate a new figure\n",
        "labels = []\n",
        "x = []\n",
        "y = []\n",
        "xtick_to_system = {}\n",
        "figures = {}\n",
        "\n",
        "# setup for this collection run\n",
        "for index, ( structure, expected_val ) in enumerate( experimental_data.items() ):\n",
        "  x.append(index)\n",
        "  labels.append(structure)\n",
        "  xtick_to_system[structure] = index\n",
        "  y.append(0)\n",
        "\n",
        "for dock_type in dataset_data:\n",
        "  for model_type in dataset_data[dock_type]:\n",
        "\n",
        "    # only create a NEW plot on non-modified features\n",
        "    if 'Modded' in model_type:\n",
        "      print(f'MODDED! loaded previously generated figure {model_type}')\n",
        "      if 'Circular' in model_type:\n",
        "        fig, ax = figures['Circular Fingerprint']\n",
        "      elif 'Graph Conv Featurizer' in model_type:\n",
        "        fig, ax = figures['Graph Conv Featurizer']\n",
        "    else:\n",
        "      # plot using matplot lib\n",
        "      # we'll collect data per fold as well to graph out!\n",
        "      fig, ax = plt.subplots()\n",
        "      ax.legend()\n",
        "      ax.grid(True)\n",
        "      ax.yaxis.set_major_formatter(major_formatter)\n",
        "      figures[model_type] = (fig, ax)\n",
        "      plt.xticks(x, labels, rotation='vertical', label='physical')\n",
        "      ax.set_ylabel('RMSE(kcal/mol)')\n",
        "      ax.set_xlabel('Host-Guest System')\n",
        "      title = 'Model 1' if 'Circular Fingerprint' in model_type else 'Model 2'\n",
        "      ax.set_title(f'{title} Entropy Error vs. Host-Guest System')\n",
        "\n",
        "      print( f'created figure for{model_type}' )\n",
        "\n",
        "    for id, value in extracted_data_by_guest[dock_type][model_type].items():\n",
        "      y[ xtick_to_system[id] ] = value[0] if 'Modded' not in model_type else -1*value[0]\n",
        "\n",
        "    print(model_lookup[dock_type][model_type])\n",
        "    ax.scatter(x,y,label=model_lookup[dock_type][model_type])\n",
        "\n",
        "for model_type, (fig, ax) in figures.items():\n",
        "  ax.legend()\n",
        "  fig.savefig(f'correlation_plot_{model_type}.png')\n",
        "      "
      ],
      "metadata": {
        "colab": {
          "base_uri": "https://localhost:8080/",
          "height": 832
        },
        "id": "t3yibsY-20lp",
        "outputId": "a615753d-5b23-4a67-ddf4-d5d6d60641cf"
      },
      "execution_count": 152,
      "outputs": [
        {
          "output_type": "stream",
          "name": "stderr",
          "text": [
            "WARNING:matplotlib.legend:No handles with labels found to put in legend.\n",
            "WARNING:matplotlib.legend:No handles with labels found to put in legend.\n"
          ]
        },
        {
          "output_type": "stream",
          "name": "stdout",
          "text": [
            "created figure forCircular Fingerprint\n",
            "Min DNN\n",
            "created figure forGraph Conv Featurizer\n",
            "Min GCN\n",
            "MODDED! loaded previously generated figure Modded Graph Conv Featurizer\n",
            "PGGCN\n",
            "MODDED! loaded previously generated figure Modded Circular Fingerprint\n",
            "PGDNN\n"
          ]
        },
        {
          "output_type": "display_data",
          "data": {
            "text/plain": [
              "<Figure size 432x288 with 1 Axes>"
            ],
            "image/png": "[encoded data removed]"
          },
          "metadata": {
            "needs_background": "light"
          }
        },
        {
          "output_type": "display_data",
          "data": {
            "text/plain": [
              "<Figure size 432x288 with 1 Axes>"
            ],
            "image/png": "[encoded data removed]"
          },
          "metadata": {
            "needs_background": "light"
          }
        }
      ]
    },
    {
      "cell_type": "code",
      "execution_count": 15,
      "metadata": {
        "id": "e3-5ltxcBPv2"
      },
      "outputs": [],
      "source": [
        "final_metrics = defaultdict(dict)\n",
        "\n",
        "for dock_type, metrics_for_dock in metrics_data.items():\n",
        "  for featuerizer in metrics_for_dock:\n",
        "    df = pandas.DataFrame.from_dict(metrics_data[dock_type][featuerizer])\n",
        "    training = pandas.DataFrame.from_dict( dict(df[0]) )\n",
        "    test = pandas.DataFrame.from_dict( dict(df[1]) )\n",
        "    final_metrics[dock_type][featuerizer] = (training, test)"
      ]
    },
    {
      "cell_type": "code",
      "execution_count": 150,
      "metadata": {
        "id": "oTMFRLJWN5DE",
        "colab": {
          "base_uri": "https://localhost:8080/",
          "height": 869
        },
        "outputId": "d8ab1207-df10-4516-d9e9-f4a6354145ba"
      },
      "outputs": [
        {
          "output_type": "stream",
          "name": "stdout",
          "text": [
            "VM2 Based Data (physics guided)\n",
            "Test data DNN folded 10 times: Mean\n",
            "rms_score    0.156453\n",
            "dtype: float64\n",
            "rms_score    0.096062\n",
            "dtype: float64\n",
            "Test data GCN folded 10 times: Mean\n",
            "rms_score    0.292529\n",
            "dtype: float64\n",
            "rms_score    0.115895\n",
            "dtype: float64\n",
            "Test data PGGCN folded 10 times: Mean\n",
            "rms_score    0.23201\n",
            "dtype: float64\n",
            "rms_score    0.125002\n",
            "dtype: float64\n",
            "Test data PGDNN folded 10 times: Mean\n",
            "rms_score    0.155357\n",
            "dtype: float64\n",
            "rms_score    0.107347\n",
            "dtype: float64\n"
          ]
        },
        {
          "output_type": "display_data",
          "data": {
            "text/plain": [
              "<Figure size 432x288 with 1 Axes>"
            ],
            "image/png": "[encoded data removed]"
          },
          "metadata": {
            "needs_background": "light"
          }
        },
        {
          "output_type": "stream",
          "name": "stdout",
          "text": [
            "Training data DNN folded 10 times: Mean\n",
            "rms_score    0.150367\n",
            "dtype: float64\n",
            "rms_score    0.108125\n",
            "dtype: float64\n",
            "Training data GCN folded 10 times: Mean\n",
            "rms_score    0.338702\n",
            "dtype: float64\n",
            "rms_score    0.132518\n",
            "dtype: float64\n"
          ]
        }
      ],
      "source": [
        "model_lookup = {\n",
        "    'Circular Fingerprint': 'DNN',\n",
        "    'Graph Conv Featurizer': 'GCN',\n",
        "    'Modded Graph Conv Featurizer': 'PGGCN',\n",
        "    'Modded Circular Fingerprint': 'PGDNN'\n",
        "}\n",
        "\n",
        "K = 10\n",
        "\n",
        "import matplotlib.pyplot as plt\n",
        "\n",
        "fig, ax = plt.subplots()\n",
        "\n",
        "# data to reset between runs!\n",
        "labels = []\n",
        "x = []\n",
        "y = []\n",
        "model_to_ticklabel = {}\n",
        "counter = 0\n",
        "\n",
        "print('VM2 Based Data (physics guided)')\n",
        "for model, (training_data, test_data) in final_metrics['vm2'].items():\n",
        "  if model not in model_to_ticklabel:\n",
        "    model_to_ticklabel[model_lookup[model]] = counter\n",
        "    labels.append(model_lookup[model])\n",
        "    counter += 1\n",
        "\n",
        "  for trial, item in training_data.iteritems():\n",
        "    x = model_to_ticklabel[model_lookup[model]]\n",
        "    y = item\n",
        "    ax.scatter(x, y, marker='x', label = 'train')\n",
        "\n",
        "  for trial, item in test_data.iteritems():\n",
        "    x = model_to_ticklabel[model_lookup[model]]\n",
        "    y = item\n",
        "    ax.scatter(x, y, marker='o', label = 'test')\n",
        "\n",
        "  print(f'Test data {model_lookup[model]} folded {K} times: Mean')\n",
        "  print(test_data.mean(axis=1))\n",
        "  print(test_data.std(axis=1))\n",
        "\n",
        "ax.set_ylabel('RMSE (kcal/mol)')\n",
        "ax.set_title('RMSE vs. Models across Folds')\n",
        "ax.grid(which='both', axis='y')\n",
        "\n",
        "# Minor Clean up to differenate from other DNN GCN\n",
        "for index in range(len(labels)):\n",
        "  if labels[index] == 'DNN':\n",
        "    labels[index] = 'Min DNN'\n",
        "    del model_to_ticklabel['DNN']\n",
        "  if labels[index] == 'GCN':\n",
        "    labels[index] = 'Min GCN'\n",
        "    del model_to_ticklabel['GCN']\n",
        "\n",
        "# display the data driven stuff too\n",
        "#print('Baseline - Pure')\n",
        "for model, (training_data, test_data) in final_metrics['pure'].items():\n",
        "  if model not in labels and model not in model_to_ticklabel:\n",
        "    model_to_ticklabel[model] = counter\n",
        "    labels.append(model_lookup[model])\n",
        "    counter += 1\n",
        "\n",
        "  for trial, item in training_data.iteritems():\n",
        "    x = model_to_ticklabel[model]\n",
        "    y = item\n",
        "    ax.scatter(x, y, marker='x', label = 'train')\n",
        "\n",
        "  for trial, item in test_data.iteritems():\n",
        "    x = model_to_ticklabel[model]\n",
        "    y = item\n",
        "    ax.scatter(x, y, marker='o', label = 'test')\n",
        "\n",
        "plt.xticks([x for x in range(len(labels))], labels, rotation='vertical', label='physical')\n",
        "plt.show()\n",
        "\n",
        "\n",
        "for model, (training_data, test_data) in final_metrics['pure'].items():\n",
        "  print(f'Training data {model_lookup[model]} folded {K} times: Mean')\n",
        "  print(test_data.mean(axis=1))\n",
        "  print(test_data.std(axis=1))"
      ]
    },
    {
      "cell_type": "markdown",
      "source": [
        "Instead of showing a view across all folds as a scatter plot, we'll do it as a box plot with whiskers"
      ],
      "metadata": {
        "id": "4YZsg6Uvz753"
      }
    },
    {
      "cell_type": "code",
      "source": [
        "model_lookup = {\n",
        "    'Circular Fingerprint': 'DNN',\n",
        "    'Graph Conv Featurizer': 'GCN',\n",
        "    'Modded Graph Conv Featurizer': 'PGGCN',\n",
        "    'Modded Circular Fingerprint': 'PGDNN'\n",
        "}\n",
        "\n",
        "import matplotlib.pyplot as plt\n",
        "\n",
        "fig, ax = plt.subplots()\n",
        "\n",
        "# data to reset between runs!\n",
        "labels = []\n",
        "x = []\n",
        "y = []\n",
        "model_to_ticklabel = {}\n",
        "counter = 0\n",
        "model_results = []\n",
        "\n",
        "print('VM2 Based Data (physics guided)')\n",
        "for model, (training_data, test_data) in final_metrics['vm2'].items():\n",
        "  data = []\n",
        "  if model not in model_to_ticklabel:\n",
        "    model_to_ticklabel[model_lookup[model]] = counter\n",
        "    labels.append(model_lookup[model])\n",
        "    counter += 1\n",
        "\n",
        "  for trial, item in training_data.iteritems():\n",
        "    x = model_to_ticklabel[model_lookup[model]]\n",
        "    y = item\n",
        "    #data.append(y)\n",
        "\n",
        "  for trial, item in test_data.iteritems():\n",
        "    x = model_to_ticklabel[model_lookup[model]]\n",
        "    y = item\n",
        "    data.append(y)\n",
        "\n",
        "  model_results.append(numpy.concatenate(data))\n",
        "\n",
        "  print(f'Test data {model_lookup[model]} folded {K} times: Mean')\n",
        "  print(test_data.mean(axis=1))\n",
        "ax.set_ylabel('RMSE (kcal/mol)')\n",
        "#ax.set_title('RMSE vs. Models across Folds Training Datasets')\n",
        "ax.set_title('RMSE vs. Models across Folds Testing Datasets')\n",
        "ax.grid(which='both', axis='y')\n",
        "\n",
        "# Minor Clean up to differenate from other DNN GCN\n",
        "for index in range(len(labels)):\n",
        "  if labels[index] == 'DNN':\n",
        "    labels[index] = 'Min DNN'\n",
        "    del model_to_ticklabel['DNN']\n",
        "  if labels[index] == 'GCN':\n",
        "    labels[index] = 'Min GCN'\n",
        "    del model_to_ticklabel['GCN']\n",
        "\n",
        "# display the data driven stuff too\n",
        "#print('Baseline - Pure')\n",
        "for model, (training_data, test_data) in final_metrics['pure'].items():\n",
        "  data = []\n",
        "\n",
        "  if model not in labels and model not in model_to_ticklabel:\n",
        "    model_to_ticklabel[model] = counter\n",
        "    labels.append(model_lookup[model])\n",
        "    counter += 1\n",
        "\n",
        "  for trial, item in training_data.iteritems():\n",
        "    x = model_to_ticklabel[model]\n",
        "    y = item\n",
        "    #data.append(y)\n",
        "\n",
        "  for trial, item in test_data.iteritems():\n",
        "    x = model_to_ticklabel[model]\n",
        "    y = item\n",
        "    data.append(y)\n",
        "\n",
        "  model_results.append(numpy.concatenate(data))\n",
        "\n",
        "ax.boxplot(model_results, showfliers=False)\n",
        "plt.xticks([x for x in range(1,len(labels)+1)], labels, rotation='vertical', label='physical')\n",
        "plt.show()\n",
        "\n",
        "\n",
        "for model, (training_data, test_data) in final_metrics['vm2'].items():\n",
        "  print(f'Training data {model_lookup[model]} folded {K} times: Mean')\n",
        "  print(test_data.mean(axis=1))"
      ],
      "metadata": {
        "colab": {
          "base_uri": "https://localhost:8080/",
          "height": 762
        },
        "id": "Sa0mV0Pzz7W1",
        "outputId": "1c88b947-68c6-4cdf-e512-009f9a268294"
      },
      "execution_count": 86,
      "outputs": [
        {
          "output_type": "stream",
          "name": "stdout",
          "text": [
            "VM2 Based Data (physics guided)\n",
            "Test data DNN folded 10 times: Mean\n",
            "rms_score    0.156453\n",
            "dtype: float64\n",
            "Test data GCN folded 10 times: Mean\n",
            "rms_score    0.292529\n",
            "dtype: float64\n",
            "Test data PGGCN folded 10 times: Mean\n",
            "rms_score    0.23201\n",
            "dtype: float64\n",
            "Test data PGDNN folded 10 times: Mean\n",
            "rms_score    0.155357\n",
            "dtype: float64\n"
          ]
        },
        {
          "output_type": "display_data",
          "data": {
            "text/plain": [
              "<Figure size 432x288 with 1 Axes>"
            ],
            "image/png": "[encoded data removed]"
          },
          "metadata": {
            "needs_background": "light"
          }
        },
        {
          "output_type": "stream",
          "name": "stdout",
          "text": [
            "Training data DNN folded 10 times: Mean\n",
            "rms_score    0.156453\n",
            "dtype: float64\n",
            "Training data GCN folded 10 times: Mean\n",
            "rms_score    0.292529\n",
            "dtype: float64\n",
            "Training data PGGCN folded 10 times: Mean\n",
            "rms_score    0.23201\n",
            "dtype: float64\n",
            "Training data PGDNN folded 10 times: Mean\n",
            "rms_score    0.155357\n",
            "dtype: float64\n"
          ]
        }
      ]
    },
    {
      "cell_type": "markdown",
      "source": [
        "Some code to pull out performce of the model against individual structures"
      ],
      "metadata": {
        "id": "DmcEnG6zC3sL"
      }
    },
    {
      "cell_type": "code",
      "source": [
        "model_lookup = {\n",
        "    'Circular Fingerprint': 'DNN',\n",
        "    'Graph Conv Featurizer': 'GCN',\n",
        "    'Modded Graph Conv Featurizer': 'PGGCN',\n",
        "    'Modded Circular Fingerprint': 'PGDNN',\n",
        "    'MINModded Graph Conv Featurizer': 'PGGCN',\n",
        "    'MINModded Circular Fingerprint': 'PGDNN',\n",
        "    'MINCircular Fingerprint': 'Min DNN',\n",
        "    'MINGraph Conv Featurizer': 'Min GCN',\n",
        "}\n",
        "\n",
        "import matplotlib.pyplot as plt\n",
        "from deepchem.metrics.score_function import rms_score\n",
        "\n",
        "for dataset_type, network_data in dataset_data.items():\n",
        "  for network_type, network_trials in network_data.items():\n",
        "\n",
        "    model = None # Will be populated based on Featurizer\n",
        "  \n",
        "    if network_type == 'Circular Fingerprint':\n",
        "      model = DNN_Model\n",
        "      #continue # skip, we don't save DNN model, this is actually only the PURE model\n",
        "    elif network_type == 'Graph Conv Featurizer':\n",
        "      model = GCN_Model\n",
        "      #continue # skip, we don't save GCN model, this is actually only the PURE model\n",
        "    elif network_type == 'Modded Graph Conv Featurizer':\n",
        "      model = GCN_Model_PGENN\n",
        "      continue\n",
        "    elif network_type == 'Modded Circular Fingerprint':\n",
        "      model = PGNN_DNN_Model\n",
        "      continue\n",
        "    elif network_type == 'Linear Regression':\n",
        "      model = linear_model\n",
        "      continue\n",
        "\n",
        "    fig, ax = plt.subplots()\n",
        "\n",
        "    # data to reset between runs!\n",
        "    labels = []\n",
        "    x = []\n",
        "    y = []\n",
        "    system_to_xtick = {}\n",
        "    counter = 0\n",
        "    model_results = []\n",
        "    \n",
        "    for fold, fold_data in enumerate(network_trials):\n",
        "      training_set, testing_set = fold_data\n",
        "      # print( f'testing set for {network_type} for fold {fold+1}', testing_set.ids )\n",
        "\n",
        "      data = []\n",
        "      y_hat = model.predict(testing_set)\n",
        "      \n",
        "      for index, id in enumerate( testing_set.ids ):\n",
        "\n",
        "        if id not in system_to_xtick:\n",
        "          system_to_xtick[id] = counter\n",
        "          x.append(counter)\n",
        "          labels.append(id)\n",
        "          counter += 1\n",
        "          y.append(0)\n",
        "\n",
        "        predict_val = y_hat[index]\n",
        "        true_val = testing_set.y[index]\n",
        "        y[system_to_xtick[id]] = rms_score([ true_val ], [ predict_val ])\n",
        "   \n",
        "    # modify the network_typ based on dataset_type\n",
        "    if dataset_type == 'vm2':\n",
        "      network_type = \"MIN\" + network_type\n",
        "\n",
        "    ax.scatter(x, y)\n",
        "    ax.set_ylabel('RMSE (kcal/mol)')\n",
        "    ax.set_title(f'{model_lookup[network_type]} RMSE vs. Structure across Testing Dataset')\n",
        "\n",
        "    plt.xticks([x for x in range(len(labels))], labels, rotation='vertical', label='physical')\n",
        "    ax.grid(which='both', axis='y')\n",
        "    plt.show()\n",
        "\n",
        "\n",
        "# process the results from the actual recorded metrics during training\n",
        "for model, (training_data, test_data) in final_metrics['vm2'].items():\n",
        "  print(f'Training data {model_lookup[\"MIN\"+model]} folded {K} times: Mean, Std')\n",
        "  print(test_data.mean(axis=1))\n",
        "  print(test_data.std(axis=1))\n",
        "for model, (training_data, test_data) in final_metrics['pure'].items():\n",
        "  print(f'Training data {model_lookup[model]} folded {K} times: Mean, Std')\n",
        "  print(test_data.mean(axis=1))\n",
        "  print(test_data.std(axis=1))"
      ],
      "metadata": {
        "colab": {
          "base_uri": "https://localhost:8080/"
        },
        "outputId": "8afaea4f-d772-4c30-870b-0f9b58078d49",
        "id": "gTCgVGxIC1S4"
      },
      "execution_count": 85,
      "outputs": [
        {
          "output_type": "stream",
          "name": "stdout",
          "text": [
            "Training data Min DNN folded 10 times: Mean, Std\n",
            "rms_score    0.156453\n",
            "dtype: float64\n",
            "rms_score    0.096062\n",
            "dtype: float64\n",
            "Training data Min GCN folded 10 times: Mean, Std\n",
            "rms_score    0.292529\n",
            "dtype: float64\n",
            "rms_score    0.115895\n",
            "dtype: float64\n",
            "Training data PGGCN folded 10 times: Mean, Std\n",
            "rms_score    0.23201\n",
            "dtype: float64\n",
            "rms_score    0.125002\n",
            "dtype: float64\n",
            "Training data PGDNN folded 10 times: Mean, Std\n",
            "rms_score    0.155357\n",
            "dtype: float64\n",
            "rms_score    0.107347\n",
            "dtype: float64\n",
            "Training data DNN folded 10 times: Mean, Std\n",
            "rms_score    0.150367\n",
            "dtype: float64\n",
            "rms_score    0.108125\n",
            "dtype: float64\n",
            "Training data GCN folded 10 times: Mean, Std\n",
            "rms_score    0.338702\n",
            "dtype: float64\n",
            "rms_score    0.132518\n",
            "dtype: float64\n"
          ]
        }
      ]
    },
    {
      "cell_type": "code",
      "source": [
        "# Vina is neat if you want to see what sort of information\n",
        "# docking by itself adds to the accuracy\n",
        "\"\"\"\n",
        "print('Baseline - Vina Docked')\n",
        "for model, (training_data, test_data) in final_metrics['vina'].items():\n",
        "  print(f'Test data {model_lookup[model]} folded {K} times: Mean')\n",
        "  print(test_data.mean(axis=1))\n",
        "\n",
        "for model, (training_data, test_data) in final_metrics['vina'].items():\n",
        "  print(f'Training data {model_lookup[model]} folded {K} times: Mean')\n",
        "  print(test_data.mean(axis=1))\n",
        "\"\"\""
      ],
      "metadata": {
        "id": "dcluigOudHxE",
        "colab": {
          "base_uri": "https://localhost:8080/",
          "height": 70
        },
        "outputId": "adc939f1-7cc4-4018-b9cd-1977939620ca"
      },
      "execution_count": null,
      "outputs": [
        {
          "output_type": "execute_result",
          "data": {
            "text/plain": [
              "\"\\nprint('Baseline - Vina Docked')\\nfor model, (training_data, test_data) in final_metrics['vina'].items():\\n  print(f'Test data {model_lookup[model]} folded {K} times: Mean')\\n  print(test_data.mean(axis=1))\\n\\nfor model, (training_data, test_data) in final_metrics['vina'].items():\\n  print(f'Training data {model_lookup[model]} folded {K} times: Mean')\\n  print(test_data.mean(axis=1))\\n\""
            ],
            "application/vnd.google.colaboratory.intrinsic+json": {
              "type": "string"
            }
          },
          "metadata": {},
          "execution_count": 91
        }
      ]
    },
    {
      "cell_type": "code",
      "source": [
        "import matplotlib.pyplot as plt\n",
        "\n",
        "fig, ax = plt.subplots()\n",
        "\n",
        "# data to reset between runs!\n",
        "labels = []\n",
        "x = []\n",
        "y = []\n",
        "model_to_ticklabel = {}\n",
        "counter = 0\n",
        "\n",
        "print('Baseline - Pure')\n",
        "for model, (training_data, test_data) in final_metrics['pure'].items():\n",
        "  if model not in labels and model not in model_to_ticklabel:\n",
        "    model_to_ticklabel[model] = counter\n",
        "    labels.append(model_lookup[model])\n",
        "    counter += 1\n",
        "\n",
        "  for trial, item in training_data.iteritems():\n",
        "    x = model_to_ticklabel[model]\n",
        "    y = item\n",
        "    ax.scatter(x, y, marker='x', label = 'train')\n",
        "\n",
        "  for trial, item in test_data.iteritems():\n",
        "    x = model_to_ticklabel[model]\n",
        "    y = item\n",
        "    ax.scatter(x, y, marker='o', label = 'test')\n",
        "\n",
        "  print(f'Test data {model_lookup[model]} folded {K} times: Mean')\n",
        "  print(test_data.mean(axis=1))\n",
        "\n",
        "ax.set_ylabel('RMSE (kcal/mol)')\n",
        "ax.set_title('Data Driven RMSE Vs Model across Folds')\n",
        "ax.grid(which='both', axis='y')\n",
        "\n",
        "#plt.xticks([x for x in range(len(labels))], labels, rotation='vertical', label='physical')\n",
        "#plt.show()\n",
        "\n",
        "for model, (training_data, test_data) in final_metrics['pure'].items():\n",
        "  print(f'Training data {model_lookup[model]} folded {K} times: Mean')\n",
        "  print(test_data.mean(axis=1))"
      ],
      "metadata": {
        "id": "pjer6H35bcgk",
        "colab": {
          "base_uri": "https://localhost:8080/",
          "height": 513
        },
        "outputId": "f8eeac6c-969f-4891-d315-1a5b0aaa87b7"
      },
      "execution_count": null,
      "outputs": [
        {
          "output_type": "stream",
          "name": "stdout",
          "text": [
            "Baseline - Pure\n",
            "Test data DNN folded 10 times: Mean\n",
            "rms_score    0.138549\n",
            "dtype: float64\n",
            "Test data GCN folded 10 times: Mean\n",
            "rms_score    0.363546\n",
            "dtype: float64\n",
            "Training data DNN folded 10 times: Mean\n",
            "rms_score    0.138549\n",
            "dtype: float64\n",
            "Training data GCN folded 10 times: Mean\n",
            "rms_score    0.363546\n",
            "dtype: float64\n"
          ]
        },
        {
          "output_type": "display_data",
          "data": {
            "text/plain": [
              "<Figure size 432x288 with 1 Axes>"
            ],
            "image/png": "[encoded data removed]"
          },
          "metadata": {
            "needs_background": "light"
          }
        }
      ]
    },
    {
      "cell_type": "markdown",
      "source": [
        "Save the final results for later retreival"
      ],
      "metadata": {
        "id": "eYv-013KlS2f"
      }
    },
    {
      "cell_type": "code",
      "source": [
        "import pickle\n",
        "from google.colab import files, drive\n",
        "\n",
        "drive.mount('/content/drive')\n",
        "\n",
        "with open(\"/content/drive/My Drive/final_results_pre_opt.pickle\",\"wb\") as f:\n",
        "  pickle.dump(final_metrics, f)\n",
        "\n",
        "with open(\"/content/drive/My Drive/all_losses_pre_opt.pickle\",\"wb\") as f:\n",
        "  pickle.dump(all_losses, f)"
      ],
      "metadata": {
        "id": "L6i87U4SlWW1"
      },
      "execution_count": null,
      "outputs": []
    },
    {
      "cell_type": "markdown",
      "metadata": {
        "id": "_y8ld1-JqoKE"
      },
      "source": [
        "Finally we'll do some hyper parameter tuning - we'll use the grid optimization method to search the space of each hyperparameter to find the one that works the best across all folds.\n"
      ]
    },
    {
      "cell_type": "code",
      "execution_count": null,
      "metadata": {
        "id": "_ZDL7I2Pq_8t"
      },
      "outputs": [],
      "source": [
        "# Tune against RMSE score\n",
        "metric = deepchem.metrics.Metric(deepchem.metrics.rms_score, mode='regression')\n",
        "\n",
        "def DNN_wrapper(**p):\n",
        "  model = DNN_Regression_Model(**p)\n",
        "  dc_model = deepchem.models.TorchModel(model, deepchem.models.losses.L2Loss(), **p)\n",
        "  return dc_model\n",
        "\n",
        "def PGDNN_wrapper(**p):\n",
        "  model = DNN_Regression_Model(input_feature_size=2048+1,**p)\n",
        "  dc_model = deepchem.models.TorchModel(model, deepchem.models.losses.L2Loss(), **p)\n",
        "  return dc_model\n",
        "\n",
        "tuning_results = defaultdict(dict)\n",
        "\n",
        "for dock_type, input_datasets in datasets.items():\n",
        "  for featureizer_type, dataset in input_datasets.items():\n",
        "    print(f'tuning with data from {dock_type} for: {featureizer_type}')\n",
        "    \n",
        "    # Will be populated based on Featurizer/Model Type\n",
        "    optimizer = None\n",
        "    params_dict = None\n",
        "\n",
        "    if featureizer_type == 'Circular Fingerprint':\n",
        "      optimizer = deepchem.hyper.GridHyperparamOpt(DNN_wrapper)\n",
        "      params_dict = \\\n",
        "      {\n",
        "          \"dropout\": [ 0.1, 0.2, 0.3, 0.4, 0.5, 0.6, 0.7, 0.8, 0.9],\n",
        "          \"learning_rate\": [ 1 / 10 ** n for n in range(3, 6) ],\n",
        "          \"layers\": [1, 2, 4, 8, 16, 36],\n",
        "          \"units\": [50, 100, 200, 400, 800, 1000, 2000]\n",
        "      }\n",
        "      continue\n",
        "      \n",
        "    elif featureizer_type == 'Graph Conv Featurizer':\n",
        "      optimizer = deepchem.hyper.GridHyperparamOpt\\\n",
        "      (\n",
        "          lambda **p: deepchem.models.GCNModel(n_tasks=1, number_atom_features=30, mode=\"regression\", **p)\n",
        "      )\n",
        "      params_dict = \\\n",
        "      {\n",
        "          \"dropout\": [ 0.1, 0.2, 0.3, 0.4, 0.5, 0.6, 0.7, 0.8, 0.9],\n",
        "          \"predictor_dropout\": [ 0.1, 0.2, 0.3, 0.4, 0.5, 0.6, 0.7, 0.8, 0.9],\n",
        "          \"learning_rate\": [ 1 / 10 ** n for n in range(3, 6) ],\n",
        "          \"predictor_hidden_feats\": [ 128 * n for n in range(1,6)]\n",
        "      }\n",
        "      continue\n",
        "\n",
        "    elif featureizer_type == 'Modded Graph Conv Featurizer':\n",
        "      optimizer = deepchem.hyper.GridHyperparamOpt\\\n",
        "      (\n",
        "          lambda **p: deepchem.models.GCNModel(n_tasks=1, number_atom_features=31, mode=\"regression\", **p)\n",
        "      )\n",
        "      params_dict = \\\n",
        "      {\n",
        "          \"dropout\": [ 0.1, 0.2, 0.3, 0.4, 0.5, 0.6, 0.7, 0.8, 0.9],\n",
        "          \"predictor_dropout\": [ 0.1, 0.2, 0.3, 0.4, 0.5, 0.6, 0.7, 0.8, 0.9],\n",
        "          \"learning_rate\": [ 1 / 10 ** n for n in range(3, 6) ],\n",
        "          \"predictor_hidden_feats\": [ 128 * n for n in range(1,6)]\n",
        "      }\n",
        "\n",
        "    elif featureizer_type == 'Modded Circular Fingerprint':\n",
        "      optimizer = deepchem.hyper.GridHyperparamOpt(PGDNN_wrapper)\n",
        "      params_dict = \\\n",
        "      {\n",
        "          \"dropout\": [ 0.1, 0.2, 0.3, 0.4, 0.5, 0.6, 0.7, 0.8, 0.9],\n",
        "          \"learning_rate\": [ 1 / 10 ** n for n in range(3, 6) ],\n",
        "          \"layers\": [1, 2, 4, 8, 16, 36],\n",
        "          \"units\": [50, 100, 200, 400, 800, 1000, 2000]\n",
        "      }\n",
        "\n",
        "    # Dataset info for this model\n",
        "    train, test = splitter.train_test_split(dataset)\n",
        "\n",
        "    best_model, best_params, all_results = optimizer.hyperparam_search\\\n",
        "    (\n",
        "        params_dict=params_dict, \n",
        "        train_dataset=train, \n",
        "        valid_dataset=test, \n",
        "        metric=metric, \n",
        "        nb_epoch=100\n",
        "    )\n",
        "    print(f'tuned {dock_type} {featureizer_type} to {best_params}')\n",
        "    tuning_results[dock_type][featureizer_type] = (best_model, best_params, all_results)"
      ]
    },
    {
      "cell_type": "code",
      "execution_count": null,
      "metadata": {
        "colab": {
          "base_uri": "https://localhost:8080/",
          "height": 351
        },
        "id": "vjoU44Jbxgs8",
        "outputId": "fbf1da73-6890-4f3b-c032-c8e760c00d3b"
      },
      "outputs": [
        {
          "output_type": "stream",
          "name": "stderr",
          "text": [
            "/usr/local/lib/python3.7/dist-packages/ipykernel_launcher.py:17: MatplotlibDeprecationWarning: Adding an axes using the same arguments as a previous axes currently reuses the earlier instance.  In a future version, a new instance will always be created and returned.  Meanwhile, this warning can be suppressed, and the future behavior ensured, by passing a unique label to each axes instance.\n",
            "/usr/local/lib/python3.7/dist-packages/ipykernel_launcher.py:18: MatplotlibDeprecationWarning: Adding an axes using the same arguments as a previous axes currently reuses the earlier instance.  In a future version, a new instance will always be created and returned.  Meanwhile, this warning can be suppressed, and the future behavior ensured, by passing a unique label to each axes instance.\n"
          ]
        },
        {
          "output_type": "display_data",
          "data": {
            "text/plain": [
              "<Figure size 432x288 with 1 Axes>"
            ],
            "image/png": "[encoded data removed]"
          },
          "metadata": {
            "needs_background": "light"
          }
        }
      ],
      "source": [
        "from matplotlib import animation, rc, pyplot\n",
        "from IPython.display import HTML\n",
        "\n",
        "# First set up the figure, the axis, and the plot element we want to animate\n",
        "#for loss_data in losses['vm2']['Graph Conv Featurizer']\n",
        "pyplot.plot(losses['vm2']['Modded Graph Conv Featurizer'][10], label='fold 10')\n",
        "pyplot.plot(losses['vm2']['Modded Graph Conv Featurizer'][9], label='fold 9')\n",
        "pyplot.plot(losses['vm2']['Modded Graph Conv Featurizer'][8], label='fold 8')\n",
        "pyplot.plot(losses['vm2']['Modded Graph Conv Featurizer'][7], label='fold 7')\n",
        "pyplot.plot(losses['vm2']['Modded Graph Conv Featurizer'][6], label='fold 6')\n",
        "pyplot.plot(losses['vm2']['Modded Graph Conv Featurizer'][5], label='fold 5')\n",
        "pyplot.plot(losses['vm2']['Modded Graph Conv Featurizer'][4], label='fold 4')\n",
        "pyplot.plot(losses['vm2']['Modded Graph Conv Featurizer'][3], label='fold 3')\n",
        "pyplot.plot(losses['vm2']['Modded Graph Conv Featurizer'][2], label='fold 2')\n",
        "pyplot.plot(losses['vm2']['Modded Graph Conv Featurizer'][1], label='fold 1')\n",
        "pyplot.title('Hybrid GCN Model Convergence')\n",
        "pyplot.axes().set_xlabel('Epoch')\n",
        "pyplot.axes().set_ylabel('Calculated Loss')\n",
        "#pyplot.legend()\n",
        "pyplot.ylim([0, 0.25])\n",
        "pyplot.grid(True)\n",
        "pyplot.show()"
      ]
    },
    {
      "cell_type": "code",
      "execution_count": null,
      "metadata": {
        "colab": {
          "base_uri": "https://localhost:8080/",
          "height": 351
        },
        "outputId": "50142dc0-26e9-464a-d630-c1d3d677a1be",
        "id": "EGFbVHHi4Mcs"
      },
      "outputs": [
        {
          "output_type": "stream",
          "name": "stderr",
          "text": [
            "/usr/local/lib/python3.7/dist-packages/ipykernel_launcher.py:17: MatplotlibDeprecationWarning: Adding an axes using the same arguments as a previous axes currently reuses the earlier instance.  In a future version, a new instance will always be created and returned.  Meanwhile, this warning can be suppressed, and the future behavior ensured, by passing a unique label to each axes instance.\n",
            "/usr/local/lib/python3.7/dist-packages/ipykernel_launcher.py:18: MatplotlibDeprecationWarning: Adding an axes using the same arguments as a previous axes currently reuses the earlier instance.  In a future version, a new instance will always be created and returned.  Meanwhile, this warning can be suppressed, and the future behavior ensured, by passing a unique label to each axes instance.\n"
          ]
        },
        {
          "output_type": "display_data",
          "data": {
            "text/plain": [
              "<Figure size 432x288 with 1 Axes>"
            ],
            "image/png": "[encoded data removed]"
          },
          "metadata": {
            "needs_background": "light"
          }
        }
      ],
      "source": [
        "from matplotlib import animation, rc, pyplot\n",
        "from IPython.display import HTML\n",
        "\n",
        "# First set up the figure, the axis, and the plot element we want to animate\n",
        "#for loss_data in losses['vm2']['Graph Conv Featurizer']\n",
        "pyplot.plot(losses['vm2']['Modded Circular Fingerprint'][10], label='fold 10')\n",
        "pyplot.plot(losses['vm2']['Modded Circular Fingerprint'][9], label='fold 9')\n",
        "pyplot.plot(losses['vm2']['Modded Circular Fingerprint'][8], label='fold 8')\n",
        "pyplot.plot(losses['vm2']['Modded Circular Fingerprint'][7], label='fold 7')\n",
        "pyplot.plot(losses['vm2']['Modded Circular Fingerprint'][6], label='fold 6')\n",
        "pyplot.plot(losses['vm2']['Modded Circular Fingerprint'][5], label='fold 5')\n",
        "pyplot.plot(losses['vm2']['Modded Circular Fingerprint'][4], label='fold 4')\n",
        "pyplot.plot(losses['vm2']['Modded Circular Fingerprint'][3], label='fold 3')\n",
        "pyplot.plot(losses['vm2']['Modded Circular Fingerprint'][2], label='fold 2')\n",
        "pyplot.plot(losses['vm2']['Modded Circular Fingerprint'][1], label='fold 1')\n",
        "pyplot.title('Hybrid DNN Model Convergence')\n",
        "pyplot.axes().set_xlabel('Epoch')\n",
        "pyplot.axes().set_ylabel('Calculated Loss')\n",
        "pyplot.ylim([0, 0.025])\n",
        "pyplot.grid(True)\n",
        "#pyplot.legend()\n",
        "pyplot.show()"
      ]
    },
    {
      "cell_type": "markdown",
      "source": [
        "What made fold 4 for the PGGCN and fold 1 for the DNN special?"
      ],
      "metadata": {
        "id": "p-5rRSji5SLv"
      }
    },
    {
      "cell_type": "code",
      "source": [
        "for model, network_data in dataset_data.items():\n",
        "  for network_type, network_trials in network_data.items():\n",
        "    for fold, fold_data in enumerate(network_trials):\n",
        "      training_set, testing_set = fold_data\n",
        "      print( f'training set for {network_type} for fold {fold+1}', training_set.ids )\n",
        "      print( f'test set for {network_type} for fold {fold+1}', testing_set.ids )"
      ],
      "metadata": {
        "colab": {
          "base_uri": "https://localhost:8080/"
        },
        "id": "CMRMzRcP5QIX",
        "outputId": "0dd80e3b-f025-4b4a-e529-8ecca53495ea"
      },
      "execution_count": null,
      "outputs": [
        {
          "output_type": "stream",
          "name": "stdout",
          "text": [
            "training set for Circular Fingerprint for fold 1 ['guest-6' 'guest-s19' 'guest-s22' 'guest-s21' 'guest-1' 'guest-s16'\n",
            " 'guest-s13' 'guest-s10' 'guest-4' 'guest-2' 'guest-s18' 'guest-8'\n",
            " 'guest-3' 'guest-s15' 'guest-s20' 'guest-7' 'guest-s9' 'guest-s11'\n",
            " 'guest-s14']\n",
            "test set for Circular Fingerprint for fold 1 ['guest-5' 'guest-s12']\n",
            "training set for Circular Fingerprint for fold 2 ['guest-5' 'guest-s12' 'guest-s14' 'guest-s19' 'guest-4' 'guest-s18'\n",
            " 'guest-3' 'guest-s21' 'guest-8' 'guest-6' 'guest-s16' 'guest-1'\n",
            " 'guest-s20' 'guest-s10' 'guest-2' 'guest-s11' 'guest-s13' 'guest-7'\n",
            " 'guest-s22']\n",
            "test set for Circular Fingerprint for fold 2 ['guest-s9' 'guest-s15']\n",
            "training set for Circular Fingerprint for fold 3 ['guest-5' 'guest-s12' 'guest-s9' 'guest-s15' 'guest-s18' 'guest-s22'\n",
            " 'guest-6' 'guest-4' 'guest-8' 'guest-s10' 'guest-3' 'guest-7' 'guest-1'\n",
            " 'guest-s14' 'guest-s21' 'guest-2' 'guest-s13' 'guest-s11' 'guest-s16']\n",
            "test set for Circular Fingerprint for fold 3 ['guest-s20' 'guest-s19']\n",
            "training set for Circular Fingerprint for fold 4 ['guest-5' 'guest-s12' 'guest-s9' 'guest-s15' 'guest-s20' 'guest-s19'\n",
            " 'guest-1' 'guest-8' 'guest-s22' 'guest-s13' 'guest-4' 'guest-s14'\n",
            " 'guest-6' 'guest-2' 'guest-s10' 'guest-3' 'guest-s16' 'guest-s18'\n",
            " 'guest-s21']\n",
            "test set for Circular Fingerprint for fold 4 ['guest-s11' 'guest-7']\n",
            "training set for Circular Fingerprint for fold 5 ['guest-5' 'guest-s12' 'guest-s9' 'guest-s15' 'guest-s20' 'guest-s19'\n",
            " 'guest-s11' 'guest-7' 'guest-1' 'guest-s13' 'guest-3' 'guest-s18'\n",
            " 'guest-s21' 'guest-6' 'guest-s16' 'guest-2' 'guest-s10' 'guest-s14'\n",
            " 'guest-s22']\n",
            "test set for Circular Fingerprint for fold 5 ['guest-4' 'guest-8']\n",
            "training set for Circular Fingerprint for fold 6 ['guest-5' 'guest-s12' 'guest-s9' 'guest-s15' 'guest-s20' 'guest-s19'\n",
            " 'guest-s11' 'guest-7' 'guest-4' 'guest-8' 'guest-s16' 'guest-s21'\n",
            " 'guest-s14' 'guest-2' 'guest-s22' 'guest-s18' 'guest-3' 'guest-s10'\n",
            " 'guest-1']\n",
            "test set for Circular Fingerprint for fold 6 ['guest-s13' 'guest-6']\n",
            "training set for Circular Fingerprint for fold 7 ['guest-5' 'guest-s12' 'guest-s9' 'guest-s15' 'guest-s20' 'guest-s19'\n",
            " 'guest-s11' 'guest-7' 'guest-4' 'guest-8' 'guest-s13' 'guest-6' 'guest-1'\n",
            " 'guest-2' 'guest-s16' 'guest-s21' 'guest-s14' 'guest-s18' 'guest-s22']\n",
            "test set for Circular Fingerprint for fold 7 ['guest-3' 'guest-s10']\n",
            "training set for Circular Fingerprint for fold 8 ['guest-5' 'guest-s12' 'guest-s9' 'guest-s15' 'guest-s20' 'guest-s19'\n",
            " 'guest-s11' 'guest-7' 'guest-4' 'guest-8' 'guest-s13' 'guest-6' 'guest-3'\n",
            " 'guest-s10' 'guest-s18' 'guest-1' 'guest-s22' 'guest-s16' 'guest-s14']\n",
            "test set for Circular Fingerprint for fold 8 ['guest-s21' 'guest-2']\n",
            "training set for Circular Fingerprint for fold 9 ['guest-5' 'guest-s12' 'guest-s9' 'guest-s15' 'guest-s20' 'guest-s19'\n",
            " 'guest-s11' 'guest-7' 'guest-4' 'guest-8' 'guest-s13' 'guest-6' 'guest-3'\n",
            " 'guest-s10' 'guest-s21' 'guest-2' 'guest-1' 'guest-s14' 'guest-s18']\n",
            "test set for Circular Fingerprint for fold 9 ['guest-s16' 'guest-s22']\n",
            "training set for Circular Fingerprint for fold 10 ['guest-5' 'guest-s12' 'guest-s9' 'guest-s15' 'guest-s20' 'guest-s19'\n",
            " 'guest-s11' 'guest-7' 'guest-4' 'guest-8' 'guest-s13' 'guest-6' 'guest-3'\n",
            " 'guest-s10' 'guest-s21' 'guest-2' 'guest-s16' 'guest-s22']\n",
            "test set for Circular Fingerprint for fold 10 ['guest-1' 'guest-s14' 'guest-s18']\n",
            "training set for Graph Conv Featurizer for fold 1 ['guest-s16' 'guest-1' 'guest-s14' 'guest-s13' 'guest-s20' 'guest-s15'\n",
            " 'guest-5' 'guest-4' 'guest-s18' 'guest-8' 'guest-3' 'guest-s12'\n",
            " 'guest-s9' 'guest-s19' 'guest-s22' 'guest-s11' 'guest-6' 'guest-s10'\n",
            " 'guest-7']\n",
            "test set for Graph Conv Featurizer for fold 1 ['guest-2' 'guest-s21']\n",
            "training set for Graph Conv Featurizer for fold 2 ['guest-2' 'guest-s21' 'guest-4' 'guest-s12' 'guest-s9' 'guest-s10'\n",
            " 'guest-s19' 'guest-s15' 'guest-7' 'guest-s11' 'guest-5' 'guest-s18'\n",
            " 'guest-3' 'guest-8' 'guest-s16' 'guest-6' 'guest-s14' 'guest-s22'\n",
            " 'guest-s20']\n",
            "test set for Graph Conv Featurizer for fold 2 ['guest-1' 'guest-s13']\n",
            "training set for Graph Conv Featurizer for fold 3 ['guest-2' 'guest-s21' 'guest-1' 'guest-s13' 'guest-3' 'guest-s14'\n",
            " 'guest-4' 'guest-6' 'guest-s10' 'guest-s20' 'guest-s9' 'guest-s22'\n",
            " 'guest-5' 'guest-s19' 'guest-8' 'guest-7' 'guest-s15' 'guest-s16'\n",
            " 'guest-s11']\n",
            "test set for Graph Conv Featurizer for fold 3 ['guest-s18' 'guest-s12']\n",
            "training set for Graph Conv Featurizer for fold 4 ['guest-2' 'guest-s21' 'guest-1' 'guest-s13' 'guest-s18' 'guest-s12'\n",
            " 'guest-s16' 'guest-s15' 'guest-s22' 'guest-3' 'guest-s14' 'guest-7'\n",
            " 'guest-8' 'guest-s11' 'guest-s20' 'guest-s19' 'guest-s9' 'guest-6'\n",
            " 'guest-4']\n",
            "test set for Graph Conv Featurizer for fold 4 ['guest-s10' 'guest-5']\n",
            "training set for Graph Conv Featurizer for fold 5 ['guest-2' 'guest-s21' 'guest-1' 'guest-s13' 'guest-s18' 'guest-s12'\n",
            " 'guest-s10' 'guest-5' 'guest-s16' 'guest-8' 'guest-s22' 'guest-s20'\n",
            " 'guest-7' 'guest-s19' 'guest-s9' 'guest-4' 'guest-3' 'guest-s14'\n",
            " 'guest-6']\n",
            "test set for Graph Conv Featurizer for fold 5 ['guest-s15' 'guest-s11']\n",
            "training set for Graph Conv Featurizer for fold 6 ['guest-2' 'guest-s21' 'guest-1' 'guest-s13' 'guest-s18' 'guest-s12'\n",
            " 'guest-s10' 'guest-5' 'guest-s15' 'guest-s11' 'guest-8' 'guest-s19'\n",
            " 'guest-6' 'guest-s16' 'guest-s20' 'guest-7' 'guest-s9' 'guest-4'\n",
            " 'guest-s22']\n",
            "test set for Graph Conv Featurizer for fold 6 ['guest-3' 'guest-s14']\n",
            "training set for Graph Conv Featurizer for fold 7 ['guest-2' 'guest-s21' 'guest-1' 'guest-s13' 'guest-s18' 'guest-s12'\n",
            " 'guest-s10' 'guest-5' 'guest-s15' 'guest-s11' 'guest-3' 'guest-s14'\n",
            " 'guest-4' 'guest-s22' 'guest-8' 'guest-s9' 'guest-s19' 'guest-7'\n",
            " 'guest-s20']\n",
            "test set for Graph Conv Featurizer for fold 7 ['guest-6' 'guest-s16']\n",
            "training set for Graph Conv Featurizer for fold 8 ['guest-2' 'guest-s21' 'guest-1' 'guest-s13' 'guest-s18' 'guest-s12'\n",
            " 'guest-s10' 'guest-5' 'guest-s15' 'guest-s11' 'guest-3' 'guest-s14'\n",
            " 'guest-6' 'guest-s16' 'guest-4' 'guest-7' 'guest-s20' 'guest-s22'\n",
            " 'guest-8']\n",
            "test set for Graph Conv Featurizer for fold 8 ['guest-s9' 'guest-s19']\n",
            "training set for Graph Conv Featurizer for fold 9 ['guest-2' 'guest-s21' 'guest-1' 'guest-s13' 'guest-s18' 'guest-s12'\n",
            " 'guest-s10' 'guest-5' 'guest-s15' 'guest-s11' 'guest-3' 'guest-s14'\n",
            " 'guest-6' 'guest-s16' 'guest-s9' 'guest-s19' 'guest-8' 'guest-4'\n",
            " 'guest-7']\n",
            "test set for Graph Conv Featurizer for fold 9 ['guest-s22' 'guest-s20']\n",
            "training set for Graph Conv Featurizer for fold 10 ['guest-2' 'guest-s21' 'guest-1' 'guest-s13' 'guest-s18' 'guest-s12'\n",
            " 'guest-s10' 'guest-5' 'guest-s15' 'guest-s11' 'guest-3' 'guest-s14'\n",
            " 'guest-6' 'guest-s16' 'guest-s9' 'guest-s19' 'guest-s22' 'guest-s20']\n",
            "test set for Graph Conv Featurizer for fold 10 ['guest-7' 'guest-8' 'guest-4']\n",
            "training set for Modded Graph Conv Featurizer for fold 1 ['guest-s19' 'guest-3' 'guest-s21' 'guest-s18' 'guest-s16' 'guest-6'\n",
            " 'guest-s15' 'guest-s12' 'guest-s20' 'guest-s13' 'guest-5' 'guest-s14'\n",
            " 'guest-s22' 'guest-1' 'guest-s10' 'guest-2' 'guest-4' 'guest-s9'\n",
            " 'guest-8']\n",
            "test set for Modded Graph Conv Featurizer for fold 1 ['guest-7' 'guest-s11']\n",
            "training set for Modded Graph Conv Featurizer for fold 2 ['guest-7' 'guest-s11' 'guest-s15' 'guest-5' 'guest-4' 'guest-s12'\n",
            " 'guest-s13' 'guest-s21' 'guest-3' 'guest-s19' 'guest-s14' 'guest-s22'\n",
            " 'guest-1' 'guest-s16' 'guest-s18' 'guest-2' 'guest-s20' 'guest-s9'\n",
            " 'guest-8']\n",
            "test set for Modded Graph Conv Featurizer for fold 2 ['guest-s10' 'guest-6']\n",
            "training set for Modded Graph Conv Featurizer for fold 3 ['guest-7' 'guest-s11' 'guest-s10' 'guest-6' 'guest-s20' 'guest-s19'\n",
            " 'guest-s22' 'guest-s13' 'guest-s12' 'guest-1' 'guest-s18' 'guest-3'\n",
            " 'guest-s16' 'guest-5' 'guest-8' 'guest-s9' 'guest-4' 'guest-2'\n",
            " 'guest-s15']\n",
            "test set for Modded Graph Conv Featurizer for fold 3 ['guest-s14' 'guest-s21']\n",
            "training set for Modded Graph Conv Featurizer for fold 4 ['guest-7' 'guest-s11' 'guest-s10' 'guest-6' 'guest-s14' 'guest-s21'\n",
            " 'guest-8' 'guest-s12' 'guest-s16' 'guest-s13' 'guest-2' 'guest-s9'\n",
            " 'guest-s20' 'guest-3' 'guest-s15' 'guest-s22' 'guest-s18' 'guest-1'\n",
            " 'guest-5']\n",
            "test set for Modded Graph Conv Featurizer for fold 4 ['guest-s19' 'guest-4']\n",
            "training set for Modded Graph Conv Featurizer for fold 5 ['guest-7' 'guest-s11' 'guest-s10' 'guest-6' 'guest-s14' 'guest-s21'\n",
            " 'guest-s19' 'guest-4' 'guest-s20' 'guest-1' 'guest-s9' 'guest-3'\n",
            " 'guest-8' 'guest-5' 'guest-s13' 'guest-s16' 'guest-s18' 'guest-s12'\n",
            " 'guest-s15']\n",
            "test set for Modded Graph Conv Featurizer for fold 5 ['guest-s22' 'guest-2']\n",
            "training set for Modded Graph Conv Featurizer for fold 6 ['guest-7' 'guest-s11' 'guest-s10' 'guest-6' 'guest-s14' 'guest-s21'\n",
            " 'guest-s19' 'guest-4' 'guest-s22' 'guest-2' 'guest-s12' 'guest-s16'\n",
            " 'guest-3' 'guest-1' 'guest-s9' 'guest-5' 'guest-8' 'guest-s15'\n",
            " 'guest-s18']\n",
            "test set for Modded Graph Conv Featurizer for fold 6 ['guest-s20' 'guest-s13']\n",
            "training set for Modded Graph Conv Featurizer for fold 7 ['guest-7' 'guest-s11' 'guest-s10' 'guest-6' 'guest-s14' 'guest-s21'\n",
            " 'guest-s19' 'guest-4' 'guest-s22' 'guest-2' 'guest-s20' 'guest-s13'\n",
            " 'guest-3' 'guest-8' 'guest-s9' 'guest-1' 'guest-s15' 'guest-5'\n",
            " 'guest-s12']\n",
            "test set for Modded Graph Conv Featurizer for fold 7 ['guest-s18' 'guest-s16']\n",
            "training set for Modded Graph Conv Featurizer for fold 8 ['guest-7' 'guest-s11' 'guest-s10' 'guest-6' 'guest-s14' 'guest-s21'\n",
            " 'guest-s19' 'guest-4' 'guest-s22' 'guest-2' 'guest-s20' 'guest-s13'\n",
            " 'guest-s18' 'guest-s16' 'guest-1' 'guest-8' 'guest-s15' 'guest-5'\n",
            " 'guest-s12']\n",
            "test set for Modded Graph Conv Featurizer for fold 8 ['guest-3' 'guest-s9']\n",
            "training set for Modded Graph Conv Featurizer for fold 9 ['guest-7' 'guest-s11' 'guest-s10' 'guest-6' 'guest-s14' 'guest-s21'\n",
            " 'guest-s19' 'guest-4' 'guest-s22' 'guest-2' 'guest-s20' 'guest-s13'\n",
            " 'guest-s18' 'guest-s16' 'guest-3' 'guest-s9' 'guest-s12' 'guest-1'\n",
            " 'guest-s15']\n",
            "test set for Modded Graph Conv Featurizer for fold 9 ['guest-8' 'guest-5']\n",
            "training set for Modded Graph Conv Featurizer for fold 10 ['guest-7' 'guest-s11' 'guest-s10' 'guest-6' 'guest-s14' 'guest-s21'\n",
            " 'guest-s19' 'guest-4' 'guest-s22' 'guest-2' 'guest-s20' 'guest-s13'\n",
            " 'guest-s18' 'guest-s16' 'guest-3' 'guest-s9' 'guest-8' 'guest-5']\n",
            "test set for Modded Graph Conv Featurizer for fold 10 ['guest-1' 'guest-s12' 'guest-s15']\n",
            "training set for Modded Circular Fingerprint for fold 1 ['guest-s22' 'guest-s13' 'guest-s14' 'guest-6' 'guest-s12' 'guest-s15'\n",
            " 'guest-s20' 'guest-4' 'guest-3' 'guest-s11' 'guest-5' 'guest-s19'\n",
            " 'guest-2' 'guest-8' 'guest-s10' 'guest-s21' 'guest-7' 'guest-s9'\n",
            " 'guest-1']\n",
            "test set for Modded Circular Fingerprint for fold 1 ['guest-s18' 'guest-s16']\n",
            "training set for Modded Circular Fingerprint for fold 2 ['guest-s18' 'guest-s16' 'guest-s20' 'guest-s10' 'guest-3' 'guest-s11'\n",
            " 'guest-s9' 'guest-s15' 'guest-s19' 'guest-6' 'guest-5' 'guest-7'\n",
            " 'guest-s22' 'guest-s21' 'guest-8' 'guest-s14' 'guest-4' 'guest-1'\n",
            " 'guest-s12']\n",
            "test set for Modded Circular Fingerprint for fold 2 ['guest-2' 'guest-s13']\n",
            "training set for Modded Circular Fingerprint for fold 3 ['guest-s18' 'guest-s16' 'guest-2' 'guest-s13' 'guest-s19' 'guest-s11'\n",
            " 'guest-3' 'guest-6' 'guest-8' 'guest-s21' 'guest-5' 'guest-7' 'guest-4'\n",
            " 'guest-s9' 'guest-s12' 'guest-1' 'guest-s15' 'guest-s20' 'guest-s14']\n",
            "test set for Modded Circular Fingerprint for fold 3 ['guest-s22' 'guest-s10']\n",
            "training set for Modded Circular Fingerprint for fold 4 ['guest-s18' 'guest-s16' 'guest-2' 'guest-s13' 'guest-s22' 'guest-s10'\n",
            " 'guest-s19' 'guest-s15' 'guest-8' 'guest-s21' 'guest-4' 'guest-6'\n",
            " 'guest-s12' 'guest-s20' 'guest-s14' 'guest-5' 'guest-s11' 'guest-7'\n",
            " 'guest-s9']\n",
            "test set for Modded Circular Fingerprint for fold 4 ['guest-3' 'guest-1']\n",
            "training set for Modded Circular Fingerprint for fold 5 ['guest-s18' 'guest-s16' 'guest-2' 'guest-s13' 'guest-s22' 'guest-s10'\n",
            " 'guest-3' 'guest-1' 'guest-6' 'guest-s21' 'guest-s15' 'guest-5' 'guest-4'\n",
            " 'guest-7' 'guest-s19' 'guest-s11' 'guest-s9' 'guest-8' 'guest-s14']\n",
            "test set for Modded Circular Fingerprint for fold 5 ['guest-s12' 'guest-s20']\n",
            "training set for Modded Circular Fingerprint for fold 6 ['guest-s18' 'guest-s16' 'guest-2' 'guest-s13' 'guest-s22' 'guest-s10'\n",
            " 'guest-3' 'guest-1' 'guest-s12' 'guest-s20' 'guest-8' 'guest-5' 'guest-7'\n",
            " 'guest-s11' 'guest-s9' 'guest-s21' 'guest-s15' 'guest-s19' 'guest-4']\n",
            "test set for Modded Circular Fingerprint for fold 6 ['guest-6' 'guest-s14']\n",
            "training set for Modded Circular Fingerprint for fold 7 ['guest-s18' 'guest-s16' 'guest-2' 'guest-s13' 'guest-s22' 'guest-s10'\n",
            " 'guest-3' 'guest-1' 'guest-s12' 'guest-s20' 'guest-6' 'guest-s14'\n",
            " 'guest-5' 'guest-s15' 'guest-7' 'guest-8' 'guest-4' 'guest-s19'\n",
            " 'guest-s21']\n",
            "test set for Modded Circular Fingerprint for fold 7 ['guest-s11' 'guest-s9']\n",
            "training set for Modded Circular Fingerprint for fold 8 ['guest-s18' 'guest-s16' 'guest-2' 'guest-s13' 'guest-s22' 'guest-s10'\n",
            " 'guest-3' 'guest-1' 'guest-s12' 'guest-s20' 'guest-6' 'guest-s14'\n",
            " 'guest-s11' 'guest-s9' 'guest-5' 'guest-7' 'guest-s21' 'guest-8'\n",
            " 'guest-4']\n",
            "test set for Modded Circular Fingerprint for fold 8 ['guest-s19' 'guest-s15']\n",
            "training set for Modded Circular Fingerprint for fold 9 ['guest-s18' 'guest-s16' 'guest-2' 'guest-s13' 'guest-s22' 'guest-s10'\n",
            " 'guest-3' 'guest-1' 'guest-s12' 'guest-s20' 'guest-6' 'guest-s14'\n",
            " 'guest-s11' 'guest-s9' 'guest-s19' 'guest-s15' 'guest-s21' 'guest-5'\n",
            " 'guest-4']\n",
            "test set for Modded Circular Fingerprint for fold 9 ['guest-8' 'guest-7']\n",
            "training set for Modded Circular Fingerprint for fold 10 ['guest-s18' 'guest-s16' 'guest-2' 'guest-s13' 'guest-s22' 'guest-s10'\n",
            " 'guest-3' 'guest-1' 'guest-s12' 'guest-s20' 'guest-6' 'guest-s14'\n",
            " 'guest-s11' 'guest-s9' 'guest-s19' 'guest-s15' 'guest-8' 'guest-7']\n",
            "test set for Modded Circular Fingerprint for fold 10 ['guest-4' 'guest-5' 'guest-s21']\n",
            "training set for Circular Fingerprint for fold 1 ['guest-s11' 'guest-s10' 'guest-s14' 'guest-4' 'guest-6' 'guest-3'\n",
            " 'guest-8' 'guest-2' 'guest-1' 'guest-s12' 'guest-s20' 'guest-s16'\n",
            " 'guest-s19' 'guest-s15' 'guest-s9' 'guest-s18' 'guest-7' 'guest-5'\n",
            " 'guest-s22']\n",
            "test set for Circular Fingerprint for fold 1 ['guest-s13' 'guest-s21']\n",
            "training set for Circular Fingerprint for fold 2 ['guest-s13' 'guest-s21' 'guest-1' 'guest-s20' 'guest-s15' 'guest-s19'\n",
            " 'guest-s10' 'guest-5' 'guest-8' 'guest-s18' 'guest-3' 'guest-6'\n",
            " 'guest-s11' 'guest-s9' 'guest-s22' 'guest-4' 'guest-2' 'guest-s16'\n",
            " 'guest-s12']\n",
            "test set for Circular Fingerprint for fold 2 ['guest-s14' 'guest-7']\n",
            "training set for Circular Fingerprint for fold 3 ['guest-s13' 'guest-s21' 'guest-s14' 'guest-7' 'guest-s22' 'guest-s18'\n",
            " 'guest-s20' 'guest-4' 'guest-2' 'guest-5' 'guest-8' 'guest-s19'\n",
            " 'guest-s9' 'guest-s10' 'guest-1' 'guest-s11' 'guest-s12' 'guest-s16'\n",
            " 'guest-3']\n",
            "test set for Circular Fingerprint for fold 3 ['guest-s15' 'guest-6']\n",
            "training set for Circular Fingerprint for fold 4 ['guest-s13' 'guest-s21' 'guest-s14' 'guest-7' 'guest-s15' 'guest-6'\n",
            " 'guest-s20' 'guest-s19' 'guest-2' 'guest-4' 'guest-s12' 'guest-s22'\n",
            " 'guest-s16' 'guest-s11' 'guest-s18' 'guest-3' 'guest-1' 'guest-s10'\n",
            " 'guest-5']\n",
            "test set for Circular Fingerprint for fold 4 ['guest-8' 'guest-s9']\n",
            "training set for Circular Fingerprint for fold 5 ['guest-s13' 'guest-s21' 'guest-s14' 'guest-7' 'guest-s15' 'guest-6'\n",
            " 'guest-8' 'guest-s9' 'guest-3' 'guest-2' 'guest-s12' 'guest-s20'\n",
            " 'guest-1' 'guest-s11' 'guest-s16' 'guest-4' 'guest-s22' 'guest-s10'\n",
            " 'guest-s18']\n",
            "test set for Circular Fingerprint for fold 5 ['guest-s19' 'guest-5']\n",
            "training set for Circular Fingerprint for fold 6 ['guest-s13' 'guest-s21' 'guest-s14' 'guest-7' 'guest-s15' 'guest-6'\n",
            " 'guest-8' 'guest-s9' 'guest-s19' 'guest-5' 'guest-s12' 'guest-s18'\n",
            " 'guest-s16' 'guest-1' 'guest-s11' 'guest-2' 'guest-s20' 'guest-4'\n",
            " 'guest-3']\n",
            "test set for Circular Fingerprint for fold 6 ['guest-s22' 'guest-s10']\n",
            "training set for Circular Fingerprint for fold 7 ['guest-s13' 'guest-s21' 'guest-s14' 'guest-7' 'guest-s15' 'guest-6'\n",
            " 'guest-8' 'guest-s9' 'guest-s19' 'guest-5' 'guest-s22' 'guest-s10'\n",
            " 'guest-s18' 'guest-s16' 'guest-s12' 'guest-s11' 'guest-4' 'guest-1'\n",
            " 'guest-s20']\n",
            "test set for Circular Fingerprint for fold 7 ['guest-2' 'guest-3']\n",
            "training set for Circular Fingerprint for fold 8 ['guest-s13' 'guest-s21' 'guest-s14' 'guest-7' 'guest-s15' 'guest-6'\n",
            " 'guest-8' 'guest-s9' 'guest-s19' 'guest-5' 'guest-s22' 'guest-s10'\n",
            " 'guest-2' 'guest-3' 'guest-4' 'guest-s11' 'guest-s16' 'guest-1'\n",
            " 'guest-s18']\n",
            "test set for Circular Fingerprint for fold 8 ['guest-s12' 'guest-s20']\n",
            "training set for Circular Fingerprint for fold 9 ['guest-s13' 'guest-s21' 'guest-s14' 'guest-7' 'guest-s15' 'guest-6'\n",
            " 'guest-8' 'guest-s9' 'guest-s19' 'guest-5' 'guest-s22' 'guest-s10'\n",
            " 'guest-2' 'guest-3' 'guest-s12' 'guest-s20' 'guest-s18' 'guest-1'\n",
            " 'guest-4']\n",
            "test set for Circular Fingerprint for fold 9 ['guest-s11' 'guest-s16']\n",
            "training set for Circular Fingerprint for fold 10 ['guest-s13' 'guest-s21' 'guest-s14' 'guest-7' 'guest-s15' 'guest-6'\n",
            " 'guest-8' 'guest-s9' 'guest-s19' 'guest-5' 'guest-s22' 'guest-s10'\n",
            " 'guest-2' 'guest-3' 'guest-s12' 'guest-s20' 'guest-s11' 'guest-s16']\n",
            "test set for Circular Fingerprint for fold 10 ['guest-s18' 'guest-1' 'guest-4']\n",
            "training set for Graph Conv Featurizer for fold 1 ['guest-s15' 'guest-s14' 'guest-s11' 'guest-s19' 'guest-6' 'guest-s9'\n",
            " 'guest-8' 'guest-3' 'guest-1' 'guest-7' 'guest-2' 'guest-s22' 'guest-s21'\n",
            " 'guest-4' 'guest-s10' 'guest-s20' 'guest-s13' 'guest-s12' 'guest-5']\n",
            "test set for Graph Conv Featurizer for fold 1 ['guest-s16' 'guest-s18']\n",
            "training set for Graph Conv Featurizer for fold 2 ['guest-s16' 'guest-s18' 'guest-1' 'guest-s14' 'guest-s21' 'guest-s13'\n",
            " 'guest-7' 'guest-s15' 'guest-s22' 'guest-4' 'guest-s12' 'guest-s10'\n",
            " 'guest-8' 'guest-5' 'guest-s19' 'guest-s9' 'guest-s20' 'guest-2'\n",
            " 'guest-s11']\n",
            "test set for Graph Conv Featurizer for fold 2 ['guest-6' 'guest-3']\n",
            "training set for Graph Conv Featurizer for fold 3 ['guest-s16' 'guest-s18' 'guest-6' 'guest-3' 'guest-s12' 'guest-2'\n",
            " 'guest-s13' 'guest-1' 'guest-s15' 'guest-s21' 'guest-s11' 'guest-s14'\n",
            " 'guest-s10' 'guest-s22' 'guest-5' 'guest-7' 'guest-8' 'guest-s20'\n",
            " 'guest-s19']\n",
            "test set for Graph Conv Featurizer for fold 3 ['guest-4' 'guest-s9']\n",
            "training set for Graph Conv Featurizer for fold 4 ['guest-s16' 'guest-s18' 'guest-6' 'guest-3' 'guest-4' 'guest-s9'\n",
            " 'guest-1' 'guest-s15' 'guest-5' 'guest-s13' 'guest-s20' 'guest-s14'\n",
            " 'guest-s21' 'guest-2' 'guest-8' 'guest-7' 'guest-s11' 'guest-s19'\n",
            " 'guest-s22']\n",
            "test set for Graph Conv Featurizer for fold 4 ['guest-s12' 'guest-s10']\n",
            "training set for Graph Conv Featurizer for fold 5 ['guest-s16' 'guest-s18' 'guest-6' 'guest-3' 'guest-4' 'guest-s9'\n",
            " 'guest-s12' 'guest-s10' 'guest-s15' 'guest-s20' 'guest-8' 'guest-s13'\n",
            " 'guest-s11' 'guest-1' 'guest-s22' 'guest-2' 'guest-s19' 'guest-s21'\n",
            " 'guest-5']\n",
            "test set for Graph Conv Featurizer for fold 5 ['guest-s14' 'guest-7']\n",
            "training set for Graph Conv Featurizer for fold 6 ['guest-s16' 'guest-s18' 'guest-6' 'guest-3' 'guest-4' 'guest-s9'\n",
            " 'guest-s12' 'guest-s10' 'guest-s14' 'guest-7' 'guest-s11' 'guest-8'\n",
            " 'guest-s22' 'guest-1' 'guest-s15' 'guest-s13' 'guest-s20' 'guest-s19'\n",
            " 'guest-5']\n",
            "test set for Graph Conv Featurizer for fold 6 ['guest-s21' 'guest-2']\n",
            "training set for Graph Conv Featurizer for fold 7 ['guest-s16' 'guest-s18' 'guest-6' 'guest-3' 'guest-4' 'guest-s9'\n",
            " 'guest-s12' 'guest-s10' 'guest-s14' 'guest-7' 'guest-s21' 'guest-2'\n",
            " 'guest-1' 'guest-8' 'guest-s22' 'guest-s13' 'guest-5' 'guest-s11'\n",
            " 'guest-s20']\n",
            "test set for Graph Conv Featurizer for fold 7 ['guest-s19' 'guest-s15']\n",
            "training set for Graph Conv Featurizer for fold 8 ['guest-s16' 'guest-s18' 'guest-6' 'guest-3' 'guest-4' 'guest-s9'\n",
            " 'guest-s12' 'guest-s10' 'guest-s14' 'guest-7' 'guest-s21' 'guest-2'\n",
            " 'guest-s19' 'guest-s15' 'guest-s13' 'guest-s22' 'guest-8' 'guest-s20'\n",
            " 'guest-1']\n",
            "test set for Graph Conv Featurizer for fold 8 ['guest-s11' 'guest-5']\n",
            "training set for Graph Conv Featurizer for fold 9 ['guest-s16' 'guest-s18' 'guest-6' 'guest-3' 'guest-4' 'guest-s9'\n",
            " 'guest-s12' 'guest-s10' 'guest-s14' 'guest-7' 'guest-s21' 'guest-2'\n",
            " 'guest-s19' 'guest-s15' 'guest-s11' 'guest-5' 'guest-s13' 'guest-s22'\n",
            " 'guest-1']\n",
            "test set for Graph Conv Featurizer for fold 9 ['guest-8' 'guest-s20']\n",
            "training set for Graph Conv Featurizer for fold 10 ['guest-s16' 'guest-s18' 'guest-6' 'guest-3' 'guest-4' 'guest-s9'\n",
            " 'guest-s12' 'guest-s10' 'guest-s14' 'guest-7' 'guest-s21' 'guest-2'\n",
            " 'guest-s19' 'guest-s15' 'guest-s11' 'guest-5' 'guest-8' 'guest-s20']\n",
            "test set for Graph Conv Featurizer for fold 10 ['guest-s22' 'guest-1' 'guest-s13']\n"
          ]
        }
      ]
    },
    {
      "cell_type": "markdown",
      "source": [
        "Oddly enough, what seperates the models here from great performance appears to be Guest S17, removing this from the dataset! Let's see if the models converge better?"
      ],
      "metadata": {
        "id": "IhRRS7IJkxJh"
      }
    },
    {
      "cell_type": "markdown",
      "source": [
        "Using the optimized models, see how the better models perform."
      ],
      "metadata": {
        "id": "0bMh6OF9pQrw"
      }
    },
    {
      "cell_type": "code",
      "source": [
        "for model, results  in tuning_results.items():\n",
        "  for model_type, result in results.items():\n",
        "    (best_model, best_params, all_results) = result\n",
        "    print(f'{model_type} best params', best_params)"
      ],
      "metadata": {
        "colab": {
          "base_uri": "https://localhost:8080/"
        },
        "id": "IjoRc6lQY_Up",
        "outputId": "7220778c-5451-4e68-c1c8-1d6e8106c04d"
      },
      "execution_count": null,
      "outputs": [
        {
          "output_type": "stream",
          "name": "stdout",
          "text": [
            "Modded Graph Conv Featurizer best params {'dropout': 0.2, 'predictor_dropout': 0.2, 'learning_rate': 0.0001, 'predictor_hidden_feats': 640}\n",
            "Modded Circular Fingerprint best params {'dropout': 0.9, 'learning_rate': 0.001, 'layers': 1, 'units': 2000}\n"
          ]
        }
      ]
    },
    {
      "cell_type": "code",
      "source": [
        "# Pure Data Driven (would be top)\n",
        "# No docking or anything else\n",
        "\n",
        "optimized_DNN_VINA_model = DNN_wrapper(log_frequency=1, **tuning_results['vina']['Circular Fingerprint'][1])\n",
        "optimized_GCN_VINA_model = deepchem.models.GCNModel(n_tasks=1, number_atom_features=30, mode=\"regression\", log_frequency=1, **tuning_results['vina']['Graph Conv Featurizer'][1])\n",
        "\n",
        "# slightly more physics\n",
        "optimized_DNN_VM2_model = DNN_wrapper(**tuning_results['vm2']['Circular Fingerprint'][1])\n",
        "optimized_GCN_VM2_model = deepchem.models.GCNModel(n_tasks=1, number_atom_features=30, mode=\"regression\", log_frequency=1, **tuning_results['vm2']['Graph Conv Featurizer'][1])\n",
        "\n",
        "# pure hybird\n",
        "optimized_PGGCN_VM2_model = deepchem.models.GCNModel(n_tasks=1, number_atom_features=31, mode=\"regression\", log_frequency=1, **tuning_results['vm2']['Modded Graph Conv Featurizer'][1])\n",
        "optimized_PGDNN_VM2_model = PGDNN_wrapper(log_frequency=1, **tuning_results['vm2']['Modded Circular Fingerprint'][1])\n",
        "\n",
        "# pure physics\n",
        "# VM2"
      ],
      "metadata": {
        "id": "U5pZekwxsWTp"
      },
      "execution_count": null,
      "outputs": []
    },
    {
      "cell_type": "code",
      "source": [
        "opt_losses = defaultdict(dict)\n",
        "\n",
        "metrics_data = defaultdict(dict)\n",
        "\n",
        "for dock_type, input_datasets in datasets.items():\n",
        "  for featureizer_type, dataset in input_datasets.items():\n",
        "    print(f'training with data from {dock_type} for: {featureizer_type}')\n",
        "    model = None # Will be populated based on Featurizer\n",
        "    \n",
        "    if featureizer_type == 'Circular Fingerprint' and dock_type == 'vm2':\n",
        "      model = optimized_DNN_VM2_model\n",
        "    elif featureizer_type == 'Circular Fingerprint' and dock_type == 'vina':\n",
        "      model = optimized_DNN_VINA_model\n",
        "\n",
        "    elif featureizer_type == 'Graph Conv Featurizer' and dock_type == 'vm2':\n",
        "      model = optimized_GCN_VM2_model\n",
        "    elif featureizer_type == 'Graph Conv Featurizer' and dock_type == 'vina':\n",
        "      model = optimized_GCN_VINA_model\n",
        "\n",
        "    elif featureizer_type == 'Modded Graph Conv Featurizer':\n",
        "      model = optimized_PGGCN_VM2_model\n",
        "\n",
        "    elif featureizer_type == 'Modded Circular Fingerprint':\n",
        "      model = optimized_PGDNN_VM2_model\n",
        "\n",
        "    elif featureizer_type == 'Linear Regression':\n",
        "      model = linear_model\n",
        "    \n",
        "    # instead of doing a single test/train split, we'll do folding instead\n",
        "    #train_dataset, test_dataset = splitter.train_test_split(dataset)\n",
        "\n",
        "    # We'll collect the folds, and perfold, train / Eval the model\n",
        "    folds = splitter.k_fold_split(dataset, K)\n",
        "    fold_id = 0\n",
        "    metrics_data[dock_type][featureizer_type] = []\n",
        "    opt_losses[dock_type][featureizer_type] = defaultdict(list)\n",
        "\n",
        "    for fold_dataset in folds:\n",
        "      fold_id += 1\n",
        "      train_dataset, test_dataset = fold_dataset\n",
        "      if 'Linear Regression' not in featureizer_type:\n",
        "        model.fit(train_dataset, nb_epoch=100, all_losses=opt_losses[dock_type][featureizer_type][fold_id])\n",
        "      else:\n",
        "        model.fit(train_dataset)\n",
        "\n",
        "      # record the data for extraction later\n",
        "      metrics_data[dock_type][featureizer_type].append((model.evaluate(train_dataset, metrics),model.evaluate(test_dataset, metrics)))\n",
        "\n",
        "      # print out the metrics for user\n",
        "      #print(f'Performance on training set, fold {fold_id}:', model.evaluate(train_dataset, metrics))\n",
        "      #print(f'Performance on testing set, fold {fold_id}:', model.evaluate(test_dataset, metrics))\n",
        "\n",
        "      print(f'collected data for fold {fold_id}')"
      ],
      "metadata": {
        "colab": {
          "base_uri": "https://localhost:8080/"
        },
        "id": "wZjg6w46uOXP",
        "outputId": "a9b14a46-9774-4125-d82e-4875ee14afba"
      },
      "execution_count": null,
      "outputs": [
        {
          "output_type": "stream",
          "name": "stdout",
          "text": [
            "training with data from vm2 for: Circular Fingerprint\n",
            "collected data for fold 1\n",
            "collected data for fold 2\n",
            "collected data for fold 3\n",
            "collected data for fold 4\n",
            "collected data for fold 5\n",
            "training with data from vm2 for: Graph Conv Featurizer\n"
          ]
        },
        {
          "output_type": "stream",
          "name": "stderr",
          "text": [
            "/usr/local/lib/python3.7/site-packages/torch/amp/autocast_mode.py:198: UserWarning: User provided device_type of 'cuda', but CUDA is not available. Disabling\n",
            "  warnings.warn('User provided device_type of \\'cuda\\', but CUDA is not available. Disabling')\n"
          ]
        },
        {
          "output_type": "stream",
          "name": "stdout",
          "text": [
            "collected data for fold 1\n"
          ]
        },
        {
          "output_type": "stream",
          "name": "stderr",
          "text": [
            "/usr/local/lib/python3.7/site-packages/torch/amp/autocast_mode.py:198: UserWarning: User provided device_type of 'cuda', but CUDA is not available. Disabling\n",
            "  warnings.warn('User provided device_type of \\'cuda\\', but CUDA is not available. Disabling')\n"
          ]
        },
        {
          "output_type": "stream",
          "name": "stdout",
          "text": [
            "collected data for fold 2\n"
          ]
        },
        {
          "output_type": "stream",
          "name": "stderr",
          "text": [
            "/usr/local/lib/python3.7/site-packages/torch/amp/autocast_mode.py:198: UserWarning: User provided device_type of 'cuda', but CUDA is not available. Disabling\n",
            "  warnings.warn('User provided device_type of \\'cuda\\', but CUDA is not available. Disabling')\n"
          ]
        },
        {
          "output_type": "stream",
          "name": "stdout",
          "text": [
            "collected data for fold 3\n"
          ]
        },
        {
          "output_type": "stream",
          "name": "stderr",
          "text": [
            "/usr/local/lib/python3.7/site-packages/torch/amp/autocast_mode.py:198: UserWarning: User provided device_type of 'cuda', but CUDA is not available. Disabling\n",
            "  warnings.warn('User provided device_type of \\'cuda\\', but CUDA is not available. Disabling')\n"
          ]
        },
        {
          "output_type": "stream",
          "name": "stdout",
          "text": [
            "collected data for fold 4\n"
          ]
        },
        {
          "output_type": "stream",
          "name": "stderr",
          "text": [
            "/usr/local/lib/python3.7/site-packages/torch/amp/autocast_mode.py:198: UserWarning: User provided device_type of 'cuda', but CUDA is not available. Disabling\n",
            "  warnings.warn('User provided device_type of \\'cuda\\', but CUDA is not available. Disabling')\n"
          ]
        },
        {
          "output_type": "stream",
          "name": "stdout",
          "text": [
            "collected data for fold 5\n",
            "training with data from vm2 for: Modded Graph Conv Featurizer\n"
          ]
        },
        {
          "output_type": "stream",
          "name": "stderr",
          "text": [
            "/usr/local/lib/python3.7/site-packages/torch/amp/autocast_mode.py:198: UserWarning: User provided device_type of 'cuda', but CUDA is not available. Disabling\n",
            "  warnings.warn('User provided device_type of \\'cuda\\', but CUDA is not available. Disabling')\n"
          ]
        },
        {
          "output_type": "stream",
          "name": "stdout",
          "text": [
            "collected data for fold 1\n"
          ]
        },
        {
          "output_type": "stream",
          "name": "stderr",
          "text": [
            "/usr/local/lib/python3.7/site-packages/torch/amp/autocast_mode.py:198: UserWarning: User provided device_type of 'cuda', but CUDA is not available. Disabling\n",
            "  warnings.warn('User provided device_type of \\'cuda\\', but CUDA is not available. Disabling')\n"
          ]
        },
        {
          "output_type": "stream",
          "name": "stdout",
          "text": [
            "collected data for fold 2\n"
          ]
        },
        {
          "output_type": "stream",
          "name": "stderr",
          "text": [
            "/usr/local/lib/python3.7/site-packages/torch/amp/autocast_mode.py:198: UserWarning: User provided device_type of 'cuda', but CUDA is not available. Disabling\n",
            "  warnings.warn('User provided device_type of \\'cuda\\', but CUDA is not available. Disabling')\n"
          ]
        },
        {
          "output_type": "stream",
          "name": "stdout",
          "text": [
            "collected data for fold 3\n"
          ]
        },
        {
          "output_type": "stream",
          "name": "stderr",
          "text": [
            "/usr/local/lib/python3.7/site-packages/torch/amp/autocast_mode.py:198: UserWarning: User provided device_type of 'cuda', but CUDA is not available. Disabling\n",
            "  warnings.warn('User provided device_type of \\'cuda\\', but CUDA is not available. Disabling')\n"
          ]
        },
        {
          "output_type": "stream",
          "name": "stdout",
          "text": [
            "collected data for fold 4\n"
          ]
        },
        {
          "output_type": "stream",
          "name": "stderr",
          "text": [
            "/usr/local/lib/python3.7/site-packages/torch/amp/autocast_mode.py:198: UserWarning: User provided device_type of 'cuda', but CUDA is not available. Disabling\n",
            "  warnings.warn('User provided device_type of \\'cuda\\', but CUDA is not available. Disabling')\n"
          ]
        },
        {
          "output_type": "stream",
          "name": "stdout",
          "text": [
            "collected data for fold 5\n",
            "training with data from vm2 for: Modded Circular Fingerprint\n",
            "collected data for fold 1\n",
            "collected data for fold 2\n",
            "collected data for fold 3\n",
            "collected data for fold 4\n",
            "collected data for fold 5\n",
            "training with data from vina for: Circular Fingerprint\n",
            "collected data for fold 1\n",
            "collected data for fold 2\n",
            "collected data for fold 3\n",
            "collected data for fold 4\n",
            "collected data for fold 5\n",
            "training with data from vina for: Graph Conv Featurizer\n"
          ]
        },
        {
          "output_type": "stream",
          "name": "stderr",
          "text": [
            "/usr/local/lib/python3.7/site-packages/torch/amp/autocast_mode.py:198: UserWarning: User provided device_type of 'cuda', but CUDA is not available. Disabling\n",
            "  warnings.warn('User provided device_type of \\'cuda\\', but CUDA is not available. Disabling')\n"
          ]
        },
        {
          "output_type": "stream",
          "name": "stdout",
          "text": [
            "collected data for fold 1\n"
          ]
        },
        {
          "output_type": "stream",
          "name": "stderr",
          "text": [
            "/usr/local/lib/python3.7/site-packages/torch/amp/autocast_mode.py:198: UserWarning: User provided device_type of 'cuda', but CUDA is not available. Disabling\n",
            "  warnings.warn('User provided device_type of \\'cuda\\', but CUDA is not available. Disabling')\n"
          ]
        },
        {
          "output_type": "stream",
          "name": "stdout",
          "text": [
            "collected data for fold 2\n"
          ]
        },
        {
          "output_type": "stream",
          "name": "stderr",
          "text": [
            "/usr/local/lib/python3.7/site-packages/torch/amp/autocast_mode.py:198: UserWarning: User provided device_type of 'cuda', but CUDA is not available. Disabling\n",
            "  warnings.warn('User provided device_type of \\'cuda\\', but CUDA is not available. Disabling')\n"
          ]
        },
        {
          "output_type": "stream",
          "name": "stdout",
          "text": [
            "collected data for fold 3\n"
          ]
        },
        {
          "output_type": "stream",
          "name": "stderr",
          "text": [
            "/usr/local/lib/python3.7/site-packages/torch/amp/autocast_mode.py:198: UserWarning: User provided device_type of 'cuda', but CUDA is not available. Disabling\n",
            "  warnings.warn('User provided device_type of \\'cuda\\', but CUDA is not available. Disabling')\n"
          ]
        },
        {
          "output_type": "stream",
          "name": "stdout",
          "text": [
            "collected data for fold 4\n"
          ]
        },
        {
          "output_type": "stream",
          "name": "stderr",
          "text": [
            "/usr/local/lib/python3.7/site-packages/torch/amp/autocast_mode.py:198: UserWarning: User provided device_type of 'cuda', but CUDA is not available. Disabling\n",
            "  warnings.warn('User provided device_type of \\'cuda\\', but CUDA is not available. Disabling')\n"
          ]
        },
        {
          "output_type": "stream",
          "name": "stdout",
          "text": [
            "collected data for fold 5\n"
          ]
        }
      ]
    },
    {
      "cell_type": "code",
      "source": [
        "final_metrics = defaultdict(dict)\n",
        "\n",
        "for dock_type, metrics_for_dock in metrics_data.items():\n",
        "  for featuerizer in metrics_for_dock:\n",
        "    df = pandas.DataFrame.from_dict(metrics_data[dock_type][featuerizer])\n",
        "    training = pandas.DataFrame.from_dict( dict(df[0]) )\n",
        "    test = pandas.DataFrame.from_dict( dict(df[1]) )\n",
        "    final_metrics[dock_type][featuerizer] = (training, test)"
      ],
      "metadata": {
        "id": "wBokSStpvPH0"
      },
      "execution_count": null,
      "outputs": []
    },
    {
      "cell_type": "code",
      "source": [
        "model_lookup = {\n",
        "    'Circular Fingerprint': 'DNN',\n",
        "    'Graph Conv Featurizer': 'GCN',\n",
        "    'Modded Graph Conv Featurizer': 'PG-GCN',\n",
        "    'Modded Circular Fingerprint': 'PG-DNN'\n",
        "}\n",
        "\n",
        "print('VM2 Based Data (physics guided)')\n",
        "for model, (training_data, test_data) in final_metrics['vm2'].items():\n",
        "  print(f'Test data {model_lookup[model]} folded {K} times: Mean')\n",
        "  print(test_data.mean(axis=1))\n",
        "\n",
        "for model, (training_data, test_data) in final_metrics['vm2'].items():\n",
        "  print(f'Training data {model_lookup[model]} folded {K} times: Mean')\n",
        "  print(test_data.mean(axis=1))\n",
        "\n",
        "print('Baseline - Vina Docked')\n",
        "for model, (training_data, test_data) in final_metrics['vina'].items():\n",
        "  print(f'Test data {model_lookup[model]} folded {K} times: Mean')\n",
        "  print(test_data.mean(axis=1))\n",
        "\n",
        "for model, (training_data, test_data) in final_metrics['vina'].items():\n",
        "  print(f'Training data {model_lookup[model]} folded {K} times: Mean')\n",
        "  print(test_data.mean(axis=1))"
      ],
      "metadata": {
        "colab": {
          "base_uri": "https://localhost:8080/",
          "height": 259
        },
        "id": "fxMAc2-7vXqE",
        "outputId": "a89fbb0f-287c-41ce-b7dd-ad9122ce52f1"
      },
      "execution_count": null,
      "outputs": [
        {
          "output_type": "stream",
          "name": "stdout",
          "text": [
            "VM2 Based Data (physics guided)\n"
          ]
        },
        {
          "output_type": "error",
          "ename": "NameError",
          "evalue": "ignored",
          "traceback": [
            "\u001b[0;31m---------------------------------------------------------------------------\u001b[0m",
            "\u001b[0;31mNameError\u001b[0m                                 Traceback (most recent call last)",
            "\u001b[0;32m<ipython-input-1-d4078ed99085>\u001b[0m in \u001b[0;36m<module>\u001b[0;34m\u001b[0m\n\u001b[1;32m      7\u001b[0m \u001b[0;34m\u001b[0m\u001b[0m\n\u001b[1;32m      8\u001b[0m \u001b[0mprint\u001b[0m\u001b[0;34m(\u001b[0m\u001b[0;34m'VM2 Based Data (physics guided)'\u001b[0m\u001b[0;34m)\u001b[0m\u001b[0;34m\u001b[0m\u001b[0;34m\u001b[0m\u001b[0m\n\u001b[0;32m----> 9\u001b[0;31m \u001b[0;32mfor\u001b[0m \u001b[0mmodel\u001b[0m\u001b[0;34m,\u001b[0m \u001b[0;34m(\u001b[0m\u001b[0mtraining_data\u001b[0m\u001b[0;34m,\u001b[0m \u001b[0mtest_data\u001b[0m\u001b[0;34m)\u001b[0m \u001b[0;32min\u001b[0m \u001b[0mfinal_metrics\u001b[0m\u001b[0;34m[\u001b[0m\u001b[0;34m'vm2'\u001b[0m\u001b[0;34m]\u001b[0m\u001b[0;34m.\u001b[0m\u001b[0mitems\u001b[0m\u001b[0;34m(\u001b[0m\u001b[0;34m)\u001b[0m\u001b[0;34m:\u001b[0m\u001b[0;34m\u001b[0m\u001b[0;34m\u001b[0m\u001b[0m\n\u001b[0m\u001b[1;32m     10\u001b[0m   \u001b[0mprint\u001b[0m\u001b[0;34m(\u001b[0m\u001b[0;34mf'Test data {model_lookup[model]} folded {K} times: Mean'\u001b[0m\u001b[0;34m)\u001b[0m\u001b[0;34m\u001b[0m\u001b[0;34m\u001b[0m\u001b[0m\n\u001b[1;32m     11\u001b[0m   \u001b[0mprint\u001b[0m\u001b[0;34m(\u001b[0m\u001b[0mtest_data\u001b[0m\u001b[0;34m.\u001b[0m\u001b[0mmean\u001b[0m\u001b[0;34m(\u001b[0m\u001b[0maxis\u001b[0m\u001b[0;34m=\u001b[0m\u001b[0;36m1\u001b[0m\u001b[0;34m)\u001b[0m\u001b[0;34m)\u001b[0m\u001b[0;34m\u001b[0m\u001b[0;34m\u001b[0m\u001b[0m\n",
            "\u001b[0;31mNameError\u001b[0m: name 'final_metrics' is not defined"
          ]
        }
      ]
    },
    {
      "cell_type": "code",
      "source": [
        "tuning_results['vm2']['Modded Circular Fingerprint'][1]"
      ],
      "metadata": {
        "colab": {
          "base_uri": "https://localhost:8080/"
        },
        "id": "NAHYjM8boohw",
        "outputId": "abb45ddc-6a08-4463-83be-18afc91a29e4"
      },
      "execution_count": null,
      "outputs": [
        {
          "output_type": "execute_result",
          "data": {
            "text/plain": [
              "{'dropout': 0.0, 'learning_rate': 0.001, 'layers': 151, 'units': 2000}"
            ]
          },
          "metadata": {},
          "execution_count": 32
        }
      ]
    },
    {
      "cell_type": "markdown",
      "source": [
        "Finally, print out the loss over epochs"
      ],
      "metadata": {
        "id": "IJ31a9zxwtOX"
      }
    },
    {
      "cell_type": "code",
      "execution_count": null,
      "metadata": {
        "colab": {
          "base_uri": "https://localhost:8080/",
          "height": 219
        },
        "outputId": "4ecce16a-e8ae-45a4-d842-aa09b0c599f6",
        "id": "ykBLxqqsww9j"
      },
      "outputs": [
        {
          "output_type": "error",
          "ename": "NameError",
          "evalue": "ignored",
          "traceback": [
            "\u001b[0;31m---------------------------------------------------------------------------\u001b[0m",
            "\u001b[0;31mNameError\u001b[0m                                 Traceback (most recent call last)",
            "\u001b[0;32m<ipython-input-170-e5f743ce0645>\u001b[0m in \u001b[0;36m<module>\u001b[0;34m\u001b[0m\n\u001b[1;32m      3\u001b[0m \u001b[0;34m\u001b[0m\u001b[0m\n\u001b[1;32m      4\u001b[0m \u001b[0;31m# First set up the figure, the axis, and the plot element we want to animate\u001b[0m\u001b[0;34m\u001b[0m\u001b[0;34m\u001b[0m\u001b[0;34m\u001b[0m\u001b[0m\n\u001b[0;32m----> 5\u001b[0;31m \u001b[0mpyplot\u001b[0m\u001b[0;34m.\u001b[0m\u001b[0mplot\u001b[0m\u001b[0;34m(\u001b[0m\u001b[0mopt_losses\u001b[0m\u001b[0;34m[\u001b[0m\u001b[0;34m'vina'\u001b[0m\u001b[0;34m]\u001b[0m\u001b[0;34m[\u001b[0m\u001b[0;34m'Circular Fingerprint'\u001b[0m\u001b[0;34m]\u001b[0m\u001b[0;34m[\u001b[0m\u001b[0;36m2\u001b[0m\u001b[0;34m]\u001b[0m\u001b[0;34m)\u001b[0m\u001b[0;34m\u001b[0m\u001b[0;34m\u001b[0m\u001b[0m\n\u001b[0m\u001b[1;32m      6\u001b[0m \u001b[0mpyplot\u001b[0m\u001b[0;34m.\u001b[0m\u001b[0mshow\u001b[0m\u001b[0;34m(\u001b[0m\u001b[0;34m)\u001b[0m\u001b[0;34m\u001b[0m\u001b[0;34m\u001b[0m\u001b[0m\n",
            "\u001b[0;31mNameError\u001b[0m: name 'opt_losses' is not defined"
          ]
        }
      ],
      "source": [
        "from matplotlib import animation, rc, pyplot\n",
        "from IPython.display import HTML\n",
        "\n",
        "# First set up the figure, the axis, and the plot element we want to animate\n",
        "pyplot.plot(opt_losses['vina']['Circular Fingerprint'][2])\n",
        "pyplot.show()"
      ]
    },
    {
      "cell_type": "code",
      "source": [
        "opt_losses"
      ],
      "metadata": {
        "id": "3nzCc0lnw3-n"
      },
      "execution_count": null,
      "outputs": []
    },
    {
      "cell_type": "markdown",
      "metadata": {
        "id": "NAlMd-cUgj0v"
      },
      "source": [
        "\n",
        "\n",
        "---\n",
        "Future Work! Replacment of the Loss function with a Physics guided version.\n",
        "Up until now we've basically done 1/2 of what a regular physics guided network does. We've introduced a feature that's calculated from a regular physics model. However, to fully realize the knowledged in a regular physics model, we should encourage the nueral network to favor following gradients that are physically consistent. This is what the below is all about!\n"
      ]
    },
    {
      "cell_type": "markdown",
      "metadata": {
        "id": "vUa24Tc939hM"
      },
      "source": [
        "Loss function/objective function is a key element of a physics informed/derived neural network. The loss function will include elements related to physics properties of entropy calculations.\n",
        "The idea here is to imbue some knowledge into how the loss function functions beyond looking at prediction and ground truth - ideally resulting in a quicker convergence of the overall model enabling lower volume of data needed to train the network.\n",
        "We'll also be using data training techiques to further stretch what data we have further - in order to create the most general model possible. Our goal is to do Leave One Out Cross Validation with the data we have."
      ]
    },
    {
      "cell_type": "code",
      "execution_count": null,
      "metadata": {
        "id": "hY41c4vQ-Ydg"
      },
      "outputs": [],
      "source": [
        "class PhysicsGuidedLoss(deepchem.models.losses.Loss):\n",
        "  # This Loss function does L2Loss along with some Physics Guided\n",
        "  # consistency parameters to enable rapid convergence with the\n",
        "  # limited dataset we have to train on.\n",
        "\n",
        "  def _compute_tf_loss(self, output, labels):\n",
        "    import tensorflow as tf\n",
        "    output, labels = _make_tf_shapes_consistent(output, labels)\n",
        "    output, labels = _ensure_float(output, labels)\n",
        "    return tf.square(output - labels)\n",
        "\n",
        "  def _create_pytorch_loss(self):\n",
        "    import torch\n",
        "\n",
        "    def loss(output, labels):\n",
        "      output, labels = _make_pytorch_shapes_consistent(output, labels)\n",
        "      return torch.nn.functional.mse_loss(output, labels, reduction='none')\n",
        "\n",
        "    return loss"
      ]
    },
    {
      "cell_type": "markdown",
      "metadata": {
        "id": "LwCYQBa1-ZQH"
      },
      "source": [
        "Finally, we wrap this into an actual deep chem model - which couples the loss function with the rest of the network. \n",
        "The Deepchem model is designed to work with the rest of the deepchem tool set (including training, batching, etc)"
      ]
    },
    {
      "cell_type": "code",
      "execution_count": null,
      "metadata": {
        "colab": {
          "base_uri": "https://localhost:8080/",
          "height": 168
        },
        "id": "r3nqu6Kq5qU6",
        "outputId": "d3ee5f96-c01e-4585-ff44-454d563f8807"
      },
      "outputs": [
        {
          "ename": "NameError",
          "evalue": "ignored",
          "output_type": "error",
          "traceback": [
            "\u001b[0;31m---------------------------------------------------------------------------\u001b[0m",
            "\u001b[0;31mNameError\u001b[0m                                 Traceback (most recent call last)",
            "\u001b[0;32m<ipython-input-31-a51b6558fd12>\u001b[0m in \u001b[0;36m<module>\u001b[0;34m()\u001b[0m\n\u001b[0;32m----> 1\u001b[0;31m \u001b[0mmodel\u001b[0m \u001b[0;34m=\u001b[0m \u001b[0mdeepchem\u001b[0m\u001b[0;34m.\u001b[0m\u001b[0mmodels\u001b[0m\u001b[0;34m.\u001b[0m\u001b[0mTorchModel\u001b[0m\u001b[0;34m(\u001b[0m\u001b[0mpytorch_model\u001b[0m\u001b[0;34m,\u001b[0m \u001b[0mPhysicsGuidedLoss\u001b[0m\u001b[0;34m(\u001b[0m\u001b[0;34m)\u001b[0m\u001b[0;34m)\u001b[0m\u001b[0;34m\u001b[0m\u001b[0;34m\u001b[0m\u001b[0m\n\u001b[0m",
            "\u001b[0;31mNameError\u001b[0m: name 'PhysicsGuidedLoss' is not defined"
          ]
        }
      ],
      "source": [
        "#model = deepchem.models.TorchModel(pytorch_model, PhysicsGuidedLoss())"
      ]
    },
    {
      "cell_type": "markdown",
      "metadata": {
        "id": "Rd9XTCTXnXy0"
      },
      "source": [
        "Until we have the loss function set up to be physics guided - we'll just add in physics features into the input vector space. What this means is that "
      ]
    }
  ],
  "metadata": {
    "colab": {
      "collapsed_sections": [],
      "provenance": [],
      "mount_file_id": "1_1pgpFg__y-9lt3rgdLXBygnLDoQhlAt",
      "authorship_tag": "ABX9TyOlnd/2ubh8aPopkoo8cFo9",
      "include_colab_link": true
    },
    "kernelspec": {
      "display_name": "Python 3",
      "name": "python3"
    },
    "language_info": {
      "name": "python"
    },
    "gpuClass": "standard"
  },
  "nbformat": 4,
  "nbformat_minor": 0
}