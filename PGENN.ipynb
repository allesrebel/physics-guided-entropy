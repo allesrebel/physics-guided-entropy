{
  "cells": [
    {
      "cell_type": "markdown",
      "metadata": {
        "id": "view-in-github",
        "colab_type": "text"
      },
      "source": [
        "<a href=\"https://colab.research.google.com/github/allesrebel/physics-guided-entropy/blob/main/PGENN.ipynb\" target=\"_parent\"><img src=\"https://colab.research.google.com/assets/colab-badge.svg\" alt=\"Open In Colab\"/></a>"
      ]
    },
    {
      "cell_type": "markdown",
      "metadata": {
        "id": "f0OAV-rVhvNL"
      },
      "source": [
        "# Install Conda on Google Colab\n",
        "\n",
        "<!-- By Jaime Rodríguez-Guerra <@jaimergp>. Last modified 2021.08.04 -->\n",
        "\n",
        "`condacolab` simplifies the setup as much as possible, but there are some gotchas.\n",
        "\n",
        "**⚠️ Read this before continuing!**\n",
        "\n",
        "* The `condacolab` commands need to be run the first Code cell!\n",
        "* Once you run `condacolab.install()`, the Python kernel will be restarted. This is **normal and expected**. After that, you can continue running the cells below like normal.\n",
        "* Do not use the `Run all` option. Run the `condacolab` cell _individually_ and wait for the kernel to restart. **Only then**, you can run all cells if you want.\n",
        "* You can only use the `base` environment. Do not try to create new ones; instead update `base` with either:\n",
        "  * `conda install <packages>`\n",
        "  * `conda env update -n base -f environment.yml`\n",
        "* If you want to use GPUs, make sure you are using such an instance before starting!\n",
        "* If you get an error, please raise an issue [here](https://github.com/jaimergp/condacolab/issues)."
      ]
    },
    {
      "cell_type": "code",
      "execution_count": 2,
      "metadata": {
        "colab": {
          "base_uri": "https://localhost:8080/"
        },
        "id": "dzta91EUZnfn",
        "outputId": "efcbe69f-43c1-4eae-f89d-72b5625d848c"
      },
      "outputs": [
        {
          "output_type": "stream",
          "name": "stdout",
          "text": [
            "⏬ Downloading https://github.com/jaimergp/miniforge/releases/latest/download/Mambaforge-colab-Linux-x86_64.sh...\n",
            "📦 Installing...\n",
            "📌 Adjusting configuration...\n",
            "🩹 Patching environment...\n",
            "⏲ Done in 0:00:37\n",
            "🔁 Restarting kernel...\n"
          ]
        }
      ],
      "source": [
        "!pip install -q condacolab\n",
        "import condacolab\n",
        "condacolab.install()"
      ]
    },
    {
      "cell_type": "code",
      "execution_count": 2,
      "metadata": {
        "id": "PQxo5b4kiiWt",
        "colab": {
          "base_uri": "https://localhost:8080/"
        },
        "outputId": "10d1a0ee-67c6-4172-a303-edd475d18caa"
      },
      "outputs": [
        {
          "output_type": "stream",
          "name": "stdout",
          "text": [
            "✨🍰✨ Everything looks OK!\n"
          ]
        }
      ],
      "source": [
        "import condacolab\n",
        "condacolab.check()"
      ]
    },
    {
      "cell_type": "markdown",
      "metadata": {
        "id": "_HDNggG4Ymvv"
      },
      "source": [
        "# PGENN\n",
        "After Conda is online - we can now start installing the dependencies for this tool. We'll install the tools and featurize a bunch of PDB files. We'll extract spacial features using existing featurizers built into deepchem, and couple that with a computationally expensive method called VM2."
      ]
    },
    {
      "cell_type": "code",
      "execution_count": 3,
      "metadata": {
        "colab": {
          "base_uri": "https://localhost:8080/"
        },
        "id": "-f0BNscMlG5n",
        "outputId": "6231e99b-8154-4e3e-80f6-ae154e7d3e98"
      },
      "outputs": [
        {
          "output_type": "stream",
          "name": "stdout",
          "text": [
            "\n",
            "                  __    __    __    __\n",
            "                 /  \\  /  \\  /  \\  /  \\\n",
            "                /    \\/    \\/    \\/    \\\n",
            "███████████████/  /██/  /██/  /██/  /████████████████████████\n",
            "              /  / \\   / \\   / \\   / \\  \\____\n",
            "             /  /   \\_/   \\_/   \\_/   \\    o \\__,\n",
            "            / _/                       \\_____/  `\n",
            "            |/\n",
            "        ███╗   ███╗ █████╗ ███╗   ███╗██████╗  █████╗\n",
            "        ████╗ ████║██╔══██╗████╗ ████║██╔══██╗██╔══██╗\n",
            "        ██╔████╔██║███████║██╔████╔██║██████╔╝███████║\n",
            "        ██║╚██╔╝██║██╔══██║██║╚██╔╝██║██╔══██╗██╔══██║\n",
            "        ██║ ╚═╝ ██║██║  ██║██║ ╚═╝ ██║██████╔╝██║  ██║\n",
            "        ╚═╝     ╚═╝╚═╝  ╚═╝╚═╝     ╚═╝╚═════╝ ╚═╝  ╚═╝\n",
            "\n",
            "        mamba (0.25.0) supported by @QuantStack\n",
            "\n",
            "        GitHub:  https://github.com/mamba-org/mamba\n",
            "        Twitter: https://twitter.com/QuantStack\n",
            "\n",
            "█████████████████████████████████████████████████████████████\n",
            "\n",
            "  Package                        Version  Build                Channel                   Size\n",
            "───────────────────────────────────────────────────────────────────────────────────────────────\n",
            "  Install:\n",
            "───────────────────────────────────────────────────────────────────────────────────────────────\n",
            "\n",
            "\u001b[32m  + boost-cpp                \u001b[00m     1.74.0  h75c5d50_8           conda-forge/linux-64      17MB\n",
            "\u001b[32m  + cairo                    \u001b[00m     1.16.0  ha61ee94_1014        conda-forge/linux-64       2MB\n",
            "\u001b[32m  + cudatoolkit              \u001b[00m     11.2.2  hbe64b41_10          conda-forge/linux-64     919MB\n",
            "\u001b[32m  + deepchem                 \u001b[00m      2.6.1  pyhd8ed1ab_0         conda-forge/noarch       409kB\n",
            "\u001b[32m  + expat                    \u001b[00m      2.5.0  h27087fc_0           conda-forge/linux-64     194kB\n",
            "\u001b[32m  + fftw                     \u001b[00m     3.3.10  nompi_hf0379b8_105   conda-forge/linux-64       2MB\n",
            "\u001b[32m  + font-ttf-dejavu-sans-mono\u001b[00m       2.37  hab24e00_0           conda-forge/noarch       397kB\n",
            "\u001b[32m  + font-ttf-inconsolata     \u001b[00m      3.000  h77eed37_0           conda-forge/noarch        97kB\n",
            "\u001b[32m  + font-ttf-source-code-pro \u001b[00m      2.038  h77eed37_0           conda-forge/noarch       701kB\n",
            "\u001b[32m  + font-ttf-ubuntu          \u001b[00m       0.83  hab24e00_0           conda-forge/noarch         2MB\n",
            "\u001b[32m  + fontconfig               \u001b[00m     2.14.0  hc2a2eb6_1           conda-forge/linux-64     325kB\n",
            "\u001b[32m  + fonts-conda-ecosystem    \u001b[00m          1  0                    conda-forge/noarch         4kB\n",
            "\u001b[32m  + fonts-conda-forge        \u001b[00m          1  0                    conda-forge/noarch         4kB\n",
            "\u001b[32m  + freetype                 \u001b[00m     2.12.1  hca18f0e_0           conda-forge/linux-64     905kB\n",
            "\u001b[32m  + gettext                  \u001b[00m     0.21.1  h27087fc_0           conda-forge/linux-64       4MB\n",
            "\u001b[32m  + joblib                   \u001b[00m      1.2.0  pyhd8ed1ab_0         conda-forge/noarch       210kB\n",
            "\u001b[32m  + libblas                  \u001b[00m      3.9.0  16_linux64_openblas  conda-forge/linux-64      13kB\n",
            "\u001b[32m  + libcblas                 \u001b[00m      3.9.0  16_linux64_openblas  conda-forge/linux-64      13kB\n",
            "\u001b[32m  + libgfortran-ng           \u001b[00m     12.2.0  h69a702a_19          conda-forge/linux-64      23kB\n",
            "\u001b[32m  + libgfortran5             \u001b[00m     12.2.0  h337968e_19          conda-forge/linux-64       2MB\n",
            "\u001b[32m  + libglib                  \u001b[00m     2.72.1  h2d90d5f_0           conda-forge/linux-64       3MB\n",
            "\u001b[32m  + liblapack                \u001b[00m      3.9.0  16_linux64_openblas  conda-forge/linux-64      13kB\n",
            "\u001b[32m  + libopenblas              \u001b[00m     0.3.21  pthreads_h78a6416_3  conda-forge/linux-64      11MB\n",
            "\u001b[32m  + libpng                   \u001b[00m     1.6.38  h753d276_0           conda-forge/linux-64     380kB\n",
            "\u001b[32m  + libprotobuf              \u001b[00m     3.21.7  h6239696_0           conda-forge/linux-64       3MB\n",
            "\u001b[32m  + libuuid                  \u001b[00m     2.32.1  h7f98852_1000        conda-forge/linux-64      28kB\n",
            "\u001b[32m  + libxcb                   \u001b[00m       1.13  h7f98852_1004        conda-forge/linux-64     400kB\n",
            "\u001b[32m  + llvm-openmp              \u001b[00m     14.0.4  he0ac6c6_0           conda-forge/linux-64       6MB\n",
            "\u001b[32m  + mkl                      \u001b[00m   2022.1.0  h84fe81f_915         conda-forge/linux-64     209MB\n",
            "\u001b[32m  + ninja                    \u001b[00m     1.11.0  h924138e_0           conda-forge/linux-64       3MB\n",
            "\u001b[32m  + numpy                    \u001b[00m     1.21.6  py37h976b520_0       conda-forge/linux-64       6MB\n",
            "\u001b[32m  + ocl-icd                  \u001b[00m      2.3.1  h7f98852_0           conda-forge/linux-64     121kB\n",
            "\u001b[32m  + ocl-icd-system           \u001b[00m      1.0.0  1                    conda-forge/linux-64       4kB\n",
            "\u001b[32m  + openbabel                \u001b[00m      3.1.1  py37ha011765_4       conda-forge/linux-64       6MB\n",
            "\u001b[32m  + openmm                   \u001b[00m      7.7.0  py37h9d45a84_1       conda-forge/linux-64      12MB\n",
            "\u001b[32m  + pandas                   \u001b[00m      1.3.5  py37he8f5f7f_0       conda-forge/linux-64      13MB\n",
            "\u001b[32m  + pcre                     \u001b[00m       8.45  h9c3ff4c_0           conda-forge/linux-64     259kB\n",
            "\u001b[32m  + pdbfixer                 \u001b[00m      1.8.1  pyh6c4a22f_0         conda-forge/noarch       510kB\n",
            "\u001b[32m  + pixman                   \u001b[00m     0.40.0  h36c2ea0_0           conda-forge/linux-64     643kB\n",
            "\u001b[32m  + pthread-stubs            \u001b[00m        0.4  h36c2ea0_1001        conda-forge/linux-64       6kB\n",
            "\u001b[32m  + python-dateutil          \u001b[00m      2.8.2  pyhd8ed1ab_0         conda-forge/noarch       246kB\n",
            "\u001b[32m  + pytorch                  \u001b[00m     1.12.1  cpu_py37h167888a_1   conda-forge/linux-64      68MB\n",
            "\u001b[32m  + pytz                     \u001b[00m     2022.6  pyhd8ed1ab_0         conda-forge/noarch       240kB\n",
            "\u001b[32m  + scikit-learn             \u001b[00m      1.0.2  py37hf9e9bfc_0       conda-forge/linux-64       8MB\n",
            "\u001b[32m  + scipy                    \u001b[00m      1.7.3  py37hf2a6cf1_0       conda-forge/linux-64      23MB\n",
            "\u001b[32m  + sleef                    \u001b[00m      3.5.1  h9b69904_2           conda-forge/linux-64       2MB\n",
            "\u001b[32m  + tbb                      \u001b[00m   2021.6.0  h924138e_1           conda-forge/linux-64       2MB\n",
            "\u001b[32m  + threadpoolctl            \u001b[00m      3.1.0  pyh8a188c0_0         conda-forge/noarch        18kB\n",
            "\u001b[32m  + typing_extensions        \u001b[00m      4.4.0  pyha770c72_0         conda-forge/noarch        30kB\n",
            "\u001b[32m  + vina                     \u001b[00m      1.2.3  py37h76abb25_0       conda-forge/linux-64     768kB\n",
            "\u001b[32m  + xorg-kbproto             \u001b[00m      1.0.7  h7f98852_1002        conda-forge/linux-64      27kB\n",
            "\u001b[32m  + xorg-libice              \u001b[00m     1.0.10  h7f98852_0           conda-forge/linux-64      59kB\n",
            "\u001b[32m  + xorg-libsm               \u001b[00m      1.2.3  hd9c2040_1000        conda-forge/linux-64      26kB\n",
            "\u001b[32m  + xorg-libx11              \u001b[00m      1.7.2  h7f98852_0           conda-forge/linux-64     963kB\n",
            "\u001b[32m  + xorg-libxau              \u001b[00m      1.0.9  h7f98852_0           conda-forge/linux-64      13kB\n",
            "\u001b[32m  + xorg-libxdmcp            \u001b[00m      1.1.3  h7f98852_0           conda-forge/linux-64      19kB\n",
            "\u001b[32m  + xorg-libxext             \u001b[00m      1.3.4  h7f98852_1           conda-forge/linux-64      55kB\n",
            "\u001b[32m  + xorg-libxrender          \u001b[00m     0.9.10  h7f98852_1003        conda-forge/linux-64      33kB\n",
            "\u001b[32m  + xorg-renderproto         \u001b[00m     0.11.1  h7f98852_1002        conda-forge/linux-64      10kB\n",
            "\u001b[32m  + xorg-xextproto           \u001b[00m      7.3.0  h7f98852_1002        conda-forge/linux-64      28kB\n",
            "\u001b[32m  + xorg-xproto              \u001b[00m     7.0.31  h7f98852_1007        conda-forge/linux-64      75kB\n",
            "\u001b[32m  + zlib                     \u001b[00m     1.2.12  h166bdaf_2           conda-forge/linux-64      93kB\n",
            "\n",
            "  Change:\n",
            "───────────────────────────────────────────────────────────────────────────────────────────────\n",
            "\n",
            "\u001b[31m  - _openmp_mutex            \u001b[00m        4.5  2_gnu                conda-forge                   \n",
            "\u001b[32m  + _openmp_mutex            \u001b[00m        4.5  2_kmp_llvm           conda-forge/linux-64       6kB\n",
            "\n",
            "  Upgrade:\n",
            "───────────────────────────────────────────────────────────────────────────────────────────────\n",
            "\n",
            "\u001b[31m  - ca-certificates          \u001b[00m  2022.6.15  ha878542_0           conda-forge                   \n",
            "\u001b[32m  + ca-certificates          \u001b[00m  2022.9.24  ha878542_0           conda-forge/linux-64     154kB\n",
            "\u001b[31m  - certifi                  \u001b[00m  2022.6.15  py37h89c1867_0       conda-forge                   \n",
            "\u001b[32m  + certifi                  \u001b[00m  2022.9.24  pyhd8ed1ab_0         conda-forge/noarch       159kB\n",
            "\u001b[31m  - openssl                  \u001b[00m     1.1.1q  h166bdaf_0           conda-forge                   \n",
            "\u001b[32m  + openssl                  \u001b[00m     1.1.1s  h166bdaf_0           conda-forge/linux-64       2MB\n",
            "\n",
            "  Downgrade:\n",
            "───────────────────────────────────────────────────────────────────────────────────────────────\n",
            "\n",
            "\u001b[31m  - setuptools               \u001b[00m     65.3.0  py37h89c1867_0       conda-forge                   \n",
            "\u001b[32m  + setuptools               \u001b[00m     59.8.0  py37h89c1867_1       conda-forge/linux-64       1MB\n",
            "\n",
            "  Summary:\n",
            "\n",
            "  Install: 62 packages\n",
            "  Change: 1 packages\n",
            "  Upgrade: 3 packages\n",
            "  Downgrade: 1 packages\n",
            "\n",
            "  Total download: 1GB\n",
            "\n",
            "───────────────────────────────────────────────────────────────────────────────────────────────\n",
            "\n",
            "Preparing transaction: ...working... done\n",
            "Verifying transaction: ...working... done\n",
            "Executing transaction: ...working... By downloading and using the CUDA Toolkit conda packages, you accept the terms and conditions of the CUDA End User License Agreement (EULA): https://docs.nvidia.com/cuda/eula/index.html\n",
            "\n",
            "done\n",
            "\u001b[2K     \u001b[90m━━━━━━━━━━━━━━━━━━━━━━━━━━━━━━━━━━━━━━━━\u001b[0m \u001b[32m2.1/2.1 MB\u001b[0m \u001b[31m23.6 MB/s\u001b[0m eta \u001b[36m0:00:00\u001b[0m\n",
            "\u001b[?25h  Installing build dependencies ... \u001b[?25l\u001b[?25hdone\n",
            "  Getting requirements to build wheel ... \u001b[?25l\u001b[?25hdone\n",
            "  Preparing metadata (pyproject.toml) ... \u001b[?25l\u001b[?25hdone\n",
            "\u001b[2K     \u001b[90m━━━━━━━━━━━━━━━━━━━━━━━━━━━━━━━━━━━━━━━━\u001b[0m \u001b[32m5.7/5.7 MB\u001b[0m \u001b[31m62.1 MB/s\u001b[0m eta \u001b[36m0:00:00\u001b[0m\n",
            "\u001b[?25h  Installing build dependencies ... \u001b[?25l\u001b[?25hdone\n",
            "  Getting requirements to build wheel ... \u001b[?25l\u001b[?25hdone\n",
            "  Preparing metadata (pyproject.toml) ... \u001b[?25l\u001b[?25hdone\n",
            "\u001b[2K     \u001b[90m━━━━━━━━━━━━━━━━━━━━━━━━━━━━━━━━━━━━━━━━\u001b[0m \u001b[32m40.6/40.6 MB\u001b[0m \u001b[31m11.6 MB/s\u001b[0m eta \u001b[36m0:00:00\u001b[0m\n",
            "\u001b[?25h  Installing build dependencies ... \u001b[?25l\u001b[?25hdone\n",
            "  Getting requirements to build wheel ... \u001b[?25l\u001b[?25hdone\n",
            "  Installing backend dependencies ... \u001b[?25l\u001b[?25hdone\n",
            "  Preparing metadata (pyproject.toml) ... \u001b[?25l\u001b[?25hdone\n",
            "\u001b[2K     \u001b[90m━━━━━━━━━━━━━━━━━━━━━━━━━━━━━━━━━━━━━━\u001b[0m \u001b[32m220.4/220.4 kB\u001b[0m \u001b[31m19.7 MB/s\u001b[0m eta \u001b[36m0:00:00\u001b[0m\n",
            "\u001b[2K     \u001b[90m━━━━━━━━━━━━━━━━━━━━━━━━━━━━━━━━━━━━━━\u001b[0m \u001b[32m467.0/467.0 kB\u001b[0m \u001b[31m27.3 MB/s\u001b[0m eta \u001b[36m0:00:00\u001b[0m\n",
            "\u001b[?25h  Preparing metadata (setup.py) ... \u001b[?25l\u001b[?25hdone\n",
            "\u001b[2K     \u001b[90m━━━━━━━━━━━━━━━━━━━━━━━━━━━━━━━━━━━━━━\u001b[0m \u001b[32m798.4/798.4 kB\u001b[0m \u001b[31m35.2 MB/s\u001b[0m eta \u001b[36m0:00:00\u001b[0m\n",
            "\u001b[2K     \u001b[90m━━━━━━━━━━━━━━━━━━━━━━━━━━━━━━━━━━━━━━━━\u001b[0m \u001b[32m29.5/29.5 MB\u001b[0m \u001b[31m39.6 MB/s\u001b[0m eta \u001b[36m0:00:00\u001b[0m\n",
            "\u001b[2K     \u001b[90m━━━━━━━━━━━━━━━━━━━━━━━━━━━━━━━━━━━━━━\u001b[0m \u001b[32m384.1/384.1 kB\u001b[0m \u001b[31m26.8 MB/s\u001b[0m eta \u001b[36m0:00:00\u001b[0m\n",
            "\u001b[2K     \u001b[90m━━━━━━━━━━━━━━━━━━━━━━━━━━━━━━━━━━━━━━\u001b[0m \u001b[32m134.4/134.4 kB\u001b[0m \u001b[31m12.2 MB/s\u001b[0m eta \u001b[36m0:00:00\u001b[0m\n",
            "\u001b[2K     \u001b[90m━━━━━━━━━━━━━━━━━━━━━━━━━━━━━━━━━━━━━━━━\u001b[0m \u001b[32m11.2/11.2 MB\u001b[0m \u001b[31m66.9 MB/s\u001b[0m eta \u001b[36m0:00:00\u001b[0m\n",
            "\u001b[2K     \u001b[90m━━━━━━━━━━━━━━━━━━━━━━━━━━━━━━━━━━━━━━\u001b[0m \u001b[32m111.8/111.8 kB\u001b[0m \u001b[31m12.6 MB/s\u001b[0m eta \u001b[36m0:00:00\u001b[0m\n",
            "\u001b[2K     \u001b[90m━━━━━━━━━━━━━━━━━━━━━━━━━━━━━━━━━━━━━━━━\u001b[0m \u001b[32m6.4/6.4 MB\u001b[0m \u001b[31m63.9 MB/s\u001b[0m eta \u001b[36m0:00:00\u001b[0m\n",
            "\u001b[2K     \u001b[90m━━━━━━━━━━━━━━━━━━━━━━━━━━━━━━━━━━━━━━━━\u001b[0m \u001b[32m66.9/66.9 kB\u001b[0m \u001b[31m4.9 MB/s\u001b[0m eta \u001b[36m0:00:00\u001b[0m\n",
            "\u001b[2K     \u001b[90m━━━━━━━━━━━━━━━━━━━━━━━━━━━━━━━━━━━━━━\u001b[0m \u001b[32m514.6/514.6 kB\u001b[0m \u001b[31m30.1 MB/s\u001b[0m eta \u001b[36m0:00:00\u001b[0m\n",
            "\u001b[2K     \u001b[90m━━━━━━━━━━━━━━━━━━━━━━━━━━━━━━━━━━━━━━━━\u001b[0m \u001b[32m1.9/1.9 MB\u001b[0m \u001b[31m51.4 MB/s\u001b[0m eta \u001b[36m0:00:00\u001b[0m\n",
            "\u001b[2K     \u001b[90m━━━━━━━━━━━━━━━━━━━━━━━━━━━━━━━━━━━━━━━━\u001b[0m \u001b[32m15.3/15.3 MB\u001b[0m \u001b[31m57.5 MB/s\u001b[0m eta \u001b[36m0:00:00\u001b[0m\n",
            "\u001b[2K     \u001b[90m━━━━━━━━━━━━━━━━━━━━━━━━━━━━━━━━━━━━━━━━\u001b[0m \u001b[32m98.4/98.4 kB\u001b[0m \u001b[31m9.9 MB/s\u001b[0m eta \u001b[36m0:00:00\u001b[0m\n",
            "\u001b[2K     \u001b[90m━━━━━━━━━━━━━━━━━━━━━━━━━━━━━━━━━━━━━\u001b[0m \u001b[32m109.5/109.5 kB\u001b[0m \u001b[31m476.6 kB/s\u001b[0m eta \u001b[36m0:00:00\u001b[0m\n",
            "\u001b[2K     \u001b[90m━━━━━━━━━━━━━━━━━━━━━━━━━━━━━━━━━━━━━━━━\u001b[0m \u001b[32m1.6/1.6 MB\u001b[0m \u001b[31m7.4 MB/s\u001b[0m eta \u001b[36m0:00:00\u001b[0m\n",
            "\u001b[2K     \u001b[90m━━━━━━━━━━━━━━━━━━━━━━━━━━━━━━━━━━━━━━━━\u001b[0m \u001b[32m22.3/22.3 MB\u001b[0m \u001b[31m47.3 MB/s\u001b[0m eta \u001b[36m0:00:00\u001b[0m\n",
            "\u001b[2K     \u001b[90m━━━━━━━━━━━━━━━━━━━━━━━━━━━━━━━━━━━━━━\u001b[0m \u001b[32m133.1/133.1 kB\u001b[0m \u001b[31m13.1 MB/s\u001b[0m eta \u001b[36m0:00:00\u001b[0m\n",
            "\u001b[2K     \u001b[90m━━━━━━━━━━━━━━━━━━━━━━━━━━━━━━━━━━━━━━\u001b[0m \u001b[32m139.5/139.5 kB\u001b[0m \u001b[31m14.1 MB/s\u001b[0m eta \u001b[36m0:00:00\u001b[0m\n",
            "\u001b[2K     \u001b[90m━━━━━━━━━━━━━━━━━━━━━━━━━━━━━━━━━━━━━━━━\u001b[0m \u001b[32m6.0/6.0 MB\u001b[0m \u001b[31m69.6 MB/s\u001b[0m eta \u001b[36m0:00:00\u001b[0m\n",
            "\u001b[2K     \u001b[90m━━━━━━━━━━━━━━━━━━━━━━━━━━━━━━━━━━━━━━\u001b[0m \u001b[32m596.3/596.3 kB\u001b[0m \u001b[31m37.7 MB/s\u001b[0m eta \u001b[36m0:00:00\u001b[0m\n",
            "\u001b[2K     \u001b[90m━━━━━━━━━━━━━━━━━━━━━━━━━━━━━━━━━━━━━━\u001b[0m \u001b[32m529.7/529.7 kB\u001b[0m \u001b[31m29.0 MB/s\u001b[0m eta \u001b[36m0:00:00\u001b[0m\n",
            "\u001b[2K     \u001b[90m━━━━━━━━━━━━━━━━━━━━━━━━━━━━━━━━━━━━━━━━\u001b[0m \u001b[32m87.7/87.7 kB\u001b[0m \u001b[31m9.2 MB/s\u001b[0m eta \u001b[36m0:00:00\u001b[0m\n",
            "\u001b[?25h  Preparing metadata (setup.py) ... \u001b[?25l\u001b[?25hdone\n",
            "\u001b[2K     \u001b[90m━━━━━━━━━━━━━━━━━━━━━━━━━━━━━━━━━━━━━━━━\u001b[0m \u001b[32m3.2/3.2 MB\u001b[0m \u001b[31m54.7 MB/s\u001b[0m eta \u001b[36m0:00:00\u001b[0m\n",
            "\u001b[2K     \u001b[90m━━━━━━━━━━━━━━━━━━━━━━━━━━━━━━━━━━━━━━\u001b[0m \u001b[32m948.0/948.0 kB\u001b[0m \u001b[31m45.4 MB/s\u001b[0m eta \u001b[36m0:00:00\u001b[0m\n",
            "\u001b[2K     \u001b[90m━━━━━━━━━━━━━━━━━━━━━━━━━━━━━━━━━━━━━━━━\u001b[0m \u001b[32m2.0/2.0 MB\u001b[0m \u001b[31m54.4 MB/s\u001b[0m eta \u001b[36m0:00:00\u001b[0m\n",
            "\u001b[2K     \u001b[90m━━━━━━━━━━━━━━━━━━━━━━━━━━━━━━━━━━━━━━\u001b[0m \u001b[32m793.8/793.8 kB\u001b[0m \u001b[31m37.3 MB/s\u001b[0m eta \u001b[36m0:00:00\u001b[0m\n",
            "\u001b[2K     \u001b[90m━━━━━━━━━━━━━━━━━━━━━━━━━━━━━━━━━━━━━━\u001b[0m \u001b[32m138.5/138.5 kB\u001b[0m \u001b[31m12.6 MB/s\u001b[0m eta \u001b[36m0:00:00\u001b[0m\n",
            "\u001b[2K     \u001b[90m━━━━━━━━━━━━━━━━━━━━━━━━━━━━━━━━━━━━━━\u001b[0m \u001b[32m107.4/107.4 kB\u001b[0m \u001b[31m11.0 MB/s\u001b[0m eta \u001b[36m0:00:00\u001b[0m\n",
            "\u001b[2K     \u001b[90m━━━━━━━━━━━━━━━━━━━━━━━━━━━━━━━━━━━━━━\u001b[0m \u001b[32m965.4/965.4 kB\u001b[0m \u001b[31m44.4 MB/s\u001b[0m eta \u001b[36m0:00:00\u001b[0m\n",
            "\u001b[2K     \u001b[90m━━━━━━━━━━━━━━━━━━━━━━━━━━━━━━━━━━━━━━━━\u001b[0m \u001b[32m1.1/1.1 MB\u001b[0m \u001b[31m47.2 MB/s\u001b[0m eta \u001b[36m0:00:00\u001b[0m\n",
            "\u001b[2K     \u001b[90m━━━━━━━━━━━━━━━━━━━━━━━━━━━━━━━━━━━━━━\u001b[0m \u001b[32m500.1/500.1 kB\u001b[0m \u001b[31m31.2 MB/s\u001b[0m eta \u001b[36m0:00:00\u001b[0m\n",
            "\u001b[2K     \u001b[90m━━━━━━━━━━━━━━━━━━━━━━━━━━━━━━━━━━━━━━━━\u001b[0m \u001b[32m4.7/4.7 MB\u001b[0m \u001b[31m62.3 MB/s\u001b[0m eta \u001b[36m0:00:00\u001b[0m\n",
            "\u001b[2K     \u001b[90m━━━━━━━━━━━━━━━━━━━━━━━━━━━━━━━━━━━━━━\u001b[0m \u001b[32m175.4/175.4 kB\u001b[0m \u001b[31m16.9 MB/s\u001b[0m eta \u001b[36m0:00:00\u001b[0m\n",
            "\u001b[2K     \u001b[90m━━━━━━━━━━━━━━━━━━━━━━━━━━━━━━━━━━━━━━━━\u001b[0m \u001b[32m93.3/93.3 kB\u001b[0m \u001b[31m9.8 MB/s\u001b[0m eta \u001b[36m0:00:00\u001b[0m\n",
            "\u001b[2K     \u001b[90m━━━━━━━━━━━━━━━━━━━━━━━━━━━━━━━━━━━━━━━━\u001b[0m \u001b[32m4.9/4.9 MB\u001b[0m \u001b[31m65.9 MB/s\u001b[0m eta \u001b[36m0:00:00\u001b[0m\n",
            "\u001b[2K     \u001b[90m━━━━━━━━━━━━━━━━━━━━━━━━━━━━━━━━━━━━━━\u001b[0m \u001b[32m781.3/781.3 kB\u001b[0m \u001b[31m24.0 MB/s\u001b[0m eta \u001b[36m0:00:00\u001b[0m\n",
            "\u001b[2K     \u001b[90m━━━━━━━━━━━━━━━━━━━━━━━━━━━━━━━━━━━━━━\u001b[0m \u001b[32m232.7/232.7 kB\u001b[0m \u001b[31m18.6 MB/s\u001b[0m eta \u001b[36m0:00:00\u001b[0m\n",
            "\u001b[2K     \u001b[90m━━━━━━━━━━━━━━━━━━━━━━━━━━━━━━━━━━━━━━━━\u001b[0m \u001b[32m1.0/1.0 MB\u001b[0m \u001b[31m5.5 MB/s\u001b[0m eta \u001b[36m0:00:00\u001b[0m\n",
            "\u001b[2K     \u001b[90m━━━━━━━━━━━━━━━━━━━━━━━━━━━━━━━━━━━━━━━\u001b[0m \u001b[32m124.6/124.6 kB\u001b[0m \u001b[31m7.8 MB/s\u001b[0m eta \u001b[36m0:00:00\u001b[0m\n",
            "\u001b[2K     \u001b[90m━━━━━━━━━━━━━━━━━━━━━━━━━━━━━━━━━━━━━━\u001b[0m \u001b[32m829.2/829.2 kB\u001b[0m \u001b[31m41.9 MB/s\u001b[0m eta \u001b[36m0:00:00\u001b[0m\n",
            "\u001b[?25h  Preparing metadata (setup.py) ... \u001b[?25l\u001b[?25hdone\n",
            "\u001b[2K     \u001b[90m━━━━━━━━━━━━━━━━━━━━━━━━━━━━━━━━━━━━━━\u001b[0m \u001b[32m200.5/200.5 kB\u001b[0m \u001b[31m17.8 MB/s\u001b[0m eta \u001b[36m0:00:00\u001b[0m\n",
            "\u001b[2K     \u001b[90m━━━━━━━━━━━━━━━━━━━━━━━━━━━━━━━━━━━━━━\u001b[0m \u001b[32m532.6/532.6 kB\u001b[0m \u001b[31m32.5 MB/s\u001b[0m eta \u001b[36m0:00:00\u001b[0m\n",
            "\u001b[2K     \u001b[90m━━━━━━━━━━━━━━━━━━━━━━━━━━━━━━━━━━━━━━━━\u001b[0m \u001b[32m94.8/94.8 kB\u001b[0m \u001b[31m8.1 MB/s\u001b[0m eta \u001b[36m0:00:00\u001b[0m\n",
            "\u001b[2K     \u001b[90m━━━━━━━━━━━━━━━━━━━━━━━━━━━━━━━━━━━━━━━━\u001b[0m \u001b[32m58.8/58.8 kB\u001b[0m \u001b[31m5.3 MB/s\u001b[0m eta \u001b[36m0:00:00\u001b[0m\n",
            "\u001b[2K     \u001b[90m━━━━━━━━━━━━━━━━━━━━━━━━━━━━━━━━━━━━━━\u001b[0m \u001b[32m148.0/148.0 kB\u001b[0m \u001b[31m11.4 MB/s\u001b[0m eta \u001b[36m0:00:00\u001b[0m\n",
            "\u001b[2K     \u001b[90m━━━━━━━━━━━━━━━━━━━━━━━━━━━━━━━━━━━━━━\u001b[0m \u001b[32m231.3/231.3 kB\u001b[0m \u001b[31m16.5 MB/s\u001b[0m eta \u001b[36m0:00:00\u001b[0m\n",
            "\u001b[2K     \u001b[90m━━━━━━━━━━━━━━━━━━━━━━━━━━━━━━━━━━━━━━\u001b[0m \u001b[32m155.3/155.3 kB\u001b[0m \u001b[31m11.0 MB/s\u001b[0m eta \u001b[36m0:00:00\u001b[0m\n",
            "\u001b[2K     \u001b[90m━━━━━━━━━━━━━━━━━━━━━━━━━━━━━━━━━━━━━━\u001b[0m \u001b[32m280.2/280.2 kB\u001b[0m \u001b[31m19.1 MB/s\u001b[0m eta \u001b[36m0:00:00\u001b[0m\n",
            "\u001b[2K     \u001b[90m━━━━━━━━━━━━━━━━━━━━━━━━━━━━━━━━━━━━━━\u001b[0m \u001b[32m133.5/133.5 kB\u001b[0m \u001b[31m11.8 MB/s\u001b[0m eta \u001b[36m0:00:00\u001b[0m\n",
            "\u001b[2K     \u001b[90m━━━━━━━━━━━━━━━━━━━━━━━━━━━━━━━━━━━━━━\u001b[0m \u001b[32m424.0/424.0 kB\u001b[0m \u001b[31m21.6 MB/s\u001b[0m eta \u001b[36m0:00:00\u001b[0m\n",
            "\u001b[2K     \u001b[90m━━━━━━━━━━━━━━━━━━━━━━━━━━━━━━━━━━━━━━━━\u001b[0m \u001b[32m1.1/1.1 MB\u001b[0m \u001b[31m34.6 MB/s\u001b[0m eta \u001b[36m0:00:00\u001b[0m\n",
            "\u001b[2K     \u001b[90m━━━━━━━━━━━━━━━━━━━━━━━━━━━━━━━━━━━━━━━━\u001b[0m \u001b[32m1.8/1.8 MB\u001b[0m \u001b[31m30.7 MB/s\u001b[0m eta \u001b[36m0:00:00\u001b[0m\n",
            "\u001b[2K     \u001b[90m━━━━━━━━━━━━━━━━━━━━━━━━━━━━━━━━━━━━━━━━\u001b[0m \u001b[32m59.0/59.0 kB\u001b[0m \u001b[31m5.3 MB/s\u001b[0m eta \u001b[36m0:00:00\u001b[0m\n",
            "\u001b[2K     \u001b[90m━━━━━━━━━━━━━━━━━━━━━━━━━━━━━━━━━━━━━━\u001b[0m \u001b[32m382.8/382.8 kB\u001b[0m \u001b[31m23.6 MB/s\u001b[0m eta \u001b[36m0:00:00\u001b[0m\n",
            "\u001b[2K     \u001b[90m━━━━━━━━━━━━━━━━━━━━━━━━━━━━━━━━━━━━━━━━\u001b[0m \u001b[32m1.1/1.1 MB\u001b[0m \u001b[31m39.2 MB/s\u001b[0m eta \u001b[36m0:00:00\u001b[0m\n",
            "\u001b[2K     \u001b[90m━━━━━━━━━━━━━━━━━━━━━━━━━━━━━━━━━━━━━━━━\u001b[0m \u001b[32m1.6/1.6 MB\u001b[0m \u001b[31m52.6 MB/s\u001b[0m eta \u001b[36m0:00:00\u001b[0m\n",
            "\u001b[2K     \u001b[90m━━━━━━━━━━━━━━━━━━━━━━━━━━━━━━━━━━━━━━\u001b[0m \u001b[32m100.8/100.8 kB\u001b[0m \u001b[31m10.1 MB/s\u001b[0m eta \u001b[36m0:00:00\u001b[0m\n",
            "\u001b[2K     \u001b[90m━━━━━━━━━━━━━━━━━━━━━━━━━━━━━━━━━━━━━━━━\u001b[0m \u001b[32m88.5/88.5 kB\u001b[0m \u001b[31m9.1 MB/s\u001b[0m eta \u001b[36m0:00:00\u001b[0m\n",
            "\u001b[2K     \u001b[90m━━━━━━━━━━━━━━━━━━━━━━━━━━━━━━━━━━━━━━━━\u001b[0m \u001b[32m77.1/77.1 kB\u001b[0m \u001b[31m7.8 MB/s\u001b[0m eta \u001b[36m0:00:00\u001b[0m\n",
            "\u001b[2K     \u001b[90m━━━━━━━━━━━━━━━━━━━━━━━━━━━━━━━━━━━━━━\u001b[0m \u001b[32m151.7/151.7 kB\u001b[0m \u001b[31m14.8 MB/s\u001b[0m eta \u001b[36m0:00:00\u001b[0m\n",
            "\u001b[?25h  Building wheel for mdtraj (pyproject.toml) ... \u001b[?25l\u001b[?25hdone\n",
            "  Building wheel for nglview (pyproject.toml) ... \u001b[?25l\u001b[?25hdone\n",
            "  Building wheel for pymatgen (pyproject.toml) ... \u001b[?25l\u001b[?25hdone\n",
            "  Building wheel for torch-geometric (setup.py) ... \u001b[?25l\u001b[?25hdone\n",
            "  Building wheel for fire (setup.py) ... \u001b[?25l\u001b[?25hdone\n",
            "  Building wheel for future (setup.py) ... \u001b[?25l\u001b[?25hdone\n",
            "\u001b[33mWARNING: Running pip as the 'root' user can result in broken permissions and conflicting behaviour with the system package manager. It is recommended to use a virtual environment instead: https://pip.pypa.io/warnings/venv\u001b[0m\u001b[33m\n",
            "\u001b[2K     \u001b[90m━━━━━━━━━━━━━━━━━━━━━━━━━━━━━━━━━━━━━━━━\u001b[0m \u001b[32m4.9/4.9 MB\u001b[0m \u001b[31m17.4 MB/s\u001b[0m eta \u001b[36m0:00:00\u001b[0m\n",
            "\u001b[2K     \u001b[90m━━━━━━━━━━━━━━━━━━━━━━━━━━━━━━━━━━━━━━━━\u001b[0m \u001b[32m63.5/63.5 kB\u001b[0m \u001b[31m2.6 MB/s\u001b[0m eta \u001b[36m0:00:00\u001b[0m\n",
            "\u001b[2K     \u001b[90m━━━━━━━━━━━━━━━━━━━━━━━━━━━━━━━━━━━━━━━━\u001b[0m \u001b[32m11.8/11.8 MB\u001b[0m \u001b[31m59.2 MB/s\u001b[0m eta \u001b[36m0:00:00\u001b[0m\n",
            "\u001b[2K     \u001b[90m━━━━━━━━━━━━━━━━━━━━━━━━━━━━━━━━━━━━━━━━\u001b[0m \u001b[32m78.6/78.6 kB\u001b[0m \u001b[31m8.4 MB/s\u001b[0m eta \u001b[36m0:00:00\u001b[0m\n",
            "\u001b[2K     \u001b[90m━━━━━━━━━━━━━━━━━━━━━━━━━━━━━━━━━━━━━━━━\u001b[0m \u001b[32m52.4/52.4 kB\u001b[0m \u001b[31m5.1 MB/s\u001b[0m eta \u001b[36m0:00:00\u001b[0m\n",
            "\u001b[2K     \u001b[90m━━━━━━━━━━━━━━━━━━━━━━━━━━━━━━━━━━━━━━━━\u001b[0m \u001b[32m45.4/45.4 kB\u001b[0m \u001b[31m4.6 MB/s\u001b[0m eta \u001b[36m0:00:00\u001b[0m\n",
            "\u001b[2K     \u001b[90m━━━━━━━━━━━━━━━━━━━━━━━━━━━━━━━━━━━━━━━\u001b[0m \u001b[32m103.4/103.4 kB\u001b[0m \u001b[31m9.1 MB/s\u001b[0m eta \u001b[36m0:00:00\u001b[0m\n",
            "\u001b[2K     \u001b[90m━━━━━━━━━━━━━━━━━━━━━━━━━━━━━━━━━━━━━━━━\u001b[0m \u001b[32m41.5/41.5 kB\u001b[0m \u001b[31m4.1 MB/s\u001b[0m eta \u001b[36m0:00:00\u001b[0m\n",
            "\u001b[2K     \u001b[90m━━━━━━━━━━━━━━━━━━━━━━━━━━━━━━━━━━━━━━━━\u001b[0m \u001b[32m3.2/3.2 MB\u001b[0m \u001b[31m16.0 MB/s\u001b[0m eta \u001b[36m0:00:00\u001b[0m\n",
            "\u001b[2K     \u001b[90m━━━━━━━━━━━━━━━━━━━━━━━━━━━━━━━━━━━━━━━━\u001b[0m \u001b[32m96.6/96.6 kB\u001b[0m \u001b[31m10.0 MB/s\u001b[0m eta \u001b[36m0:00:00\u001b[0m\n",
            "\u001b[?25h  Preparing metadata (setup.py) ... \u001b[?25l\u001b[?25hdone\n",
            "\u001b[2K     \u001b[90m━━━━━━━━━━━━━━━━━━━━━━━━━━━━━━━━━━━━━━━━\u001b[0m \u001b[32m94.0/94.0 kB\u001b[0m \u001b[31m10.0 MB/s\u001b[0m eta \u001b[36m0:00:00\u001b[0m\n",
            "\u001b[2K     \u001b[90m━━━━━━━━━━━━━━━━━━━━━━━━━━━━━━━━━━━━━━\u001b[0m \u001b[32m570.5/570.5 kB\u001b[0m \u001b[31m32.6 MB/s\u001b[0m eta \u001b[36m0:00:00\u001b[0m\n",
            "\u001b[2K     \u001b[90m━━━━━━━━━━━━━━━━━━━━━━━━━━━━━━━━━━━━━━━━\u001b[0m \u001b[32m93.0/93.0 kB\u001b[0m \u001b[31m10.2 MB/s\u001b[0m eta \u001b[36m0:00:00\u001b[0m\n",
            "\u001b[2K     \u001b[90m━━━━━━━━━━━━━━━━━━━━━━━━━━━━━━━━━━━━━━━━\u001b[0m \u001b[32m84.7/84.7 kB\u001b[0m \u001b[31m9.0 MB/s\u001b[0m eta \u001b[36m0:00:00\u001b[0m\n",
            "\u001b[2K     \u001b[90m━━━━━━━━━━━━━━━━━━━━━━━━━━━━━━━━━━━━━━━━\u001b[0m \u001b[32m90.6/90.6 kB\u001b[0m \u001b[31m9.3 MB/s\u001b[0m eta \u001b[36m0:00:00\u001b[0m\n",
            "\u001b[2K     \u001b[90m━━━━━━━━━━━━━━━━━━━━━━━━━━━━━━━━━━━━━━━━\u001b[0m \u001b[32m9.5/9.5 MB\u001b[0m \u001b[31m68.0 MB/s\u001b[0m eta \u001b[36m0:00:00\u001b[0m\n",
            "\u001b[2K     \u001b[90m━━━━━━━━━━━━━━━━━━━━━━━━━━━━━━━━━━━━━━━\u001b[0m \u001b[32m100.5/100.5 kB\u001b[0m \u001b[31m8.9 MB/s\u001b[0m eta \u001b[36m0:00:00\u001b[0m\n",
            "\u001b[2K     \u001b[90m━━━━━━━━━━━━━━━━━━━━━━━━━━━━━━━━━━━━━━\u001b[0m \u001b[32m121.2/121.2 kB\u001b[0m \u001b[31m11.4 MB/s\u001b[0m eta \u001b[36m0:00:00\u001b[0m\n",
            "\u001b[?25h  Building wheel for littleutils (setup.py) ... \u001b[?25l\u001b[?25hdone\n",
            "\u001b[33mWARNING: Running pip as the 'root' user can result in broken permissions and conflicting behaviour with the system package manager. It is recommended to use a virtual environment instead: https://pip.pypa.io/warnings/venv\u001b[0m\u001b[33m\n",
            "\u001b[0m"
          ]
        }
      ],
      "source": [
        "# To use PDB Fixer inside RDKit\n",
        "!mamba install -q numpy openmm pdbfixer vina deepchem pytorch\n",
        "# the primary deeplearning framework + tools\n",
        "!pip install -q mdtraj nglview pymatgen dgllife torch-geometric pytorch_lightning rdkit-pypi\n",
        "# To get DGL (Deep Graph Library)\n",
        "!pip install -q dgl dglgo -f https://data.dgl.ai/wheels/repo.html"
      ]
    },
    {
      "cell_type": "code",
      "execution_count": 4,
      "metadata": {
        "id": "W0f9cEI3lVA8",
        "colab": {
          "base_uri": "https://localhost:8080/"
        },
        "outputId": "2f29e207-645e-45ac-ddc1-099ca29893e5"
      },
      "outputs": [
        {
          "output_type": "stream",
          "name": "stderr",
          "text": [
            "DGL backend not selected or invalid.  Assuming PyTorch for now.\n"
          ]
        },
        {
          "output_type": "stream",
          "name": "stdout",
          "text": [
            "Setting the default backend to \"pytorch\". You can change it in the ~/.dgl/config.json file or export the DGLBACKEND environment variable.  Valid options are: pytorch, mxnet, tensorflow (all lowercase)\n"
          ]
        }
      ],
      "source": [
        "# basic utils we'll be using\n",
        "from collections import defaultdict\n",
        "\n",
        "# for Deep learning ML Code\n",
        "import torch\n",
        "import deepchem\n",
        "from dgl.nn import GraphConv\n",
        "\n",
        "# some RDKit stuff + other utils\n",
        "from rdkit import Chem\n",
        "import tempfile\n",
        "from deepchem.utils import download_url, load_from_disk, docking_utils\n",
        "import numpy\n",
        "from pdbfixer import PDBFixer\n",
        "from openmm.app import PDBFile\n",
        "import pandas\n",
        "\n",
        "# for os stuff/paths\n",
        "import os\n",
        "import time"
      ]
    },
    {
      "cell_type": "markdown",
      "source": [
        "We'll start by pulling the dataset from Mobley's lab github. These will be partially docked versions of the systems. We'll validate the dock later using Deepchem's built in Autodocker, but for now, we'll clean up all the items and generate structures for us to use later."
      ],
      "metadata": {
        "id": "UqpTt1f5KR9p"
      }
    },
    {
      "cell_type": "code",
      "execution_count": 4,
      "metadata": {
        "colab": {
          "base_uri": "https://localhost:8080/"
        },
        "id": "yNjTgfZRlbIj",
        "outputId": "f16a8990-bf09-481d-be48-51889402cc2d"
      },
      "outputs": [
        {
          "output_type": "stream",
          "name": "stdout",
          "text": [
            "Cloning into 'benchmarksets'...\n",
            "remote: Enumerating objects: 2716, done.\u001b[K\n",
            "remote: Counting objects: 100% (20/20), done.\u001b[K\n",
            "remote: Compressing objects: 100% (15/15), done.\u001b[K\n",
            "remote: Total 2716 (delta 5), reused 10 (delta 5), pack-reused 2696\u001b[K\n",
            "Receiving objects: 100% (2716/2716), 133.08 MiB | 26.50 MiB/s, done.\n",
            "Resolving deltas: 100% (1633/1633), done.\n",
            "Checking out files: 100% (747/747), done.\n"
          ]
        },
        {
          "output_type": "stream",
          "name": "stderr",
          "text": [
            "WARNING:root:Warning: importing 'simtk.openmm' is deprecated.  Import 'openmm' instead.\n"
          ]
        },
        {
          "output_type": "stream",
          "name": "stdout",
          "text": [
            "guest-1.pdb    guest-s13.pdb  ligand_guest-1.pdb    ligand_guest-s13.pdb\n",
            "guest-2.pdb    guest-s14.pdb  ligand_guest-2.pdb    ligand_guest-s14.pdb\n",
            "guest-3.pdb    guest-s15.pdb  ligand_guest-3.pdb    ligand_guest-s15.pdb\n",
            "guest-4.pdb    guest-s16.pdb  ligand_guest-4.pdb    ligand_guest-s16.pdb\n",
            "guest-5.pdb    guest-s17.pdb  ligand_guest-5.pdb    ligand_guest-s17.pdb\n",
            "guest-6.pdb    guest-s18.pdb  ligand_guest-6.pdb    ligand_guest-s18.pdb\n",
            "guest-7.pdb    guest-s19.pdb  ligand_guest-7.pdb    ligand_guest-s19.pdb\n",
            "guest-8.pdb    guest-s20.pdb  ligand_guest-8.pdb    ligand_guest-s20.pdb\n",
            "guest-s10.pdb  guest-s21.pdb  ligand_guest-s10.pdb  ligand_guest-s21.pdb\n",
            "guest-s11.pdb  guest-s22.pdb  ligand_guest-s11.pdb  ligand_guest-s22.pdb\n",
            "guest-s12.pdb  guest-s9.pdb   ligand_guest-s12.pdb  ligand_guest-s9.pdb\n"
          ]
        }
      ],
      "source": [
        "# Grab the raw dataset from Mobley Lab's Github\n",
        "if not os.path.exists('benchmarksets'):\n",
        "  !git clone https://github.com/MobleyLab/benchmarksets.git\n",
        "\n",
        "# create a list of guests we can featurize\n",
        "guests_vina = []\n",
        "host = None\n",
        "for _, _, files in os.walk('benchmarksets/input_files/cd-set1/pdb'):\n",
        "  for file in files:\n",
        "    if 'guest' in file:\n",
        "      guests_vina.append( os.path.splitext(file)[0] )\n",
        "    else:\n",
        "      host = os.path.splitext(file)[0]\n",
        "\n",
        "for root, directory, files in os.walk('benchmarksets/input_files/cd-set1/pdb'):\n",
        "\n",
        "  # pull out the host, we'll need to have it fixed up\n",
        "  host_pdb_fixed = None\n",
        "  for file in files:\n",
        "    if host in file:\n",
        "      fixer = PDBFixer(os.path.join(root,file))\n",
        "      PDBFile.writeFile(fixer.topology, fixer.positions, open(os.path.join(root,file), 'w'))\n",
        "      host_pdb_fixed = os.path.join(root,file)\n",
        "\n",
        "  for file in files:\n",
        "    if 'guest' in file:\n",
        "      fixer = PDBFixer(os.path.join(root,file))\n",
        "      PDBFile.writeFile(fixer.topology, fixer.positions, open(os.path.join(root,file), 'w'))\n",
        "      \n",
        "      try:\n",
        "        # This method creates 2 PDB files, cleaned up (ligand_guest#.pdb) which contains the ligand and (guest#.pdb), which contains the host\n",
        "        docking_utils.prepare_inputs(host_pdb_fixed, os.path.join(root,file), replace_nonstandard_residues=False,\n",
        "                              remove_heterogens=False, remove_water=False,\n",
        "                              add_hydrogens=False, pdb_name=os.path.splitext(file)[0])\n",
        "      except Exception as e:\n",
        "        print(f'{e} - {file} Failed to be Cleaned') \n",
        "\n",
        "# Define simple featurizer function, to extract features from a \n",
        "# docked version of the system\n",
        "def compute_features_vina(featurizer, ligand):\n",
        "  # Compute features for a given complex\n",
        "  protein_file = f'{ligand}.pdb'\n",
        "  ligand_file = f'ligand_{ligand}.pdb'\n",
        "\n",
        "  # Let's find good docks/poses with deepchem's auto docker\n",
        "  docker = deepchem.dock.docking.Docker(\n",
        "      pose_generator=deepchem.dock.VinaPoseGenerator())\n",
        "  [p, l], score = next( docker.dock(\n",
        "      molecular_complex = (protein_file, ligand_file),\n",
        "      use_pose_generator_scores = True) )\n",
        "\n",
        "  # create a single complex, which we will run through the featurizer  \n",
        "  complex_mol = Chem.CombineMols(p, l)\n",
        "  Chem.SanitizeMol(complex_mol)\n",
        "\n",
        "  # just to checkout the SMILES\n",
        "  print(f'{ligand} via vina', Chem.MolToSmiles(complex_mol))\n",
        "\n",
        "  # Featurize the Docked Complex\n",
        "  return featurizer.featurize(complex_mol)\n",
        "\n",
        "# Just to see all the PDB files we've just generated\n",
        "!ls *.pdb"
      ]
    },
    {
      "cell_type": "markdown",
      "source": [
        "Now we'll strip all the docking information/position information by converting to a SMILES for both host and guest, then combining them."
      ],
      "metadata": {
        "id": "1IAp6CUMUYPk"
      }
    },
    {
      "cell_type": "code",
      "source": [
        "# Grab the raw dataset from Mobley Lab's Github\n",
        "if not os.path.exists('benchmarksets'):\n",
        "  !git clone https://github.com/MobleyLab/benchmarksets.git\n",
        "\n",
        "# create a lookup table for the ligand SMILES\n",
        "ligand_lut = \\\n",
        "{\n",
        "\t'guest-1': 'CCCC[NH3+]',\n",
        "\t'guest-2': 'CCCCCC[NH3+]',\n",
        "\t'guest-3': 'CCCCCCCC[NH3+]',\n",
        "\t'guest-4': 'OC1CCCC1',\n",
        "\t'guest-5': 'OC1CCCCCC1',\n",
        "\t'guest-6': 'CCCC([O-])=O',\n",
        "\t'guest-7': 'CCCCCC([O-])=O',\n",
        "\t'guest-8': 'CCCCCCCC([O-])=O',\n",
        "\t'guest-s9': 'CCCC[NH2+]C',\n",
        "\t'guest-s10': 'CCCC(C)[NH3+]',\n",
        "\t'guest-s11': 'CCCCC[NH3+]',\n",
        "\t'guest-s12': 'CCCCCC[NH2+]C',\n",
        "\t'guest-s13': 'CCCCCC(C)[NH3+]',\n",
        "\t'guest-s14': 'CCCCCCC[NH3+]',\n",
        "\t'guest-s15': 'CCCCCCC(C)[NH3+]',\n",
        "\t'guest-s16': 'OC1CCC1',\n",
        "\t'guest-s17': 'OC1CCCCCCC1',\n",
        "\t'guest-s18': 'CCCCC([O-])=O',\n",
        "\t'guest-s19': 'CCC/C=C/C([O-])',\n",
        "\t'guest-s20': 'CC/C=C/CC([O-])',\n",
        "\t'guest-s21': 'CCCCCCC([O-])=O',\n",
        "\t'guest-s22': '[O-]C(=O)CCCCC=C'\n",
        "}\n",
        "\n",
        "host_smiles = 'C([C@@H]1[C@@H]2[C@@H]([C@H]([C@H](O1)O[C@@H]3[C@H](O[C@@H]([C@@H]([C@H]3O)O)O[C@@H]4[C@H](O[C@@H]([C@@H]([C@H]4O)O)O[C@@H]5[C@H](O[C@@H]([C@@H]([C@H]5O)O)O[C@@H]6[C@H](O[C@@H]([C@@H]([C@H]6O)O)O[C@@H]7[C@H](O[C@H](O2)[C@@H]([C@H]7O)O)CO)CO)CO)CO)CO)O)O)O'\n",
        "\n",
        "# Define simple featurizer function, to extract features from a \n",
        "# docked version of the system\n",
        "def compute_features_pure(featurizer, ligand):\n",
        "  ligand_smiles = ligand_lut[ligand]\n",
        "\n",
        "  # strip out position infomation and get smiles instead\n",
        "  host = Chem.MolFromSmiles(host_smiles)\n",
        "  guest = Chem.MolFromSmiles(ligand_smiles)\n",
        "\n",
        "\n",
        "  complex_mol = Chem.CombineMols(host, guest)\n",
        "\n",
        "  # Print Out the Smiles after Stripping location information\n",
        "  print(f'{ligand} pure', Chem.MolToSmiles(complex_mol))\n",
        "\n",
        "  # create a single complex, which we will run through the featurizer  \n",
        "  Chem.SanitizeMol(complex_mol)\n",
        "\n",
        "  # Featurize the Docked Complex\n",
        "  return featurizer.featurize(complex_mol)"
      ],
      "metadata": {
        "id": "tnvAQ6dl8OiK",
        "outputId": "3af3fcaf-6712-4d7b-fc59-e5206a74853f",
        "colab": {
          "base_uri": "https://localhost:8080/"
        }
      },
      "execution_count": 5,
      "outputs": [
        {
          "output_type": "stream",
          "name": "stdout",
          "text": [
            "Cloning into 'benchmarksets'...\n",
            "remote: Enumerating objects: 2716, done.\u001b[K\n",
            "remote: Counting objects: 100% (20/20), done.\u001b[K\n",
            "remote: Compressing objects: 100% (15/15), done.\u001b[K\n",
            "remote: Total 2716 (delta 5), reused 10 (delta 5), pack-reused 2696\u001b[K\n",
            "Receiving objects: 100% (2716/2716), 133.08 MiB | 22.91 MiB/s, done.\n",
            "Resolving deltas: 100% (1633/1633), done.\n",
            "Checking out files: 100% (747/747), done.\n"
          ]
        }
      ]
    },
    {
      "cell_type": "markdown",
      "source": [
        "Finally, we'll pull the pure physics based data done on CalStateLA's sirnewton cluster! (Freely available, feel free to cite us if you choose to use it)"
      ],
      "metadata": {
        "id": "CcB8z81qVBef"
      }
    },
    {
      "cell_type": "code",
      "execution_count": 6,
      "metadata": {
        "colab": {
          "base_uri": "https://localhost:8080/"
        },
        "id": "DgqvlbVjAnMx",
        "outputId": "e0e5d62f-bed2-45fd-e4d5-786b1d0d7ae2"
      },
      "outputs": [
        {
          "output_type": "stream",
          "name": "stdout",
          "text": [
            "Cloning into 'cd_set1_gaff_vcharge'...\n",
            "remote: Enumerating objects: 4513, done.\u001b[K\n",
            "remote: Counting objects: 100% (2276/2276), done.\u001b[K\n",
            "remote: Compressing objects: 100% (1049/1049), done.\u001b[K\n",
            "remote: Total 4513 (delta 1257), reused 2239 (delta 1223), pack-reused 2237\u001b[K\n",
            "Receiving objects: 100% (4513/4513), 1.21 GiB | 17.05 MiB/s, done.\n",
            "Resolving deltas: 100% (2620/2620), done.\n",
            "Checking out files: 100% (6016/6016), done.\n",
            "guest-s12 vm2_rndm entropy added, value 200.6813221872\n",
            "guest-s12 vm2_rndm complex added\n",
            "guest-s12 via vm2 CCCCCC[NH2+]C.OC[C@H]1O[C@@H]2O[C@H]3[C@H](O)[C@@H](O)[C@@H](O[C@H]4[C@H](O)[C@@H](O)[C@@H](O[C@H]5[C@H](O)[C@@H](O)[C@@H](O[C@H]6[C@H](O)[C@@H](O)[C@@H](O[C@H]7[C@H](O)[C@@H](O)[C@@H](O[C@H]1[C@H](O)[C@H]2O)O[C@@H]7CO)O[C@@H]6CO)O[C@@H]5CO)O[C@@H]4CO)O[C@@H]3CO\n",
            "guest-s16 vm2_rndm entropy added, value 175.6857741793\n",
            "guest-s16 vm2_rndm complex added\n",
            "guest-s16 via vm2 OC1CCC1.OC[C@H]1O[C@@H]2O[C@H]3[C@H](O)[C@@H](O)[C@@H](O[C@H]4[C@H](O)[C@@H](O)[C@@H](O[C@H]5[C@H](O)[C@@H](O)[C@@H](O[C@H]6[C@H](O)[C@@H](O)[C@@H](O[C@H]7[C@H](O)[C@@H](O)[C@@H](O[C@H]1[C@H](O)[C@H]2O)O[C@@H]7CO)O[C@@H]6CO)O[C@@H]5CO)O[C@@H]4CO)O[C@@H]3CO\n",
            "guest-s13 vm2_rndm entropy added, value 201.1001034992\n",
            "guest-s13 vm2_rndm complex added\n",
            "guest-s13 via vm2 CCCCC[C@@H](C)[NH3+].OC[C@H]1O[C@@H]2O[C@H]3[C@H](O)[C@@H](O)[C@@H](O[C@H]4[C@H](O)[C@@H](O)[C@@H](O[C@H]5[C@H](O)[C@@H](O)[C@@H](O[C@H]6[C@H](O)[C@@H](O)[C@@H](O[C@H]7[C@H](O)[C@@H](O)[C@@H](O[C@H]1[C@H](O)[C@H]2O)O[C@@H]7CO)O[C@@H]6CO)O[C@@H]5CO)O[C@@H]4CO)O[C@@H]3CO\n",
            "guest-s21 vm2_rndm complex added\n",
            "guest-s21 via vm2 CCCCCCC(=O)[O-].OC[C@H]1O[C@@H]2O[C@H]3[C@H](O)[C@@H](O)[C@@H](O[C@H]4[C@H](O)[C@@H](O)[C@@H](O[C@H]5[C@H](O)[C@@H](O)[C@@H](O[C@H]6[C@H](O)[C@@H](O)[C@@H](O[C@H]7[C@H](O)[C@@H](O)[C@@H](O[C@H]1[C@H](O)[C@H]2O)O[C@@H]7CO)O[C@@H]6CO)O[C@@H]5CO)O[C@@H]4CO)O[C@@H]3CO\n",
            "guest-s21 vm2_rndm entropy added, value 189.1355443828\n",
            "guest-1 vm2_rndm entropy added, value 184.4568774535\n",
            "guest-1 vm2_rndm complex added\n",
            "guest-1 via vm2 CCCC[NH3+].OC[C@H]1O[C@@H]2O[C@H]3[C@H](O)[C@@H](O)[C@@H](O[C@H]4[C@H](O)[C@@H](O)[C@@H](O[C@H]5[C@H](O)[C@@H](O)[C@@H](O[C@H]6[C@H](O)[C@@H](O)[C@@H](O[C@H]7[C@H](O)[C@@H](O)[C@@H](O[C@H]1[C@H](O)[C@H]2O)O[C@@H]7CO)O[C@@H]6CO)O[C@@H]5CO)O[C@@H]4CO)O[C@@H]3CO\n",
            "guest-s17 vm2_rndm complex added\n",
            "guest-s17 via vm2 OC1CCCCCCC1.OC[C@H]1O[C@@H]2O[C@H]3[C@H](O)[C@@H](O)[C@@H](O[C@H]4[C@H](O)[C@@H](O)[C@@H](O[C@H]5[C@H](O)[C@@H](O)[C@@H](O[C@H]6[C@H](O)[C@@H](O)[C@@H](O[C@H]7[C@H](O)[C@@H](O)[C@@H](O[C@H]1[C@H](O)[C@H]2O)O[C@@H]7CO)O[C@@H]6CO)O[C@@H]5CO)O[C@@H]4CO)O[C@@H]3CO\n",
            "guest-s17 vm2_rndm entropy added, value 198.6330285238\n",
            "guest-s10 vm2_rndm complex added\n",
            "guest-s10 via vm2 CCC[C@@H](C)[NH3+].OC[C@H]1O[C@@H]2O[C@H]3[C@H](O)[C@@H](O)[C@@H](O[C@H]4[C@H](O)[C@@H](O)[C@@H](O[C@H]5[C@H](O)[C@@H](O)[C@@H](O[C@H]6[C@H](O)[C@@H](O)[C@@H](O[C@H]7[C@H](O)[C@@H](O)[C@@H](O[C@H]1[C@H](O)[C@H]2O)O[C@@H]7CO)O[C@@H]6CO)O[C@@H]5CO)O[C@@H]4CO)O[C@@H]3CO\n",
            "guest-s10 vm2_rndm entropy added, value 189.3607251545\n",
            "guest-s19 vm2_rndm complex added\n",
            "guest-s19 via vm2 CCC/C=C/C(=O)[O-].OC[C@H]1O[C@@H]2O[C@H]3[C@H](O)[C@@H](O)[C@@H](O[C@H]4[C@H](O)[C@@H](O)[C@@H](O[C@H]5[C@H](O)[C@@H](O)[C@@H](O[C@H]6[C@H](O)[C@@H](O)[C@@H](O[C@H]7[C@H](O)[C@@H](O)[C@@H](O[C@H]1[C@H](O)[C@H]2O)O[C@@H]7CO)O[C@@H]6CO)O[C@@H]5CO)O[C@@H]4CO)O[C@@H]3CO\n",
            "guest-s19 vm2_rndm entropy added, value 178.9986342428\n",
            "guest-8 vm2_rndm entropy added, value 194.3942112526\n",
            "guest-8 vm2_rndm complex added\n",
            "guest-8 via vm2 CCCCCCCC(=O)[O-].OC[C@H]1O[C@@H]2O[C@H]3[C@H](O)[C@@H](O)[C@@H](O[C@H]4[C@H](O)[C@@H](O)[C@@H](O[C@H]5[C@H](O)[C@@H](O)[C@@H](O[C@H]6[C@H](O)[C@@H](O)[C@@H](O[C@H]7[C@H](O)[C@@H](O)[C@@H](O[C@H]1[C@H](O)[C@H]2O)O[C@@H]7CO)O[C@@H]6CO)O[C@@H]5CO)O[C@@H]4CO)O[C@@H]3CO\n",
            "guest-s14 vm2_rndm complex added\n",
            "guest-s14 via vm2 CCCCCCC[NH3+].OC[C@H]1O[C@@H]2O[C@H]3[C@H](O)[C@@H](O)[C@@H](O[C@H]4[C@H](O)[C@@H](O)[C@@H](O[C@H]5[C@H](O)[C@@H](O)[C@@H](O[C@H]6[C@H](O)[C@@H](O)[C@@H](O[C@H]7[C@H](O)[C@@H](O)[C@@H](O[C@H]1[C@H](O)[C@H]2O)O[C@@H]7CO)O[C@@H]6CO)O[C@@H]5CO)O[C@@H]4CO)O[C@@H]3CO\n",
            "guest-s14 vm2_rndm entropy added, value 199.4108439999\n",
            "guest-5 vm2_rndm entropy added, value 191.7429030799\n",
            "guest-5 vm2_rndm complex added\n",
            "guest-5 via vm2 OC1CCCCCC1.OC[C@H]1O[C@@H]2O[C@H]3[C@H](O)[C@@H](O)[C@@H](O[C@H]4[C@H](O)[C@@H](O)[C@@H](O[C@H]5[C@H](O)[C@@H](O)[C@@H](O[C@H]6[C@H](O)[C@@H](O)[C@@H](O[C@H]7[C@H](O)[C@@H](O)[C@@H](O[C@H]1[C@H](O)[C@H]2O)O[C@@H]7CO)O[C@@H]6CO)O[C@@H]5CO)O[C@@H]4CO)O[C@@H]3CO\n",
            "guest-s18 vm2_rndm entropy added, value 181.1766205127\n",
            "guest-s18 vm2_rndm complex added\n",
            "guest-s18 via vm2 CCCCC(=O)[O-].OC[C@H]1O[C@@H]2O[C@H]3[C@H](O)[C@@H](O)[C@@H](O[C@H]4[C@H](O)[C@@H](O)[C@@H](O[C@H]5[C@H](O)[C@@H](O)[C@@H](O[C@H]6[C@H](O)[C@@H](O)[C@@H](O[C@H]7[C@H](O)[C@@H](O)[C@@H](O[C@H]1[C@H](O)[C@H]2O)O[C@@H]7CO)O[C@@H]6CO)O[C@@H]5CO)O[C@@H]4CO)O[C@@H]3CO\n",
            "guest-s9 vm2_rndm entropy added, value 189.3446860898\n",
            "guest-s9 vm2_rndm complex added\n",
            "guest-s9 via vm2 CCCC[NH2+]C.OC[C@H]1O[C@@H]2O[C@H]3[C@H](O)[C@@H](O)[C@@H](O[C@H]4[C@H](O)[C@@H](O)[C@@H](O[C@H]5[C@H](O)[C@@H](O)[C@@H](O[C@H]6[C@H](O)[C@@H](O)[C@@H](O[C@H]7[C@H](O)[C@@H](O)[C@@H](O[C@H]1[C@H](O)[C@H]2O)O[C@@H]7CO)O[C@@H]6CO)O[C@@H]5CO)O[C@@H]4CO)O[C@@H]3CO\n",
            "guest-s22 vm2_rndm complex added\n",
            "guest-s22 via vm2 C=CCCCCC(=O)[O-].OC[C@H]1O[C@@H]2O[C@H]3[C@H](O)[C@@H](O)[C@@H](O[C@H]4[C@H](O)[C@@H](O)[C@@H](O[C@H]5[C@H](O)[C@@H](O)[C@@H](O[C@H]6[C@H](O)[C@@H](O)[C@@H](O[C@H]7[C@H](O)[C@@H](O)[C@@H](O[C@H]1[C@H](O)[C@H]2O)O[C@@H]7CO)O[C@@H]6CO)O[C@@H]5CO)O[C@@H]4CO)O[C@@H]3CO\n",
            "guest-s22 vm2_rndm entropy added, value 184.7993462412\n",
            "guest-s15 vm2_rndm entropy added, value 206.4994138131\n",
            "guest-s15 vm2_rndm complex added\n",
            "guest-s15 via vm2 CCCCCC[C@H](C)[NH3+].OC[C@H]1O[C@@H]2O[C@H]3[C@H](O)[C@@H](O)[C@@H](O[C@H]4[C@H](O)[C@@H](O)[C@@H](O[C@H]5[C@H](O)[C@@H](O)[C@@H](O[C@H]6[C@H](O)[C@@H](O)[C@@H](O[C@H]7[C@H](O)[C@@H](O)[C@@H](O[C@H]1[C@H](O)[C@H]2O)O[C@@H]7CO)O[C@@H]6CO)O[C@@H]5CO)O[C@@H]4CO)O[C@@H]3CO\n",
            "guest-7 vm2_rndm complex added\n",
            "guest-7 via vm2 CCCCCC(=O)[O-].OC[C@H]1O[C@@H]2O[C@H]3[C@H](O)[C@@H](O)[C@@H](O[C@H]4[C@H](O)[C@@H](O)[C@@H](O[C@H]5[C@H](O)[C@@H](O)[C@@H](O[C@H]6[C@H](O)[C@@H](O)[C@@H](O[C@H]7[C@H](O)[C@@H](O)[C@@H](O[C@H]1[C@H](O)[C@H]2O)O[C@@H]7CO)O[C@@H]6CO)O[C@@H]5CO)O[C@@H]4CO)O[C@@H]3CO\n",
            "guest-7 vm2_rndm entropy added, value 184.0835436779\n",
            "guest-6 vm2_rndm complex added\n",
            "guest-6 via vm2 CCCC(=O)[O-].OC[C@H]1O[C@@H]2O[C@H]3[C@H](O)[C@@H](O)[C@@H](O[C@H]4[C@H](O)[C@@H](O)[C@@H](O[C@H]5[C@H](O)[C@@H](O)[C@@H](O[C@H]6[C@H](O)[C@@H](O)[C@@H](O[C@H]7[C@H](O)[C@@H](O)[C@@H](O[C@H]1[C@H](O)[C@H]2O)O[C@@H]7CO)O[C@@H]6CO)O[C@@H]5CO)O[C@@H]4CO)O[C@@H]3CO\n",
            "guest-6 vm2_rndm entropy added, value 175.754582276\n",
            "guest-4 vm2_rndm complex added\n",
            "guest-4 via vm2 OC1CCCC1.OC[C@H]1O[C@@H]2O[C@H]3[C@H](O)[C@@H](O)[C@@H](O[C@H]4[C@H](O)[C@@H](O)[C@@H](O[C@H]5[C@H](O)[C@@H](O)[C@@H](O[C@H]6[C@H](O)[C@@H](O)[C@@H](O[C@H]7[C@H](O)[C@@H](O)[C@@H](O[C@H]1[C@H](O)[C@H]2O)O[C@@H]7CO)O[C@@H]6CO)O[C@@H]5CO)O[C@@H]4CO)O[C@@H]3CO\n",
            "guest-4 vm2_rndm entropy added, value 180.5394436042\n",
            "guest-3 vm2_rndm complex added\n",
            "guest-3 via vm2 CCCCCCCC[NH3+].OC[C@H]1O[C@@H]2O[C@H]3[C@H](O)[C@@H](O)[C@@H](O[C@H]4[C@H](O)[C@@H](O)[C@@H](O[C@H]5[C@H](O)[C@@H](O)[C@@H](O[C@H]6[C@H](O)[C@@H](O)[C@@H](O[C@H]7[C@H](O)[C@@H](O)[C@@H](O[C@H]1[C@H](O)[C@H]2O)O[C@@H]7CO)O[C@@H]6CO)O[C@@H]5CO)O[C@@H]4CO)O[C@@H]3CO\n",
            "guest-3 vm2_rndm entropy added, value 204.2895422446\n",
            "guest-2 vm2_rndm complex added\n",
            "guest-2 via vm2 CCCCCC[NH3+].OC[C@H]1O[C@@H]2O[C@H]3[C@H](O)[C@@H](O)[C@@H](O[C@H]4[C@H](O)[C@@H](O)[C@@H](O[C@H]5[C@H](O)[C@@H](O)[C@@H](O[C@H]6[C@H](O)[C@@H](O)[C@@H](O[C@H]7[C@H](O)[C@@H](O)[C@@H](O[C@H]1[C@H](O)[C@H]2O)O[C@@H]7CO)O[C@@H]6CO)O[C@@H]5CO)O[C@@H]4CO)O[C@@H]3CO\n",
            "guest-2 vm2_rndm entropy added, value 194.8641011981\n",
            "guest-s20 vm2_rndm entropy added, value 181.7549219091\n",
            "guest-s20 vm2_rndm complex added\n",
            "guest-s20 via vm2 CC/C=C/CC(=O)[O-].OC[C@H]1O[C@@H]2O[C@H]3[C@H](O)[C@@H](O)[C@@H](O[C@H]4[C@H](O)[C@@H](O)[C@@H](O[C@H]5[C@H](O)[C@@H](O)[C@@H](O[C@H]6[C@H](O)[C@@H](O)[C@@H](O[C@H]7[C@H](O)[C@@H](O)[C@@H](O[C@H]1[C@H](O)[C@H]2O)O[C@@H]7CO)O[C@@H]6CO)O[C@@H]5CO)O[C@@H]4CO)O[C@@H]3CO\n",
            "guest-s11 vm2_rndm complex added\n",
            "guest-s11 via vm2 CCCCC[NH3+].OC[C@H]1O[C@@H]2O[C@H]3[C@H](O)[C@@H](O)[C@@H](O[C@H]4[C@H](O)[C@@H](O)[C@@H](O[C@H]5[C@H](O)[C@@H](O)[C@@H](O[C@H]6[C@H](O)[C@@H](O)[C@@H](O[C@H]7[C@H](O)[C@@H](O)[C@@H](O[C@H]1[C@H](O)[C@H]2O)O[C@@H]7CO)O[C@@H]6CO)O[C@@H]5CO)O[C@@H]4CO)O[C@@H]3CO\n",
            "guest-s11 vm2_rndm entropy added, value 189.6824372275\n",
            "Got Host Entropy 155.2544142096\n",
            "Got ligand entropy for guest-s12 as 155.2544142096\n",
            "VM2 calculated Binding Entropy Delta for guest-s12 as -15.58721829190003\n",
            "Got ligand entropy for guest-s16 as 155.2544142096\n",
            "VM2 calculated Binding Entropy Delta for guest-s16 as -11.494774320000033\n",
            "Got ligand entropy for guest-s13 as 155.2544142096\n",
            "VM2 calculated Binding Entropy Delta for guest-s13 as -15.005527764100009\n",
            "Got ligand entropy for guest-s21 as 155.2544142096\n",
            "VM2 calculated Binding Entropy Delta for guest-s21 as -15.748757891600007\n",
            "Got ligand entropy for guest-1 as 155.2544142096\n",
            "VM2 calculated Binding Entropy Delta for guest-1 as -12.358470837699997\n",
            "Got ligand entropy for guest-s17 as 155.2544142096\n",
            "VM2 calculated Binding Entropy Delta for guest-s17 as -13.060406153900004\n",
            "Got ligand entropy for guest-s10 as 155.2544142096\n",
            "VM2 calculated Binding Entropy Delta for guest-s10 as -12.05791344650001\n",
            "Got ligand entropy for guest-s19 as 155.2544142096\n",
            "VM2 calculated Binding Entropy Delta for guest-s19 as -13.83713399940001\n",
            "Got ligand entropy for guest-8 as 155.2544142096\n",
            "VM2 calculated Binding Entropy Delta for guest-8 as -16.501531549200024\n",
            "Got ligand entropy for guest-s14 as 155.2544142096\n",
            "VM2 calculated Binding Entropy Delta for guest-s14 as -14.070438818800028\n",
            "Got ligand entropy for guest-5 as 155.2544142096\n",
            "VM2 calculated Binding Entropy Delta for guest-5 as -11.643983203300024\n",
            "Got ligand entropy for guest-s18 as 155.2544142096\n",
            "VM2 calculated Binding Entropy Delta for guest-s18 as -16.73707489100002\n",
            "Got ligand entropy for guest-s9 as 155.2544142096\n",
            "VM2 calculated Binding Entropy Delta for guest-s9 as -13.06114478500001\n",
            "Got ligand entropy for guest-s22 as 155.2544142096\n",
            "VM2 calculated Binding Entropy Delta for guest-s22 as -16.25766907830001\n",
            "Got ligand entropy for guest-s15 as 155.2544142096\n",
            "VM2 calculated Binding Entropy Delta for guest-s15 as -15.984964834700037\n",
            "Got ligand entropy for guest-7 as 155.2544142096\n",
            "VM2 calculated Binding Entropy Delta for guest-7 as -15.171784006400003\n",
            "Got ligand entropy for guest-6 as 155.2544142096\n",
            "VM2 calculated Binding Entropy Delta for guest-6 as -15.66616097100001\n",
            "Got ligand entropy for guest-4 as 155.2544142096\n",
            "VM2 calculated Binding Entropy Delta for guest-4 as -11.082448269800011\n",
            "Got ligand entropy for guest-3 as 155.2544142096\n",
            "VM2 calculated Binding Entropy Delta for guest-3 as -14.463729263200008\n",
            "Got ligand entropy for guest-2 as 155.2544142096\n",
            "VM2 calculated Binding Entropy Delta for guest-2 as -13.954640460400014\n",
            "Got ligand entropy for guest-s20 as 155.2544142096\n",
            "VM2 calculated Binding Entropy Delta for guest-s20 as -17.96156050830001\n",
            "Got ligand entropy for guest-s11 as 155.2544142096\n",
            "VM2 calculated Binding Entropy Delta for guest-s11 as -13.142006565600013\n"
          ]
        }
      ],
      "source": [
        "# Grab the VM2 data processed by SirNewton @ CalstateLA!\n",
        "if not os.path.exists('cd_set1_gaff_vcharge'):\n",
        "  !git clone https://github.com/allesrebel/cd_set1_gaff_vcharge.git\n",
        "\n",
        "# Then extract the data we want to process from the VM2 \n",
        "# (tork) conformer searches for the minimized structure\n",
        "# we have multiple options we can try out\n",
        "vm2_run = ['fast_vm2_rndm', 'fast_vm2_single', 'vm2_rndm', 'vm2_single']\n",
        "\n",
        "# for now, we'll choose the vn2_rndm run, but could use all of them eventually\n",
        "chosen_run = 'vm2_rndm'\n",
        "\n",
        "complexes = {}\n",
        "vm2_entropy = {}\n",
        "guests_vm2 = []\n",
        "\n",
        "def extract_entropy_from_out(file_path:str) -> float:\n",
        "  with open(file_path, encoding=\"ISO-8859-1\") as f:\n",
        "    for line in f:\n",
        "      if 'Entropy' in line and '-TS' in line:\n",
        "        return float( line.split()[2] )\n",
        "\n",
        "for root, _, files in os.walk(f'cd_set1_gaff_vcharge/run/2_vm2_runs/{chosen_run}/complexes/CD'):\n",
        "  # Extract the mol2 file from this folder\n",
        "  for file in files:\n",
        "    if 'mol2' in file:\n",
        "      ligand = file.split('_')[1]\n",
        "      guests_vm2.append(ligand)\n",
        "      print(ligand, f'{chosen_run} complex added')\n",
        "\n",
        "      # Use the best complex / lowest energy complex from VM2\n",
        "      # for featurization!\n",
        "      # These will by default be sanitized by RDKit\n",
        "      minimized_complex = Chem.rdmolfiles.MolFromMol2File(os.path.join(root,file))\n",
        "\n",
        "      # just to checkout the SMILES\n",
        "      print(f'{ligand} via vm2', Chem.MolToSmiles(minimized_complex))\n",
        "\n",
        "      complexes[ligand] = minimized_complex\n",
        "    \n",
        "    if 'summary.out' in file:\n",
        "      ligand = file.split('_')[1]\n",
        "      vm2_entropy[ligand] = extract_entropy_from_out(os.path.join(root,file))\n",
        "      print(ligand, f'{chosen_run} entropy added, value {vm2_entropy[ligand]}')\n",
        "\n",
        "# Now we'll uniformally apply the host and the ligand values\n",
        "# to finalize the entropy calcs available/extracted during\n",
        "# complex extraction earlier\n",
        "for root, _, files in os.walk(f'cd_set1_gaff_vcharge/run/2_vm2_runs/{chosen_run}/hosts/CD'):\n",
        "  for file in files:\n",
        "    if 'summary.out' in file:\n",
        "      host_entropy = extract_entropy_from_out(os.path.join(root,file))\n",
        "      print(f'Got Host Entropy {host_entropy}')\n",
        "\n",
        "for ligand in vm2_entropy:\n",
        "  for root, _, files in os.walk(f'cd_set1_gaff_vcharge/run/2_vm2_runs/{chosen_run}/ligands/{ligand}'):\n",
        "    for file in files:\n",
        "      if 'summary.out' in file:\n",
        "        ligand_entropy = extract_entropy_from_out(os.path.join(root,file))\n",
        "        print(f'Got ligand entropy for {ligand} as {host_entropy}')\n",
        "\n",
        "        # Calculating Delta Entropy\n",
        "        vm2_entropy[ligand] -= ligand_entropy + host_entropy\n",
        "        vm2_entropy[ligand] *= -(1.0) # /300.0) K = 300 for all experiments\n",
        "        print(f'VM2 calculated Binding Entropy Delta for {ligand} as {vm2_entropy[ligand]}')\n",
        "\n",
        "\n",
        "# Define simple featurizer function, to extract features from a \n",
        "# docked version of the system\n",
        "def compute_features_vm2(featurizer, ligand):\n",
        "  # We already have RDKit Mols, we can directly run the\n",
        "  # featurizer over it!\n",
        "  complex_mol = complexes[ligand]\n",
        "\n",
        "  # Featurize the Docked Complex\n",
        "  return featurizer.featurize(complex_mol)"
      ]
    },
    {
      "cell_type": "markdown",
      "metadata": {
        "id": "dfHN1O0KQQe7"
      },
      "source": [
        "If we wanted to, we could instead do everything though SMILES (as we did with the pure data driven model) - but we actually already have MOL2, SDFs, and PDB files - might as well run it through the internal docking engine, Vina and see if they are decent."
      ]
    },
    {
      "cell_type": "markdown",
      "metadata": {
        "id": "YZa3wmHYTj5J"
      },
      "source": [
        "Now that we have all the data, we need to begin by docking the guests with the hosts. This input should be derived from VM2, but for now we'll do it through deepchem's Docker module. "
      ]
    },
    {
      "cell_type": "code",
      "execution_count": 7,
      "metadata": {
        "id": "8aRayW4NhwOD"
      },
      "outputs": [],
      "source": [
        "from typing import List, Tuple\n",
        "import numpy\n",
        "\n",
        "from deepchem.utils.typing import RDKitAtom, RDKitBond, RDKitMol\n",
        "from deepchem.feat.graph_data import GraphData\n",
        "from deepchem.feat.base_classes import MolecularFeaturizer\n",
        "\n",
        "from deepchem.utils.molecule_feature_utils import one_hot_encode\n",
        "from deepchem.utils.molecule_feature_utils import get_atom_type_one_hot\n",
        "from deepchem.utils.molecule_feature_utils import construct_hydrogen_bonding_info\n",
        "from deepchem.utils.molecule_feature_utils import get_atom_hydrogen_bonding_one_hot\n",
        "from deepchem.utils.molecule_feature_utils import get_atom_hybridization_one_hot\n",
        "from deepchem.utils.molecule_feature_utils import get_atom_total_num_Hs_one_hot\n",
        "from deepchem.utils.molecule_feature_utils import get_atom_is_in_aromatic_one_hot\n",
        "from deepchem.utils.molecule_feature_utils import get_atom_chirality_one_hot\n",
        "from deepchem.utils.molecule_feature_utils import get_atom_formal_charge\n",
        "from deepchem.utils.molecule_feature_utils import get_atom_partial_charge\n",
        "from deepchem.utils.molecule_feature_utils import get_atom_total_degree_one_hot\n",
        "from deepchem.utils.molecule_feature_utils import get_bond_type_one_hot\n",
        "from deepchem.utils.molecule_feature_utils import get_bond_is_in_same_ring_one_hot\n",
        "from deepchem.utils.molecule_feature_utils import get_bond_is_conjugated_one_hot\n",
        "from deepchem.utils.molecule_feature_utils import get_bond_stereo_one_hot\n",
        "from deepchem.utils.molecule_feature_utils import get_atom_formal_charge_one_hot\n",
        "from deepchem.utils.molecule_feature_utils import get_atom_implicit_valence_one_hot\n",
        "from deepchem.utils.molecule_feature_utils import get_atom_explicit_valence_one_hot\n",
        "from deepchem.utils.rdkit_utils import compute_all_pairs_shortest_path\n",
        "from deepchem.utils.rdkit_utils import compute_pairwise_ring_info\n",
        "\n",
        "def _construct_atom_feature(atom: RDKitAtom, h_bond_infos: List[Tuple[int,str]],\n",
        "                            use_chirality: bool,\n",
        "                            use_partial_charge: bool) -> numpy.ndarray:\n",
        "  \"\"\"Construct an atom feature from a RDKit atom object.\n",
        "  Parameters\n",
        "  ----------\n",
        "  atom: rdkit.Chem.rdchem.Atom\n",
        "    RDKit atom object\n",
        "  h_bond_infos: List[Tuple[int, str]]\n",
        "    A list of tuple `(atom_index, hydrogen_bonding_type)`.\n",
        "    Basically, it is expected that this value is the return value of\n",
        "    `construct_hydrogen_bonding_info`. The `hydrogen_bonding_type`\n",
        "    value is \"Acceptor\" or \"Donor\".\n",
        "  use_chirality: bool\n",
        "    Whether to use chirality information or not.\n",
        "  use_partial_charge: bool\n",
        "    Whether to use partial charge data or not.\n",
        "  Returns\n",
        "  -------\n",
        "  numpy.ndarray\n",
        "    A one-hot vector of the atom feature.\n",
        "  \"\"\"\n",
        "  atom_type = get_atom_type_one_hot(atom)\n",
        "  formal_charge = get_atom_formal_charge(atom)\n",
        "  hybridization = get_atom_hybridization_one_hot(atom)\n",
        "  acceptor_donor = get_atom_hydrogen_bonding_one_hot(atom, h_bond_infos)\n",
        "  aromatic = get_atom_is_in_aromatic_one_hot(atom)\n",
        "  degree = get_atom_total_degree_one_hot(atom)\n",
        "  total_num_Hs = get_atom_total_num_Hs_one_hot(atom)\n",
        "  atom_feat = numpy.concatenate([\n",
        "      atom_type, formal_charge, hybridization, acceptor_donor, aromatic, degree,\n",
        "      total_num_Hs, [ 0.0 ] # for Physics Guided Term\n",
        "  ])\n",
        "\n",
        "  if use_chirality:\n",
        "    chirality = get_atom_chirality_one_hot(atom)\n",
        "    atom_feat = numpy.concatenate([atom_feat, numpy.array(chirality)])\n",
        "\n",
        "  if use_partial_charge:\n",
        "    partial_charge = get_atom_partial_charge(atom)\n",
        "    atom_feat = numpy.concatenate([atom_feat, numpy.array(partial_charge)])\n",
        "  return atom_feat\n",
        "\n",
        "\n",
        "def _construct_bond_feature(bond: RDKitBond) -> numpy.ndarray:\n",
        "  \"\"\"Construct a bond feature from a RDKit bond object.\n",
        "  Parameters\n",
        "  ---------\n",
        "  bond: rdkit.Chem.rdchem.Bond\n",
        "    RDKit bond object\n",
        "  Returns\n",
        "  -------\n",
        "  numpy.ndarray\n",
        "    A one-hot vector of the bond feature.\n",
        "  \"\"\"\n",
        "  bond_type = get_bond_type_one_hot(bond)\n",
        "  same_ring = get_bond_is_in_same_ring_one_hot(bond)\n",
        "  conjugated = get_bond_is_conjugated_one_hot(bond)\n",
        "  stereo = get_bond_stereo_one_hot(bond)\n",
        "  return numpy.concatenate([bond_type, same_ring, conjugated, stereo])\n",
        "\n",
        "class ModdedMolGraphConvFeaturizer(MolecularFeaturizer):\n",
        "  \"\"\"This class is a featurizer of general graph convolution networks for molecules.\n",
        "  The default node(atom) and edge(bond) representations are based on\n",
        "  `WeaveNet paper <https://arxiv.org/abs/1603.00856>`_. If you want to use your own representations,\n",
        "  you could use this class as a guide to define your original Featurizer. In many cases, it's enough\n",
        "  to modify return values of `construct_atom_feature` or `construct_bond_feature`.\n",
        "  The default node representation are constructed by concatenating the following values,\n",
        "  and the feature length is 30.\n",
        "  - Atom type: A one-hot vector of this atom, \"C\", \"N\", \"O\", \"F\", \"P\", \"S\", \"Cl\", \"Br\", \"I\", \"other atoms\".\n",
        "  - Formal charge: Integer electronic charge.\n",
        "  - Hybridization: A one-hot vector of \"sp\", \"sp2\", \"sp3\".\n",
        "  - Hydrogen bonding: A one-hot vector of whether this atom is a hydrogen bond donor or acceptor.\n",
        "  - Aromatic: A one-hot vector of whether the atom belongs to an aromatic ring.\n",
        "  - Degree: A one-hot vector of the degree (0-5) of this atom.\n",
        "  - Number of Hydrogens: A one-hot vector of the number of hydrogens (0-4) that this atom connected.\n",
        "  - Chirality: A one-hot vector of the chirality, \"R\" or \"S\". (Optional)\n",
        "  - Partial charge: Calculated partial charge. (Optional)\n",
        "  The default edge representation are constructed by concatenating the following values,\n",
        "  and the feature length is 11.\n",
        "  - Bond type: A one-hot vector of the bond type, \"single\", \"double\", \"triple\", or \"aromatic\".\n",
        "  - Same ring: A one-hot vector of whether the atoms in the pair are in the same ring.\n",
        "  - Conjugated: A one-hot vector of whether this bond is conjugated or not.\n",
        "  - Stereo: A one-hot vector of the stereo configuration of a bond.\n",
        "  If you want to know more details about features, please check the paper [1]_ and\n",
        "  utilities in deepchem.utils.molecule_feature_utils.py.\n",
        "  Examples\n",
        "  --------\n",
        "  >>> smiles = [\"C1CCC1\", \"C1=CC=CN=C1\"]\n",
        "  >>> featurizer = MolGraphConvFeaturizer(use_edges=True)\n",
        "  >>> out = featurizer.featurize(smiles)\n",
        "  >>> type(out[0])\n",
        "  <class 'deepchem.feat.graph_data.GraphData'>\n",
        "  >>> out[0].num_node_features\n",
        "  30\n",
        "  >>> out[0].num_edge_features\n",
        "  11\n",
        "  References\n",
        "  ----------\n",
        "  .. [1] Kearnes, Steven, et al. \"Molecular graph convolutions: moving beyond fingerprints.\"\n",
        "     Journal of computer-aided molecular design 30.8 (2016):595-608.\n",
        "  Note\n",
        "  ----\n",
        "  This class requires RDKit to be installed.\n",
        "  \"\"\"\n",
        "\n",
        "  def __init__(self,\n",
        "               use_edges: bool = False,\n",
        "               use_chirality: bool = False,\n",
        "               use_partial_charge: bool = False):\n",
        "    \"\"\"\n",
        "    Parameters\n",
        "    ----------\n",
        "    use_edges: bool, default False\n",
        "      Whether to use edge features or not.\n",
        "    use_chirality: bool, default False\n",
        "      Whether to use chirality information or not.\n",
        "      If True, featurization becomes slow.\n",
        "    use_partial_charge: bool, default False\n",
        "      Whether to use partial charge data or not.\n",
        "      If True, this featurizer computes gasteiger charges.\n",
        "      Therefore, there is a possibility to fail to featurize for some molecules\n",
        "      and featurization becomes slow.\n",
        "    \"\"\"\n",
        "    self.use_edges = use_edges\n",
        "    self.use_partial_charge = use_partial_charge\n",
        "    self.use_chirality = use_chirality\n",
        "\n",
        "  def _featurize(self, datapoint: RDKitMol, **kwargs) -> GraphData:\n",
        "    \"\"\"Calculate molecule graph features from RDKit mol object.\n",
        "    Parameters\n",
        "    ----------\n",
        "    datapoint: rdkit.Chem.rdchem.Mol\n",
        "      RDKit mol object.\n",
        "    Returns\n",
        "    -------\n",
        "    graph: GraphData\n",
        "      A molecule graph with some features.\n",
        "    \"\"\"\n",
        "    assert datapoint.GetNumAtoms(\n",
        "    ) > 1, \"More than one atom should be present in the molecule for this featurizer to work.\"\n",
        "    if 'mol' in kwargs:\n",
        "      datapoint = kwargs.get(\"mol\")\n",
        "      raise DeprecationWarning(\n",
        "          'Mol is being phased out as a parameter, please pass \"datapoint\" instead.'\n",
        "      )\n",
        "\n",
        "    if self.use_partial_charge:\n",
        "      try:\n",
        "        datapoint.GetAtomWithIdx(0).GetProp('_GasteigerCharge')\n",
        "      except:\n",
        "        # If partial charges were not computed\n",
        "        try:\n",
        "          from rdkit.Chem import AllChem\n",
        "          AllChem.ComputeGasteigerCharges(datapoint)\n",
        "        except ModuleNotFoundError:\n",
        "          raise ImportError(\"This class requires RDKit to be installed.\")\n",
        "\n",
        "    # construct atom (node) feature\n",
        "    h_bond_infos = construct_hydrogen_bonding_info(datapoint)\n",
        "    atom_features = numpy.asarray(\n",
        "        [\n",
        "            _construct_atom_feature(atom, h_bond_infos, self.use_chirality,\n",
        "                                    self.use_partial_charge)\n",
        "            for atom in datapoint.GetAtoms()\n",
        "        ],\n",
        "        dtype=float,\n",
        "    )\n",
        "\n",
        "    # construct edge (bond) index\n",
        "    src, dest = [], []\n",
        "    for bond in datapoint.GetBonds():\n",
        "      # add edge list considering a directed graph\n",
        "      start, end = bond.GetBeginAtomIdx(), bond.GetEndAtomIdx()\n",
        "      src += [start, end]\n",
        "      dest += [end, start]\n",
        "\n",
        "    # construct edge (bond) feature\n",
        "    bond_features = None  # deafult None\n",
        "    if self.use_edges:\n",
        "      features = []\n",
        "      for bond in datapoint.GetBonds():\n",
        "        features += 2 * [_construct_bond_feature(bond)]\n",
        "      bond_features = numpy.asarray(features, dtype=float)\n",
        "\n",
        "    # load_sdf_files returns pos as strings but user can also specify\n",
        "    # numpy arrays for atom coordinates\n",
        "    pos = numpy.ndarray(1)\n",
        "    if 'pos_x' in kwargs and 'pos_y' in kwargs and 'pos_z' in kwargs:\n",
        "      if isinstance(kwargs['pos_x'], str):\n",
        "        pos_x = eval(kwargs['pos_x'])\n",
        "      elif isinstance(kwargs['pos_x'], numpy.ndarray):\n",
        "        pos_x = kwargs['pos_x']\n",
        "      if isinstance(kwargs['pos_y'], str):\n",
        "        pos_y = eval(kwargs['pos_y'])\n",
        "      elif isinstance(kwargs['pos_y'], numpy.ndarray):\n",
        "        pos_y = kwargs['pos_y']\n",
        "      if isinstance(kwargs['pos_z'], str):\n",
        "        pos_z = eval(kwargs['pos_z'])\n",
        "      elif isinstance(kwargs['pos_z'], numpy.ndarray):\n",
        "        pos_z = kwargs['pos_z']\n",
        "\n",
        "      for x, y, z in zip(pos_x, pos_y, pos_z):\n",
        "        pos.append([x, y, z])\n",
        "    return GraphData(node_features=atom_features,\n",
        "                     edge_index=numpy.asarray([src, dest], dtype=int),\n",
        "                     edge_features=bond_features)"
      ]
    },
    {
      "cell_type": "markdown",
      "metadata": {
        "id": "IaE8bDvxN45H"
      },
      "source": [
        "In a similar manner, we'll create a modified version of the circular fingerprint with a bit of extra space for some physics guided component. Specifically the calculation from VM2."
      ]
    },
    {
      "cell_type": "code",
      "execution_count": 8,
      "metadata": {
        "id": "655Tg3ekOCfp"
      },
      "outputs": [],
      "source": [
        "\"\"\"\n",
        "Topological fingerprints.\n",
        "\"\"\"\n",
        "from typing import Dict\n",
        "\n",
        "from deepchem.utils.typing import RDKitMol\n",
        "from deepchem.feat.base_classes import MolecularFeaturizer\n",
        "\n",
        "\n",
        "class ModifiedCircularFingerprint(MolecularFeaturizer):\n",
        "  \"\"\"Circular (Morgan) fingerprints.\n",
        "\n",
        "  Extended Connectivity Circular Fingerprints compute a bag-of-words style\n",
        "  representation of a molecule by breaking it into local neighborhoods and\n",
        "  hashing into a bit vector of the specified size. It is used specifically\n",
        "  for structure-activity modelling. See [1]_ for more details.\n",
        "\n",
        "  References\n",
        "  ----------\n",
        "  .. [1] Rogers, David, and Mathew Hahn. \"Extended-connectivity fingerprints.\"\n",
        "     Journal of chemical information and modeling 50.5 (2010): 742-754.\n",
        "\n",
        "  Note\n",
        "  ----\n",
        "  This class requires RDKit to be installed.\n",
        "\n",
        "  Examples\n",
        "  --------\n",
        "  >>> import deepchem as dc\n",
        "  >>> from rdkit import Chem\n",
        "  >>> smiles = ['C1=CC=CC=C1']\n",
        "  >>> # Example 1: (size = 2048, radius = 4)\n",
        "  >>> featurizer = dc.feat.CircularFingerprint(size=2048, radius=4)\n",
        "  >>> features = featurizer.featurize(smiles)\n",
        "  >>> type(features[0])\n",
        "  <class 'numpy.ndarray'>\n",
        "  >>> features[0].shape\n",
        "  (2048,)\n",
        "\n",
        "  >>> # Example 2: (size = 2048, radius = 4, sparse = True, smiles = True)\n",
        "  >>> featurizer = dc.feat.CircularFingerprint(size=2048, radius=8,\n",
        "  ...                                          sparse=True, smiles=True)\n",
        "  >>> features = featurizer.featurize(smiles)\n",
        "  >>> type(features[0]) # dict containing fingerprints\n",
        "  <class 'dict'>\n",
        "\n",
        "  \"\"\"\n",
        "\n",
        "  def __init__(self,\n",
        "               radius: int = 2,\n",
        "               size: int = 2048,\n",
        "               chiral: bool = False,\n",
        "               bonds: bool = True,\n",
        "               features: bool = False,\n",
        "               sparse: bool = False,\n",
        "               smiles: bool = False,\n",
        "               is_counts_based: bool = False):\n",
        "    \"\"\"\n",
        "    Parameters\n",
        "    ----------\n",
        "    radius: int, optional (default 2)\n",
        "      Fingerprint radius.\n",
        "    size: int, optional (default 2048)\n",
        "      Length of generated bit vector.\n",
        "    chiral: bool, optional (default False)\n",
        "      Whether to consider chirality in fingerprint generation.\n",
        "    bonds: bool, optional (default True)\n",
        "      Whether to consider bond order in fingerprint generation.\n",
        "    features: bool, optional (default False)\n",
        "      Whether to use feature information instead of atom information; see\n",
        "      RDKit docs for more info.\n",
        "    sparse: bool, optional (default False)\n",
        "      Whether to return a dict for each molecule containing the sparse\n",
        "      fingerprint.\n",
        "    smiles: bool, optional (default False)\n",
        "      Whether to calculate SMILES strings for fragment IDs (only applicable\n",
        "      when calculating sparse fingerprints).\n",
        "    is_counts_based: bool, optional (default False)\n",
        "      Whether to generates a counts-based fingerprint.\n",
        "    \"\"\"\n",
        "    self.radius = radius\n",
        "    self.size = size\n",
        "    self.chiral = chiral\n",
        "    self.bonds = bonds\n",
        "    self.features = features\n",
        "    self.sparse = sparse\n",
        "    self.smiles = smiles\n",
        "    self.is_counts_based = is_counts_based\n",
        "\n",
        "  def _featurize(self, datapoint: RDKitMol, **kwargs) -> numpy.ndarray:\n",
        "    \"\"\"Calculate circular fingerprint.\n",
        "\n",
        "    Parameters\n",
        "    ----------\n",
        "    datapoint: rdkit.Chem.rdchem.Mol\n",
        "      RDKit Mol object\n",
        "\n",
        "    Returns\n",
        "    -------\n",
        "    np.ndarray\n",
        "      A numpy array of circular fingerprint.\n",
        "    \"\"\"\n",
        "    try:\n",
        "      from rdkit import Chem, DataStructs\n",
        "      from rdkit.Chem import rdMolDescriptors\n",
        "    except ModuleNotFoundError:\n",
        "      raise ImportError(\"This class requires RDKit to be installed.\")\n",
        "    if 'mol' in kwargs:\n",
        "      datapoint = kwargs.get(\"mol\")\n",
        "      raise DeprecationWarning(\n",
        "          'Mol is being phased out as a parameter, please pass \"datapoint\" instead.'\n",
        "      )\n",
        "    if self.sparse:\n",
        "      info: Dict = {}\n",
        "      fp = rdMolDescriptors.GetMorganFingerprint(datapoint,\n",
        "                                                 self.radius,\n",
        "                                                 useChirality=self.chiral,\n",
        "                                                 useBondTypes=self.bonds,\n",
        "                                                 useFeatures=self.features,\n",
        "                                                 bitInfo=info)\n",
        "      fp = fp.GetNonzeroElements()  # convert to a dict\n",
        "\n",
        "      # generate SMILES for fragments\n",
        "      if self.smiles:\n",
        "        fp_smiles = {}\n",
        "        for fragment_id, count in fp.items():\n",
        "          root, radius = info[fragment_id][0]\n",
        "          env = Chem.FindAtomEnvironmentOfRadiusN(datapoint, radius, root)\n",
        "          frag = Chem.PathToSubmol(datapoint, env)\n",
        "          smiles = Chem.MolToSmiles(frag)\n",
        "          fp_smiles[fragment_id] = {'smiles': smiles, 'count': count}\n",
        "        fp = fp_smiles\n",
        "    else:\n",
        "      if self.is_counts_based:\n",
        "        fp_sparse = rdMolDescriptors.GetHashedMorganFingerprint(\n",
        "            datapoint,\n",
        "            self.radius,\n",
        "            nBits=self.size,\n",
        "            useChirality=self.chiral,\n",
        "            useBondTypes=self.bonds,\n",
        "            useFeatures=self.features)\n",
        "        fp = numpy.zeros(\n",
        "            (self.size,), dtype=float\n",
        "        )  # initialise numpy array of zeros (shape: (required size,))\n",
        "        DataStructs.ConvertToNumpyArray(fp_sparse, fp)\n",
        "      else:\n",
        "        fp = rdMolDescriptors.GetMorganFingerprintAsBitVect(\n",
        "            datapoint,\n",
        "            self.radius,\n",
        "            nBits=self.size,\n",
        "            useChirality=self.chiral,\n",
        "            useBondTypes=self.bonds,\n",
        "            useFeatures=self.features)\n",
        "        fp = numpy.asarray(fp, dtype=float)\n",
        "    \n",
        "    # And finally allow for the physics guided term \n",
        "    # by adding one additional feature vector item\n",
        "    fp = numpy.concatenate([ fp, [ 0.0 ] ]) # for Physics Guided Term\n",
        "    return fp\n",
        "\n",
        "  def __hash__(self):\n",
        "    return hash((self.radius, self.size, self.chiral, self.bonds, self.features,\n",
        "                 self.sparse, self.smiles))\n",
        "\n",
        "  def __eq__(self, other):\n",
        "    if not isinstance(self, other.__class__):\n",
        "      return False\n",
        "    return self.radius == other.radius and \\\n",
        "           self.size == other.size and \\\n",
        "           self.chiral == other.chiral and \\\n",
        "           self.bonds == other.bonds and \\\n",
        "           self.features == other.features and \\\n",
        "           self.sparse == other.sparse and \\\n",
        "           self.smiles == other.smiles\n"
      ]
    },
    {
      "cell_type": "code",
      "execution_count": 9,
      "metadata": {
        "colab": {
          "base_uri": "https://localhost:8080/"
        },
        "id": "sktd0zcuOrzX",
        "outputId": "e6f8789c-1aef-4e3c-8e93-53c7c4872c4e"
      },
      "outputs": [
        {
          "output_type": "stream",
          "name": "stdout",
          "text": [
            "Processing guest-s12 complex using Circular Fingerprint\n",
            "Processing guest-s16 complex using Circular Fingerprint\n",
            "Processing guest-s13 complex using Circular Fingerprint\n",
            "Processing guest-s21 complex using Circular Fingerprint\n",
            "Processing guest-1 complex using Circular Fingerprint\n",
            "Processing guest-s17 complex using Circular Fingerprint\n",
            "Processing guest-s10 complex using Circular Fingerprint\n",
            "Processing guest-s19 complex using Circular Fingerprint\n",
            "Processing guest-8 complex using Circular Fingerprint\n",
            "Processing guest-s14 complex using Circular Fingerprint\n",
            "Processing guest-5 complex using Circular Fingerprint\n",
            "Processing guest-s18 complex using Circular Fingerprint\n",
            "Processing guest-s9 complex using Circular Fingerprint\n",
            "Processing guest-s22 complex using Circular Fingerprint\n",
            "Processing guest-s15 complex using Circular Fingerprint\n",
            "Processing guest-7 complex using Circular Fingerprint\n",
            "Processing guest-6 complex using Circular Fingerprint\n",
            "Processing guest-4 complex using Circular Fingerprint\n",
            "Processing guest-3 complex using Circular Fingerprint\n",
            "Processing guest-2 complex using Circular Fingerprint\n",
            "Processing guest-s20 complex using Circular Fingerprint\n",
            "Processing guest-s11 complex using Circular Fingerprint\n",
            "Processing guest-s12 complex using Graph Conv Featurizer\n",
            "Processing guest-s16 complex using Graph Conv Featurizer\n",
            "Processing guest-s13 complex using Graph Conv Featurizer\n",
            "Processing guest-s21 complex using Graph Conv Featurizer\n",
            "Processing guest-1 complex using Graph Conv Featurizer\n",
            "Processing guest-s17 complex using Graph Conv Featurizer\n",
            "Processing guest-s10 complex using Graph Conv Featurizer\n",
            "Processing guest-s19 complex using Graph Conv Featurizer\n",
            "Processing guest-8 complex using Graph Conv Featurizer\n",
            "Processing guest-s14 complex using Graph Conv Featurizer\n",
            "Processing guest-5 complex using Graph Conv Featurizer\n",
            "Processing guest-s18 complex using Graph Conv Featurizer\n",
            "Processing guest-s9 complex using Graph Conv Featurizer\n",
            "Processing guest-s22 complex using Graph Conv Featurizer\n",
            "Processing guest-s15 complex using Graph Conv Featurizer\n",
            "Processing guest-7 complex using Graph Conv Featurizer\n",
            "Processing guest-6 complex using Graph Conv Featurizer\n",
            "Processing guest-4 complex using Graph Conv Featurizer\n",
            "Processing guest-3 complex using Graph Conv Featurizer\n",
            "Processing guest-2 complex using Graph Conv Featurizer\n",
            "Processing guest-s20 complex using Graph Conv Featurizer\n",
            "Processing guest-s11 complex using Graph Conv Featurizer\n",
            "Processing guest-s12 complex using Modded Graph Conv Featurizer\n",
            "Processing guest-s16 complex using Modded Graph Conv Featurizer\n",
            "Processing guest-s13 complex using Modded Graph Conv Featurizer\n",
            "Processing guest-s21 complex using Modded Graph Conv Featurizer\n",
            "Processing guest-1 complex using Modded Graph Conv Featurizer\n",
            "Processing guest-s17 complex using Modded Graph Conv Featurizer\n",
            "Processing guest-s10 complex using Modded Graph Conv Featurizer\n",
            "Processing guest-s19 complex using Modded Graph Conv Featurizer\n",
            "Processing guest-8 complex using Modded Graph Conv Featurizer\n",
            "Processing guest-s14 complex using Modded Graph Conv Featurizer\n",
            "Processing guest-5 complex using Modded Graph Conv Featurizer\n",
            "Processing guest-s18 complex using Modded Graph Conv Featurizer\n",
            "Processing guest-s9 complex using Modded Graph Conv Featurizer\n",
            "Processing guest-s22 complex using Modded Graph Conv Featurizer\n",
            "Processing guest-s15 complex using Modded Graph Conv Featurizer\n",
            "Processing guest-7 complex using Modded Graph Conv Featurizer\n",
            "Processing guest-6 complex using Modded Graph Conv Featurizer\n",
            "Processing guest-4 complex using Modded Graph Conv Featurizer\n",
            "Processing guest-3 complex using Modded Graph Conv Featurizer\n",
            "Processing guest-2 complex using Modded Graph Conv Featurizer\n",
            "Processing guest-s20 complex using Modded Graph Conv Featurizer\n",
            "Processing guest-s11 complex using Modded Graph Conv Featurizer\n",
            "Processing guest-s12 complex using Modded Circular Fingerprint\n",
            "Processing guest-s16 complex using Modded Circular Fingerprint\n",
            "Processing guest-s13 complex using Modded Circular Fingerprint\n",
            "Processing guest-s21 complex using Modded Circular Fingerprint\n",
            "Processing guest-1 complex using Modded Circular Fingerprint\n",
            "Processing guest-s17 complex using Modded Circular Fingerprint\n",
            "Processing guest-s10 complex using Modded Circular Fingerprint\n",
            "Processing guest-s19 complex using Modded Circular Fingerprint\n",
            "Processing guest-8 complex using Modded Circular Fingerprint\n",
            "Processing guest-s14 complex using Modded Circular Fingerprint\n",
            "Processing guest-5 complex using Modded Circular Fingerprint\n",
            "Processing guest-s18 complex using Modded Circular Fingerprint\n",
            "Processing guest-s9 complex using Modded Circular Fingerprint\n",
            "Processing guest-s22 complex using Modded Circular Fingerprint\n",
            "Processing guest-s15 complex using Modded Circular Fingerprint\n",
            "Processing guest-7 complex using Modded Circular Fingerprint\n",
            "Processing guest-6 complex using Modded Circular Fingerprint\n",
            "Processing guest-4 complex using Modded Circular Fingerprint\n",
            "Processing guest-3 complex using Modded Circular Fingerprint\n",
            "Processing guest-2 complex using Modded Circular Fingerprint\n",
            "Processing guest-s20 complex using Modded Circular Fingerprint\n",
            "Processing guest-s11 complex using Modded Circular Fingerprint\n"
          ]
        }
      ],
      "source": [
        "# Featurize Dataset, using intial data calculated by VM2\n",
        "all_features_vm2 = {}\n",
        "\n",
        "# Theoretically, the guests should match between\n",
        "# vm2 and vina docked structures\n",
        "guests = guests_vm2\n",
        "\n",
        "# Define featurizers\n",
        "featureizers = []\n",
        "featureizers.append( ('Circular Fingerprint', deepchem.feat.CircularFingerprint() ) )\n",
        "featureizers.append( ('Graph Conv Featurizer', deepchem.feat.MolGraphConvFeaturizer() ) )\n",
        "featureizers.append( ('Modded Graph Conv Featurizer', ModdedMolGraphConvFeaturizer() ) )\n",
        "featureizers.append( ('Modded Circular Fingerprint', ModifiedCircularFingerprint() ) )\n",
        "# Need to debug!\n",
        "#featureizers.append( ('Contact Featurizer', deepchem.feat.ContactCircularFingerprint() ) )\n",
        "\n",
        "for featurizer_name, featureizer_model in featureizers:\n",
        "\n",
        "  all_features_vm2[featurizer_name] = {}\n",
        "\n",
        "  for guest in guests:\n",
        "    print(f'Processing {guest} complex using {featurizer_name}')\n",
        "\n",
        "    #features = compute_features_vina\\\n",
        "    features = compute_features_vm2\\\n",
        "    (\n",
        "      featureizer_model,\n",
        "      guest\n",
        "    )\n",
        "    if features is None :\n",
        "      print(f'Featurization failed for {guest} complex using {featurizer_name}!')\n",
        "      continue\n",
        "\n",
        "    all_features_vm2[featurizer_name][guest] = features\n",
        "    # break DEBUG: only does 1 of each "
      ]
    },
    {
      "cell_type": "markdown",
      "metadata": {
        "id": "1EAMVWvWIJ01"
      },
      "source": [
        "To compare results, we'll look at the results if we have Vina Auto Doc and perform the same featurization on the conformer. There isn't a physics guided component here, so we won't featureize with those. (But we could!)"
      ]
    },
    {
      "cell_type": "code",
      "execution_count": null,
      "metadata": {
        "id": "FN7czVQHjncI"
      },
      "outputs": [],
      "source": [
        "# Featurize Dataset, but instead of VM2, we'll use vina to create \n",
        "# a good docking position from various poses. Then we'll featurize based\n",
        "# on that docked conformer!\n",
        "all_features_vina = {}\n",
        "\n",
        "# Theoretically, the guests should match between\n",
        "# vm2 and vina docked structures, but really depends on the conformer search\n",
        "guests = guests_vina\n",
        "\n",
        "# Define featurizers\n",
        "featureizers = []\n",
        "featureizers.append( ('Circular Fingerprint', deepchem.feat.CircularFingerprint() ) )\n",
        "featureizers.append( ('Graph Conv Featurizer', deepchem.feat.MolGraphConvFeaturizer() ) )\n",
        "\n",
        "for featurizer_name, featureizer_model in featureizers:\n",
        "\n",
        "  all_features_vina[featurizer_name] = {}\n",
        "\n",
        "  for guest in guests:\n",
        "    print(f'Processing {guest} complex using {featurizer_name}')\n",
        "\n",
        "    features = compute_features_vina\\\n",
        "    (\n",
        "      featureizer_model,\n",
        "      guest\n",
        "    )\n",
        "    if features is None :\n",
        "      print(f'Featurization failed for {guest} complex using {featurizer_name}!')\n",
        "      continue\n",
        "\n",
        "    all_features_vina[featurizer_name][guest] = features\n",
        "    break # DEBUG: only does 1 of each "
      ]
    },
    {
      "cell_type": "code",
      "source": [
        "# Featurize Dataset for data driven using the typology stripper\n",
        "all_features_pure = {}\n",
        "\n",
        "# Theoretically, the guests should match between\n",
        "# vm2 and vina docked structures, but really depends on the conformer search\n",
        "guests = guests_vm2 # re use vm2 guests\n",
        "\n",
        "# Define featurizers\n",
        "featureizers = []\n",
        "featureizers.append( ('Circular Fingerprint', deepchem.feat.CircularFingerprint() ) )\n",
        "featureizers.append( ('Graph Conv Featurizer', deepchem.feat.MolGraphConvFeaturizer() ) )\n",
        "featureizers.append( ('Modded Graph Conv Featurizer', ModdedMolGraphConvFeaturizer() ) )\n",
        "featureizers.append( ('Modded Circular Fingerprint', ModifiedCircularFingerprint() ) )\n",
        "\n",
        "for featurizer_name, featureizer_model in featureizers:\n",
        "\n",
        "  all_features_pure[featurizer_name] = {}\n",
        "\n",
        "  for guest in guests:\n",
        "    print(f'Processing {guest} complex using {featurizer_name}')\n",
        "\n",
        "    features = compute_features_pure\\\n",
        "    (\n",
        "      featureizer_model,\n",
        "      guest\n",
        "    )\n",
        "    if features is None :\n",
        "      print(f'Featurization failed for {guest} complex using {featurizer_name}!')\n",
        "      continue\n",
        "\n",
        "    all_features_pure[featurizer_name][guest] = features\n",
        "    # break # DEBUG: only does 1 of each "
      ],
      "metadata": {
        "colab": {
          "base_uri": "https://localhost:8080/"
        },
        "id": "MBk5qrcfRhm1",
        "outputId": "caf121a3-ecdf-4958-91e7-bcc1e19a1ee1"
      },
      "execution_count": 10,
      "outputs": [
        {
          "output_type": "stream",
          "name": "stdout",
          "text": [
            "Processing guest-s12 complex using Circular Fingerprint\n",
            "guest-s12 pure CCCCCC[NH2+]C.OC[C@H]1O[C@@H]2O[C@H]3[C@H](O)[C@@H](O)[C@@H](O[C@H]4[C@H](O)[C@@H](O)[C@@H](O[C@H]5[C@H](O)[C@@H](O)[C@@H](O[C@H]6[C@H](O)[C@@H](O)[C@@H](O[C@H]7[C@H](O)[C@@H](O)[C@@H](O[C@H]1[C@H](O)[C@H]2O)O[C@@H]7CO)O[C@@H]6CO)O[C@@H]5CO)O[C@@H]4CO)O[C@@H]3CO\n",
            "Processing guest-s16 complex using Circular Fingerprint\n",
            "guest-s16 pure OC1CCC1.OC[C@H]1O[C@@H]2O[C@H]3[C@H](O)[C@@H](O)[C@@H](O[C@H]4[C@H](O)[C@@H](O)[C@@H](O[C@H]5[C@H](O)[C@@H](O)[C@@H](O[C@H]6[C@H](O)[C@@H](O)[C@@H](O[C@H]7[C@H](O)[C@@H](O)[C@@H](O[C@H]1[C@H](O)[C@H]2O)O[C@@H]7CO)O[C@@H]6CO)O[C@@H]5CO)O[C@@H]4CO)O[C@@H]3CO\n",
            "Processing guest-s13 complex using Circular Fingerprint\n",
            "guest-s13 pure CCCCCC(C)[NH3+].OC[C@H]1O[C@@H]2O[C@H]3[C@H](O)[C@@H](O)[C@@H](O[C@H]4[C@H](O)[C@@H](O)[C@@H](O[C@H]5[C@H](O)[C@@H](O)[C@@H](O[C@H]6[C@H](O)[C@@H](O)[C@@H](O[C@H]7[C@H](O)[C@@H](O)[C@@H](O[C@H]1[C@H](O)[C@H]2O)O[C@@H]7CO)O[C@@H]6CO)O[C@@H]5CO)O[C@@H]4CO)O[C@@H]3CO\n",
            "Processing guest-s21 complex using Circular Fingerprint\n",
            "guest-s21 pure CCCCCCC(=O)[O-].OC[C@H]1O[C@@H]2O[C@H]3[C@H](O)[C@@H](O)[C@@H](O[C@H]4[C@H](O)[C@@H](O)[C@@H](O[C@H]5[C@H](O)[C@@H](O)[C@@H](O[C@H]6[C@H](O)[C@@H](O)[C@@H](O[C@H]7[C@H](O)[C@@H](O)[C@@H](O[C@H]1[C@H](O)[C@H]2O)O[C@@H]7CO)O[C@@H]6CO)O[C@@H]5CO)O[C@@H]4CO)O[C@@H]3CO\n",
            "Processing guest-1 complex using Circular Fingerprint\n",
            "guest-1 pure CCCC[NH3+].OC[C@H]1O[C@@H]2O[C@H]3[C@H](O)[C@@H](O)[C@@H](O[C@H]4[C@H](O)[C@@H](O)[C@@H](O[C@H]5[C@H](O)[C@@H](O)[C@@H](O[C@H]6[C@H](O)[C@@H](O)[C@@H](O[C@H]7[C@H](O)[C@@H](O)[C@@H](O[C@H]1[C@H](O)[C@H]2O)O[C@@H]7CO)O[C@@H]6CO)O[C@@H]5CO)O[C@@H]4CO)O[C@@H]3CO\n",
            "Processing guest-s17 complex using Circular Fingerprint\n",
            "guest-s17 pure OC1CCCCCCC1.OC[C@H]1O[C@@H]2O[C@H]3[C@H](O)[C@@H](O)[C@@H](O[C@H]4[C@H](O)[C@@H](O)[C@@H](O[C@H]5[C@H](O)[C@@H](O)[C@@H](O[C@H]6[C@H](O)[C@@H](O)[C@@H](O[C@H]7[C@H](O)[C@@H](O)[C@@H](O[C@H]1[C@H](O)[C@H]2O)O[C@@H]7CO)O[C@@H]6CO)O[C@@H]5CO)O[C@@H]4CO)O[C@@H]3CO\n",
            "Processing guest-s10 complex using Circular Fingerprint\n",
            "guest-s10 pure CCCC(C)[NH3+].OC[C@H]1O[C@@H]2O[C@H]3[C@H](O)[C@@H](O)[C@@H](O[C@H]4[C@H](O)[C@@H](O)[C@@H](O[C@H]5[C@H](O)[C@@H](O)[C@@H](O[C@H]6[C@H](O)[C@@H](O)[C@@H](O[C@H]7[C@H](O)[C@@H](O)[C@@H](O[C@H]1[C@H](O)[C@H]2O)O[C@@H]7CO)O[C@@H]6CO)O[C@@H]5CO)O[C@@H]4CO)O[C@@H]3CO\n",
            "Processing guest-s19 complex using Circular Fingerprint\n",
            "guest-s19 pure CCC/C=C/C[O-].OC[C@H]1O[C@@H]2O[C@H]3[C@H](O)[C@@H](O)[C@@H](O[C@H]4[C@H](O)[C@@H](O)[C@@H](O[C@H]5[C@H](O)[C@@H](O)[C@@H](O[C@H]6[C@H](O)[C@@H](O)[C@@H](O[C@H]7[C@H](O)[C@@H](O)[C@@H](O[C@H]1[C@H](O)[C@H]2O)O[C@@H]7CO)O[C@@H]6CO)O[C@@H]5CO)O[C@@H]4CO)O[C@@H]3CO\n",
            "Processing guest-8 complex using Circular Fingerprint\n",
            "guest-8 pure CCCCCCCC(=O)[O-].OC[C@H]1O[C@@H]2O[C@H]3[C@H](O)[C@@H](O)[C@@H](O[C@H]4[C@H](O)[C@@H](O)[C@@H](O[C@H]5[C@H](O)[C@@H](O)[C@@H](O[C@H]6[C@H](O)[C@@H](O)[C@@H](O[C@H]7[C@H](O)[C@@H](O)[C@@H](O[C@H]1[C@H](O)[C@H]2O)O[C@@H]7CO)O[C@@H]6CO)O[C@@H]5CO)O[C@@H]4CO)O[C@@H]3CO\n",
            "Processing guest-s14 complex using Circular Fingerprint\n",
            "guest-s14 pure CCCCCCC[NH3+].OC[C@H]1O[C@@H]2O[C@H]3[C@H](O)[C@@H](O)[C@@H](O[C@H]4[C@H](O)[C@@H](O)[C@@H](O[C@H]5[C@H](O)[C@@H](O)[C@@H](O[C@H]6[C@H](O)[C@@H](O)[C@@H](O[C@H]7[C@H](O)[C@@H](O)[C@@H](O[C@H]1[C@H](O)[C@H]2O)O[C@@H]7CO)O[C@@H]6CO)O[C@@H]5CO)O[C@@H]4CO)O[C@@H]3CO\n",
            "Processing guest-5 complex using Circular Fingerprint\n",
            "guest-5 pure OC1CCCCCC1.OC[C@H]1O[C@@H]2O[C@H]3[C@H](O)[C@@H](O)[C@@H](O[C@H]4[C@H](O)[C@@H](O)[C@@H](O[C@H]5[C@H](O)[C@@H](O)[C@@H](O[C@H]6[C@H](O)[C@@H](O)[C@@H](O[C@H]7[C@H](O)[C@@H](O)[C@@H](O[C@H]1[C@H](O)[C@H]2O)O[C@@H]7CO)O[C@@H]6CO)O[C@@H]5CO)O[C@@H]4CO)O[C@@H]3CO\n",
            "Processing guest-s18 complex using Circular Fingerprint\n",
            "guest-s18 pure CCCCC(=O)[O-].OC[C@H]1O[C@@H]2O[C@H]3[C@H](O)[C@@H](O)[C@@H](O[C@H]4[C@H](O)[C@@H](O)[C@@H](O[C@H]5[C@H](O)[C@@H](O)[C@@H](O[C@H]6[C@H](O)[C@@H](O)[C@@H](O[C@H]7[C@H](O)[C@@H](O)[C@@H](O[C@H]1[C@H](O)[C@H]2O)O[C@@H]7CO)O[C@@H]6CO)O[C@@H]5CO)O[C@@H]4CO)O[C@@H]3CO\n",
            "Processing guest-s9 complex using Circular Fingerprint\n",
            "guest-s9 pure CCCC[NH2+]C.OC[C@H]1O[C@@H]2O[C@H]3[C@H](O)[C@@H](O)[C@@H](O[C@H]4[C@H](O)[C@@H](O)[C@@H](O[C@H]5[C@H](O)[C@@H](O)[C@@H](O[C@H]6[C@H](O)[C@@H](O)[C@@H](O[C@H]7[C@H](O)[C@@H](O)[C@@H](O[C@H]1[C@H](O)[C@H]2O)O[C@@H]7CO)O[C@@H]6CO)O[C@@H]5CO)O[C@@H]4CO)O[C@@H]3CO\n",
            "Processing guest-s22 complex using Circular Fingerprint\n",
            "guest-s22 pure C=CCCCCC(=O)[O-].OC[C@H]1O[C@@H]2O[C@H]3[C@H](O)[C@@H](O)[C@@H](O[C@H]4[C@H](O)[C@@H](O)[C@@H](O[C@H]5[C@H](O)[C@@H](O)[C@@H](O[C@H]6[C@H](O)[C@@H](O)[C@@H](O[C@H]7[C@H](O)[C@@H](O)[C@@H](O[C@H]1[C@H](O)[C@H]2O)O[C@@H]7CO)O[C@@H]6CO)O[C@@H]5CO)O[C@@H]4CO)O[C@@H]3CO\n",
            "Processing guest-s15 complex using Circular Fingerprint\n",
            "guest-s15 pure CCCCCCC(C)[NH3+].OC[C@H]1O[C@@H]2O[C@H]3[C@H](O)[C@@H](O)[C@@H](O[C@H]4[C@H](O)[C@@H](O)[C@@H](O[C@H]5[C@H](O)[C@@H](O)[C@@H](O[C@H]6[C@H](O)[C@@H](O)[C@@H](O[C@H]7[C@H](O)[C@@H](O)[C@@H](O[C@H]1[C@H](O)[C@H]2O)O[C@@H]7CO)O[C@@H]6CO)O[C@@H]5CO)O[C@@H]4CO)O[C@@H]3CO\n",
            "Processing guest-7 complex using Circular Fingerprint\n",
            "guest-7 pure CCCCCC(=O)[O-].OC[C@H]1O[C@@H]2O[C@H]3[C@H](O)[C@@H](O)[C@@H](O[C@H]4[C@H](O)[C@@H](O)[C@@H](O[C@H]5[C@H](O)[C@@H](O)[C@@H](O[C@H]6[C@H](O)[C@@H](O)[C@@H](O[C@H]7[C@H](O)[C@@H](O)[C@@H](O[C@H]1[C@H](O)[C@H]2O)O[C@@H]7CO)O[C@@H]6CO)O[C@@H]5CO)O[C@@H]4CO)O[C@@H]3CO\n",
            "Processing guest-6 complex using Circular Fingerprint\n",
            "guest-6 pure CCCC(=O)[O-].OC[C@H]1O[C@@H]2O[C@H]3[C@H](O)[C@@H](O)[C@@H](O[C@H]4[C@H](O)[C@@H](O)[C@@H](O[C@H]5[C@H](O)[C@@H](O)[C@@H](O[C@H]6[C@H](O)[C@@H](O)[C@@H](O[C@H]7[C@H](O)[C@@H](O)[C@@H](O[C@H]1[C@H](O)[C@H]2O)O[C@@H]7CO)O[C@@H]6CO)O[C@@H]5CO)O[C@@H]4CO)O[C@@H]3CO\n",
            "Processing guest-4 complex using Circular Fingerprint\n",
            "guest-4 pure OC1CCCC1.OC[C@H]1O[C@@H]2O[C@H]3[C@H](O)[C@@H](O)[C@@H](O[C@H]4[C@H](O)[C@@H](O)[C@@H](O[C@H]5[C@H](O)[C@@H](O)[C@@H](O[C@H]6[C@H](O)[C@@H](O)[C@@H](O[C@H]7[C@H](O)[C@@H](O)[C@@H](O[C@H]1[C@H](O)[C@H]2O)O[C@@H]7CO)O[C@@H]6CO)O[C@@H]5CO)O[C@@H]4CO)O[C@@H]3CO\n",
            "Processing guest-3 complex using Circular Fingerprint\n",
            "guest-3 pure CCCCCCCC[NH3+].OC[C@H]1O[C@@H]2O[C@H]3[C@H](O)[C@@H](O)[C@@H](O[C@H]4[C@H](O)[C@@H](O)[C@@H](O[C@H]5[C@H](O)[C@@H](O)[C@@H](O[C@H]6[C@H](O)[C@@H](O)[C@@H](O[C@H]7[C@H](O)[C@@H](O)[C@@H](O[C@H]1[C@H](O)[C@H]2O)O[C@@H]7CO)O[C@@H]6CO)O[C@@H]5CO)O[C@@H]4CO)O[C@@H]3CO\n",
            "Processing guest-2 complex using Circular Fingerprint\n",
            "guest-2 pure CCCCCC[NH3+].OC[C@H]1O[C@@H]2O[C@H]3[C@H](O)[C@@H](O)[C@@H](O[C@H]4[C@H](O)[C@@H](O)[C@@H](O[C@H]5[C@H](O)[C@@H](O)[C@@H](O[C@H]6[C@H](O)[C@@H](O)[C@@H](O[C@H]7[C@H](O)[C@@H](O)[C@@H](O[C@H]1[C@H](O)[C@H]2O)O[C@@H]7CO)O[C@@H]6CO)O[C@@H]5CO)O[C@@H]4CO)O[C@@H]3CO\n",
            "Processing guest-s20 complex using Circular Fingerprint\n",
            "guest-s20 pure CC/C=C/CC[O-].OC[C@H]1O[C@@H]2O[C@H]3[C@H](O)[C@@H](O)[C@@H](O[C@H]4[C@H](O)[C@@H](O)[C@@H](O[C@H]5[C@H](O)[C@@H](O)[C@@H](O[C@H]6[C@H](O)[C@@H](O)[C@@H](O[C@H]7[C@H](O)[C@@H](O)[C@@H](O[C@H]1[C@H](O)[C@H]2O)O[C@@H]7CO)O[C@@H]6CO)O[C@@H]5CO)O[C@@H]4CO)O[C@@H]3CO\n",
            "Processing guest-s11 complex using Circular Fingerprint\n",
            "guest-s11 pure CCCCC[NH3+].OC[C@H]1O[C@@H]2O[C@H]3[C@H](O)[C@@H](O)[C@@H](O[C@H]4[C@H](O)[C@@H](O)[C@@H](O[C@H]5[C@H](O)[C@@H](O)[C@@H](O[C@H]6[C@H](O)[C@@H](O)[C@@H](O[C@H]7[C@H](O)[C@@H](O)[C@@H](O[C@H]1[C@H](O)[C@H]2O)O[C@@H]7CO)O[C@@H]6CO)O[C@@H]5CO)O[C@@H]4CO)O[C@@H]3CO\n",
            "Processing guest-s12 complex using Graph Conv Featurizer\n",
            "guest-s12 pure CCCCCC[NH2+]C.OC[C@H]1O[C@@H]2O[C@H]3[C@H](O)[C@@H](O)[C@@H](O[C@H]4[C@H](O)[C@@H](O)[C@@H](O[C@H]5[C@H](O)[C@@H](O)[C@@H](O[C@H]6[C@H](O)[C@@H](O)[C@@H](O[C@H]7[C@H](O)[C@@H](O)[C@@H](O[C@H]1[C@H](O)[C@H]2O)O[C@@H]7CO)O[C@@H]6CO)O[C@@H]5CO)O[C@@H]4CO)O[C@@H]3CO\n",
            "Processing guest-s16 complex using Graph Conv Featurizer\n",
            "guest-s16 pure OC1CCC1.OC[C@H]1O[C@@H]2O[C@H]3[C@H](O)[C@@H](O)[C@@H](O[C@H]4[C@H](O)[C@@H](O)[C@@H](O[C@H]5[C@H](O)[C@@H](O)[C@@H](O[C@H]6[C@H](O)[C@@H](O)[C@@H](O[C@H]7[C@H](O)[C@@H](O)[C@@H](O[C@H]1[C@H](O)[C@H]2O)O[C@@H]7CO)O[C@@H]6CO)O[C@@H]5CO)O[C@@H]4CO)O[C@@H]3CO\n",
            "Processing guest-s13 complex using Graph Conv Featurizer\n",
            "guest-s13 pure CCCCCC(C)[NH3+].OC[C@H]1O[C@@H]2O[C@H]3[C@H](O)[C@@H](O)[C@@H](O[C@H]4[C@H](O)[C@@H](O)[C@@H](O[C@H]5[C@H](O)[C@@H](O)[C@@H](O[C@H]6[C@H](O)[C@@H](O)[C@@H](O[C@H]7[C@H](O)[C@@H](O)[C@@H](O[C@H]1[C@H](O)[C@H]2O)O[C@@H]7CO)O[C@@H]6CO)O[C@@H]5CO)O[C@@H]4CO)O[C@@H]3CO\n",
            "Processing guest-s21 complex using Graph Conv Featurizer\n",
            "guest-s21 pure CCCCCCC(=O)[O-].OC[C@H]1O[C@@H]2O[C@H]3[C@H](O)[C@@H](O)[C@@H](O[C@H]4[C@H](O)[C@@H](O)[C@@H](O[C@H]5[C@H](O)[C@@H](O)[C@@H](O[C@H]6[C@H](O)[C@@H](O)[C@@H](O[C@H]7[C@H](O)[C@@H](O)[C@@H](O[C@H]1[C@H](O)[C@H]2O)O[C@@H]7CO)O[C@@H]6CO)O[C@@H]5CO)O[C@@H]4CO)O[C@@H]3CO\n",
            "Processing guest-1 complex using Graph Conv Featurizer\n",
            "guest-1 pure CCCC[NH3+].OC[C@H]1O[C@@H]2O[C@H]3[C@H](O)[C@@H](O)[C@@H](O[C@H]4[C@H](O)[C@@H](O)[C@@H](O[C@H]5[C@H](O)[C@@H](O)[C@@H](O[C@H]6[C@H](O)[C@@H](O)[C@@H](O[C@H]7[C@H](O)[C@@H](O)[C@@H](O[C@H]1[C@H](O)[C@H]2O)O[C@@H]7CO)O[C@@H]6CO)O[C@@H]5CO)O[C@@H]4CO)O[C@@H]3CO\n",
            "Processing guest-s17 complex using Graph Conv Featurizer\n",
            "guest-s17 pure OC1CCCCCCC1.OC[C@H]1O[C@@H]2O[C@H]3[C@H](O)[C@@H](O)[C@@H](O[C@H]4[C@H](O)[C@@H](O)[C@@H](O[C@H]5[C@H](O)[C@@H](O)[C@@H](O[C@H]6[C@H](O)[C@@H](O)[C@@H](O[C@H]7[C@H](O)[C@@H](O)[C@@H](O[C@H]1[C@H](O)[C@H]2O)O[C@@H]7CO)O[C@@H]6CO)O[C@@H]5CO)O[C@@H]4CO)O[C@@H]3CO\n",
            "Processing guest-s10 complex using Graph Conv Featurizer\n",
            "guest-s10 pure CCCC(C)[NH3+].OC[C@H]1O[C@@H]2O[C@H]3[C@H](O)[C@@H](O)[C@@H](O[C@H]4[C@H](O)[C@@H](O)[C@@H](O[C@H]5[C@H](O)[C@@H](O)[C@@H](O[C@H]6[C@H](O)[C@@H](O)[C@@H](O[C@H]7[C@H](O)[C@@H](O)[C@@H](O[C@H]1[C@H](O)[C@H]2O)O[C@@H]7CO)O[C@@H]6CO)O[C@@H]5CO)O[C@@H]4CO)O[C@@H]3CO\n",
            "Processing guest-s19 complex using Graph Conv Featurizer\n",
            "guest-s19 pure CCC/C=C/C[O-].OC[C@H]1O[C@@H]2O[C@H]3[C@H](O)[C@@H](O)[C@@H](O[C@H]4[C@H](O)[C@@H](O)[C@@H](O[C@H]5[C@H](O)[C@@H](O)[C@@H](O[C@H]6[C@H](O)[C@@H](O)[C@@H](O[C@H]7[C@H](O)[C@@H](O)[C@@H](O[C@H]1[C@H](O)[C@H]2O)O[C@@H]7CO)O[C@@H]6CO)O[C@@H]5CO)O[C@@H]4CO)O[C@@H]3CO\n",
            "Processing guest-8 complex using Graph Conv Featurizer\n",
            "guest-8 pure CCCCCCCC(=O)[O-].OC[C@H]1O[C@@H]2O[C@H]3[C@H](O)[C@@H](O)[C@@H](O[C@H]4[C@H](O)[C@@H](O)[C@@H](O[C@H]5[C@H](O)[C@@H](O)[C@@H](O[C@H]6[C@H](O)[C@@H](O)[C@@H](O[C@H]7[C@H](O)[C@@H](O)[C@@H](O[C@H]1[C@H](O)[C@H]2O)O[C@@H]7CO)O[C@@H]6CO)O[C@@H]5CO)O[C@@H]4CO)O[C@@H]3CO\n",
            "Processing guest-s14 complex using Graph Conv Featurizer\n",
            "guest-s14 pure CCCCCCC[NH3+].OC[C@H]1O[C@@H]2O[C@H]3[C@H](O)[C@@H](O)[C@@H](O[C@H]4[C@H](O)[C@@H](O)[C@@H](O[C@H]5[C@H](O)[C@@H](O)[C@@H](O[C@H]6[C@H](O)[C@@H](O)[C@@H](O[C@H]7[C@H](O)[C@@H](O)[C@@H](O[C@H]1[C@H](O)[C@H]2O)O[C@@H]7CO)O[C@@H]6CO)O[C@@H]5CO)O[C@@H]4CO)O[C@@H]3CO\n",
            "Processing guest-5 complex using Graph Conv Featurizer\n",
            "guest-5 pure OC1CCCCCC1.OC[C@H]1O[C@@H]2O[C@H]3[C@H](O)[C@@H](O)[C@@H](O[C@H]4[C@H](O)[C@@H](O)[C@@H](O[C@H]5[C@H](O)[C@@H](O)[C@@H](O[C@H]6[C@H](O)[C@@H](O)[C@@H](O[C@H]7[C@H](O)[C@@H](O)[C@@H](O[C@H]1[C@H](O)[C@H]2O)O[C@@H]7CO)O[C@@H]6CO)O[C@@H]5CO)O[C@@H]4CO)O[C@@H]3CO\n",
            "Processing guest-s18 complex using Graph Conv Featurizer\n",
            "guest-s18 pure CCCCC(=O)[O-].OC[C@H]1O[C@@H]2O[C@H]3[C@H](O)[C@@H](O)[C@@H](O[C@H]4[C@H](O)[C@@H](O)[C@@H](O[C@H]5[C@H](O)[C@@H](O)[C@@H](O[C@H]6[C@H](O)[C@@H](O)[C@@H](O[C@H]7[C@H](O)[C@@H](O)[C@@H](O[C@H]1[C@H](O)[C@H]2O)O[C@@H]7CO)O[C@@H]6CO)O[C@@H]5CO)O[C@@H]4CO)O[C@@H]3CO\n",
            "Processing guest-s9 complex using Graph Conv Featurizer\n",
            "guest-s9 pure CCCC[NH2+]C.OC[C@H]1O[C@@H]2O[C@H]3[C@H](O)[C@@H](O)[C@@H](O[C@H]4[C@H](O)[C@@H](O)[C@@H](O[C@H]5[C@H](O)[C@@H](O)[C@@H](O[C@H]6[C@H](O)[C@@H](O)[C@@H](O[C@H]7[C@H](O)[C@@H](O)[C@@H](O[C@H]1[C@H](O)[C@H]2O)O[C@@H]7CO)O[C@@H]6CO)O[C@@H]5CO)O[C@@H]4CO)O[C@@H]3CO\n",
            "Processing guest-s22 complex using Graph Conv Featurizer\n",
            "guest-s22 pure C=CCCCCC(=O)[O-].OC[C@H]1O[C@@H]2O[C@H]3[C@H](O)[C@@H](O)[C@@H](O[C@H]4[C@H](O)[C@@H](O)[C@@H](O[C@H]5[C@H](O)[C@@H](O)[C@@H](O[C@H]6[C@H](O)[C@@H](O)[C@@H](O[C@H]7[C@H](O)[C@@H](O)[C@@H](O[C@H]1[C@H](O)[C@H]2O)O[C@@H]7CO)O[C@@H]6CO)O[C@@H]5CO)O[C@@H]4CO)O[C@@H]3CO\n",
            "Processing guest-s15 complex using Graph Conv Featurizer\n",
            "guest-s15 pure CCCCCCC(C)[NH3+].OC[C@H]1O[C@@H]2O[C@H]3[C@H](O)[C@@H](O)[C@@H](O[C@H]4[C@H](O)[C@@H](O)[C@@H](O[C@H]5[C@H](O)[C@@H](O)[C@@H](O[C@H]6[C@H](O)[C@@H](O)[C@@H](O[C@H]7[C@H](O)[C@@H](O)[C@@H](O[C@H]1[C@H](O)[C@H]2O)O[C@@H]7CO)O[C@@H]6CO)O[C@@H]5CO)O[C@@H]4CO)O[C@@H]3CO\n",
            "Processing guest-7 complex using Graph Conv Featurizer\n",
            "guest-7 pure CCCCCC(=O)[O-].OC[C@H]1O[C@@H]2O[C@H]3[C@H](O)[C@@H](O)[C@@H](O[C@H]4[C@H](O)[C@@H](O)[C@@H](O[C@H]5[C@H](O)[C@@H](O)[C@@H](O[C@H]6[C@H](O)[C@@H](O)[C@@H](O[C@H]7[C@H](O)[C@@H](O)[C@@H](O[C@H]1[C@H](O)[C@H]2O)O[C@@H]7CO)O[C@@H]6CO)O[C@@H]5CO)O[C@@H]4CO)O[C@@H]3CO\n",
            "Processing guest-6 complex using Graph Conv Featurizer\n",
            "guest-6 pure CCCC(=O)[O-].OC[C@H]1O[C@@H]2O[C@H]3[C@H](O)[C@@H](O)[C@@H](O[C@H]4[C@H](O)[C@@H](O)[C@@H](O[C@H]5[C@H](O)[C@@H](O)[C@@H](O[C@H]6[C@H](O)[C@@H](O)[C@@H](O[C@H]7[C@H](O)[C@@H](O)[C@@H](O[C@H]1[C@H](O)[C@H]2O)O[C@@H]7CO)O[C@@H]6CO)O[C@@H]5CO)O[C@@H]4CO)O[C@@H]3CO\n",
            "Processing guest-4 complex using Graph Conv Featurizer\n",
            "guest-4 pure OC1CCCC1.OC[C@H]1O[C@@H]2O[C@H]3[C@H](O)[C@@H](O)[C@@H](O[C@H]4[C@H](O)[C@@H](O)[C@@H](O[C@H]5[C@H](O)[C@@H](O)[C@@H](O[C@H]6[C@H](O)[C@@H](O)[C@@H](O[C@H]7[C@H](O)[C@@H](O)[C@@H](O[C@H]1[C@H](O)[C@H]2O)O[C@@H]7CO)O[C@@H]6CO)O[C@@H]5CO)O[C@@H]4CO)O[C@@H]3CO\n",
            "Processing guest-3 complex using Graph Conv Featurizer\n",
            "guest-3 pure CCCCCCCC[NH3+].OC[C@H]1O[C@@H]2O[C@H]3[C@H](O)[C@@H](O)[C@@H](O[C@H]4[C@H](O)[C@@H](O)[C@@H](O[C@H]5[C@H](O)[C@@H](O)[C@@H](O[C@H]6[C@H](O)[C@@H](O)[C@@H](O[C@H]7[C@H](O)[C@@H](O)[C@@H](O[C@H]1[C@H](O)[C@H]2O)O[C@@H]7CO)O[C@@H]6CO)O[C@@H]5CO)O[C@@H]4CO)O[C@@H]3CO\n",
            "Processing guest-2 complex using Graph Conv Featurizer\n",
            "guest-2 pure CCCCCC[NH3+].OC[C@H]1O[C@@H]2O[C@H]3[C@H](O)[C@@H](O)[C@@H](O[C@H]4[C@H](O)[C@@H](O)[C@@H](O[C@H]5[C@H](O)[C@@H](O)[C@@H](O[C@H]6[C@H](O)[C@@H](O)[C@@H](O[C@H]7[C@H](O)[C@@H](O)[C@@H](O[C@H]1[C@H](O)[C@H]2O)O[C@@H]7CO)O[C@@H]6CO)O[C@@H]5CO)O[C@@H]4CO)O[C@@H]3CO\n",
            "Processing guest-s20 complex using Graph Conv Featurizer\n",
            "guest-s20 pure CC/C=C/CC[O-].OC[C@H]1O[C@@H]2O[C@H]3[C@H](O)[C@@H](O)[C@@H](O[C@H]4[C@H](O)[C@@H](O)[C@@H](O[C@H]5[C@H](O)[C@@H](O)[C@@H](O[C@H]6[C@H](O)[C@@H](O)[C@@H](O[C@H]7[C@H](O)[C@@H](O)[C@@H](O[C@H]1[C@H](O)[C@H]2O)O[C@@H]7CO)O[C@@H]6CO)O[C@@H]5CO)O[C@@H]4CO)O[C@@H]3CO\n",
            "Processing guest-s11 complex using Graph Conv Featurizer\n",
            "guest-s11 pure CCCCC[NH3+].OC[C@H]1O[C@@H]2O[C@H]3[C@H](O)[C@@H](O)[C@@H](O[C@H]4[C@H](O)[C@@H](O)[C@@H](O[C@H]5[C@H](O)[C@@H](O)[C@@H](O[C@H]6[C@H](O)[C@@H](O)[C@@H](O[C@H]7[C@H](O)[C@@H](O)[C@@H](O[C@H]1[C@H](O)[C@H]2O)O[C@@H]7CO)O[C@@H]6CO)O[C@@H]5CO)O[C@@H]4CO)O[C@@H]3CO\n",
            "Processing guest-s12 complex using Modded Graph Conv Featurizer\n",
            "guest-s12 pure CCCCCC[NH2+]C.OC[C@H]1O[C@@H]2O[C@H]3[C@H](O)[C@@H](O)[C@@H](O[C@H]4[C@H](O)[C@@H](O)[C@@H](O[C@H]5[C@H](O)[C@@H](O)[C@@H](O[C@H]6[C@H](O)[C@@H](O)[C@@H](O[C@H]7[C@H](O)[C@@H](O)[C@@H](O[C@H]1[C@H](O)[C@H]2O)O[C@@H]7CO)O[C@@H]6CO)O[C@@H]5CO)O[C@@H]4CO)O[C@@H]3CO\n",
            "Processing guest-s16 complex using Modded Graph Conv Featurizer\n",
            "guest-s16 pure OC1CCC1.OC[C@H]1O[C@@H]2O[C@H]3[C@H](O)[C@@H](O)[C@@H](O[C@H]4[C@H](O)[C@@H](O)[C@@H](O[C@H]5[C@H](O)[C@@H](O)[C@@H](O[C@H]6[C@H](O)[C@@H](O)[C@@H](O[C@H]7[C@H](O)[C@@H](O)[C@@H](O[C@H]1[C@H](O)[C@H]2O)O[C@@H]7CO)O[C@@H]6CO)O[C@@H]5CO)O[C@@H]4CO)O[C@@H]3CO\n",
            "Processing guest-s13 complex using Modded Graph Conv Featurizer\n",
            "guest-s13 pure CCCCCC(C)[NH3+].OC[C@H]1O[C@@H]2O[C@H]3[C@H](O)[C@@H](O)[C@@H](O[C@H]4[C@H](O)[C@@H](O)[C@@H](O[C@H]5[C@H](O)[C@@H](O)[C@@H](O[C@H]6[C@H](O)[C@@H](O)[C@@H](O[C@H]7[C@H](O)[C@@H](O)[C@@H](O[C@H]1[C@H](O)[C@H]2O)O[C@@H]7CO)O[C@@H]6CO)O[C@@H]5CO)O[C@@H]4CO)O[C@@H]3CO\n",
            "Processing guest-s21 complex using Modded Graph Conv Featurizer\n",
            "guest-s21 pure CCCCCCC(=O)[O-].OC[C@H]1O[C@@H]2O[C@H]3[C@H](O)[C@@H](O)[C@@H](O[C@H]4[C@H](O)[C@@H](O)[C@@H](O[C@H]5[C@H](O)[C@@H](O)[C@@H](O[C@H]6[C@H](O)[C@@H](O)[C@@H](O[C@H]7[C@H](O)[C@@H](O)[C@@H](O[C@H]1[C@H](O)[C@H]2O)O[C@@H]7CO)O[C@@H]6CO)O[C@@H]5CO)O[C@@H]4CO)O[C@@H]3CO\n",
            "Processing guest-1 complex using Modded Graph Conv Featurizer\n",
            "guest-1 pure CCCC[NH3+].OC[C@H]1O[C@@H]2O[C@H]3[C@H](O)[C@@H](O)[C@@H](O[C@H]4[C@H](O)[C@@H](O)[C@@H](O[C@H]5[C@H](O)[C@@H](O)[C@@H](O[C@H]6[C@H](O)[C@@H](O)[C@@H](O[C@H]7[C@H](O)[C@@H](O)[C@@H](O[C@H]1[C@H](O)[C@H]2O)O[C@@H]7CO)O[C@@H]6CO)O[C@@H]5CO)O[C@@H]4CO)O[C@@H]3CO\n",
            "Processing guest-s17 complex using Modded Graph Conv Featurizer\n",
            "guest-s17 pure OC1CCCCCCC1.OC[C@H]1O[C@@H]2O[C@H]3[C@H](O)[C@@H](O)[C@@H](O[C@H]4[C@H](O)[C@@H](O)[C@@H](O[C@H]5[C@H](O)[C@@H](O)[C@@H](O[C@H]6[C@H](O)[C@@H](O)[C@@H](O[C@H]7[C@H](O)[C@@H](O)[C@@H](O[C@H]1[C@H](O)[C@H]2O)O[C@@H]7CO)O[C@@H]6CO)O[C@@H]5CO)O[C@@H]4CO)O[C@@H]3CO\n",
            "Processing guest-s10 complex using Modded Graph Conv Featurizer\n",
            "guest-s10 pure CCCC(C)[NH3+].OC[C@H]1O[C@@H]2O[C@H]3[C@H](O)[C@@H](O)[C@@H](O[C@H]4[C@H](O)[C@@H](O)[C@@H](O[C@H]5[C@H](O)[C@@H](O)[C@@H](O[C@H]6[C@H](O)[C@@H](O)[C@@H](O[C@H]7[C@H](O)[C@@H](O)[C@@H](O[C@H]1[C@H](O)[C@H]2O)O[C@@H]7CO)O[C@@H]6CO)O[C@@H]5CO)O[C@@H]4CO)O[C@@H]3CO\n",
            "Processing guest-s19 complex using Modded Graph Conv Featurizer\n",
            "guest-s19 pure CCC/C=C/C[O-].OC[C@H]1O[C@@H]2O[C@H]3[C@H](O)[C@@H](O)[C@@H](O[C@H]4[C@H](O)[C@@H](O)[C@@H](O[C@H]5[C@H](O)[C@@H](O)[C@@H](O[C@H]6[C@H](O)[C@@H](O)[C@@H](O[C@H]7[C@H](O)[C@@H](O)[C@@H](O[C@H]1[C@H](O)[C@H]2O)O[C@@H]7CO)O[C@@H]6CO)O[C@@H]5CO)O[C@@H]4CO)O[C@@H]3CO\n",
            "Processing guest-8 complex using Modded Graph Conv Featurizer\n",
            "guest-8 pure CCCCCCCC(=O)[O-].OC[C@H]1O[C@@H]2O[C@H]3[C@H](O)[C@@H](O)[C@@H](O[C@H]4[C@H](O)[C@@H](O)[C@@H](O[C@H]5[C@H](O)[C@@H](O)[C@@H](O[C@H]6[C@H](O)[C@@H](O)[C@@H](O[C@H]7[C@H](O)[C@@H](O)[C@@H](O[C@H]1[C@H](O)[C@H]2O)O[C@@H]7CO)O[C@@H]6CO)O[C@@H]5CO)O[C@@H]4CO)O[C@@H]3CO\n",
            "Processing guest-s14 complex using Modded Graph Conv Featurizer\n",
            "guest-s14 pure CCCCCCC[NH3+].OC[C@H]1O[C@@H]2O[C@H]3[C@H](O)[C@@H](O)[C@@H](O[C@H]4[C@H](O)[C@@H](O)[C@@H](O[C@H]5[C@H](O)[C@@H](O)[C@@H](O[C@H]6[C@H](O)[C@@H](O)[C@@H](O[C@H]7[C@H](O)[C@@H](O)[C@@H](O[C@H]1[C@H](O)[C@H]2O)O[C@@H]7CO)O[C@@H]6CO)O[C@@H]5CO)O[C@@H]4CO)O[C@@H]3CO\n",
            "Processing guest-5 complex using Modded Graph Conv Featurizer\n",
            "guest-5 pure OC1CCCCCC1.OC[C@H]1O[C@@H]2O[C@H]3[C@H](O)[C@@H](O)[C@@H](O[C@H]4[C@H](O)[C@@H](O)[C@@H](O[C@H]5[C@H](O)[C@@H](O)[C@@H](O[C@H]6[C@H](O)[C@@H](O)[C@@H](O[C@H]7[C@H](O)[C@@H](O)[C@@H](O[C@H]1[C@H](O)[C@H]2O)O[C@@H]7CO)O[C@@H]6CO)O[C@@H]5CO)O[C@@H]4CO)O[C@@H]3CO\n",
            "Processing guest-s18 complex using Modded Graph Conv Featurizer\n",
            "guest-s18 pure CCCCC(=O)[O-].OC[C@H]1O[C@@H]2O[C@H]3[C@H](O)[C@@H](O)[C@@H](O[C@H]4[C@H](O)[C@@H](O)[C@@H](O[C@H]5[C@H](O)[C@@H](O)[C@@H](O[C@H]6[C@H](O)[C@@H](O)[C@@H](O[C@H]7[C@H](O)[C@@H](O)[C@@H](O[C@H]1[C@H](O)[C@H]2O)O[C@@H]7CO)O[C@@H]6CO)O[C@@H]5CO)O[C@@H]4CO)O[C@@H]3CO\n",
            "Processing guest-s9 complex using Modded Graph Conv Featurizer\n",
            "guest-s9 pure CCCC[NH2+]C.OC[C@H]1O[C@@H]2O[C@H]3[C@H](O)[C@@H](O)[C@@H](O[C@H]4[C@H](O)[C@@H](O)[C@@H](O[C@H]5[C@H](O)[C@@H](O)[C@@H](O[C@H]6[C@H](O)[C@@H](O)[C@@H](O[C@H]7[C@H](O)[C@@H](O)[C@@H](O[C@H]1[C@H](O)[C@H]2O)O[C@@H]7CO)O[C@@H]6CO)O[C@@H]5CO)O[C@@H]4CO)O[C@@H]3CO\n",
            "Processing guest-s22 complex using Modded Graph Conv Featurizer\n",
            "guest-s22 pure C=CCCCCC(=O)[O-].OC[C@H]1O[C@@H]2O[C@H]3[C@H](O)[C@@H](O)[C@@H](O[C@H]4[C@H](O)[C@@H](O)[C@@H](O[C@H]5[C@H](O)[C@@H](O)[C@@H](O[C@H]6[C@H](O)[C@@H](O)[C@@H](O[C@H]7[C@H](O)[C@@H](O)[C@@H](O[C@H]1[C@H](O)[C@H]2O)O[C@@H]7CO)O[C@@H]6CO)O[C@@H]5CO)O[C@@H]4CO)O[C@@H]3CO\n",
            "Processing guest-s15 complex using Modded Graph Conv Featurizer\n",
            "guest-s15 pure CCCCCCC(C)[NH3+].OC[C@H]1O[C@@H]2O[C@H]3[C@H](O)[C@@H](O)[C@@H](O[C@H]4[C@H](O)[C@@H](O)[C@@H](O[C@H]5[C@H](O)[C@@H](O)[C@@H](O[C@H]6[C@H](O)[C@@H](O)[C@@H](O[C@H]7[C@H](O)[C@@H](O)[C@@H](O[C@H]1[C@H](O)[C@H]2O)O[C@@H]7CO)O[C@@H]6CO)O[C@@H]5CO)O[C@@H]4CO)O[C@@H]3CO\n",
            "Processing guest-7 complex using Modded Graph Conv Featurizer\n",
            "guest-7 pure CCCCCC(=O)[O-].OC[C@H]1O[C@@H]2O[C@H]3[C@H](O)[C@@H](O)[C@@H](O[C@H]4[C@H](O)[C@@H](O)[C@@H](O[C@H]5[C@H](O)[C@@H](O)[C@@H](O[C@H]6[C@H](O)[C@@H](O)[C@@H](O[C@H]7[C@H](O)[C@@H](O)[C@@H](O[C@H]1[C@H](O)[C@H]2O)O[C@@H]7CO)O[C@@H]6CO)O[C@@H]5CO)O[C@@H]4CO)O[C@@H]3CO\n",
            "Processing guest-6 complex using Modded Graph Conv Featurizer\n",
            "guest-6 pure CCCC(=O)[O-].OC[C@H]1O[C@@H]2O[C@H]3[C@H](O)[C@@H](O)[C@@H](O[C@H]4[C@H](O)[C@@H](O)[C@@H](O[C@H]5[C@H](O)[C@@H](O)[C@@H](O[C@H]6[C@H](O)[C@@H](O)[C@@H](O[C@H]7[C@H](O)[C@@H](O)[C@@H](O[C@H]1[C@H](O)[C@H]2O)O[C@@H]7CO)O[C@@H]6CO)O[C@@H]5CO)O[C@@H]4CO)O[C@@H]3CO\n",
            "Processing guest-4 complex using Modded Graph Conv Featurizer\n",
            "guest-4 pure OC1CCCC1.OC[C@H]1O[C@@H]2O[C@H]3[C@H](O)[C@@H](O)[C@@H](O[C@H]4[C@H](O)[C@@H](O)[C@@H](O[C@H]5[C@H](O)[C@@H](O)[C@@H](O[C@H]6[C@H](O)[C@@H](O)[C@@H](O[C@H]7[C@H](O)[C@@H](O)[C@@H](O[C@H]1[C@H](O)[C@H]2O)O[C@@H]7CO)O[C@@H]6CO)O[C@@H]5CO)O[C@@H]4CO)O[C@@H]3CO\n",
            "Processing guest-3 complex using Modded Graph Conv Featurizer\n",
            "guest-3 pure CCCCCCCC[NH3+].OC[C@H]1O[C@@H]2O[C@H]3[C@H](O)[C@@H](O)[C@@H](O[C@H]4[C@H](O)[C@@H](O)[C@@H](O[C@H]5[C@H](O)[C@@H](O)[C@@H](O[C@H]6[C@H](O)[C@@H](O)[C@@H](O[C@H]7[C@H](O)[C@@H](O)[C@@H](O[C@H]1[C@H](O)[C@H]2O)O[C@@H]7CO)O[C@@H]6CO)O[C@@H]5CO)O[C@@H]4CO)O[C@@H]3CO\n",
            "Processing guest-2 complex using Modded Graph Conv Featurizer\n",
            "guest-2 pure CCCCCC[NH3+].OC[C@H]1O[C@@H]2O[C@H]3[C@H](O)[C@@H](O)[C@@H](O[C@H]4[C@H](O)[C@@H](O)[C@@H](O[C@H]5[C@H](O)[C@@H](O)[C@@H](O[C@H]6[C@H](O)[C@@H](O)[C@@H](O[C@H]7[C@H](O)[C@@H](O)[C@@H](O[C@H]1[C@H](O)[C@H]2O)O[C@@H]7CO)O[C@@H]6CO)O[C@@H]5CO)O[C@@H]4CO)O[C@@H]3CO\n",
            "Processing guest-s20 complex using Modded Graph Conv Featurizer\n",
            "guest-s20 pure CC/C=C/CC[O-].OC[C@H]1O[C@@H]2O[C@H]3[C@H](O)[C@@H](O)[C@@H](O[C@H]4[C@H](O)[C@@H](O)[C@@H](O[C@H]5[C@H](O)[C@@H](O)[C@@H](O[C@H]6[C@H](O)[C@@H](O)[C@@H](O[C@H]7[C@H](O)[C@@H](O)[C@@H](O[C@H]1[C@H](O)[C@H]2O)O[C@@H]7CO)O[C@@H]6CO)O[C@@H]5CO)O[C@@H]4CO)O[C@@H]3CO\n",
            "Processing guest-s11 complex using Modded Graph Conv Featurizer\n",
            "guest-s11 pure CCCCC[NH3+].OC[C@H]1O[C@@H]2O[C@H]3[C@H](O)[C@@H](O)[C@@H](O[C@H]4[C@H](O)[C@@H](O)[C@@H](O[C@H]5[C@H](O)[C@@H](O)[C@@H](O[C@H]6[C@H](O)[C@@H](O)[C@@H](O[C@H]7[C@H](O)[C@@H](O)[C@@H](O[C@H]1[C@H](O)[C@H]2O)O[C@@H]7CO)O[C@@H]6CO)O[C@@H]5CO)O[C@@H]4CO)O[C@@H]3CO\n",
            "Processing guest-s12 complex using Modded Circular Fingerprint\n",
            "guest-s12 pure CCCCCC[NH2+]C.OC[C@H]1O[C@@H]2O[C@H]3[C@H](O)[C@@H](O)[C@@H](O[C@H]4[C@H](O)[C@@H](O)[C@@H](O[C@H]5[C@H](O)[C@@H](O)[C@@H](O[C@H]6[C@H](O)[C@@H](O)[C@@H](O[C@H]7[C@H](O)[C@@H](O)[C@@H](O[C@H]1[C@H](O)[C@H]2O)O[C@@H]7CO)O[C@@H]6CO)O[C@@H]5CO)O[C@@H]4CO)O[C@@H]3CO\n",
            "Processing guest-s16 complex using Modded Circular Fingerprint\n",
            "guest-s16 pure OC1CCC1.OC[C@H]1O[C@@H]2O[C@H]3[C@H](O)[C@@H](O)[C@@H](O[C@H]4[C@H](O)[C@@H](O)[C@@H](O[C@H]5[C@H](O)[C@@H](O)[C@@H](O[C@H]6[C@H](O)[C@@H](O)[C@@H](O[C@H]7[C@H](O)[C@@H](O)[C@@H](O[C@H]1[C@H](O)[C@H]2O)O[C@@H]7CO)O[C@@H]6CO)O[C@@H]5CO)O[C@@H]4CO)O[C@@H]3CO\n",
            "Processing guest-s13 complex using Modded Circular Fingerprint\n",
            "guest-s13 pure CCCCCC(C)[NH3+].OC[C@H]1O[C@@H]2O[C@H]3[C@H](O)[C@@H](O)[C@@H](O[C@H]4[C@H](O)[C@@H](O)[C@@H](O[C@H]5[C@H](O)[C@@H](O)[C@@H](O[C@H]6[C@H](O)[C@@H](O)[C@@H](O[C@H]7[C@H](O)[C@@H](O)[C@@H](O[C@H]1[C@H](O)[C@H]2O)O[C@@H]7CO)O[C@@H]6CO)O[C@@H]5CO)O[C@@H]4CO)O[C@@H]3CO\n",
            "Processing guest-s21 complex using Modded Circular Fingerprint\n",
            "guest-s21 pure CCCCCCC(=O)[O-].OC[C@H]1O[C@@H]2O[C@H]3[C@H](O)[C@@H](O)[C@@H](O[C@H]4[C@H](O)[C@@H](O)[C@@H](O[C@H]5[C@H](O)[C@@H](O)[C@@H](O[C@H]6[C@H](O)[C@@H](O)[C@@H](O[C@H]7[C@H](O)[C@@H](O)[C@@H](O[C@H]1[C@H](O)[C@H]2O)O[C@@H]7CO)O[C@@H]6CO)O[C@@H]5CO)O[C@@H]4CO)O[C@@H]3CO\n",
            "Processing guest-1 complex using Modded Circular Fingerprint\n",
            "guest-1 pure CCCC[NH3+].OC[C@H]1O[C@@H]2O[C@H]3[C@H](O)[C@@H](O)[C@@H](O[C@H]4[C@H](O)[C@@H](O)[C@@H](O[C@H]5[C@H](O)[C@@H](O)[C@@H](O[C@H]6[C@H](O)[C@@H](O)[C@@H](O[C@H]7[C@H](O)[C@@H](O)[C@@H](O[C@H]1[C@H](O)[C@H]2O)O[C@@H]7CO)O[C@@H]6CO)O[C@@H]5CO)O[C@@H]4CO)O[C@@H]3CO\n",
            "Processing guest-s17 complex using Modded Circular Fingerprint\n",
            "guest-s17 pure OC1CCCCCCC1.OC[C@H]1O[C@@H]2O[C@H]3[C@H](O)[C@@H](O)[C@@H](O[C@H]4[C@H](O)[C@@H](O)[C@@H](O[C@H]5[C@H](O)[C@@H](O)[C@@H](O[C@H]6[C@H](O)[C@@H](O)[C@@H](O[C@H]7[C@H](O)[C@@H](O)[C@@H](O[C@H]1[C@H](O)[C@H]2O)O[C@@H]7CO)O[C@@H]6CO)O[C@@H]5CO)O[C@@H]4CO)O[C@@H]3CO\n",
            "Processing guest-s10 complex using Modded Circular Fingerprint\n",
            "guest-s10 pure CCCC(C)[NH3+].OC[C@H]1O[C@@H]2O[C@H]3[C@H](O)[C@@H](O)[C@@H](O[C@H]4[C@H](O)[C@@H](O)[C@@H](O[C@H]5[C@H](O)[C@@H](O)[C@@H](O[C@H]6[C@H](O)[C@@H](O)[C@@H](O[C@H]7[C@H](O)[C@@H](O)[C@@H](O[C@H]1[C@H](O)[C@H]2O)O[C@@H]7CO)O[C@@H]6CO)O[C@@H]5CO)O[C@@H]4CO)O[C@@H]3CO\n",
            "Processing guest-s19 complex using Modded Circular Fingerprint\n",
            "guest-s19 pure CCC/C=C/C[O-].OC[C@H]1O[C@@H]2O[C@H]3[C@H](O)[C@@H](O)[C@@H](O[C@H]4[C@H](O)[C@@H](O)[C@@H](O[C@H]5[C@H](O)[C@@H](O)[C@@H](O[C@H]6[C@H](O)[C@@H](O)[C@@H](O[C@H]7[C@H](O)[C@@H](O)[C@@H](O[C@H]1[C@H](O)[C@H]2O)O[C@@H]7CO)O[C@@H]6CO)O[C@@H]5CO)O[C@@H]4CO)O[C@@H]3CO\n",
            "Processing guest-8 complex using Modded Circular Fingerprint\n",
            "guest-8 pure CCCCCCCC(=O)[O-].OC[C@H]1O[C@@H]2O[C@H]3[C@H](O)[C@@H](O)[C@@H](O[C@H]4[C@H](O)[C@@H](O)[C@@H](O[C@H]5[C@H](O)[C@@H](O)[C@@H](O[C@H]6[C@H](O)[C@@H](O)[C@@H](O[C@H]7[C@H](O)[C@@H](O)[C@@H](O[C@H]1[C@H](O)[C@H]2O)O[C@@H]7CO)O[C@@H]6CO)O[C@@H]5CO)O[C@@H]4CO)O[C@@H]3CO\n",
            "Processing guest-s14 complex using Modded Circular Fingerprint\n",
            "guest-s14 pure CCCCCCC[NH3+].OC[C@H]1O[C@@H]2O[C@H]3[C@H](O)[C@@H](O)[C@@H](O[C@H]4[C@H](O)[C@@H](O)[C@@H](O[C@H]5[C@H](O)[C@@H](O)[C@@H](O[C@H]6[C@H](O)[C@@H](O)[C@@H](O[C@H]7[C@H](O)[C@@H](O)[C@@H](O[C@H]1[C@H](O)[C@H]2O)O[C@@H]7CO)O[C@@H]6CO)O[C@@H]5CO)O[C@@H]4CO)O[C@@H]3CO\n",
            "Processing guest-5 complex using Modded Circular Fingerprint\n",
            "guest-5 pure OC1CCCCCC1.OC[C@H]1O[C@@H]2O[C@H]3[C@H](O)[C@@H](O)[C@@H](O[C@H]4[C@H](O)[C@@H](O)[C@@H](O[C@H]5[C@H](O)[C@@H](O)[C@@H](O[C@H]6[C@H](O)[C@@H](O)[C@@H](O[C@H]7[C@H](O)[C@@H](O)[C@@H](O[C@H]1[C@H](O)[C@H]2O)O[C@@H]7CO)O[C@@H]6CO)O[C@@H]5CO)O[C@@H]4CO)O[C@@H]3CO\n",
            "Processing guest-s18 complex using Modded Circular Fingerprint\n",
            "guest-s18 pure CCCCC(=O)[O-].OC[C@H]1O[C@@H]2O[C@H]3[C@H](O)[C@@H](O)[C@@H](O[C@H]4[C@H](O)[C@@H](O)[C@@H](O[C@H]5[C@H](O)[C@@H](O)[C@@H](O[C@H]6[C@H](O)[C@@H](O)[C@@H](O[C@H]7[C@H](O)[C@@H](O)[C@@H](O[C@H]1[C@H](O)[C@H]2O)O[C@@H]7CO)O[C@@H]6CO)O[C@@H]5CO)O[C@@H]4CO)O[C@@H]3CO\n",
            "Processing guest-s9 complex using Modded Circular Fingerprint\n",
            "guest-s9 pure CCCC[NH2+]C.OC[C@H]1O[C@@H]2O[C@H]3[C@H](O)[C@@H](O)[C@@H](O[C@H]4[C@H](O)[C@@H](O)[C@@H](O[C@H]5[C@H](O)[C@@H](O)[C@@H](O[C@H]6[C@H](O)[C@@H](O)[C@@H](O[C@H]7[C@H](O)[C@@H](O)[C@@H](O[C@H]1[C@H](O)[C@H]2O)O[C@@H]7CO)O[C@@H]6CO)O[C@@H]5CO)O[C@@H]4CO)O[C@@H]3CO\n",
            "Processing guest-s22 complex using Modded Circular Fingerprint\n",
            "guest-s22 pure C=CCCCCC(=O)[O-].OC[C@H]1O[C@@H]2O[C@H]3[C@H](O)[C@@H](O)[C@@H](O[C@H]4[C@H](O)[C@@H](O)[C@@H](O[C@H]5[C@H](O)[C@@H](O)[C@@H](O[C@H]6[C@H](O)[C@@H](O)[C@@H](O[C@H]7[C@H](O)[C@@H](O)[C@@H](O[C@H]1[C@H](O)[C@H]2O)O[C@@H]7CO)O[C@@H]6CO)O[C@@H]5CO)O[C@@H]4CO)O[C@@H]3CO\n",
            "Processing guest-s15 complex using Modded Circular Fingerprint\n",
            "guest-s15 pure CCCCCCC(C)[NH3+].OC[C@H]1O[C@@H]2O[C@H]3[C@H](O)[C@@H](O)[C@@H](O[C@H]4[C@H](O)[C@@H](O)[C@@H](O[C@H]5[C@H](O)[C@@H](O)[C@@H](O[C@H]6[C@H](O)[C@@H](O)[C@@H](O[C@H]7[C@H](O)[C@@H](O)[C@@H](O[C@H]1[C@H](O)[C@H]2O)O[C@@H]7CO)O[C@@H]6CO)O[C@@H]5CO)O[C@@H]4CO)O[C@@H]3CO\n",
            "Processing guest-7 complex using Modded Circular Fingerprint\n",
            "guest-7 pure CCCCCC(=O)[O-].OC[C@H]1O[C@@H]2O[C@H]3[C@H](O)[C@@H](O)[C@@H](O[C@H]4[C@H](O)[C@@H](O)[C@@H](O[C@H]5[C@H](O)[C@@H](O)[C@@H](O[C@H]6[C@H](O)[C@@H](O)[C@@H](O[C@H]7[C@H](O)[C@@H](O)[C@@H](O[C@H]1[C@H](O)[C@H]2O)O[C@@H]7CO)O[C@@H]6CO)O[C@@H]5CO)O[C@@H]4CO)O[C@@H]3CO\n",
            "Processing guest-6 complex using Modded Circular Fingerprint\n",
            "guest-6 pure CCCC(=O)[O-].OC[C@H]1O[C@@H]2O[C@H]3[C@H](O)[C@@H](O)[C@@H](O[C@H]4[C@H](O)[C@@H](O)[C@@H](O[C@H]5[C@H](O)[C@@H](O)[C@@H](O[C@H]6[C@H](O)[C@@H](O)[C@@H](O[C@H]7[C@H](O)[C@@H](O)[C@@H](O[C@H]1[C@H](O)[C@H]2O)O[C@@H]7CO)O[C@@H]6CO)O[C@@H]5CO)O[C@@H]4CO)O[C@@H]3CO\n",
            "Processing guest-4 complex using Modded Circular Fingerprint\n",
            "guest-4 pure OC1CCCC1.OC[C@H]1O[C@@H]2O[C@H]3[C@H](O)[C@@H](O)[C@@H](O[C@H]4[C@H](O)[C@@H](O)[C@@H](O[C@H]5[C@H](O)[C@@H](O)[C@@H](O[C@H]6[C@H](O)[C@@H](O)[C@@H](O[C@H]7[C@H](O)[C@@H](O)[C@@H](O[C@H]1[C@H](O)[C@H]2O)O[C@@H]7CO)O[C@@H]6CO)O[C@@H]5CO)O[C@@H]4CO)O[C@@H]3CO\n",
            "Processing guest-3 complex using Modded Circular Fingerprint\n",
            "guest-3 pure CCCCCCCC[NH3+].OC[C@H]1O[C@@H]2O[C@H]3[C@H](O)[C@@H](O)[C@@H](O[C@H]4[C@H](O)[C@@H](O)[C@@H](O[C@H]5[C@H](O)[C@@H](O)[C@@H](O[C@H]6[C@H](O)[C@@H](O)[C@@H](O[C@H]7[C@H](O)[C@@H](O)[C@@H](O[C@H]1[C@H](O)[C@H]2O)O[C@@H]7CO)O[C@@H]6CO)O[C@@H]5CO)O[C@@H]4CO)O[C@@H]3CO\n",
            "Processing guest-2 complex using Modded Circular Fingerprint\n",
            "guest-2 pure CCCCCC[NH3+].OC[C@H]1O[C@@H]2O[C@H]3[C@H](O)[C@@H](O)[C@@H](O[C@H]4[C@H](O)[C@@H](O)[C@@H](O[C@H]5[C@H](O)[C@@H](O)[C@@H](O[C@H]6[C@H](O)[C@@H](O)[C@@H](O[C@H]7[C@H](O)[C@@H](O)[C@@H](O[C@H]1[C@H](O)[C@H]2O)O[C@@H]7CO)O[C@@H]6CO)O[C@@H]5CO)O[C@@H]4CO)O[C@@H]3CO\n",
            "Processing guest-s20 complex using Modded Circular Fingerprint\n",
            "guest-s20 pure CC/C=C/CC[O-].OC[C@H]1O[C@@H]2O[C@H]3[C@H](O)[C@@H](O)[C@@H](O[C@H]4[C@H](O)[C@@H](O)[C@@H](O[C@H]5[C@H](O)[C@@H](O)[C@@H](O[C@H]6[C@H](O)[C@@H](O)[C@@H](O[C@H]7[C@H](O)[C@@H](O)[C@@H](O[C@H]1[C@H](O)[C@H]2O)O[C@@H]7CO)O[C@@H]6CO)O[C@@H]5CO)O[C@@H]4CO)O[C@@H]3CO\n",
            "Processing guest-s11 complex using Modded Circular Fingerprint\n",
            "guest-s11 pure CCCCC[NH3+].OC[C@H]1O[C@@H]2O[C@H]3[C@H](O)[C@@H](O)[C@@H](O[C@H]4[C@H](O)[C@@H](O)[C@@H](O[C@H]5[C@H](O)[C@@H](O)[C@@H](O[C@H]6[C@H](O)[C@@H](O)[C@@H](O[C@H]7[C@H](O)[C@@H](O)[C@@H](O[C@H]1[C@H](O)[C@H]2O)O[C@@H]7CO)O[C@@H]6CO)O[C@@H]5CO)O[C@@H]4CO)O[C@@H]3CO\n"
          ]
        }
      ]
    },
    {
      "cell_type": "markdown",
      "metadata": {
        "id": "07DeU2M3S_qK"
      },
      "source": [
        "Now that we've collected all the base features!\n",
        "Now to do the actual neural network. Combining the features extracted from the poses, adding in VM2 entropy data, and the actual value to train against, to produce a dataset.\n",
        "We'll set aside some points for validation later - but let's see if we can find some neat patterns with the ML model.\n",
        "To save some processing time in the future, we'll pickle the file, later we can load from disk if we need too"
      ]
    },
    {
      "cell_type": "code",
      "execution_count": 35,
      "metadata": {
        "colab": {
          "base_uri": "https://localhost:8080/"
        },
        "id": "rr4ErtucXli1",
        "outputId": "fbb241d7-89ef-4ff7-9620-e7397fcea4d8"
      },
      "outputs": [
        {
          "output_type": "stream",
          "name": "stdout",
          "text": [
            "Drive already mounted at /content/drive; to attempt to forcibly remount, call drive.mount(\"/content/drive\", force_remount=True).\n"
          ]
        }
      ],
      "source": [
        "import pickle\n",
        "from google.colab import files, drive\n",
        "\n",
        "drive.mount('/content/drive')\n",
        "\n",
        "with open(\"/content/drive/My Drive/metrics_data.pickle\",\"wb\") as f:\n",
        "  pickle.dump(metrics_data, f)\n",
        "with open(\"/content/drive/My Drive/dataset_data.pickle\",\"wb\") as f:\n",
        "  pickle.dump(dataset_data, f)\n",
        "with open(\"/content/drive/My Drive/finalresults_data.pickle\",\"wb\") as f:\n",
        "  pickle.dump(final_metrics, f)\n",
        "with open(\"/content/drive/My Drive/losses.pickle\",\"wb\") as f:\n",
        "  pickle.dump(losses, f)\n",
        "with open(\"/content/drive/My Drive/metrics_by_guest_test.pickle\",\"wb\") as f:\n",
        "  pickle.dump(metrics_by_guest_test, f)\n",
        "with open(\"/content/drive/My Drive/metrics_by_guest_train.pickle\",\"wb\") as f:\n",
        "  pickle.dump(metrics_by_guest_train, f)\n",
        "with open(\"/content/drive/My Drive/extracted_data_by_guest_test.pickle\",\"wb\") as f:\n",
        "  pickle.dump(extracted_data_by_guest_test, f)\n",
        "with open(\"/content/drive/My Drive/extracted_data_by_guest_train.pickle\",\"wb\") as f:\n",
        "  pickle.dump(extracted_data_by_guest_train, f)\n",
        "with open(\"/content/drive/My Drive/DNN_Model.pickle\",\"wb\") as f:\n",
        "  pickle.dump(DNN_Model.model.state_dict(), f)\n",
        "with open(\"/content/drive/My Drive/PGNN_DNN_Model.pickle\",\"wb\") as f:\n",
        "  pickle.dump(PGNN_DNN_Model.model.state_dict(), f)\n",
        "with open(\"/content/drive/My Drive/GCN_Model.pickle\",\"wb\") as f:\n",
        "  pickle.dump(GCN_Model.model.state_dict(), f)\n",
        "with open(\"/content/drive/My Drive/GCN_Model_PGENN.pickle\",\"wb\") as f:\n",
        "  pickle.dump(GCN_Model_PGENN.model.state_dict(), f)"
      ]
    },
    {
      "cell_type": "markdown",
      "metadata": {
        "id": "3sDCbzYo1YhO"
      },
      "source": [
        "The inverse operation to the one above!"
      ]
    },
    {
      "cell_type": "code",
      "execution_count": null,
      "metadata": {
        "id": "Zu6-5qAby_So"
      },
      "outputs": [],
      "source": [
        "import pickle\n",
        "from google.colab import files, drive\n",
        "\n",
        "drive.mount('/content/drive')\n",
        "\n",
        "with open(\"/content/drive/My Drive/metrics_data.pickle\",\"rb\") as f:\n",
        "  metrics_data = pickle.load(f)\n",
        "with open(\"/content/drive/My Drive/tuning_results.pickle\",\"rb\") as f:\n",
        "  tuning_results = pickle.load(f)\n",
        "with open(\"/content/drive/My Drive/dataset_data.pickle\",\"rb\") as f:\n",
        "  dataset_data = pickle.load(f)\n",
        "with open(\"/content/drive/My Drive/finalresults_data.pickle\",\"rb\") as f:\n",
        "  final_metrics = pickle.load(f)\n",
        "with open(\"/content/drive/My Drive/losses.pickle\",\"rb\") as f:\n",
        "  losses = pickle.load(f)\n",
        "with open(\"/content/drive/My Drive/metrics_by_guest_test.pickle\",\"rb\") as f:\n",
        "  metrics_by_guest_test = pickle.load(f)\n",
        "with open(\"/content/drive/My Drive/metrics_by_guest_train.pickle\",\"rb\") as f:\n",
        "  metrics_by_guest_train = pickle.load(f)\n",
        "with open(\"/content/drive/My Drive/extracted_data_by_guest_test.pickle\",\"rb\") as f:\n",
        "  extracted_data_by_guest_test = pickle.load(f)\n",
        "with open(\"/content/drive/My Drive/extracted_data_by_guest_train.pickle\",\"rb\") as f:\n",
        "  extracted_data_by_guest_train = pickle.load(f)\n",
        "\n",
        "# create instance of model based on the hyper params given below, then run this cell\n",
        "# to load trained model\n",
        "with open(\"/content/drive/My Drive/DNN_Model.pickle\",\"rb\") as f:\n",
        "  DNN_Model.model.load_state_dict( pickle.load(f) )\n",
        "with open(\"/content/drive/My Drive/PGNN_DNN_Model.pickle\",\"rb\") as f:\n",
        "  PGNN_DNN_Model.model.load_state_dict( pickle.load(f) )\n",
        "with open(\"/content/drive/My Drive/GCN_Model.pickle\",\"rb\") as f:\n",
        "  GCN_Model.model.load_state_dict( pickle.load(f) )\n",
        "with open(\"/content/drive/My Drive/GCN_Model_PGENN.pickle\",\"rb\") as f:\n",
        "  GCN_Model_PGENN.model.load_state_dict( pickle.load(f) )"
      ]
    },
    {
      "cell_type": "markdown",
      "source": [
        "Let's also check the output of the features across some interesting datapoints! Note featurizing results in different outputs depending on which featurizer is used."
      ],
      "metadata": {
        "id": "uf_aCpCyBaz0"
      }
    },
    {
      "cell_type": "code",
      "source": [
        "for guest in all_features_pure['Graph Conv Featurizer']:\n",
        "  print( f'Graph Conv for {guest}', (all_features_pure['Graph Conv Featurizer'][guest] == all_features_vm2['Graph Conv Featurizer'][guest]).all() )\n",
        "for guest in all_features_pure['Circular Fingerprint']:\n",
        "  print( f'Circular for {guest}', (all_features_pure['Circular Fingerprint'][guest] == all_features_vm2['Circular Fingerprint'][guest]).all() )"
      ],
      "metadata": {
        "colab": {
          "base_uri": "https://localhost:8080/"
        },
        "id": "L_VDpbsSBeHn",
        "outputId": "2e590a6c-1760-43fb-8c6f-dddbd31a31b3"
      },
      "execution_count": 11,
      "outputs": [
        {
          "output_type": "stream",
          "name": "stdout",
          "text": [
            "Graph Conv for guest-s12 False\n",
            "Graph Conv for guest-s16 False\n",
            "Graph Conv for guest-s13 False\n",
            "Graph Conv for guest-s21 False\n",
            "Graph Conv for guest-1 False\n",
            "Graph Conv for guest-s17 False\n",
            "Graph Conv for guest-s10 False\n",
            "Graph Conv for guest-s19 False\n",
            "Graph Conv for guest-8 False\n",
            "Graph Conv for guest-s14 False\n",
            "Graph Conv for guest-5 False\n",
            "Graph Conv for guest-s18 False\n",
            "Graph Conv for guest-s9 False\n",
            "Graph Conv for guest-s22 False\n",
            "Graph Conv for guest-s15 False\n",
            "Graph Conv for guest-7 False\n",
            "Graph Conv for guest-6 False\n",
            "Graph Conv for guest-4 False\n",
            "Graph Conv for guest-3 False\n",
            "Graph Conv for guest-2 False\n",
            "Graph Conv for guest-s20 False\n",
            "Graph Conv for guest-s11 False\n",
            "Circular for guest-s12 True\n",
            "Circular for guest-s16 True\n",
            "Circular for guest-s13 True\n",
            "Circular for guest-s21 True\n",
            "Circular for guest-1 True\n",
            "Circular for guest-s17 True\n",
            "Circular for guest-s10 True\n",
            "Circular for guest-s19 False\n",
            "Circular for guest-8 True\n",
            "Circular for guest-s14 True\n",
            "Circular for guest-5 True\n",
            "Circular for guest-s18 True\n",
            "Circular for guest-s9 True\n",
            "Circular for guest-s22 True\n",
            "Circular for guest-s15 True\n",
            "Circular for guest-7 True\n",
            "Circular for guest-6 True\n",
            "Circular for guest-4 True\n",
            "Circular for guest-3 True\n",
            "Circular for guest-2 True\n",
            "Circular for guest-s20 False\n",
            "Circular for guest-s11 True\n"
          ]
        }
      ]
    },
    {
      "cell_type": "markdown",
      "metadata": {
        "id": "wURsFLQf3FW-"
      },
      "source": [
        "The actual model will be as basic as possible but some adjustments to better deal with the low volume of data we have to work with. \n",
        "A densely/fully connected layers with dropout regulation.  "
      ]
    },
    {
      "cell_type": "markdown",
      "metadata": {
        "id": "MkevEThAVk30"
      },
      "source": [
        "Convert the Fingerprinted data into a regular Deepchem Data set -\n",
        "This is critical to ensure that the models will work with Deepchem's built in models (and so we can do multifold cross validation later). All measurements in kcal/mol"
      ]
    },
    {
      "cell_type": "code",
      "execution_count": 12,
      "metadata": {
        "colab": {
          "base_uri": "https://localhost:8080/"
        },
        "id": "k-qkSizkSqM8",
        "outputId": "b12388e8-d225-4fa7-b88c-a164bb1e1e7f"
      },
      "outputs": [
        {
          "output_type": "execute_result",
          "data": {
            "text/plain": [
              "{'guest-1': 0.595,\n",
              " 'guest-2': 0.6570000000000005,\n",
              " 'guest-3': 0.8540000000000001,\n",
              " 'guest-4': 0.6100000000000003,\n",
              " 'guest-5': 0.4800000000000004,\n",
              " 'guest-6': 1.0239999999999998,\n",
              " 'guest-7': 0.020000000000000018,\n",
              " 'guest-8': 0.2679999999999998,\n",
              " 'guest-s9': 0.8849999999999998,\n",
              " 'guest-s10': 0.9160000000000001,\n",
              " 'guest-s11': 0.5599999999999996,\n",
              " 'guest-s12': 0.6840000000000002,\n",
              " 'guest-s13': 0.6760000000000002,\n",
              " 'guest-s14': 0.5230000000000006,\n",
              " 'guest-s15': 0.5739999999999998,\n",
              " 'guest-s16': 0.7280000000000002,\n",
              " 'guest-s17': -2.2969999999999997,\n",
              " 'guest-s18': 0.15399999999999991,\n",
              " 'guest-s19': 0.7760000000000002,\n",
              " 'guest-s20': 0.34899999999999975,\n",
              " 'guest-s21': 0.1990000000000003,\n",
              " 'guest-s22': 0.8830000000000005}"
            ]
          },
          "metadata": {},
          "execution_count": 12
        }
      ],
      "source": [
        "# Obtain binding Experimental Entropy from Exp Binding Free energy - Exp Binding Enthalpy\n",
        "experimental_data = {\n",
        "    'guest-1': -1.575+2.17,\n",
        "    'guest-2': -3.533+4.19,\n",
        "    'guest-3': -4.606+5.46,\n",
        "    'guest-4': -2.130+2.74,\n",
        "    'guest-5': -2.510+2.99,\n",
        "    'guest-6': -1.506+2.53,\n",
        "    'guest-7': -3.380+3.40,\n",
        "    'guest-8': -4.622+4.89,\n",
        "    'guest-s9': -1.685+2.57,\n",
        "    'guest-s10': -1.764+2.68,\n",
        "    'guest-s11': -2.720+3.28,\n",
        "    'guest-s12': -3.516+4.20,\n",
        "    'guest-s13': -3.604+4.28,\n",
        "    'guest-s14': -4.137+4.66,\n",
        "    'guest-s15': -4.166+4.74,\n",
        "    'guest-s16': -2.022+2.75,\n",
        "    'guest-s17': -3.227+0.93,\n",
        "    'guest-s18': -2.596+2.75,\n",
        "    'guest-s19': -3.344+4.12,\n",
        "    'guest-s20': -3.011+3.36,\n",
        "    'guest-s21': -3.991+4.19,\n",
        "    'guest-s22': -3.597+4.48\n",
        "}\n",
        "experimental_data"
      ]
    },
    {
      "cell_type": "markdown",
      "source": [
        "Because model convergence varied on Guest s17, we'll remove it from the dataset and observe the difference."
      ],
      "metadata": {
        "id": "4VBCb71-lIvW"
      }
    },
    {
      "cell_type": "code",
      "source": [
        "all_datasets = [all_features_vm2, all_features_pure] # all_features_vina\n",
        "for dataset in all_datasets:\n",
        "  for featureizer_type, structures in dataset.items():\n",
        "    if( 'guest-s17' in structures ):\n",
        "      del structures['guest-s17']\n",
        "\n",
        "    print( f'{featureizer_type}, with {len(structures)} items' )"
      ],
      "metadata": {
        "colab": {
          "base_uri": "https://localhost:8080/"
        },
        "id": "NYpWKnUTo-LG",
        "outputId": "32bf8d09-2bfa-4e67-ddcd-b508430d4869"
      },
      "execution_count": 13,
      "outputs": [
        {
          "output_type": "stream",
          "name": "stdout",
          "text": [
            "Circular Fingerprint, with 21 items\n",
            "Graph Conv Featurizer, with 21 items\n",
            "Modded Graph Conv Featurizer, with 21 items\n",
            "Modded Circular Fingerprint, with 21 items\n",
            "Circular Fingerprint, with 21 items\n",
            "Graph Conv Featurizer, with 21 items\n",
            "Modded Graph Conv Featurizer, with 21 items\n",
            "Modded Circular Fingerprint, with 21 items\n"
          ]
        }
      ]
    },
    {
      "cell_type": "markdown",
      "metadata": {
        "id": "L-3giyNyIFmT"
      },
      "source": [
        "To finalize our Physics guided model approach, we'll inject the features from VM2 into the model's input feature vector. \n",
        "We'll do this step at the same time as converting the existing features into a deepchem Dataset object."
      ]
    },
    {
      "cell_type": "code",
      "execution_count": 14,
      "metadata": {
        "colab": {
          "base_uri": "https://localhost:8080/"
        },
        "id": "PJ6o9vhHerHo",
        "outputId": "3e0bfbd8-4529-4a3e-fd7c-dbde1bae9e8d"
      },
      "outputs": [
        {
          "output_type": "stream",
          "name": "stdout",
          "text": [
            "Circular Fingerprint, with 21 items\n",
            "Graph Conv Featurizer, with 21 items\n",
            "Modded Graph Conv Featurizer, with 21 items\n",
            "Modded Circular Fingerprint, with 21 items\n",
            "Circular Fingerprint, with 21 items\n",
            "Graph Conv Featurizer, with 21 items\n",
            "Modded Graph Conv Featurizer, with 21 items\n",
            "Modded Circular Fingerprint, with 21 items\n"
          ]
        }
      ],
      "source": [
        "datasets = defaultdict(dict)\n",
        "\n",
        "#dock_types = ['vm2', 'vina', 'pure']\n",
        "dock_types = ['vm2','pure']\n",
        "for dock_type in dock_types:\n",
        "\n",
        "  if dock_type is 'vm2':\n",
        "    # selecting the vm2 datashet\n",
        "    all_features = all_features_vm2\n",
        "  elif dock_type is 'vina':\n",
        "    all_features = all_features_vina\n",
        "  elif dock_type is 'pure':\n",
        "    all_features = all_features_pure\n",
        "  else:\n",
        "    print('Whooops! ERROR')\n",
        "\n",
        "  for featureizer_type, structures in all_features.items():\n",
        "    print( f'{featureizer_type}, with {len(structures)} items' )\n",
        "    guests = []\n",
        "    features = []\n",
        "    labels = []\n",
        "    for guest, feature in structures.items():\n",
        "      guests.append( guest )\n",
        "      # Here we'll check if this particular feature is\n",
        "      # for a hybrid model, in which case we'll modify\n",
        "      # the feature vector inplace with the extracted value\n",
        "      if featureizer_type == 'Modded Graph Conv Featurizer':\n",
        "        for node in range(feature[0].num_nodes):\n",
        "          # change the final element to match the extracted VM2\n",
        "          feature[0].node_features[node][-1] = vm2_entropy[guest]\n",
        "      elif featureizer_type == 'Modded Circular Fingerprint':\n",
        "        # change the final entry to match the extracted VM2\n",
        "        feature[0][-1] = vm2_entropy[guest]\n",
        "      features.append( feature[0] )\n",
        "      labels.append( experimental_data[guest] )\n",
        "    X = numpy.stack(features, axis=0)\n",
        "    y = numpy.stack(labels, axis=0)\n",
        "    ids = numpy.stack(guests,axis=0)\n",
        "    # produce the actual Deepchem dataset\n",
        "    datasets[dock_type][featureizer_type] = deepchem.data.NumpyDataset(X=X, y=y, ids=ids)\n",
        "\n",
        "  # Copy Dataset for other applicable models\n",
        "  if featureizer_type == 'Circular Fingerprint':\n",
        "    print(f'Copying {featureizer_type} for Linear Regression')\n",
        "    datasets[dock_type]['Linear Regression'] = deepchem.data.NumpyDataset(X=X, y=y, ids=ids)\n",
        "\n",
        "#print( datasets )"
      ]
    },
    {
      "cell_type": "markdown",
      "metadata": {
        "id": "gzNSojFchNpW"
      },
      "source": [
        "\n",
        "\n",
        "---\n",
        "\n",
        "Now that we've collected all our data, we must develop the models to consume the cleaned up data. This data is directly from the "
      ]
    },
    {
      "cell_type": "markdown",
      "metadata": {
        "id": "UfSsUNOZdOqe"
      },
      "source": [
        "The simplest model is a linear logistic regression, we'll use sklearn's built in model for this one."
      ]
    },
    {
      "cell_type": "code",
      "execution_count": null,
      "metadata": {
        "id": "0tec3j4zdZ7d"
      },
      "outputs": [],
      "source": [
        "from sklearn.linear_model import LinearRegression\n",
        "sklearn_model = LinearRegression()\n",
        "linear_model = deepchem.models.SklearnModel(sklearn_model)"
      ]
    },
    {
      "cell_type": "markdown",
      "metadata": {
        "id": "92rtrx4MPmp2"
      },
      "source": [
        "For our 'enhanced' base line, we'll utilize a regular Deep Learning model with basic regularization. We'll adjust the model to find the model with the "
      ]
    },
    {
      "cell_type": "code",
      "execution_count": 17,
      "metadata": {
        "id": "c0xAwxN62hEM"
      },
      "outputs": [],
      "source": [
        "class DNN_Regression_Model(torch.nn.Module):\n",
        "\n",
        "  def __init__(self, input_feature_size=2048, hidden_layers=1, units=1000, dropout=0.5, **kwargs):\n",
        "    # Do regular init stuff in torch.nn.Module\n",
        "    super(DNN_Regression_Model, self).__init__()\n",
        "\n",
        "    # Keep track of Hyperparams\n",
        "    self.layer_count = hidden_layers + 1 #for input layer\n",
        "    self.units = units\n",
        "    self.dropout = dropout\n",
        "\n",
        "    # Create the layers\n",
        "    self.layers = torch.nn.ModuleList()\n",
        "    for i in range(self.layer_count):\n",
        "      if i == 0: # Input Layer\n",
        "        self.layers.append( torch.nn.Linear(input_feature_size, units) )\n",
        "      elif i < self.layer_count - 1: # Hidden Layers\n",
        "        self.layers.append( torch.nn.Linear(units, units) )\n",
        "      else: # Output Layer (regression)\n",
        "        self.layers.append( torch.nn.Linear(units, 1) )\n",
        " \n",
        "  def forward(self, inputs):\n",
        "    y = None\n",
        "\n",
        "    for layer in range(self.layer_count):\n",
        "      if layer == 0: # Input Layer\n",
        "        y = torch.nn.functional.relu( self.layers[layer](inputs) )\n",
        "      else: # All other layers\n",
        "        y = torch.nn.functional.relu( self.layers[layer](y) )\n",
        "      \n",
        "      if layer < self.layer_count - 1: # Every Layer BUT Output layer\n",
        "        y = torch.nn.functional.dropout(y, p=self.dropout, training=self.training)\n",
        "      else: # Output Layer\n",
        "        y = torch.sigmoid(y)\n",
        "\n",
        "    return y\n",
        "\n",
        "# Finalize the model, via TorchModel\n",
        "# by creating an instance of the model, coupled with a basic L2 Loss function\n",
        "# Torch Model then overlays a learning algo ontop both (Adam w/ default settings)\n",
        "# (inserted tuning parameters)\n",
        "dnn_hyperparams = {'dropout': 0.9, 'learning_rate': 1e-05, 'layers': 64, 'units': 2048}\n",
        "pgdnn_hyperparams = {'dropout': 0.7, 'learning_rate': 1e-05, 'layers': 16, 'units': 5000}\n",
        "dnn_torch_model = DNN_Regression_Model(**dnn_hyperparams)\n",
        "DNN_Model = deepchem.models.TorchModel(dnn_torch_model, deepchem.models.losses.L2Loss(), log_frequency=1, **dnn_hyperparams)\n",
        "\n",
        "# Finally the physics guided version (inserted optimized parameters from tuning)\n",
        "pgnn_dnn_torch_model = DNN_Regression_Model(input_feature_size=2049, **pgdnn_hyperparams)\n",
        "PGNN_DNN_Model = deepchem.models.TorchModel(pgnn_dnn_torch_model, deepchem.models.losses.L2Loss(), log_frequency=1, **pgdnn_hyperparams)"
      ]
    },
    {
      "cell_type": "markdown",
      "metadata": {
        "id": "5Y-flWSXlX4n"
      },
      "source": [
        "For now, we'll use the boxed GCN model from deepchem in regression mode. It's about the same as above, but with the fit working correctly. The above needs a fit function that correctly handles the graph data."
      ]
    },
    {
      "cell_type": "code",
      "execution_count": 16,
      "metadata": {
        "id": "wv6gmB-ljB6C"
      },
      "outputs": [],
      "source": [
        "# tuned from a grid search of the hyperparameter optimization (below)\n",
        "gcn_hyperparams = {'dropout': 0.5, 'predictor_dropout': 0.2, 'learning_rate': 1e-05, 'predictor_hidden_feats': 640}\n",
        "pggcn_hyperparams = {'dropout': 0.4, 'predictor_dropout': 0.1, 'learning_rate': 1e-05, 'predictor_hidden_feats': 640}\n",
        "GCN_Model = deepchem.models.GCNModel(mode='regression', number_atom_features=30, n_tasks=1, log_frequency=1, **gcn_hyperparams)\n",
        "GCN_Model_PGENN = deepchem.models.GCNModel(mode='regression', number_atom_features=31, n_tasks=1, log_frequency=1, **pggcn_hyperparams)"
      ]
    },
    {
      "cell_type": "markdown",
      "metadata": {
        "id": "6jwc_0usjwWX"
      },
      "source": [
        "To understand how the some regular learning based methods stack up, we'll run each model through the same metrics collection, using the same data. "
      ]
    },
    {
      "cell_type": "code",
      "execution_count": 18,
      "metadata": {
        "colab": {
          "base_uri": "https://localhost:8080/"
        },
        "id": "Boax6Fsi_SjH",
        "outputId": "e8263ac1-cce4-4876-c295-5e24601bac8f"
      },
      "outputs": [
        {
          "output_type": "stream",
          "name": "stdout",
          "text": [
            "random split, defaults to 80%:20%\n",
            "training with data from vm2 for: Circular Fingerprint\n",
            "training with data from vm2 for: Graph Conv Featurizer\n",
            "training with data from vm2 for: Modded Graph Conv Featurizer\n"
          ]
        },
        {
          "output_type": "stream",
          "name": "stderr",
          "text": [
            "/usr/local/lib/python3.7/site-packages/torch/amp/autocast_mode.py:198: UserWarning: User provided device_type of 'cuda', but CUDA is not available. Disabling\n",
            "  warnings.warn('User provided device_type of \\'cuda\\', but CUDA is not available. Disabling')\n"
          ]
        },
        {
          "output_type": "stream",
          "name": "stdout",
          "text": [
            "collected data for fold 0\n"
          ]
        },
        {
          "output_type": "stream",
          "name": "stderr",
          "text": [
            "/usr/local/lib/python3.7/site-packages/torch/amp/autocast_mode.py:198: UserWarning: User provided device_type of 'cuda', but CUDA is not available. Disabling\n",
            "  warnings.warn('User provided device_type of \\'cuda\\', but CUDA is not available. Disabling')\n"
          ]
        },
        {
          "output_type": "stream",
          "name": "stdout",
          "text": [
            "collected data for fold 1\n"
          ]
        },
        {
          "output_type": "stream",
          "name": "stderr",
          "text": [
            "/usr/local/lib/python3.7/site-packages/torch/amp/autocast_mode.py:198: UserWarning: User provided device_type of 'cuda', but CUDA is not available. Disabling\n",
            "  warnings.warn('User provided device_type of \\'cuda\\', but CUDA is not available. Disabling')\n"
          ]
        },
        {
          "output_type": "stream",
          "name": "stdout",
          "text": [
            "collected data for fold 2\n"
          ]
        },
        {
          "output_type": "stream",
          "name": "stderr",
          "text": [
            "/usr/local/lib/python3.7/site-packages/torch/amp/autocast_mode.py:198: UserWarning: User provided device_type of 'cuda', but CUDA is not available. Disabling\n",
            "  warnings.warn('User provided device_type of \\'cuda\\', but CUDA is not available. Disabling')\n"
          ]
        },
        {
          "output_type": "stream",
          "name": "stdout",
          "text": [
            "collected data for fold 3\n"
          ]
        },
        {
          "output_type": "stream",
          "name": "stderr",
          "text": [
            "/usr/local/lib/python3.7/site-packages/torch/amp/autocast_mode.py:198: UserWarning: User provided device_type of 'cuda', but CUDA is not available. Disabling\n",
            "  warnings.warn('User provided device_type of \\'cuda\\', but CUDA is not available. Disabling')\n"
          ]
        },
        {
          "output_type": "stream",
          "name": "stdout",
          "text": [
            "collected data for fold 4\n"
          ]
        },
        {
          "output_type": "stream",
          "name": "stderr",
          "text": [
            "/usr/local/lib/python3.7/site-packages/torch/amp/autocast_mode.py:198: UserWarning: User provided device_type of 'cuda', but CUDA is not available. Disabling\n",
            "  warnings.warn('User provided device_type of \\'cuda\\', but CUDA is not available. Disabling')\n"
          ]
        },
        {
          "output_type": "stream",
          "name": "stdout",
          "text": [
            "collected data for fold 5\n"
          ]
        },
        {
          "output_type": "stream",
          "name": "stderr",
          "text": [
            "/usr/local/lib/python3.7/site-packages/torch/amp/autocast_mode.py:198: UserWarning: User provided device_type of 'cuda', but CUDA is not available. Disabling\n",
            "  warnings.warn('User provided device_type of \\'cuda\\', but CUDA is not available. Disabling')\n"
          ]
        },
        {
          "output_type": "stream",
          "name": "stdout",
          "text": [
            "collected data for fold 6\n"
          ]
        },
        {
          "output_type": "stream",
          "name": "stderr",
          "text": [
            "/usr/local/lib/python3.7/site-packages/torch/amp/autocast_mode.py:198: UserWarning: User provided device_type of 'cuda', but CUDA is not available. Disabling\n",
            "  warnings.warn('User provided device_type of \\'cuda\\', but CUDA is not available. Disabling')\n"
          ]
        },
        {
          "output_type": "stream",
          "name": "stdout",
          "text": [
            "collected data for fold 7\n"
          ]
        },
        {
          "output_type": "stream",
          "name": "stderr",
          "text": [
            "/usr/local/lib/python3.7/site-packages/torch/amp/autocast_mode.py:198: UserWarning: User provided device_type of 'cuda', but CUDA is not available. Disabling\n",
            "  warnings.warn('User provided device_type of \\'cuda\\', but CUDA is not available. Disabling')\n"
          ]
        },
        {
          "output_type": "stream",
          "name": "stdout",
          "text": [
            "collected data for fold 8\n"
          ]
        },
        {
          "output_type": "stream",
          "name": "stderr",
          "text": [
            "/usr/local/lib/python3.7/site-packages/torch/amp/autocast_mode.py:198: UserWarning: User provided device_type of 'cuda', but CUDA is not available. Disabling\n",
            "  warnings.warn('User provided device_type of \\'cuda\\', but CUDA is not available. Disabling')\n"
          ]
        },
        {
          "output_type": "stream",
          "name": "stdout",
          "text": [
            "collected data for fold 9\n",
            "training with data from vm2 for: Modded Circular Fingerprint\n",
            "collected data for fold 0\n",
            "collected data for fold 1\n",
            "collected data for fold 2\n",
            "collected data for fold 3\n",
            "collected data for fold 4\n",
            "collected data for fold 5\n",
            "collected data for fold 6\n",
            "collected data for fold 7\n",
            "collected data for fold 8\n",
            "collected data for fold 9\n",
            "training with data from pure for: Circular Fingerprint\n",
            "collected data for fold 0\n",
            "collected data for fold 1\n",
            "collected data for fold 2\n",
            "collected data for fold 3\n",
            "collected data for fold 4\n",
            "collected data for fold 5\n",
            "collected data for fold 6\n",
            "collected data for fold 7\n",
            "collected data for fold 8\n",
            "collected data for fold 9\n",
            "training with data from pure for: Graph Conv Featurizer\n"
          ]
        },
        {
          "output_type": "stream",
          "name": "stderr",
          "text": [
            "/usr/local/lib/python3.7/site-packages/torch/amp/autocast_mode.py:198: UserWarning: User provided device_type of 'cuda', but CUDA is not available. Disabling\n",
            "  warnings.warn('User provided device_type of \\'cuda\\', but CUDA is not available. Disabling')\n"
          ]
        },
        {
          "output_type": "stream",
          "name": "stdout",
          "text": [
            "collected data for fold 0\n"
          ]
        },
        {
          "output_type": "stream",
          "name": "stderr",
          "text": [
            "/usr/local/lib/python3.7/site-packages/torch/amp/autocast_mode.py:198: UserWarning: User provided device_type of 'cuda', but CUDA is not available. Disabling\n",
            "  warnings.warn('User provided device_type of \\'cuda\\', but CUDA is not available. Disabling')\n"
          ]
        },
        {
          "output_type": "stream",
          "name": "stdout",
          "text": [
            "collected data for fold 1\n"
          ]
        },
        {
          "output_type": "stream",
          "name": "stderr",
          "text": [
            "/usr/local/lib/python3.7/site-packages/torch/amp/autocast_mode.py:198: UserWarning: User provided device_type of 'cuda', but CUDA is not available. Disabling\n",
            "  warnings.warn('User provided device_type of \\'cuda\\', but CUDA is not available. Disabling')\n"
          ]
        },
        {
          "output_type": "stream",
          "name": "stdout",
          "text": [
            "collected data for fold 2\n"
          ]
        },
        {
          "output_type": "stream",
          "name": "stderr",
          "text": [
            "/usr/local/lib/python3.7/site-packages/torch/amp/autocast_mode.py:198: UserWarning: User provided device_type of 'cuda', but CUDA is not available. Disabling\n",
            "  warnings.warn('User provided device_type of \\'cuda\\', but CUDA is not available. Disabling')\n"
          ]
        },
        {
          "output_type": "stream",
          "name": "stdout",
          "text": [
            "collected data for fold 3\n"
          ]
        },
        {
          "output_type": "stream",
          "name": "stderr",
          "text": [
            "/usr/local/lib/python3.7/site-packages/torch/amp/autocast_mode.py:198: UserWarning: User provided device_type of 'cuda', but CUDA is not available. Disabling\n",
            "  warnings.warn('User provided device_type of \\'cuda\\', but CUDA is not available. Disabling')\n"
          ]
        },
        {
          "output_type": "stream",
          "name": "stdout",
          "text": [
            "collected data for fold 4\n"
          ]
        },
        {
          "output_type": "stream",
          "name": "stderr",
          "text": [
            "/usr/local/lib/python3.7/site-packages/torch/amp/autocast_mode.py:198: UserWarning: User provided device_type of 'cuda', but CUDA is not available. Disabling\n",
            "  warnings.warn('User provided device_type of \\'cuda\\', but CUDA is not available. Disabling')\n"
          ]
        },
        {
          "output_type": "stream",
          "name": "stdout",
          "text": [
            "collected data for fold 5\n"
          ]
        },
        {
          "output_type": "stream",
          "name": "stderr",
          "text": [
            "/usr/local/lib/python3.7/site-packages/torch/amp/autocast_mode.py:198: UserWarning: User provided device_type of 'cuda', but CUDA is not available. Disabling\n",
            "  warnings.warn('User provided device_type of \\'cuda\\', but CUDA is not available. Disabling')\n"
          ]
        },
        {
          "output_type": "stream",
          "name": "stdout",
          "text": [
            "collected data for fold 6\n"
          ]
        },
        {
          "output_type": "stream",
          "name": "stderr",
          "text": [
            "/usr/local/lib/python3.7/site-packages/torch/amp/autocast_mode.py:198: UserWarning: User provided device_type of 'cuda', but CUDA is not available. Disabling\n",
            "  warnings.warn('User provided device_type of \\'cuda\\', but CUDA is not available. Disabling')\n"
          ]
        },
        {
          "output_type": "stream",
          "name": "stdout",
          "text": [
            "collected data for fold 7\n"
          ]
        },
        {
          "output_type": "stream",
          "name": "stderr",
          "text": [
            "/usr/local/lib/python3.7/site-packages/torch/amp/autocast_mode.py:198: UserWarning: User provided device_type of 'cuda', but CUDA is not available. Disabling\n",
            "  warnings.warn('User provided device_type of \\'cuda\\', but CUDA is not available. Disabling')\n"
          ]
        },
        {
          "output_type": "stream",
          "name": "stdout",
          "text": [
            "collected data for fold 8\n"
          ]
        },
        {
          "output_type": "stream",
          "name": "stderr",
          "text": [
            "/usr/local/lib/python3.7/site-packages/torch/amp/autocast_mode.py:198: UserWarning: User provided device_type of 'cuda', but CUDA is not available. Disabling\n",
            "  warnings.warn('User provided device_type of \\'cuda\\', but CUDA is not available. Disabling')\n"
          ]
        },
        {
          "output_type": "stream",
          "name": "stdout",
          "text": [
            "collected data for fold 9\n",
            "training with data from pure for: Modded Graph Conv Featurizer\n",
            "training with data from pure for: Modded Circular Fingerprint\n"
          ]
        }
      ],
      "source": [
        "# we'll collect data per fold as well to graph out!\n",
        "from sklearn.metrics import mean_squared_error\n",
        "\n",
        "model_lookup = {\n",
        "        'pure': {\n",
        "            'Circular Fingerprint': 'DNN',\n",
        "            'Graph Conv Featurizer': 'GCN',\n",
        "            'Modded Graph Conv Featurizer': 'PGGCN-Lite',\n",
        "            'Modded Circular Fingerprint': 'PGDNN-Lite'\n",
        "        },\n",
        "        'vm2': {\n",
        "            'Circular Fingerprint': 'Min DNN',\n",
        "            'Graph Conv Featurizer': 'Min GCN',\n",
        "            'Modded Graph Conv Featurizer': 'PGGCN',\n",
        "            'Modded Circular Fingerprint': 'PGDNN'\n",
        "        }\n",
        "}\n",
        "\n",
        "# Creating a RandomSplitter object\n",
        "print('random split, defaults to 80%:20%')\n",
        "splitter = deepchem.splits.RandomSplitter()\n",
        "losses = defaultdict(dict)\n",
        "\n",
        "# Our goal is to use the limited data we have in\n",
        "# multiple folds, known as k-fold validation\n",
        "K = 10\n",
        "\n",
        "# Finally, the metrics we want to eval each model\n",
        "# performance perfold\n",
        "metrics = [\n",
        "    #deepchem.metrics.Metric(deepchem.metrics.r2_score, mode='regression'),\n",
        "    deepchem.metrics.Metric(deepchem.metrics.rms_score, mode='regression'),\n",
        "    #deepchem.metrics.Metric(deepchem.metrics.mean_squared_error, mode='regression'),\n",
        "    #deepchem.metrics.Metric(deepchem.metrics.mean_absolute_error, mode='regression'),\n",
        "    #deepchem.metrics.Metric(deepchem.metrics.pearson_r2_score, mode='regression'),\n",
        "    #deepchem.metrics.Metric(deepchem.metrics.mae_score, mode='regression'),\n",
        "    #deepchem.metrics.Metric(deepchem.metrics.concordance_index, mode='regression') \n",
        "]\n",
        "\n",
        "metrics_data = defaultdict(dict)\n",
        "dataset_data = defaultdict(dict)\n",
        "metrics_by_guest_train = defaultdict(dict)\n",
        "metrics_by_guest_test = defaultdict(dict)\n",
        "\n",
        "for dock_type, input_datasets in datasets.items():\n",
        "  # shortcut to limit docking for specific types (say just vm2)\n",
        "  #if dock_type != 'vm2':\n",
        "    #continue\n",
        "\n",
        "  for featureizer_type, dataset in input_datasets.items():\n",
        "    print(f'training with data from {dock_type} for: {featureizer_type}')\n",
        "    model = None # Will be populated based on Featurizer\n",
        "\n",
        "    # filter! based on model_type and featureizer type\n",
        "    if dock_type == 'vm2' and 'Modded' not in featureizer_type:\n",
        "      continue # skip\n",
        "\n",
        "    if dock_type == 'pure' and 'Modded' in featureizer_type:\n",
        "      continue # skip\n",
        "    \n",
        "    # depending on the type of featureizer, we generate a NEW model\n",
        "    if featureizer_type == 'Circular Fingerprint':\n",
        "      dnn_torch_model = DNN_Regression_Model(**dnn_hyperparams)\n",
        "      DNN_Model = deepchem.models.TorchModel(dnn_torch_model, deepchem.models.losses.L2Loss(), log_frequency=1, **dnn_hyperparams)\n",
        "      model = DNN_Model\n",
        "      # continue;\n",
        "      \n",
        "    elif featureizer_type == 'Graph Conv Featurizer':\n",
        "      GCN_Model = deepchem.models.GCNModel(mode='regression', number_atom_features=30, n_tasks=1, log_frequency=1, **gcn_hyperparams)\n",
        "      model = GCN_Model\n",
        "      # continue;\n",
        "\n",
        "    elif featureizer_type == 'Modded Graph Conv Featurizer':\n",
        "      GCN_Model_PGENN = deepchem.models.GCNModel(mode='regression', number_atom_features=31, n_tasks=1, log_frequency=1, **gcn_hyperparams)\n",
        "      model = GCN_Model_PGENN\n",
        "\n",
        "    elif featureizer_type == 'Modded Circular Fingerprint':\n",
        "      pgnn_dnn_torch_model = DNN_Regression_Model(input_feature_size=2049, **dnn_hyperparams)\n",
        "      PGNN_DNN_Model = deepchem.models.TorchModel(pgnn_dnn_torch_model, deepchem.models.losses.L2Loss(), log_frequency=1, **dnn_hyperparams)\n",
        "      model = PGNN_DNN_Model\n",
        "\n",
        "    elif featureizer_type == 'Linear Regression':\n",
        "      #model = linear_model\n",
        "      continue; # skip for now\n",
        "\n",
        "    # We'll collect the folds, and perfold, train / Eval the model\n",
        "    folds = splitter.k_fold_split(dataset, K)\n",
        "    metrics_data[dock_type][featureizer_type] = {}\n",
        "    dataset_data[dock_type][featureizer_type] = {}\n",
        "    losses[dock_type][featureizer_type] = defaultdict(list)\n",
        "    metrics_by_guest_train[dock_type][featureizer_type] = defaultdict(dict)\n",
        "    metrics_by_guest_test[dock_type][featureizer_type] = defaultdict(dict)\n",
        "\n",
        "    for fold_id, fold_dataset in enumerate(folds):\n",
        "      train_dataset, test_dataset = fold_dataset\n",
        "      model.fit(train_dataset, nb_epoch=100, all_losses=losses[dock_type][featureizer_type][fold_id], restore = False)\n",
        "\n",
        "      # extract out the train data results\n",
        "      predictions = model.predict(train_dataset);\n",
        "\n",
        "      # save the data from this set for the train set\n",
        "      for index, ( input, true_data, weight, id ) in enumerate( train_dataset.itersamples() ):\n",
        "        metrics_by_guest_train[dock_type][featureizer_type][fold_id][id] = mean_squared_error( predictions[index], [true_data], squared = False )\n",
        "\n",
        "      # extract out the test data results\n",
        "      predictions = model.predict(test_dataset);\n",
        "\n",
        "      # save the data from this set for the test set\n",
        "      for index, ( input, true_data, weight, id ) in enumerate( test_dataset.itersamples() ):\n",
        "        metrics_by_guest_test[dock_type][featureizer_type][fold_id][id] = mean_squared_error( predictions[index], [true_data], squared = False )\n",
        "\n",
        "      # record the data for extraction later\n",
        "      metrics_data[dock_type][featureizer_type][fold_id] = (model.evaluate(train_dataset, metrics),model.evaluate(test_dataset, metrics))\n",
        "      dataset_data[dock_type][featureizer_type][fold_id] = (train_dataset, test_dataset)\n",
        "\n",
        "      print(f'collected data for fold {fold_id}')\n",
        "      #break # for debug"
      ]
    },
    {
      "cell_type": "code",
      "source": [
        "# extract out the data per guest from the above data\n",
        "extracted_data_by_guest_train = defaultdict(dict)\n",
        "for dock_type in dataset_data:\n",
        "  for model_type in dataset_data[dock_type]:\n",
        "    extracted_data_by_guest_train[dock_type][model_type] = defaultdict(list)\n",
        "    for fold_id, datasets_from_fold in dataset_data[dock_type][model_type].items():\n",
        "      train, test = datasets_from_fold\n",
        "      for input, true_data, weight, id in train.itersamples():\n",
        "        if id not in metrics_by_guest_train[dock_type][model_type][fold_id]:\n",
        "          print(f'missed {id} in fold {fold_id} of {model_type} {dock_type}')\n",
        "        else:\n",
        "          extracted_data_by_guest_train[dock_type][model_type][id].append( metrics_by_guest_train[dock_type][model_type][fold_id][id] )\n",
        "print( extracted_data_by_guest_train )\n",
        "\n",
        "extracted_data_by_guest_test = defaultdict(dict)\n",
        "for dock_type in dataset_data:\n",
        "  for model_type in dataset_data[dock_type]:\n",
        "    extracted_data_by_guest_test[dock_type][model_type] = defaultdict(list)\n",
        "    for fold_id, datasets_from_fold in dataset_data[dock_type][model_type].items():\n",
        "      train, test = datasets_from_fold\n",
        "      for input, true_data, weight, id in test.itersamples():\n",
        "        if id not in metrics_by_guest_test[dock_type][model_type][fold_id]:\n",
        "          print(f'missed {id} in fold {fold_id} of {model_type} {dock_type}')\n",
        "        else:\n",
        "          extracted_data_by_guest_test[dock_type][model_type][id].append( metrics_by_guest_test[dock_type][model_type][fold_id][id] )\n",
        "print( extracted_data_by_guest_test )"
      ],
      "metadata": {
        "colab": {
          "base_uri": "https://localhost:8080/"
        },
        "id": "AluSatuNcxjP",
        "outputId": "b7ed4d41-82a6-4820-a39f-d6c709804a2e"
      },
      "execution_count": 19,
      "outputs": [
        {
          "output_type": "stream",
          "name": "stdout",
          "text": [
            "defaultdict(<class 'dict'>, {'vm2': {'Modded Graph Conv Featurizer': defaultdict(<class 'list'>, {'guest-5': [0.4382939296960835, 0.3190358686447148, 0.25710458636283917, 0.1940901088714604, 0.10533685564994855, 0.04253540515899701, 0.0548177766799931, 0.050209980010986754, 0.08986953973770184], 'guest-2': [0.6190790481567388, 0.6017127953171735, 0.5005220718383794, 0.43901851248741197, 0.37945895862579393, 0.28948577713966417, 0.22633811306953477, 0.23901649785041856, 0.2731421239376073], 'guest-8': [0.23717985379695872, 0.21908304917812327, 0.11936449337005595, 0.05876451063156107, 0.002946025848388878, 0.09157309603691122, 0.14898876023292562, 0.13742551875114462, 0.10563404035568258], 'guest-s10': [0.874603121340275, 0.8576106939315797, 0.7555938724279405, 0.6935232493877412, 0.6330406877994539, 0.5435679767131807, 0.4790132853984834, 0.49142416453361526, 0.4869474086761476], 'guest-s11': [0.520593037307262, 0.5033567598462101, 0.401809973120689, 0.34006848692893943, 0.2799176549911495, 0.19022318482398948, 0.1265302574634548, 0.13458370923995933, 0.17367940902709922], 'guest-s21': [0.16671556138992338, 0.14893026554584532, 0.048702313542366316, 0.012195260286330889, 0.07435986495017977, 0.162838489770889, 0.22087401247024507, 0.20930713510513277, 0.21432924365997286], 'guest-7': [0.013506266772747022, 0.031120787858962995, 0.13170787274837492, 0.19276453137397764, 0.2549710381031036, 0.3434653091430664, 0.4021573173999786, 0.39549712419509886, 0.3578100311756134], 'guest-s14': [0.4855505506992346, 0.4681184645295149, 0.3670331369638449, 0.2450814228057867, 0.15558388638496456, 0.09356158781051693, 0.10592698860168515, 0.10133403348922787, 0.1398384552001959], 'guest-3': [0.8174407609701158, 0.6990583964586259, 0.6378200628757478, 0.5768838503360749, 0.4875485875606538, 0.4264331736564637, 0.4386557021141053, 0.43402108335495004, 0.4722577908039094], 'guest-4': [0.5669117277860645, 0.5500495067238811, 0.44749894797802003, 0.38495965361595186, 0.3235116159915927, 0.23424299120903047, 0.18188293337821992, 0.177399084568024, 0.21757896304130586], 'guest-1': [0.5541444581747055, 0.5370551732182502, 0.3731034409999847, 0.3126248729228973, 0.2230666887760162, 0.15872779607772824, 0.17123830437660215, 0.16675225019454953, 0.20632293939590451], 'guest-s15': [0.5392555063366888, 0.5217218613028525, 0.42132952713966354, 0.3602092256546019, 0.21332341337203964, 0.14885443353652938, 0.16225531601905807, 0.15809970998764022, 0.19594362282752975], 'guest-s19': [0.7404648879766467, 0.7229531252980235, 0.621951318740845, 0.5606684455871584, 0.4091838965415957, 0.3498417208194735, 0.36155772900581384, 0.3566687474250796, 0.3949265847206118], 'guest-s18': [0.12262135827541343, 0.10495322281122199, 0.004811019539832984, 0.05613972163200387, 0.11450920915603646, 0.20399786448478707, 0.26509334063529977, 0.25187684512138375, 0.25653366661071786], 'guest-s16': [0.6853331773281099, 0.668469913184643, 0.5659581123590471, 0.5032683758735659, 0.44363801169395467, 0.2873218207359316, 0.30061088490486165, 0.29615415620803853, 0.3362948148250582], 'guest-s13': [0.6395212644934656, 0.6221148157715799, 0.4599839160442354, 0.40279162025451676, 0.312221617460251, 0.2477166662216188, 0.2609993228912355, 0.25670904016494767, 0.29504641985893265], 'guest-s20': [0.31977311575412726, 0.3019735743999479, 0.20233327949047064, 0.14183946752548193, 0.08485876822471594, 0.005014247655868775, 0.05238369798660303, 0.057110584735870606, 0.020399249553680665], 'guest-s12': [0.6488233056068422, 0.6312620487213136, 0.5307027246952059, 0.46951617264747636, 0.41201792621612565, 0.25795473122596757, 0.27130480074882524, 0.2668467011451723, 0.3047879781723024], 'guest-s9': [0.8455204463005064, 0.8282830438017843, 0.726696187853813, 0.604578295946121, 0.5149794614315031, 0.45139739871025064, 0.46389020442962625, 0.45936639070510843, 0.49850131034851053], 'guest-6': [0.9731375014185903, 0.8725147804021833, 0.8113425185680387, 0.7520162572860716, 0.6627952864170072, 0.6012518813610075, 0.614167701244354, 0.609640490055084, 0.6473819127082823], 'guest-s22': [0.833807668268681, 0.7337859110832219, 0.6729900972843175, 0.611047758340836, 0.5226560966968541, 0.4649185674190526, 0.47650147843360946, 0.4714696245193486, 0.508523686408997]}), 'Modded Circular Fingerprint': defaultdict(<class 'list'>, {'guest-3': [0.30129453325271616, 0.28827836894989023, 0.27609869623184213, 0.26466616773605356, 0.2487210907936097, 0.25491562271118173, 0.24717589998245248, 0.24610933446884165, 0.22249278211593637], 'guest-s10': [0.3556278262138368, 0.3358384881019594, 0.31925391292572036, 0.3035122666358949, 0.2828267130851747, 0.2777201447486879, 0.2708321127891542, 0.25671445465087905, 0.23172163105011], 'guest-6': [0.4725214948654173, 0.4649099817275999, 0.4583643784523008, 0.4449904074668882, 0.450494240760803, 0.45530558729171733, 0.4502314438819883, 0.45087034606933574, 0.4256485810279844], 'guest-s9': [0.33187795639038065, 0.3163766360282896, 0.30101884365081766, 0.28650314569473245, 0.2666501498222349, 0.26337296724319437, 0.25819564819335916, 0.24627930879592874, 0.21977169275283792], 'guest-s19': [0.2166070709228518, 0.20093259906768823, 0.18790475225448633, 0.16306892728805567, 0.16037461853027368, 0.1576144466400149, 0.14471522665023828, 0.13647017574310327, 0.10914538002014185], 'guest-s11': [0.008401153087615576, 0.004610660076141748, 0.016456785202026758, 0.028022232055664453, 0.043932082653046045, 0.039854886531830225, 0.04756850242614785, 0.04909223556518594, 0.0719143772125248], 'guest-1': [0.044128985404968235, 0.01885959625244138, 0.007396430969238255, 0.008576958179473904, 0.006068377494812038, 0.006509034633636501, 0.014102070331573513, 0.01571890592575076, 0.037190406322479275], 'guest-s18': [0.3963317117691041, 0.3982485375404359, 0.39781485414505013, 0.39657865381240853, 0.39326380109786996, 0.38182864999771127, 0.38134334897995004, 0.37391297435760507, 0.39524041032791146], 'guest-s14': [0.02891898345947208, 0.04179144096374454, 0.053973199844359776, 0.08114743423461857, 0.07598561239242496, 0.0751525778770441, 0.08284199428558292, 0.08395147514343204, 0.10729175996780338], 'guest-s12': [0.13042710685729997, 0.10158155822753923, 0.08808784151077287, 0.06931744480133073, 0.06883124971389787, 0.06582020187377946, 0.0545581426620485, 0.055001541614532634, 0.027411028385162517], 'guest-s15': [0.0132405748367308, 0.0037324438095094337, 0.018478990554809727, 0.03184652423858658, 0.05007481670379654, 0.04881370162963883, 0.050325931072235264, 0.057866097450256504, 0.08308124637603775], 'guest-s16': [0.18410541105270406, 0.17028339195251485, 0.1591281442642214, 0.14892925310134908, 0.13685186195373555, 0.13482637691497823, 0.1271173505783083, 0.12363226699829122, 0.10423560428619405], 'guest-4': [0.06353937149047884, 0.05108062982559236, 0.041828558444977126, 0.03380875349044832, 0.025109455585480056, 0.025846526622772537, 0.0264513945579532, 0.021449313163757644, 0.02049581766128572], 'guest-s13': [0.11542290544509903, 0.09793359136581437, 0.08337843513488785, 0.07000875568389908, 0.051890076160431065, 0.05200493431091324, 0.049805046081543125, 0.04295969104766861, 0.016749561786651768], 'guest-s22': [0.3201845126152043, 0.30877135562896774, 0.300363822460175, 0.29386131334304855, 0.2787198858261113, 0.2812332348823552, 0.28073124456405685, 0.2760623531341557, 0.24841330814361617], 'guest-8': [0.27940554094314596, 0.27874237966537496, 0.27806646299362203, 0.2751724786758425, 0.2806215949058535, 0.2656902141571047, 0.25254578065872213, 0.2508727378845217, 0.24206954908370992], 'guest-7': [0.5260914373397827, 0.5258260774612427, 0.524762372970581, 0.5221361923217773, 0.5279452013969421, 0.5140848565101623, 0.5020804214477539, 0.5004200148582458, 0.4922967958450317], 'guest-2': [0.1053256936073308, 0.09248572063446092, 0.08029406738281297, 0.06892710399627733, 0.05319296789169359, 0.058318132877350326, 0.05145495605468797, 0.050335223197937484, 0.02707194757461595], 'guest-s21': [0.34677875137329073, 0.34596222734451265, 0.3422612557411191, 0.3473964939117429, 0.3327041277885434, 0.3197649726867673, 0.3180051455497739, 0.30933916664123506, 0.33077609634399385], 'guest-s20': [0.20500186777114893, 0.2011523613929751, 0.1969639430046084, 0.20303640460968042, 0.19018135166168237, 0.17732212638855005, 0.1774028906822207, 0.1707328925132754, 0.18922231292724634], 'guest-5': [0.08022745370864826, 0.08849682331085162, 0.09547324895858722, 0.1032625627517696, 0.10137196302413898, 0.0995299410820003, 0.10347725868225055, 0.1032327604293819, 0.11879469871520953]})}, 'pure': {'Circular Fingerprint': defaultdict(<class 'list'>, {'guest-3': [0.2897544779777528, 0.27086105728149423, 0.2543058671951295, 0.256784287929535, 0.251831678390503, 0.24282702589035043, 0.2336592354774476, 0.22598907136917123, 0.21617790842056284], 'guest-5': [0.06064780473709064, 0.07836898088455158, 0.09186651229858356, 0.08690555810928302, 0.09011032104492145, 0.09263463735580402, 0.09724642753601032, 0.10013248443603473, 0.10329468965530353], 'guest-s11': [0.0028901124000553224, 0.02196300268173257, 0.03861016273498574, 0.03622460603714028, 0.04077148675918618, 0.049786689281464014, 0.06004941701889077, 0.06697255611419717, 0.07645380735397378], 'guest-s19': [0.22217229700088525, 0.19547013139724756, 0.17457804775238062, 0.17288456058502222, 0.15839437341690088, 0.14631376361846948, 0.13581333255767847, 0.124514258861542, 0.11189214086532617], 'guest-s21': [0.34276735877990694, 0.3415542254447934, 0.3421142110824582, 0.31725394821166963, 0.3091384778022763, 0.30668687915801973, 0.3031708607673642, 0.3009999999999997, 0.3009999999999997], 'guest-s14': [0.04124552202224674, 0.060138942718505284, 0.07669413280487003, 0.07421571207046451, 0.0791683216094965, 0.08817297410964908, 0.09062606287002506, 0.09734076452255191, 0.10501092863082828], 'guest-s13': [0.10877734518051163, 0.08530837392807022, 0.06445103979110733, 0.06303137636184708, 0.05547088479995743, 0.04388892745971695, 0.03551244831085221, 0.027318359375000156, 0.024567008972168125], 'guest-6': [0.4802266469001768, 0.46738077306747416, 0.45464403533935527, 0.4683402290344236, 0.4610884299278257, 0.4539166798591612, 0.4487886538505552, 0.4390208830833433, 0.43053717517852763], 'guest-s15': [0.007261513710021816, 0.015505732059478916, 0.03636092042922989, 0.04348486757278458, 0.054600955009460606, 0.062047244071960606, 0.06985318756103531, 0.07237619256973282, 0.07880669927597062], 'guest-2': [0.09275447797775316, 0.05730586719512987, 0.059784287929535385, 0.0548316783905034, 0.045827025890350814, 0.04337393712997484, 0.03665923547744798, 0.028989071369171615, 0.019177908420563217], 'guest-s9': [0.32746810674667337, 0.3029841876029966, 0.2811765170097349, 0.2783926224708555, 0.2616767978668211, 0.24813241720199564, 0.23486644983291605, 0.22126407384872415, 0.2076918578147886], 'guest-s16': [0.18257452535629293, 0.16111744928360006, 0.1439485101699831, 0.14386601734161397, 0.13665325927734395, 0.12196697282791158, 0.11406333732605001, 0.10589738178253194, 0.09296049165725728], 'guest-s22': [0.33547346162796066, 0.3191091852188115, 0.30368016529083297, 0.3092759089469914, 0.302683694839478, 0.29204110670089767, 0.2818776803016667, 0.27045218515396163, 0.25854419040679977], 'guest-s20': [0.19382581806182886, 0.21899429655075098, 0.20551256036758447, 0.19754240608215357, 0.19665811157226587, 0.19432965612411524, 0.19048420286178613, 0.18905249929428125, 0.18822369670867944], 'guest-s18': [0.3864086112976075, 0.3894342026710511, 0.3734851918220521, 0.36642865753173837, 0.36524216747283944, 0.3638092122077943, 0.3596688947677613, 0.3619470438957215, 0.36178617095947274], 'guest-s12': [0.1262635436058046, 0.10401324892044084, 0.08432666921615617, 0.08399043941497819, 0.08032284641265885, 0.05903701448440568, 0.04721079730987565, 0.034689351558685466, 0.0226093974113466], 'guest-4': [0.06780605077743562, 0.048515305519104324, 0.03342132329940828, 0.032133803367615066, 0.028054044246673904, 0.02173166036605867, 0.017302796840668044, 0.012518868446350417, 0.0007472491264346459], 'guest-s10': [0.35348474121093765, 0.3256692800521852, 0.30091600751876846, 0.2943374428749086, 0.28227876758575454, 0.2666093025207521, 0.25284110641479507, 0.239709011077881, 0.2201964173316957], 'guest-1': [0.032693417072296116, 0.012681753635406467, 0.004500000476837185, 0.001812784671783474, 0.006191341876983669, 0.014883010387420681, 0.018958716392517116, 0.03138640403747561, 0.03943905115127566], 'guest-8': [0.2725542254447939, 0.2731142110824587, 0.24825388860702535, 0.24013847780227682, 0.23768687915802023, 0.2341708607673647, 0.2320000000000002, 0.2320484585762026, 0.2320000000000002], 'guest-7': [0.5209552454948425, 0.5224914956092834, 0.4981554555892944, 0.4904739665985107, 0.4883521008491516, 0.4858997869491577, 0.48103378295898436, 0.48362777709960936, 0.4828789639472961]}), 'Graph Conv Featurizer': defaultdict(<class 'list'>, {'guest-7': [0.2795079243183136, 0.22264439284801485, 0.1931357425451279, 0.16442226290702822, 0.11771744161844255, 0.10451721817255022, 0.06415214434266092, 0.05702820092439653, 0.01696325138211252], 'guest-s13': [0.9508363316059114, 0.8878490338325502, 0.858081386446953, 0.8296013484001161, 0.7791792610883714, 0.7649787375926973, 0.7244890416264536, 0.7156028235554697, 0.6740282336473467], 'guest-5': [0.7720844256877903, 0.7077491539716725, 0.6769646215438847, 0.646852176189423, 0.594594586193562, 0.5786100882291798, 0.5269262897968296, 0.48655206665396733, 0.46938455618917985], 'guest-4': [0.8918556725978855, 0.8276793217659, 0.7974068826437, 0.7672867333889011, 0.7175439378619197, 0.6600907599925998, 0.6512895791232589, 0.6089527948200706, 0.589368565604091], 'guest-s14': [0.8041475098133093, 0.7410328816175467, 0.7127712945938116, 0.6328884940147406, 0.6187088172435766, 0.5776324588358408, 0.569184770762921, 0.5281002800464636, 0.5101062282472855], 'guest-s18': [0.40858726286888114, 0.3518602856397628, 0.3227147468328475, 0.29411381566524497, 0.24849511021375648, 0.1941597321033477, 0.18702669897675506, 0.14697890439629546, 0.1274900537878274], 'guest-6': [1.2739264776706694, 1.186990406155586, 1.1590960880517958, 1.1146702280044554, 1.1017448788285253, 1.0599354615211485, 1.0528827940821646, 1.0122727451622484, 0.9922939276099203], 'guest-s22': [1.1419763104915623, 1.0856045024394994, 1.0558732734918599, 1.02619258928299, 0.9786654772162442, 0.9653864936828618, 0.9168844768702988, 0.875409680038691, 0.8568549981266265], 'guest-8': [0.5361334316730497, 0.4775815837383268, 0.4476397268772123, 0.4185427062511442, 0.3701413579583166, 0.3570740379691122, 0.31791163313388804, 0.26897985938191393, 0.25036905969679335], 'guest-s21': [0.463149755239487, 0.4056528499126437, 0.37572808468341856, 0.3465744843482974, 0.29910137408971815, 0.2859807004928592, 0.24617614501714735, 0.19831595101952582, 0.17917993010580568], 'guest-s10': [1.187196633577347, 1.1229013416767122, 1.0919396791458131, 1.062874487400055, 1.002280293762684, 0.9595080453753473, 0.9511624079048635, 0.9103031631410123, 0.8908736564069988], 'guest-s11': [0.8312055742740627, 0.7696349149942394, 0.7409722334146496, 0.7127067273855205, 0.6642488813400265, 0.6507140746712681, 0.6089008948206898, 0.6008176034688946, 0.5592257431149479], 'guest-s19': [1.0237605789899829, 0.9637701133489611, 0.9073312202692034, 0.8580770636200907, 0.8458062852025034, 0.8043048674464228, 0.7963230306506159, 0.7558719063401225, 0.7362265208959582], 'guest-s16': [1.0064824073314669, 0.9114939867258074, 0.8813208638429644, 0.8323420508503916, 0.8189534171223642, 0.7755161448121073, 0.7668285219669344, 0.7244098967611792, 0.7032034638077023], 'guest-s15': [0.8539977660179137, 0.7904399474859236, 0.7320442190170287, 0.6799616729617117, 0.6656183441877364, 0.625909953355789, 0.6166024869084357, 0.5754258436858652, 0.5586393559128044], 'guest-s20': [0.5963852634429929, 0.536562897801399, 0.5083124270439145, 0.47987104260921454, 0.4306659107804296, 0.4183571865558622, 0.3769641970992086, 0.3687690203785894, 0.30854775810241675], 'guest-3': [1.1391858139038087, 1.0766262539625169, 1.0480398365259171, 1.0193181463479997, 0.9522925966382028, 0.9116787218451501, 0.9030453019738198, 0.8624164813160897, 0.8444731679707767], 'guest-1': [0.8646318924427032, 0.8022518765926361, 0.7733365905284881, 0.6970250916481018, 0.6841493335366249, 0.6416735251247883, 0.6338106815516948, 0.5918807809054851, 0.5700852454453706], 'guest-2': [0.9330272920131688, 0.8706007249355321, 0.842275867581368, 0.8138707823753362, 0.7640012077689176, 0.7501249335408215, 0.7086293719410901, 0.7003570817112927, 0.6393217894881968], 'guest-s12': [0.9065358784198763, 0.8783663358688356, 0.8500124808549883, 0.7987135123610498, 0.7835920225977899, 0.7420030828714372, 0.7336809072792532, 0.692419554680586, 0.6735834792405369], 'guest-s9': [1.101096758842468, 1.0722888207435606, 1.0432884788513181, 0.995126845538616, 0.9809625095129011, 0.9383872246742246, 0.9302282950282095, 0.8882821111381052, 0.8667874077707527]})}})\n",
            "defaultdict(<class 'dict'>, {'vm2': {'Modded Graph Conv Featurizer': defaultdict(<class 'list'>, {'guest-6': [0.9906717797517774], 'guest-s22': [0.8517005653977399], 'guest-3': [0.79992172652483], 'guest-5': [0.42122309982776684], 'guest-1': [0.43514150500297544], 'guest-s13': [0.5213399240970613], 'guest-s9': [0.6649402773380277], 'guest-s14': [0.30565067934989987], 'guest-s19': [0.49654955363273645], 'guest-s15': [0.30407705807685836], 'guest-s16': [0.35371439146995565], 'guest-s12': [0.32142434978485124], 'guest-4': [0.1693739151954654], 'guest-s20': [0.06600014066696192], 'guest-s11': [0.13909485697746238], 'guest-7': [0.39055741906166075], 'guest-2': [0.23449354839324998], 'guest-8': [0.14252824258804342], 'guest-s21': [0.17697444653511019], 'guest-s10': [0.5266485128402711], 'guest-s18': [0.21926782941818246]}), 'Modded Circular Fingerprint': defaultdict(<class 'list'>, {'guest-s20': [0.20568678474426294], 'guest-5': [0.06886436462402301], 'guest-1': [0.031053395271301243], 'guest-s12': [0.11674128437042253], 'guest-s21': [0.3452906618118283], 'guest-6': [0.4624617209434507], 'guest-s14': [0.06536060762405338], 'guest-s19': [0.18272546625137354], 'guest-s18': [0.4061122975349427], 'guest-s16': [0.1385924367904665], 'guest-3': [0.25402107620239267], 'guest-s11': [0.03995895624160806], 'guest-2': [0.05912768316268968], 'guest-s22': [0.28979401159286544], 'guest-s15': [0.05710059499740616], 'guest-s10': [0.26386522388458267], 'guest-s9': [0.24607629537582376], 'guest-s13': [0.041599036216735996], 'guest-4': [0.004117355346680007], 'guest-8': [0.26404727172851583], 'guest-7': [0.5138408946990967]})}, 'pure': {'Circular Fingerprint': defaultdict(<class 'list'>, {'guest-8': [0.27376735877990743], 'guest-7': [0.5212405133247375], 'guest-s20': [0.2137900362014773], 'guest-2': [0.07386105728149461], 'guest-s18': [0.39637736892700204], 'guest-s15': [0.036146999359131016], 'guest-6': [0.4706319680213926], 'guest-4': [0.03691546678543123], 'guest-s9': [0.27506733894348123], 'guest-s19': [0.17166659927368189], 'guest-s16': [0.13139171886444112], 'guest-s12': [0.07009641790390031], 'guest-3': [0.24037393712997446], 'guest-s11': [0.05343646049499551], 'guest-1': [0.025593845844268825], 'guest-s22': [0.2839208679199223], 'guest-s21': [0.3010484585762021], 'guest-s10': [0.23377501106262222], 'guest-s14': [0.11482209157943668], 'guest-s13': [0.01798266267776505], 'guest-5': [0.1151498746871944]}), 'Graph Conv Featurizer': defaultdict(<class 'list'>, {'guest-s12': [0.9701346900463106], 'guest-s9': [1.1636258459091184], 'guest-s16': [0.9423434137105944], 'guest-6': [1.217028226494789], 'guest-s19': [0.9357477197647097], 'guest-s15': [0.7606002231836317], 'guest-1': [0.7442081731557846], 'guest-s14': [0.6841590981483465], 'guest-s10': [1.0145651910305025], 'guest-3': [0.9676339232325555], 'guest-4': [0.7033447778224948], 'guest-s18': [0.23518643611669532], 'guest-s22': [0.924907519102097], 'guest-5': [0.5361726242303853], 'guest-s21': [0.2389937182664874], 'guest-8': [0.3100565530657766], 'guest-s20': [0.32831900992989516], 'guest-2': [0.659182044088841], 'guest-s13': [0.6556932842582466], 'guest-s11': [0.5382332126051184], 'guest-7': [0.0024178489297628225]})}})\n"
          ]
        }
      ]
    },
    {
      "cell_type": "code",
      "source": [
        "# convert the extracted data into something that matplot lib likes\n",
        "import matplotlib.pyplot as plt\n",
        "from sklearn.metrics import mean_squared_error\n",
        "import matplotlib.ticker as ticker\n",
        "import matplotlib.lines as mlines\n",
        "import numpy as np\n",
        "\n",
        "# to get rid of negative signs in y axis, we'll use tick formatter\n",
        "@ticker.FuncFormatter\n",
        "def major_formatter(x, pos):\n",
        "    label = str(round(abs(-x), 2)) if x < 0 else str(round(x,2))\n",
        "    return label\n",
        "\n",
        "# model lookup info for this figure\n",
        "model_lookup = {\n",
        "        'pure': {\n",
        "            'Circular Fingerprint': 'DNN',\n",
        "            'Graph Conv Featurizer': 'GCN',\n",
        "            'Modded Graph Conv Featurizer': 'PGGCN-Lite',\n",
        "            'Modded Circular Fingerprint': 'PGDNN-Lite'\n",
        "        },\n",
        "        'vm2': {\n",
        "            'Circular Fingerprint': 'Min DNN',\n",
        "            'Graph Conv Featurizer': 'Min GCN',\n",
        "            'Modded Graph Conv Featurizer': 'PGGCN',\n",
        "            'Modded Circular Fingerprint': 'PGDNN'\n",
        "        }\n",
        "}\n",
        "\n",
        "# Generate a new figure\n",
        "labels = []\n",
        "x = []\n",
        "y = []\n",
        "xtick_to_system = {}\n",
        "figures = {}\n",
        "\n",
        "# setup for this collection run\n",
        "for index, ( structure, expected_val ) in enumerate( experimental_data.items() ):\n",
        "  x.append(index)\n",
        "  labels.append(structure)\n",
        "  xtick_to_system[structure] = index\n",
        "  y.append(0)\n",
        "\n",
        "# desired pairs\n",
        "pairs = [\n",
        "    [ \n",
        "        ('pure', 'Circular Fingerprint'),\n",
        "        ('vm2', 'Modded Circular Fingerprint')\n",
        "    ],\n",
        "    #\n",
        "    [\n",
        "        ('pure', 'Graph Conv Featurizer'),\n",
        "        ('vm2', 'Modded Graph Conv Featurizer')\n",
        "    ]\n",
        "]\n",
        "\n",
        "# datasets\n",
        "use_data = [\n",
        "    ('Train', extracted_data_by_guest_train ),\n",
        "    ('Test', extracted_data_by_guest_test)\n",
        "]\n",
        "\n",
        "# Generate the Error by Guest Plots\n",
        "for (data_str, data) in use_data:\n",
        "  for pair in pairs:\n",
        "    for dock_type, model_type in pair:\n",
        "      # only create a NEW plot on non-modified features\n",
        "      if 'Modded' in model_type:\n",
        "        print(f'MODDED! loaded previously generated figure {model_type}')\n",
        "        if 'Circular' in model_type:\n",
        "          fig, ax = figures['Circular Fingerprint']\n",
        "        elif 'Graph Conv Featurizer' in model_type:\n",
        "          fig, ax = figures['Graph Conv Featurizer']\n",
        "      else:\n",
        "        # plot using matplot lib\n",
        "        # we'll collect data per fold as well to graph out!\n",
        "        fig, ax = plt.subplots()\n",
        "        ax.legend()\n",
        "        ax.grid(True)\n",
        "        ax.yaxis.set_major_formatter(major_formatter)\n",
        "        figures[model_type] = (fig, ax)\n",
        "        plt.xticks(x, labels, rotation='vertical', label='physical')\n",
        "        ax.set_ylabel('RMSE(kcal/mol)')\n",
        "        ax.set_xlabel('Host-Guest System')\n",
        "        title = 'Model 1' if 'Circular Fingerprint' in model_type else 'Model 2'\n",
        "        ax.set_title(f'{title} {data_str} Entropy Error vs. Host-Guest System')\n",
        "\n",
        "        print( f'created figure for {model_type}' )\n",
        "\n",
        "      for id, value in data[dock_type][model_type].items():\n",
        "        y[ xtick_to_system[id] ] = numpy.average(value) if 'Modded' not in model_type else -1*numpy.average(value)\n",
        "\n",
        "      print(model_lookup[dock_type][model_type])\n",
        "      ax.scatter(x,y,label=model_lookup[dock_type][model_type])\n",
        "\n",
        "    for model_type, (fig, ax) in figures.items():\n",
        "      ax.legend()\n",
        "      fig.savefig(f'error_by_guest_{data_str}_{model_type}.png')\n",
        "\n",
        "# Finally a version with both bits of data on one plot\n",
        "\n",
        "# empty out figure info vars\n",
        "figures = {}\n",
        "\n",
        "for fig_index, pair in enumerate( pairs ):\n",
        "  # plot using matplot lib\n",
        "  # we'll collect data per fold as well to graph out!\n",
        "  plt.xticks(x, labels, rotation='vertical', label='physical')\n",
        "  fig, ax = plt.subplots()\n",
        "  plt.xticks(x, labels, rotation='vertical', label='physical')\n",
        "  ax.grid(True)\n",
        "  # enable legend and limiting of axesE\n",
        "  ax.yaxis.set_major_formatter(major_formatter)\n",
        "  figures[fig_index] = (fig, ax)\n",
        "\n",
        "  for dock_type, model_type in pair:\n",
        "    \n",
        "    for index, ( data_str, data ) in enumerate(use_data):\n",
        "      # only create a NEW plot on non-modified features\n",
        "      for id in experimental_data.keys():\n",
        "        val = numpy.average(data[dock_type][model_type][id])\n",
        "        y[ xtick_to_system[id] ] = val if 'Modded' not in model_type else -1*val\n",
        "\n",
        "        ax.set_xlabel(f'{model_lookup[dock_type][model_type]} RMSE(kcal/mol)')\n",
        "\n",
        "      if index == 0:\n",
        "        ax.scatter(x,y, label=f'{model_lookup[dock_type][model_type]} Train Set', marker='x')\n",
        "      else: # index != 0\n",
        "        ax.scatter(x,y, label=f'{model_lookup[dock_type][model_type]} Test Set', marker='o')\n",
        "    \n",
        "  print( f'created figure for {model_lookup[dock_type][model_type]}' )\n",
        "\n",
        "for fig_index, (fig, ax) in figures.items():\n",
        "  if fig_index == 0:\n",
        "    ax.set_title(f'Model 1 Entropy Error vs Host-Guest System')\n",
        "    ax.set_ylim(ymin=-0.6, ymax=0.6)\n",
        "  else: # fig_index != 0\n",
        "    ax.set_title(f'Model 2 Entropy Error vs Host-Guest System')\n",
        "    ax.set_ylim(ymin=-1.5, ymax=1.5)\n",
        "\n",
        "  # enable legend and limiting of axes\n",
        "  ax.set_xlim(xmin=-1, xmax=22)\n",
        "  ax.set_ylabel('RMSE(kcal/mol)')\n",
        "  ax.legend()\n",
        "  #ax.add_line(mlines.Line2D([0, 21], [0,0],color='black'))\n",
        "  fig.savefig(f'error_{fig_index}.png')"
      ],
      "metadata": {
        "colab": {
          "base_uri": "https://localhost:8080/",
          "height": 1000
        },
        "id": "t3yibsY-20lp",
        "outputId": "a6c609d5-b97c-4822-e165-88a47225a62f"
      },
      "execution_count": 30,
      "outputs": [
        {
          "output_type": "stream",
          "name": "stderr",
          "text": [
            "WARNING:matplotlib.legend:No handles with labels found to put in legend.\n",
            "/usr/local/lib/python3.7/dist-packages/numpy/lib/function_base.py:380: RuntimeWarning: Mean of empty slice.\n",
            "  avg = a.mean(axis)\n",
            "/usr/local/lib/python3.7/dist-packages/numpy/core/_methods.py:189: RuntimeWarning: invalid value encountered in double_scalars\n",
            "  ret = ret.dtype.type(ret / rcount)\n",
            "WARNING:matplotlib.legend:No handles with labels found to put in legend.\n"
          ]
        },
        {
          "output_type": "stream",
          "name": "stdout",
          "text": [
            "created figure for Circular Fingerprint\n",
            "DNN\n",
            "MODDED! loaded previously generated figure Modded Circular Fingerprint\n",
            "PGDNN\n",
            "created figure for Graph Conv Featurizer\n",
            "GCN\n",
            "MODDED! loaded previously generated figure Modded Graph Conv Featurizer\n",
            "PGGCN\n"
          ]
        },
        {
          "output_type": "stream",
          "name": "stderr",
          "text": [
            "WARNING:matplotlib.legend:No handles with labels found to put in legend.\n"
          ]
        },
        {
          "output_type": "stream",
          "name": "stdout",
          "text": [
            "created figure for Circular Fingerprint\n",
            "DNN\n",
            "MODDED! loaded previously generated figure Modded Circular Fingerprint\n",
            "PGDNN\n"
          ]
        },
        {
          "output_type": "stream",
          "name": "stderr",
          "text": [
            "WARNING:matplotlib.legend:No handles with labels found to put in legend.\n"
          ]
        },
        {
          "output_type": "stream",
          "name": "stdout",
          "text": [
            "created figure for Graph Conv Featurizer\n",
            "GCN\n",
            "MODDED! loaded previously generated figure Modded Graph Conv Featurizer\n",
            "PGGCN\n",
            "created figure for PGDNN\n",
            "created figure for PGGCN\n"
          ]
        },
        {
          "output_type": "display_data",
          "data": {
            "text/plain": [
              "<Figure size 432x288 with 1 Axes>"
            ],
            "image/png": "[encoded data removed]"
          },
          "metadata": {
            "needs_background": "light"
          }
        },
        {
          "output_type": "display_data",
          "data": {
            "text/plain": [
              "<Figure size 432x288 with 1 Axes>"
            ],
            "image/png": "[encoded data removed]"
          },
          "metadata": {
            "needs_background": "light"
          }
        },
        {
          "output_type": "display_data",
          "data": {
            "text/plain": [
              "<Figure size 432x288 with 1 Axes>"
            ],
            "image/png": "[encoded data removed]"
          },
          "metadata": {
            "needs_background": "light"
          }
        },
        {
          "output_type": "display_data",
          "data": {
            "text/plain": [
              "<Figure size 432x288 with 1 Axes>"
            ],
            "image/png": "[encoded data removed]"
          },
          "metadata": {
            "needs_background": "light"
          }
        },
        {
          "output_type": "display_data",
          "data": {
            "text/plain": [
              "<Figure size 432x288 with 1 Axes>"
            ],
            "image/png": "[encoded data removed]"
          },
          "metadata": {
            "needs_background": "light"
          }
        },
        {
          "output_type": "display_data",
          "data": {
            "text/plain": [
              "<Figure size 432x288 with 1 Axes>"
            ],
            "image/png": "[encoded data removed]"
          },
          "metadata": {
            "needs_background": "light"
          }
        }
      ]
    },
    {
      "cell_type": "markdown",
      "source": [
        "We'll do a correlation plot "
      ],
      "metadata": {
        "id": "UquBBZoWefNC"
      }
    },
    {
      "cell_type": "code",
      "source": [
        "# convert the extracted data into something that matplot lib likes\n",
        "import matplotlib.pyplot as plt\n",
        "from sklearn.metrics import mean_squared_error\n",
        "import matplotlib.ticker as ticker\n",
        "import matplotlib.lines as mlines\n",
        "import numpy as np\n",
        "\n",
        "# to get rid of negative signs in y axis, we'll use tick formatter\n",
        "@ticker.FuncFormatter\n",
        "def major_formatter(x, pos):\n",
        "    label = str(round(abs(-x), 2)) if x < 0 else str(round(x,2))\n",
        "    return label\n",
        "\n",
        "# model lookup info for this figure\n",
        "model_lookup = {\n",
        "        'pure': {\n",
        "            'Circular Fingerprint': 'DNN',\n",
        "            'Graph Conv Featurizer': 'GCN',\n",
        "            'Modded Graph Conv Featurizer': 'PGGCN-Lite',\n",
        "            'Modded Circular Fingerprint': 'PGDNN-Lite'\n",
        "        },\n",
        "        'vm2': {\n",
        "            'Circular Fingerprint': 'Min DNN',\n",
        "            'Graph Conv Featurizer': 'Min GCN',\n",
        "            'Modded Graph Conv Featurizer': 'PGGCN',\n",
        "            'Modded Circular Fingerprint': 'PGDNN'\n",
        "        }\n",
        "}\n",
        "\n",
        "# Generate a new figure\n",
        "labels = []\n",
        "x = []\n",
        "y = []\n",
        "xtick_to_system = {}\n",
        "figures = {}\n",
        "\n",
        "# setup for this collection run\n",
        "for index, ( structure, expected_val ) in enumerate( experimental_data.items() ):\n",
        "  x.append(index)\n",
        "  labels.append(structure)\n",
        "  xtick_to_system[structure] = index\n",
        "  y.append(0)\n",
        "\n",
        "# desired pairs\n",
        "pairs = [\n",
        "    [ \n",
        "        ('pure', 'Circular Fingerprint'),\n",
        "        ('vm2', 'Modded Circular Fingerprint')\n",
        "    ],\n",
        "    #\n",
        "    [\n",
        "        ('pure', 'Graph Conv Featurizer'),\n",
        "        ('vm2', 'Modded Graph Conv Featurizer')\n",
        "    ]\n",
        "]\n",
        "\n",
        "# datasets\n",
        "use_data = [\n",
        "    ('Train', extracted_data_by_guest_train ),\n",
        "    ('Test', extracted_data_by_guest_test)\n",
        "]\n",
        "\n",
        "# Generate the corelation plots based on the pairs above\n",
        "for (data_str, data) in use_data:\n",
        "  # empty out figure info vars\n",
        "  figures = {}\n",
        "\n",
        "  for pair in pairs:\n",
        "    x = []\n",
        "    y = []\n",
        "    for index, (dock_type, model_type) in enumerate(pair):\n",
        "      print(index)\n",
        "      # only create a NEW plot on non-modified features\n",
        "      if index == 1:\n",
        "        print(f'MODDED! loaded previously generated figure {model_type}')\n",
        "        if 'Circular' in model_type:\n",
        "          fig, ax = figures['Circular Fingerprint']\n",
        "        elif 'Graph Conv Featurizer' in model_type:\n",
        "          fig, ax = figures['Graph Conv Featurizer']\n",
        "\n",
        "        for id in experimental_data.keys():\n",
        "          val = numpy.average(data[dock_type][model_type][id])\n",
        "          x.append(val)\n",
        "\n",
        "        ax.set_xlabel(f'{model_lookup[dock_type][model_type]} RMSE(kcal/mol)')\n",
        "\n",
        "      else: # index == 0\n",
        "        # plot using matplot lib\n",
        "        # we'll collect data per fold as well to graph out!\n",
        "        fig, ax = plt.subplots()\n",
        "        ax.legend()\n",
        "        ax.grid(True)\n",
        "        ax.yaxis.set_major_formatter(major_formatter)\n",
        "        figures[model_type] = (fig, ax)\n",
        "        \n",
        "        ax.set_ylabel(f'{model_lookup[dock_type][model_type]} RMSE(kcal/mol)')\n",
        "        title = 'Model 1' if 'Circular Fingerprint' in model_type else 'Model 2'\n",
        "        ax.set_title(f'{title} {data_str} Correlation Plot')\n",
        "\n",
        "        for id in experimental_data.keys():\n",
        "          val = numpy.average(data[dock_type][model_type][id])\n",
        "          y.append(val)\n",
        "\n",
        "        print( f'created figure for {model_type}' )\n",
        "\n",
        "    print(model_lookup[dock_type][model_type])\n",
        "    ax.scatter(x,y)\n",
        "\n",
        "    for model_type, (fig, ax) in figures.items():\n",
        "      ax.add_line(mlines.Line2D([0, 1], [0,1], linestyle='--',color='black'))\n",
        "      plt.ylim([0, 0.9])\n",
        "      plt.xlim([0, 0.9])\n",
        "      fig.savefig(f'corel_{data_str}_{model_type}.png')\n",
        "\n",
        "# Finally a version with both bits of data on one plot\n",
        "\n",
        "# empty out figure info vars\n",
        "figures = {}\n",
        "\n",
        "for fig_index, pair in enumerate( pairs ):\n",
        "  x_train = []\n",
        "  y_train = []\n",
        "  x_test = []\n",
        "  y_test = []\n",
        "  \n",
        "  # plot using matplot lib\n",
        "  # we'll collect data per fold as well to graph out!\n",
        "  fig, ax = plt.subplots()\n",
        "  ax.grid(True)\n",
        "  # enable legend and limiting of axesE\n",
        "  ax.yaxis.set_major_formatter(major_formatter)\n",
        "  figures[fig_index] = (fig, ax)\n",
        "\n",
        "  title = 'Model 1' if fig_index == 0 else 'Model 2'\n",
        "  ax.set_title(f'{title} Correlation Plot')\n",
        "\n",
        "  for index, ( dock_type, model_type ) in  enumerate( pair ):\n",
        "\n",
        "    for data_str, data in use_data:\n",
        "      # only create a NEW plot on non-modified features\n",
        "      if index == 1:\n",
        "        for id in experimental_data.keys():\n",
        "          val = numpy.average(data[dock_type][model_type][id])\n",
        "          x_train.append(val) if data_str == 'Train' else x_test.append(val)\n",
        "\n",
        "        ax.set_xlabel(f'{model_lookup[dock_type][model_type]} RMSE(kcal/mol)')\n",
        "\n",
        "      else: # index == 0\n",
        "        ax.set_ylabel(f'{model_lookup[dock_type][model_type]} RMSE(kcal/mol)')\n",
        "\n",
        "        for id in experimental_data.keys():\n",
        "          val = numpy.average(data[dock_type][model_type][id])\n",
        "          y_train.append(val) if data_str == 'Train' else y_test.append(val)\n",
        "  \n",
        "  ax.scatter(x_train,y_train, label='Train Set')\n",
        "  ax.scatter(x_test,y_test, label='Test Set')\n",
        "  print( f'created figure for {model_lookup[dock_type][model_type]}' )\n",
        "\n",
        "for fig_index, (fig, ax) in figures.items():\n",
        "  if fig_index == 0:\n",
        "    # enable legend and limiting of axes\n",
        "    ax.set_ylim(ymin=0, ymax=0.5)\n",
        "    ax.set_xlim(xmin=0, xmax=0.5)\n",
        "  else:\n",
        "    # enable legend and limiting of axes\n",
        "    ax.set_ylim(ymin=0, ymax=0.9)\n",
        "    ax.set_xlim(xmin=0, xmax=0.9)\n",
        "  ax.legend()\n",
        "  ax.add_line(mlines.Line2D([0, 1], [0,1], linestyle='--',color='black'))\n",
        "  fig.savefig(f'corel_{data_str}_{fig_index}.png')"
      ],
      "metadata": {
        "colab": {
          "base_uri": "https://localhost:8080/",
          "height": 1000
        },
        "id": "S1nDq5g_diZI",
        "outputId": "9fa176d3-773c-479d-9c9b-ac5cfddd9509"
      },
      "execution_count": 25,
      "outputs": [
        {
          "output_type": "stream",
          "name": "stderr",
          "text": [
            "WARNING:matplotlib.legend:No handles with labels found to put in legend.\n",
            "/usr/local/lib/python3.7/dist-packages/numpy/lib/function_base.py:380: RuntimeWarning: Mean of empty slice.\n",
            "  avg = a.mean(axis)\n",
            "/usr/local/lib/python3.7/dist-packages/numpy/core/_methods.py:189: RuntimeWarning: invalid value encountered in double_scalars\n",
            "  ret = ret.dtype.type(ret / rcount)\n",
            "WARNING:matplotlib.legend:No handles with labels found to put in legend.\n"
          ]
        },
        {
          "output_type": "stream",
          "name": "stdout",
          "text": [
            "0\n",
            "created figure for Circular Fingerprint\n",
            "1\n",
            "MODDED! loaded previously generated figure Modded Circular Fingerprint\n",
            "PGDNN\n",
            "0\n",
            "created figure for Graph Conv Featurizer\n",
            "1\n",
            "MODDED! loaded previously generated figure Modded Graph Conv Featurizer\n",
            "PGGCN\n"
          ]
        },
        {
          "output_type": "stream",
          "name": "stderr",
          "text": [
            "WARNING:matplotlib.legend:No handles with labels found to put in legend.\n",
            "WARNING:matplotlib.legend:No handles with labels found to put in legend.\n"
          ]
        },
        {
          "output_type": "stream",
          "name": "stdout",
          "text": [
            "0\n",
            "created figure for Circular Fingerprint\n",
            "1\n",
            "MODDED! loaded previously generated figure Modded Circular Fingerprint\n",
            "PGDNN\n",
            "0\n",
            "created figure for Graph Conv Featurizer\n",
            "1\n",
            "MODDED! loaded previously generated figure Modded Graph Conv Featurizer\n",
            "PGGCN\n",
            "created figure for PGDNN\n",
            "created figure for PGGCN\n"
          ]
        },
        {
          "output_type": "display_data",
          "data": {
            "text/plain": [
              "<Figure size 432x288 with 1 Axes>"
            ],
            "image/png": "[encoded data removed]"
          },
          "metadata": {
            "needs_background": "light"
          }
        },
        {
          "output_type": "display_data",
          "data": {
            "text/plain": [
              "<Figure size 432x288 with 1 Axes>"
            ],
            "image/png": "[encoded data removed]"
          },
          "metadata": {
            "needs_background": "light"
          }
        },
        {
          "output_type": "display_data",
          "data": {
            "text/plain": [
              "<Figure size 432x288 with 1 Axes>"
            ],
            "image/png": "[encoded data removed]"
          },
          "metadata": {
            "needs_background": "light"
          }
        },
        {
          "output_type": "display_data",
          "data": {
            "text/plain": [
              "<Figure size 432x288 with 1 Axes>"
            ],
            "image/png": "[encoded data removed]"
          },
          "metadata": {
            "needs_background": "light"
          }
        },
        {
          "output_type": "display_data",
          "data": {
            "text/plain": [
              "<Figure size 432x288 with 1 Axes>"
            ],
            "image/png": "[encoded data removed]"
          },
          "metadata": {
            "needs_background": "light"
          }
        },
        {
          "output_type": "display_data",
          "data": {
            "text/plain": [
              "<Figure size 432x288 with 1 Axes>"
            ],
            "image/png": "[encoded data removed]"
          },
          "metadata": {
            "needs_background": "light"
          }
        }
      ]
    },
    {
      "cell_type": "code",
      "execution_count": 22,
      "metadata": {
        "id": "e3-5ltxcBPv2"
      },
      "outputs": [],
      "source": [
        "final_metrics = defaultdict(dict)\n",
        "\n",
        "for dock_type, metrics_for_dock in metrics_data.items():\n",
        "  for featuerizer in metrics_for_dock:\n",
        "    df = pandas.DataFrame.from_dict(metrics_data[dock_type][featuerizer])\n",
        "    training = pandas.DataFrame.from_dict( dict(df[0]) )\n",
        "    test = pandas.DataFrame.from_dict( dict(df[1]) )\n",
        "    final_metrics[dock_type][featuerizer] = (training, test)"
      ]
    },
    {
      "cell_type": "code",
      "execution_count": 23,
      "metadata": {
        "id": "oTMFRLJWN5DE",
        "colab": {
          "base_uri": "https://localhost:8080/"
        },
        "outputId": "d3d331c3-2403-4a08-9bbb-c15d92f260a3"
      },
      "outputs": [
        {
          "output_type": "stream",
          "name": "stdout",
          "text": [
            "Pure Based Data (physics guided)\n",
            "DNN folded 10 times: Mean\n",
            "rms_score    0.328129\n",
            "dtype: float64\n",
            "rms_score    0.124718\n",
            "dtype: float64\n",
            "rms_score    0.210795\n",
            "dtype: float64\n",
            "rms_score    0.07192\n",
            "dtype: float64\n",
            "GCN folded 10 times: Mean\n",
            "rms_score    0.976599\n",
            "dtype: float64\n",
            "rms_score    0.133867\n",
            "dtype: float64\n",
            "rms_score    0.95068\n",
            "dtype: float64\n",
            "rms_score    0.194746\n",
            "dtype: float64\n",
            "VM2 Based Data (physics guided)\n",
            "PGGCN folded 10 times: Mean\n",
            "rms_score    0.747496\n",
            "dtype: float64\n",
            "rms_score    0.249335\n",
            "dtype: float64\n",
            "rms_score    0.616319\n",
            "dtype: float64\n",
            "rms_score    0.032441\n",
            "dtype: float64\n",
            "PGDNN folded 10 times: Mean\n",
            "rms_score    0.213122\n",
            "dtype: float64\n",
            "rms_score    0.084492\n",
            "dtype: float64\n",
            "rms_score    0.177476\n",
            "dtype: float64\n",
            "rms_score    0.130189\n",
            "dtype: float64\n"
          ]
        }
      ],
      "source": [
        "model_lookup = {\n",
        "    'Circular Fingerprint': 'DNN',\n",
        "    'Graph Conv Featurizer': 'GCN',\n",
        "    'Modded Graph Conv Featurizer': 'PGGCN',\n",
        "    'Modded Circular Fingerprint': 'PGDNN'\n",
        "}\n",
        "\n",
        "K = 10\n",
        "\n",
        "print('Pure Based Data (physics guided)')\n",
        "for model, (training_data, test_data) in final_metrics['pure'].items():\n",
        "  if 'Modded' in model:\n",
        "    continue\n",
        "  print(f'{model_lookup[model]} folded {K} times: Mean')\n",
        "  print(training_data.mean(axis=1))\n",
        "  print(training_data.std(axis=1))\n",
        "  print(test_data.mean(axis=1))\n",
        "  print(test_data.std(axis=1))\n",
        "\n",
        "print('VM2 Based Data (physics guided)')\n",
        "for model, (training_data, test_data) in final_metrics['vm2'].items():\n",
        "  if 'Modded' not in model:\n",
        "    continue\n",
        "  print(f'{model_lookup[model]} folded {K} times: Mean')\n",
        "  print(training_data.mean(axis=1))\n",
        "  print(training_data.std(axis=1))\n",
        "  print(test_data.mean(axis=1))\n",
        "  print(test_data.std(axis=1))"
      ]
    },
    {
      "cell_type": "markdown",
      "source": [
        "Instead of showing a view across all folds as a scatter plot, we'll do it as a box plot with whiskers"
      ],
      "metadata": {
        "id": "4YZsg6Uvz753"
      }
    },
    {
      "cell_type": "code",
      "source": [
        "model_lookup = {\n",
        "    'Circular Fingerprint': 'DNN',\n",
        "    'Graph Conv Featurizer': 'GCN',\n",
        "    'Modded Graph Conv Featurizer': 'PGGCN',\n",
        "    'Modded Circular Fingerprint': 'PGDNN'\n",
        "}\n",
        "\n",
        "import matplotlib.pyplot as plt\n",
        "\n",
        "fig, ax = plt.subplots()\n",
        "\n",
        "# data to reset between runs!\n",
        "labels = []\n",
        "x = []\n",
        "y = []\n",
        "model_to_ticklabel = {}\n",
        "counter = 0\n",
        "model_results = []\n",
        "\n",
        "for model, (training_data, test_data) in final_metrics['vm2'].items():\n",
        "  data = []\n",
        "  if model not in model_to_ticklabel:\n",
        "    model_to_ticklabel[model_lookup[model]] = counter\n",
        "    labels.append(model_lookup[model])\n",
        "    counter += 1\n",
        "\n",
        "  for trial, item in training_data.iteritems():\n",
        "    x = model_to_ticklabel[model_lookup[model]]\n",
        "    y = item\n",
        "    #data.append(y)\n",
        "\n",
        "  for trial, item in test_data.iteritems():\n",
        "    x = model_to_ticklabel[model_lookup[model]]\n",
        "    y = item\n",
        "    data.append(y)\n",
        "\n",
        "  model_results.append(numpy.concatenate(data))\n",
        "\n",
        "ax.set_ylabel('RMSE (kcal/mol)')\n",
        "#ax.set_title('RMSE vs. Models across Folds Training Datasets')\n",
        "ax.set_title('RMSE vs. Models on Test Data')\n",
        "ax.grid(which='both', axis='y')\n",
        "\n",
        "for model, (training_data, test_data) in final_metrics['pure'].items():\n",
        "  data = []\n",
        "\n",
        "  if model not in labels and model not in model_to_ticklabel:\n",
        "    model_to_ticklabel[model] = counter\n",
        "    labels.append(model_lookup[model])\n",
        "    counter += 1\n",
        "\n",
        "  for trial, item in training_data.iteritems():\n",
        "    x = model_to_ticklabel[model]\n",
        "    y = item\n",
        "    #data.append(y)\n",
        "\n",
        "  for trial, item in test_data.iteritems():\n",
        "    x = model_to_ticklabel[model]\n",
        "    y = item\n",
        "    data.append(y)\n",
        "\n",
        "  model_results.append(numpy.concatenate(data))\n",
        "\n",
        "ax.boxplot(model_results, showfliers=False)\n",
        "plt.xticks([x for x in range(1,len(labels)+1)], labels, rotation='vertical', label='physical')\n",
        "plt.show()"
      ],
      "metadata": {
        "colab": {
          "base_uri": "https://localhost:8080/",
          "height": 308
        },
        "id": "Sa0mV0Pzz7W1",
        "outputId": "55eaa3fa-b663-4257-d162-dad71a558abd"
      },
      "execution_count": 24,
      "outputs": [
        {
          "output_type": "display_data",
          "data": {
            "text/plain": [
              "<Figure size 432x288 with 1 Axes>"
            ],
            "image/png": "[encoded data removed]"
          },
          "metadata": {
            "needs_background": "light"
          }
        }
      ]
    },
    {
      "cell_type": "code",
      "source": [
        "import pickle\n",
        "from google.colab import files, drive\n",
        "\n",
        "drive.mount('/content/drive')\n",
        "\n",
        "with open(\"/content/drive/My Drive/final_results_pre_opt.pickle\",\"wb\") as f:\n",
        "  pickle.dump(final_metrics, f)\n",
        "\n",
        "with open(\"/content/drive/My Drive/all_losses_pre_opt.pickle\",\"wb\") as f:\n",
        "  pickle.dump(all_losses, f)"
      ],
      "metadata": {
        "id": "L6i87U4SlWW1"
      },
      "execution_count": null,
      "outputs": []
    },
    {
      "cell_type": "markdown",
      "metadata": {
        "id": "_y8ld1-JqoKE"
      },
      "source": [
        "Finally we'll do some hyper parameter tuning - we'll use the grid optimization method to search the space of each hyperparameter to find the one that works the best across all folds.\n"
      ]
    },
    {
      "cell_type": "code",
      "execution_count": null,
      "metadata": {
        "id": "_ZDL7I2Pq_8t"
      },
      "outputs": [],
      "source": [
        "# Tune against RMSE score\n",
        "metric = deepchem.metrics.Metric(deepchem.metrics.rms_score, mode='regression')\n",
        "splitter = deepchem.splits.RandomSplitter()\n",
        "tuning_results = defaultdict(dict)\n",
        "\n",
        "def DNN_wrapper(**p):\n",
        "  model = DNN_Regression_Model(**p)\n",
        "  dc_model = deepchem.models.TorchModel(model, deepchem.models.losses.L2Loss(), **p)\n",
        "  return dc_model\n",
        "\n",
        "def PGDNN_wrapper(**p):\n",
        "  model = DNN_Regression_Model(input_feature_size=2048+1,**p)\n",
        "  dc_model = deepchem.models.TorchModel(model, deepchem.models.losses.L2Loss(), **p)\n",
        "  return dc_model\n",
        "\n",
        "for dock_type, input_datasets in datasets.items():\n",
        "  for featureizer_type, dataset in input_datasets.items():\n",
        "    print(f'tuning with data from {dock_type} for: {featureizer_type}')\n",
        "    \n",
        "    # Will be populated based on Featurizer/Model Type\n",
        "    optimizer = None\n",
        "    params_dict = None\n",
        "\n",
        "    if featureizer_type == 'Circular Fingerprint':\n",
        "      optimizer = deepchem.hyper.GridHyperparamOpt(DNN_wrapper)\n",
        "      params_dict = \\\n",
        "      {\n",
        "          \"dropout\": [ 0.1, 0.2, 0.3, 0.4, 0.5, 0.6, 0.7, 0.8, 0.9],\n",
        "          \"learning_rate\": [ 1 / 10 ** n for n in range(3, 6) ],\n",
        "          \"layers\": [1, 2, 4, 8, 16, 36, 64, 80, 96],\n",
        "          \"units\": [50, 100, 200, 400, 800, 1000, 2000, 2048, 3000, 4000, 5000]\n",
        "      }\n",
        "      continue\n",
        "      \n",
        "    elif featureizer_type == 'Graph Conv Featurizer':\n",
        "      optimizer = deepchem.hyper.GridHyperparamOpt\\\n",
        "      (\n",
        "          lambda **p: deepchem.models.GCNModel(n_tasks=1, number_atom_features=30, mode=\"regression\", **p)\n",
        "      )\n",
        "      params_dict = \\\n",
        "      {\n",
        "          \"dropout\": [ 0.1, 0.2, 0.3, 0.4, 0.5, 0.6, 0.7, 0.8, 0.9],\n",
        "          \"predictor_dropout\": [ 0.1, 0.2, 0.3, 0.4, 0.5, 0.6, 0.7, 0.8, 0.9],\n",
        "          \"learning_rate\": [ 1 / 10 ** n for n in range(3, 6) ],\n",
        "          \"predictor_hidden_feats\": [ 128 * n for n in range(1,6)]\n",
        "      }\n",
        "      continue\n",
        "\n",
        "    elif featureizer_type == 'Modded Graph Conv Featurizer':\n",
        "      optimizer = deepchem.hyper.GridHyperparamOpt\\\n",
        "      (\n",
        "          lambda **p: deepchem.models.GCNModel(n_tasks=1, number_atom_features=31, mode=\"regression\", **p)\n",
        "      )\n",
        "      params_dict = \\\n",
        "      {\n",
        "          \"dropout\": [ 0.1, 0.2, 0.3, 0.4, 0.5, 0.6, 0.7, 0.8, 0.9],\n",
        "          \"predictor_dropout\": [ 0.1, 0.2, 0.3, 0.4, 0.5, 0.6, 0.7, 0.8, 0.9],\n",
        "          \"learning_rate\": [ 1 / 10 ** n for n in range(3, 6) ],\n",
        "          \"predictor_hidden_feats\": [ 128 * n for n in range(1,6)]\n",
        "      }\n",
        "\n",
        "    elif featureizer_type == 'Modded Circular Fingerprint':\n",
        "      optimizer = deepchem.hyper.GridHyperparamOpt(PGDNN_wrapper)\n",
        "      params_dict = \\\n",
        "      {\n",
        "          \"dropout\": [ 0.1, 0.2, 0.3, 0.4, 0.5, 0.6, 0.7, 0.8, 0.9],\n",
        "          \"learning_rate\": [ 1 / 10 ** n for n in range(3, 6) ],\n",
        "          \"layers\": [1, 2, 4, 8, 16, 36, 64, 80, 96],\n",
        "          \"units\": [50, 100, 200, 400, 800, 1000, 2000, 2048, 3000, 4000, 5000]\n",
        "      }\n",
        "\n",
        "    # Dataset info for this model\n",
        "    train, test = splitter.train_test_split(dataset)\n",
        "\n",
        "    best_model, best_params, all_results = optimizer.hyperparam_search\\\n",
        "    (\n",
        "        params_dict=params_dict, \n",
        "        train_dataset=train, \n",
        "        valid_dataset=test, \n",
        "        metric=metric, \n",
        "        nb_epoch=100\n",
        "    )\n",
        "    print(f'tuned {dock_type} {featureizer_type} to {best_params}')\n",
        "    tuning_results[dock_type][featureizer_type] = (best_model, best_params, all_results)"
      ]
    },
    {
      "cell_type": "markdown",
      "source": [
        "Now print out the actual Hyperparameter optimized values. Note, the featurizer is different depending on the dock_type!"
      ],
      "metadata": {
        "id": "REvCo-KHHAV6"
      }
    },
    {
      "cell_type": "code",
      "source": [
        "for dock_type, input_datasets in datasets.items():\n",
        "  for featureizer_type in tuning_results[dock_type].keys():\n",
        "    (best_model, best_params, all_results ) = tuning_results[dock_type][featureizer_type]\n",
        "    print( f'{dock_type} {featureizer_type} {best_params}' )"
      ],
      "metadata": {
        "id": "w4POKYf0FmUw"
      },
      "execution_count": null,
      "outputs": []
    },
    {
      "cell_type": "code",
      "execution_count": 26,
      "metadata": {
        "colab": {
          "base_uri": "https://localhost:8080/",
          "height": 351
        },
        "id": "vjoU44Jbxgs8",
        "outputId": "88c8bc51-4d71-413f-eb56-b64e41c99742"
      },
      "outputs": [
        {
          "output_type": "stream",
          "name": "stderr",
          "text": [
            "/usr/local/lib/python3.7/dist-packages/ipykernel_launcher.py:17: MatplotlibDeprecationWarning: Adding an axes using the same arguments as a previous axes currently reuses the earlier instance.  In a future version, a new instance will always be created and returned.  Meanwhile, this warning can be suppressed, and the future behavior ensured, by passing a unique label to each axes instance.\n",
            "/usr/local/lib/python3.7/dist-packages/ipykernel_launcher.py:18: MatplotlibDeprecationWarning: Adding an axes using the same arguments as a previous axes currently reuses the earlier instance.  In a future version, a new instance will always be created and returned.  Meanwhile, this warning can be suppressed, and the future behavior ensured, by passing a unique label to each axes instance.\n"
          ]
        },
        {
          "output_type": "display_data",
          "data": {
            "text/plain": [
              "<Figure size 432x288 with 1 Axes>"
            ],
            "image/png": "[encoded data removed]"
          },
          "metadata": {
            "needs_background": "light"
          }
        }
      ],
      "source": [
        "from matplotlib import animation, rc, pyplot\n",
        "from IPython.display import HTML\n",
        "\n",
        "# First set up the figure, the axis, and the plot element we want to animate\n",
        "#for loss_data in losses['vm2']['Graph Conv Featurizer']\n",
        "pyplot.plot(losses['vm2']['Modded Graph Conv Featurizer'][9], label='fold 10')\n",
        "pyplot.plot(losses['vm2']['Modded Graph Conv Featurizer'][8], label='fold 9')\n",
        "pyplot.plot(losses['vm2']['Modded Graph Conv Featurizer'][7], label='fold 8')\n",
        "pyplot.plot(losses['vm2']['Modded Graph Conv Featurizer'][6], label='fold 7')\n",
        "pyplot.plot(losses['vm2']['Modded Graph Conv Featurizer'][5], label='fold 6')\n",
        "pyplot.plot(losses['vm2']['Modded Graph Conv Featurizer'][4], label='fold 5')\n",
        "pyplot.plot(losses['vm2']['Modded Graph Conv Featurizer'][3], label='fold 4')\n",
        "pyplot.plot(losses['vm2']['Modded Graph Conv Featurizer'][2], label='fold 3')\n",
        "pyplot.plot(losses['vm2']['Modded Graph Conv Featurizer'][1], label='fold 2')\n",
        "pyplot.plot(losses['vm2']['Modded Graph Conv Featurizer'][0], label='fold 0')\n",
        "pyplot.title('Hybrid GCN Model Convergence')\n",
        "pyplot.axes().set_xlabel('Epoch')\n",
        "pyplot.axes().set_ylabel('Calculated Loss')\n",
        "#pyplot.legend()\n",
        "pyplot.ylim([0, 0.30])\n",
        "pyplot.xlim([0, 100])\n",
        "pyplot.grid(True)\n",
        "pyplot.show()"
      ]
    },
    {
      "cell_type": "code",
      "execution_count": 27,
      "metadata": {
        "colab": {
          "base_uri": "https://localhost:8080/",
          "height": 351
        },
        "outputId": "47137ad9-2fce-4519-c027-f1fac14ca2df",
        "id": "EGFbVHHi4Mcs"
      },
      "outputs": [
        {
          "output_type": "stream",
          "name": "stderr",
          "text": [
            "/usr/local/lib/python3.7/dist-packages/ipykernel_launcher.py:17: MatplotlibDeprecationWarning: Adding an axes using the same arguments as a previous axes currently reuses the earlier instance.  In a future version, a new instance will always be created and returned.  Meanwhile, this warning can be suppressed, and the future behavior ensured, by passing a unique label to each axes instance.\n",
            "/usr/local/lib/python3.7/dist-packages/ipykernel_launcher.py:18: MatplotlibDeprecationWarning: Adding an axes using the same arguments as a previous axes currently reuses the earlier instance.  In a future version, a new instance will always be created and returned.  Meanwhile, this warning can be suppressed, and the future behavior ensured, by passing a unique label to each axes instance.\n"
          ]
        },
        {
          "output_type": "display_data",
          "data": {
            "text/plain": [
              "<Figure size 432x288 with 1 Axes>"
            ],
            "image/png": "[encoded data removed]"
          },
          "metadata": {
            "needs_background": "light"
          }
        }
      ],
      "source": [
        "from matplotlib import animation, rc, pyplot\n",
        "from IPython.display import HTML\n",
        "\n",
        "# First set up the figure, the axis, and the plot element we want to animate\n",
        "#for loss_data in losses['vm2']['Graph Conv Featurizer']\n",
        "pyplot.plot(losses['vm2']['Modded Circular Fingerprint'][9], label='fold 10')\n",
        "pyplot.plot(losses['vm2']['Modded Circular Fingerprint'][8], label='fold 9')\n",
        "pyplot.plot(losses['vm2']['Modded Circular Fingerprint'][7], label='fold 8')\n",
        "pyplot.plot(losses['vm2']['Modded Circular Fingerprint'][6], label='fold 7')\n",
        "pyplot.plot(losses['vm2']['Modded Circular Fingerprint'][5], label='fold 6')\n",
        "pyplot.plot(losses['vm2']['Modded Circular Fingerprint'][4], label='fold 5')\n",
        "pyplot.plot(losses['vm2']['Modded Circular Fingerprint'][3], label='fold 4')\n",
        "pyplot.plot(losses['vm2']['Modded Circular Fingerprint'][2], label='fold 3')\n",
        "pyplot.plot(losses['vm2']['Modded Circular Fingerprint'][1], label='fold 2')\n",
        "pyplot.plot(losses['vm2']['Modded Circular Fingerprint'][0], label='fold 1')\n",
        "pyplot.title('Hybrid DNN Model Convergence')\n",
        "pyplot.axes().set_xlabel('Epoch')\n",
        "pyplot.axes().set_ylabel('Calculated Loss')\n",
        "pyplot.ylim([0, 0.020])\n",
        "pyplot.xlim([0, 100])\n",
        "pyplot.grid(True)\n",
        "#pyplot.legend()\n",
        "pyplot.show()"
      ]
    },
    {
      "cell_type": "markdown",
      "source": [
        "What made fold 4 for the PGGCN and fold 1 for the DNN special?"
      ],
      "metadata": {
        "id": "p-5rRSji5SLv"
      }
    },
    {
      "cell_type": "code",
      "source": [
        "for model, network_data in dataset_data.items():\n",
        "  for network_type, network_trials in network_data.items():\n",
        "    for fold_id, fold_datasets in network_trials.items():\n",
        "      training_set, testing_set = fold_datasets\n",
        "      print( f'training set for {network_type} for fold {fold_id}', training_set.ids )\n",
        "      print( f'test set for {network_type} for fold {fold_id}', testing_set.ids )"
      ],
      "metadata": {
        "colab": {
          "base_uri": "https://localhost:8080/"
        },
        "id": "CMRMzRcP5QIX",
        "outputId": "cd703607-cd2a-478b-eca6-6abd221a8c19"
      },
      "execution_count": 36,
      "outputs": [
        {
          "output_type": "stream",
          "name": "stdout",
          "text": [
            "training set for Modded Graph Conv Featurizer for fold 0 ['guest-5' 'guest-2' 'guest-8' 'guest-s10' 'guest-s11' 'guest-s21'\n",
            " 'guest-7' 'guest-s14' 'guest-3' 'guest-4' 'guest-1' 'guest-s15'\n",
            " 'guest-s19' 'guest-s18' 'guest-s16' 'guest-s13' 'guest-s20' 'guest-s12'\n",
            " 'guest-s9']\n",
            "test set for Modded Graph Conv Featurizer for fold 0 ['guest-6' 'guest-s22']\n",
            "training set for Modded Graph Conv Featurizer for fold 1 ['guest-6' 'guest-s22' 'guest-s14' 'guest-s16' 'guest-7' 'guest-s12'\n",
            " 'guest-s21' 'guest-8' 'guest-s11' 'guest-s13' 'guest-s20' 'guest-s19'\n",
            " 'guest-1' 'guest-s9' 'guest-s18' 'guest-s15' 'guest-s10' 'guest-4'\n",
            " 'guest-2']\n",
            "test set for Modded Graph Conv Featurizer for fold 1 ['guest-3' 'guest-5']\n",
            "training set for Modded Graph Conv Featurizer for fold 2 ['guest-6' 'guest-s22' 'guest-3' 'guest-5' 'guest-s15' 'guest-s10'\n",
            " 'guest-s12' 'guest-s20' 'guest-s11' 'guest-s21' 'guest-s19' 'guest-7'\n",
            " 'guest-s9' 'guest-2' 'guest-8' 'guest-s18' 'guest-s14' 'guest-4'\n",
            " 'guest-s16']\n",
            "test set for Modded Graph Conv Featurizer for fold 2 ['guest-1' 'guest-s13']\n",
            "training set for Modded Graph Conv Featurizer for fold 3 ['guest-6' 'guest-s22' 'guest-3' 'guest-5' 'guest-1' 'guest-s13' 'guest-8'\n",
            " 'guest-s18' 'guest-s16' 'guest-s12' 'guest-s19' 'guest-2' 'guest-s11'\n",
            " 'guest-7' 'guest-s20' 'guest-4' 'guest-s10' 'guest-s21' 'guest-s15']\n",
            "test set for Modded Graph Conv Featurizer for fold 3 ['guest-s9' 'guest-s14']\n",
            "training set for Modded Graph Conv Featurizer for fold 4 ['guest-6' 'guest-s22' 'guest-3' 'guest-5' 'guest-1' 'guest-s13'\n",
            " 'guest-s9' 'guest-s14' 'guest-s21' 'guest-4' 'guest-s20' 'guest-2'\n",
            " 'guest-7' 'guest-8' 'guest-s12' 'guest-s10' 'guest-s11' 'guest-s18'\n",
            " 'guest-s16']\n",
            "test set for Modded Graph Conv Featurizer for fold 4 ['guest-s19' 'guest-s15']\n",
            "training set for Modded Graph Conv Featurizer for fold 5 ['guest-6' 'guest-s22' 'guest-3' 'guest-5' 'guest-1' 'guest-s13'\n",
            " 'guest-s9' 'guest-s14' 'guest-s19' 'guest-s15' 'guest-4' 'guest-2'\n",
            " 'guest-s20' 'guest-7' 'guest-s21' 'guest-s18' 'guest-8' 'guest-s11'\n",
            " 'guest-s10']\n",
            "test set for Modded Graph Conv Featurizer for fold 5 ['guest-s16' 'guest-s12']\n",
            "training set for Modded Graph Conv Featurizer for fold 6 ['guest-6' 'guest-s22' 'guest-3' 'guest-5' 'guest-1' 'guest-s13'\n",
            " 'guest-s9' 'guest-s14' 'guest-s19' 'guest-s15' 'guest-s16' 'guest-s12'\n",
            " 'guest-7' 'guest-s21' 'guest-8' 'guest-s11' 'guest-s18' 'guest-s10'\n",
            " 'guest-2']\n",
            "test set for Modded Graph Conv Featurizer for fold 6 ['guest-4' 'guest-s20']\n",
            "training set for Modded Graph Conv Featurizer for fold 7 ['guest-6' 'guest-s22' 'guest-3' 'guest-5' 'guest-1' 'guest-s13'\n",
            " 'guest-s9' 'guest-s14' 'guest-s19' 'guest-s15' 'guest-s16' 'guest-s12'\n",
            " 'guest-4' 'guest-s20' 'guest-8' 'guest-s10' 'guest-s21' 'guest-2'\n",
            " 'guest-s18']\n",
            "test set for Modded Graph Conv Featurizer for fold 7 ['guest-s11' 'guest-7']\n",
            "training set for Modded Graph Conv Featurizer for fold 8 ['guest-6' 'guest-s22' 'guest-3' 'guest-5' 'guest-1' 'guest-s13'\n",
            " 'guest-s9' 'guest-s14' 'guest-s19' 'guest-s15' 'guest-s16' 'guest-s12'\n",
            " 'guest-4' 'guest-s20' 'guest-s11' 'guest-7' 'guest-s18' 'guest-s10'\n",
            " 'guest-s21']\n",
            "test set for Modded Graph Conv Featurizer for fold 8 ['guest-2' 'guest-8']\n",
            "training set for Modded Graph Conv Featurizer for fold 9 ['guest-6' 'guest-s22' 'guest-3' 'guest-5' 'guest-1' 'guest-s13'\n",
            " 'guest-s9' 'guest-s14' 'guest-s19' 'guest-s15' 'guest-s16' 'guest-s12'\n",
            " 'guest-4' 'guest-s20' 'guest-s11' 'guest-7' 'guest-2' 'guest-8']\n",
            "test set for Modded Graph Conv Featurizer for fold 9 ['guest-s21' 'guest-s10' 'guest-s18']\n",
            "training set for Modded Circular Fingerprint for fold 0 ['guest-3' 'guest-s10' 'guest-6' 'guest-s9' 'guest-s19' 'guest-s11'\n",
            " 'guest-1' 'guest-s18' 'guest-s14' 'guest-s12' 'guest-s15' 'guest-s16'\n",
            " 'guest-4' 'guest-s13' 'guest-s22' 'guest-8' 'guest-7' 'guest-2'\n",
            " 'guest-s21']\n",
            "test set for Modded Circular Fingerprint for fold 0 ['guest-s20' 'guest-5']\n",
            "training set for Modded Circular Fingerprint for fold 1 ['guest-s20' 'guest-5' 'guest-s13' 'guest-s22' 'guest-s9' 'guest-s10'\n",
            " 'guest-s15' 'guest-2' 'guest-s14' 'guest-s11' 'guest-s16' 'guest-8'\n",
            " 'guest-s21' 'guest-s19' 'guest-7' 'guest-3' 'guest-s18' 'guest-6'\n",
            " 'guest-4']\n",
            "test set for Modded Circular Fingerprint for fold 1 ['guest-1' 'guest-s12']\n",
            "training set for Modded Circular Fingerprint for fold 2 ['guest-s20' 'guest-5' 'guest-1' 'guest-s12' 'guest-s22' 'guest-s16'\n",
            " 'guest-s11' 'guest-s19' 'guest-s18' 'guest-s13' 'guest-s15' 'guest-s9'\n",
            " 'guest-s10' 'guest-8' 'guest-3' 'guest-s14' 'guest-4' 'guest-2' 'guest-7']\n",
            "test set for Modded Circular Fingerprint for fold 2 ['guest-s21' 'guest-6']\n",
            "training set for Modded Circular Fingerprint for fold 3 ['guest-s20' 'guest-5' 'guest-1' 'guest-s12' 'guest-s21' 'guest-6'\n",
            " 'guest-3' 'guest-8' 'guest-s15' 'guest-s11' 'guest-s18' 'guest-7'\n",
            " 'guest-s16' 'guest-2' 'guest-s13' 'guest-s22' 'guest-4' 'guest-s9'\n",
            " 'guest-s10']\n",
            "test set for Modded Circular Fingerprint for fold 3 ['guest-s14' 'guest-s19']\n",
            "training set for Modded Circular Fingerprint for fold 4 ['guest-s20' 'guest-5' 'guest-1' 'guest-s12' 'guest-s21' 'guest-6'\n",
            " 'guest-s14' 'guest-s19' 'guest-3' 'guest-s22' 'guest-s13' 'guest-s15'\n",
            " 'guest-2' 'guest-s10' 'guest-s11' 'guest-4' 'guest-8' 'guest-7'\n",
            " 'guest-s9']\n",
            "test set for Modded Circular Fingerprint for fold 4 ['guest-s18' 'guest-s16']\n",
            "training set for Modded Circular Fingerprint for fold 5 ['guest-s20' 'guest-5' 'guest-1' 'guest-s12' 'guest-s21' 'guest-6'\n",
            " 'guest-s14' 'guest-s19' 'guest-s18' 'guest-s16' 'guest-s22' 'guest-2'\n",
            " 'guest-4' 'guest-s13' 'guest-s9' 'guest-s10' 'guest-s15' 'guest-8'\n",
            " 'guest-7']\n",
            "test set for Modded Circular Fingerprint for fold 5 ['guest-3' 'guest-s11']\n",
            "training set for Modded Circular Fingerprint for fold 6 ['guest-s20' 'guest-5' 'guest-1' 'guest-s12' 'guest-s21' 'guest-6'\n",
            " 'guest-s14' 'guest-s19' 'guest-s18' 'guest-s16' 'guest-3' 'guest-s11'\n",
            " 'guest-s10' 'guest-s9' 'guest-8' 'guest-s15' 'guest-7' 'guest-s13'\n",
            " 'guest-4']\n",
            "test set for Modded Circular Fingerprint for fold 6 ['guest-2' 'guest-s22']\n",
            "training set for Modded Circular Fingerprint for fold 7 ['guest-s20' 'guest-5' 'guest-1' 'guest-s12' 'guest-s21' 'guest-6'\n",
            " 'guest-s14' 'guest-s19' 'guest-s18' 'guest-s16' 'guest-3' 'guest-s11'\n",
            " 'guest-2' 'guest-s22' 'guest-7' 'guest-4' 'guest-s13' 'guest-s9'\n",
            " 'guest-8']\n",
            "test set for Modded Circular Fingerprint for fold 7 ['guest-s15' 'guest-s10']\n",
            "training set for Modded Circular Fingerprint for fold 8 ['guest-s20' 'guest-5' 'guest-1' 'guest-s12' 'guest-s21' 'guest-6'\n",
            " 'guest-s14' 'guest-s19' 'guest-s18' 'guest-s16' 'guest-3' 'guest-s11'\n",
            " 'guest-2' 'guest-s22' 'guest-s15' 'guest-s10' 'guest-4' 'guest-7'\n",
            " 'guest-8']\n",
            "test set for Modded Circular Fingerprint for fold 8 ['guest-s9' 'guest-s13']\n",
            "training set for Modded Circular Fingerprint for fold 9 ['guest-s20' 'guest-5' 'guest-1' 'guest-s12' 'guest-s21' 'guest-6'\n",
            " 'guest-s14' 'guest-s19' 'guest-s18' 'guest-s16' 'guest-3' 'guest-s11'\n",
            " 'guest-2' 'guest-s22' 'guest-s15' 'guest-s10' 'guest-s9' 'guest-s13']\n",
            "test set for Modded Circular Fingerprint for fold 9 ['guest-4' 'guest-8' 'guest-7']\n",
            "training set for Circular Fingerprint for fold 0 ['guest-3' 'guest-5' 'guest-s11' 'guest-s19' 'guest-s21' 'guest-s14'\n",
            " 'guest-s13' 'guest-6' 'guest-s15' 'guest-2' 'guest-s9' 'guest-s16'\n",
            " 'guest-s22' 'guest-s20' 'guest-s18' 'guest-s12' 'guest-4' 'guest-s10'\n",
            " 'guest-1']\n",
            "test set for Circular Fingerprint for fold 0 ['guest-8' 'guest-7']\n",
            "training set for Circular Fingerprint for fold 1 ['guest-8' 'guest-7' 'guest-5' 'guest-s18' 'guest-s10' 'guest-s13'\n",
            " 'guest-s16' 'guest-3' 'guest-s9' 'guest-s21' 'guest-s14' 'guest-s15'\n",
            " 'guest-4' 'guest-s11' 'guest-s12' 'guest-6' 'guest-1' 'guest-s19'\n",
            " 'guest-s22']\n",
            "test set for Circular Fingerprint for fold 1 ['guest-s20' 'guest-2']\n",
            "training set for Circular Fingerprint for fold 2 ['guest-8' 'guest-7' 'guest-s20' 'guest-2' 'guest-4' 'guest-s14'\n",
            " 'guest-s13' 'guest-s21' 'guest-s19' 'guest-s10' 'guest-3' 'guest-s12'\n",
            " 'guest-1' 'guest-s16' 'guest-s11' 'guest-6' 'guest-s9' 'guest-5'\n",
            " 'guest-s22']\n",
            "test set for Circular Fingerprint for fold 2 ['guest-s18' 'guest-s15']\n",
            "training set for Circular Fingerprint for fold 3 ['guest-8' 'guest-7' 'guest-s20' 'guest-2' 'guest-s18' 'guest-s15'\n",
            " 'guest-5' 'guest-s12' 'guest-s13' 'guest-s22' 'guest-s9' 'guest-1'\n",
            " 'guest-3' 'guest-s14' 'guest-s10' 'guest-s19' 'guest-s11' 'guest-s16'\n",
            " 'guest-s21']\n",
            "test set for Circular Fingerprint for fold 3 ['guest-6' 'guest-4']\n",
            "training set for Circular Fingerprint for fold 4 ['guest-8' 'guest-7' 'guest-s20' 'guest-2' 'guest-s18' 'guest-s15'\n",
            " 'guest-6' 'guest-4' 'guest-s12' 'guest-s16' 'guest-3' 'guest-s22'\n",
            " 'guest-s14' 'guest-s10' 'guest-s21' 'guest-s13' 'guest-5' 'guest-1'\n",
            " 'guest-s11']\n",
            "test set for Circular Fingerprint for fold 4 ['guest-s9' 'guest-s19']\n",
            "training set for Circular Fingerprint for fold 5 ['guest-8' 'guest-7' 'guest-s20' 'guest-2' 'guest-s18' 'guest-s15'\n",
            " 'guest-6' 'guest-4' 'guest-s9' 'guest-s19' 'guest-s10' 'guest-3'\n",
            " 'guest-5' 'guest-s14' 'guest-s13' 'guest-1' 'guest-s11' 'guest-s21'\n",
            " 'guest-s22']\n",
            "test set for Circular Fingerprint for fold 5 ['guest-s16' 'guest-s12']\n",
            "training set for Circular Fingerprint for fold 6 ['guest-8' 'guest-7' 'guest-s20' 'guest-2' 'guest-s18' 'guest-s15'\n",
            " 'guest-6' 'guest-4' 'guest-s9' 'guest-s19' 'guest-s16' 'guest-s12'\n",
            " 'guest-s14' 'guest-s13' 'guest-s22' 'guest-5' 'guest-s10' 'guest-1'\n",
            " 'guest-s21']\n",
            "test set for Circular Fingerprint for fold 6 ['guest-3' 'guest-s11']\n",
            "training set for Circular Fingerprint for fold 7 ['guest-8' 'guest-7' 'guest-s20' 'guest-2' 'guest-s18' 'guest-s15'\n",
            " 'guest-6' 'guest-4' 'guest-s9' 'guest-s19' 'guest-s16' 'guest-s12'\n",
            " 'guest-3' 'guest-s11' 'guest-s10' 'guest-s21' 'guest-5' 'guest-s13'\n",
            " 'guest-s14']\n",
            "test set for Circular Fingerprint for fold 7 ['guest-1' 'guest-s22']\n",
            "training set for Circular Fingerprint for fold 8 ['guest-8' 'guest-7' 'guest-s20' 'guest-2' 'guest-s18' 'guest-s15'\n",
            " 'guest-6' 'guest-4' 'guest-s9' 'guest-s19' 'guest-s16' 'guest-s12'\n",
            " 'guest-3' 'guest-s11' 'guest-1' 'guest-s22' 'guest-s14' 'guest-5'\n",
            " 'guest-s13']\n",
            "test set for Circular Fingerprint for fold 8 ['guest-s21' 'guest-s10']\n",
            "training set for Circular Fingerprint for fold 9 ['guest-8' 'guest-7' 'guest-s20' 'guest-2' 'guest-s18' 'guest-s15'\n",
            " 'guest-6' 'guest-4' 'guest-s9' 'guest-s19' 'guest-s16' 'guest-s12'\n",
            " 'guest-3' 'guest-s11' 'guest-1' 'guest-s22' 'guest-s21' 'guest-s10']\n",
            "test set for Circular Fingerprint for fold 9 ['guest-s14' 'guest-s13' 'guest-5']\n",
            "training set for Graph Conv Featurizer for fold 0 ['guest-7' 'guest-s13' 'guest-5' 'guest-4' 'guest-s14' 'guest-s18'\n",
            " 'guest-6' 'guest-s22' 'guest-8' 'guest-s21' 'guest-s10' 'guest-s11'\n",
            " 'guest-s19' 'guest-s16' 'guest-s15' 'guest-s20' 'guest-3' 'guest-1'\n",
            " 'guest-2']\n",
            "test set for Graph Conv Featurizer for fold 0 ['guest-s12' 'guest-s9']\n",
            "training set for Graph Conv Featurizer for fold 1 ['guest-s12' 'guest-s9' 'guest-2' 'guest-s13' 'guest-s15' 'guest-s10'\n",
            " 'guest-s18' 'guest-s14' 'guest-7' 'guest-s11' 'guest-1' 'guest-s21'\n",
            " 'guest-4' 'guest-s20' 'guest-3' 'guest-5' 'guest-8' 'guest-s22'\n",
            " 'guest-s19']\n",
            "test set for Graph Conv Featurizer for fold 1 ['guest-s16' 'guest-6']\n",
            "training set for Graph Conv Featurizer for fold 2 ['guest-s12' 'guest-s9' 'guest-s16' 'guest-6' 'guest-1' 'guest-7'\n",
            " 'guest-5' 'guest-4' 'guest-s11' 'guest-s20' 'guest-s22' 'guest-s10'\n",
            " 'guest-3' 'guest-s14' 'guest-s21' 'guest-8' 'guest-s18' 'guest-s13'\n",
            " 'guest-2']\n",
            "test set for Graph Conv Featurizer for fold 2 ['guest-s19' 'guest-s15']\n",
            "training set for Graph Conv Featurizer for fold 3 ['guest-s12' 'guest-s9' 'guest-s16' 'guest-6' 'guest-s19' 'guest-s15'\n",
            " 'guest-4' 'guest-s20' 'guest-2' 'guest-s21' 'guest-s18' 'guest-5'\n",
            " 'guest-7' 'guest-s10' 'guest-s22' 'guest-8' 'guest-s13' 'guest-3'\n",
            " 'guest-s11']\n",
            "test set for Graph Conv Featurizer for fold 3 ['guest-1' 'guest-s14']\n",
            "training set for Graph Conv Featurizer for fold 4 ['guest-s12' 'guest-s9' 'guest-s16' 'guest-6' 'guest-s19' 'guest-s15'\n",
            " 'guest-1' 'guest-s14' 'guest-5' 'guest-7' 'guest-s13' 'guest-4'\n",
            " 'guest-s18' 'guest-2' 'guest-8' 'guest-s22' 'guest-s21' 'guest-s11'\n",
            " 'guest-s20']\n",
            "test set for Graph Conv Featurizer for fold 4 ['guest-s10' 'guest-3']\n",
            "training set for Graph Conv Featurizer for fold 5 ['guest-s12' 'guest-s9' 'guest-s16' 'guest-6' 'guest-s19' 'guest-s15'\n",
            " 'guest-1' 'guest-s14' 'guest-s10' 'guest-3' 'guest-s11' 'guest-s20'\n",
            " 'guest-7' 'guest-5' 'guest-8' 'guest-2' 'guest-s22' 'guest-s13'\n",
            " 'guest-s21']\n",
            "test set for Graph Conv Featurizer for fold 5 ['guest-4' 'guest-s18']\n",
            "training set for Graph Conv Featurizer for fold 6 ['guest-s12' 'guest-s9' 'guest-s16' 'guest-6' 'guest-s19' 'guest-s15'\n",
            " 'guest-1' 'guest-s14' 'guest-s10' 'guest-3' 'guest-4' 'guest-s18'\n",
            " 'guest-8' 'guest-7' 'guest-2' 'guest-s13' 'guest-s20' 'guest-s21'\n",
            " 'guest-s11']\n",
            "test set for Graph Conv Featurizer for fold 6 ['guest-s22' 'guest-5']\n",
            "training set for Graph Conv Featurizer for fold 7 ['guest-s12' 'guest-s9' 'guest-s16' 'guest-6' 'guest-s19' 'guest-s15'\n",
            " 'guest-1' 'guest-s14' 'guest-s10' 'guest-3' 'guest-4' 'guest-s18'\n",
            " 'guest-s22' 'guest-5' 'guest-2' 'guest-s11' 'guest-7' 'guest-s20'\n",
            " 'guest-s13']\n",
            "test set for Graph Conv Featurizer for fold 7 ['guest-s21' 'guest-8']\n",
            "training set for Graph Conv Featurizer for fold 8 ['guest-s12' 'guest-s9' 'guest-s16' 'guest-6' 'guest-s19' 'guest-s15'\n",
            " 'guest-1' 'guest-s14' 'guest-s10' 'guest-3' 'guest-4' 'guest-s18'\n",
            " 'guest-s22' 'guest-5' 'guest-s21' 'guest-8' 'guest-7' 'guest-s11'\n",
            " 'guest-s13']\n",
            "test set for Graph Conv Featurizer for fold 8 ['guest-s20' 'guest-2']\n",
            "training set for Graph Conv Featurizer for fold 9 ['guest-s12' 'guest-s9' 'guest-s16' 'guest-6' 'guest-s19' 'guest-s15'\n",
            " 'guest-1' 'guest-s14' 'guest-s10' 'guest-3' 'guest-4' 'guest-s18'\n",
            " 'guest-s22' 'guest-5' 'guest-s21' 'guest-8' 'guest-s20' 'guest-2']\n",
            "test set for Graph Conv Featurizer for fold 9 ['guest-s13' 'guest-s11' 'guest-7']\n"
          ]
        }
      ]
    },
    {
      "cell_type": "markdown",
      "source": [
        "Oddly enough, what seperates the models here from great performance appears to be Guest S17, removing this from the dataset! Let's see if the models converge better?"
      ],
      "metadata": {
        "id": "IhRRS7IJkxJh"
      }
    },
    {
      "cell_type": "markdown",
      "source": [
        "Using the optimized models, see how the better models perform."
      ],
      "metadata": {
        "id": "0bMh6OF9pQrw"
      }
    },
    {
      "cell_type": "code",
      "source": [
        "for model, results  in tuning_results.items():\n",
        "  for model_type, result in results.items():\n",
        "    (best_model, best_params, all_results) = result\n",
        "    print(f'{model_type} best params', best_params)"
      ],
      "metadata": {
        "colab": {
          "base_uri": "https://localhost:8080/"
        },
        "id": "IjoRc6lQY_Up",
        "outputId": "7220778c-5451-4e68-c1c8-1d6e8106c04d"
      },
      "execution_count": null,
      "outputs": [
        {
          "output_type": "stream",
          "name": "stdout",
          "text": [
            "Modded Graph Conv Featurizer best params {'dropout': 0.2, 'predictor_dropout': 0.2, 'learning_rate': 0.0001, 'predictor_hidden_feats': 640}\n",
            "Modded Circular Fingerprint best params {'dropout': 0.9, 'learning_rate': 0.001, 'layers': 1, 'units': 2000}\n"
          ]
        }
      ]
    },
    {
      "cell_type": "code",
      "source": [
        "# Pure Data Driven (would be top)\n",
        "# No docking or anything else\n",
        "\n",
        "optimized_DNN_VINA_model = DNN_wrapper(log_frequency=1, **tuning_results['vina']['Circular Fingerprint'][1])\n",
        "optimized_GCN_VINA_model = deepchem.models.GCNModel(n_tasks=1, number_atom_features=30, mode=\"regression\", log_frequency=1, **tuning_results['vina']['Graph Conv Featurizer'][1])\n",
        "\n",
        "# slightly more physics\n",
        "optimized_DNN_VM2_model = DNN_wrapper(**tuning_results['vm2']['Circular Fingerprint'][1])\n",
        "optimized_GCN_VM2_model = deepchem.models.GCNModel(n_tasks=1, number_atom_features=30, mode=\"regression\", log_frequency=1, **tuning_results['vm2']['Graph Conv Featurizer'][1])\n",
        "\n",
        "# pure hybird\n",
        "optimized_PGGCN_VM2_model = deepchem.models.GCNModel(n_tasks=1, number_atom_features=31, mode=\"regression\", log_frequency=1, **tuning_results['vm2']['Modded Graph Conv Featurizer'][1])\n",
        "optimized_PGDNN_VM2_model = PGDNN_wrapper(log_frequency=1, **tuning_results['vm2']['Modded Circular Fingerprint'][1])\n",
        "\n",
        "# pure physics\n",
        "# VM2"
      ],
      "metadata": {
        "id": "U5pZekwxsWTp"
      },
      "execution_count": null,
      "outputs": []
    },
    {
      "cell_type": "code",
      "source": [
        "opt_losses = defaultdict(dict)\n",
        "\n",
        "metrics_data = defaultdict(dict)\n",
        "\n",
        "for dock_type, input_datasets in datasets.items():\n",
        "  for featureizer_type, dataset in input_datasets.items():\n",
        "    print(f'training with data from {dock_type} for: {featureizer_type}')\n",
        "    model = None # Will be populated based on Featurizer\n",
        "    \n",
        "    if featureizer_type == 'Circular Fingerprint' and dock_type == 'vm2':\n",
        "      model = optimized_DNN_VM2_model\n",
        "    elif featureizer_type == 'Circular Fingerprint' and dock_type == 'vina':\n",
        "      model = optimized_DNN_VINA_model\n",
        "\n",
        "    elif featureizer_type == 'Graph Conv Featurizer' and dock_type == 'vm2':\n",
        "      model = optimized_GCN_VM2_model\n",
        "    elif featureizer_type == 'Graph Conv Featurizer' and dock_type == 'vina':\n",
        "      model = optimized_GCN_VINA_model\n",
        "\n",
        "    elif featureizer_type == 'Modded Graph Conv Featurizer':\n",
        "      model = optimized_PGGCN_VM2_model\n",
        "\n",
        "    elif featureizer_type == 'Modded Circular Fingerprint':\n",
        "      model = optimized_PGDNN_VM2_model\n",
        "\n",
        "    elif featureizer_type == 'Linear Regression':\n",
        "      model = linear_model\n",
        "    \n",
        "    # instead of doing a single test/train split, we'll do folding instead\n",
        "    #train_dataset, test_dataset = splitter.train_test_split(dataset)\n",
        "\n",
        "    # We'll collect the folds, and perfold, train / Eval the model\n",
        "    folds = splitter.k_fold_split(dataset, K)\n",
        "    fold_id = 0\n",
        "    metrics_data[dock_type][featureizer_type] = []\n",
        "    opt_losses[dock_type][featureizer_type] = defaultdict(list)\n",
        "\n",
        "    for fold_dataset in folds:\n",
        "      fold_id += 1\n",
        "      train_dataset, test_dataset = fold_dataset\n",
        "      if 'Linear Regression' not in featureizer_type:\n",
        "        model.fit(train_dataset, nb_epoch=100, all_losses=opt_losses[dock_type][featureizer_type][fold_id])\n",
        "      else:\n",
        "        model.fit(train_dataset)\n",
        "\n",
        "      # record the data for extraction later\n",
        "      metrics_data[dock_type][featureizer_type].append((model.evaluate(train_dataset, metrics),model.evaluate(test_dataset, metrics)))\n",
        "\n",
        "      # print out the metrics for user\n",
        "      #print(f'Performance on training set, fold {fold_id}:', model.evaluate(train_dataset, metrics))\n",
        "      #print(f'Performance on testing set, fold {fold_id}:', model.evaluate(test_dataset, metrics))\n",
        "\n",
        "      print(f'collected data for fold {fold_id}')"
      ],
      "metadata": {
        "colab": {
          "base_uri": "https://localhost:8080/"
        },
        "id": "wZjg6w46uOXP",
        "outputId": "a9b14a46-9774-4125-d82e-4875ee14afba"
      },
      "execution_count": null,
      "outputs": [
        {
          "output_type": "stream",
          "name": "stdout",
          "text": [
            "training with data from vm2 for: Circular Fingerprint\n",
            "collected data for fold 1\n",
            "collected data for fold 2\n",
            "collected data for fold 3\n",
            "collected data for fold 4\n",
            "collected data for fold 5\n",
            "training with data from vm2 for: Graph Conv Featurizer\n"
          ]
        },
        {
          "output_type": "stream",
          "name": "stderr",
          "text": [
            "/usr/local/lib/python3.7/site-packages/torch/amp/autocast_mode.py:198: UserWarning: User provided device_type of 'cuda', but CUDA is not available. Disabling\n",
            "  warnings.warn('User provided device_type of \\'cuda\\', but CUDA is not available. Disabling')\n"
          ]
        },
        {
          "output_type": "stream",
          "name": "stdout",
          "text": [
            "collected data for fold 1\n"
          ]
        },
        {
          "output_type": "stream",
          "name": "stderr",
          "text": [
            "/usr/local/lib/python3.7/site-packages/torch/amp/autocast_mode.py:198: UserWarning: User provided device_type of 'cuda', but CUDA is not available. Disabling\n",
            "  warnings.warn('User provided device_type of \\'cuda\\', but CUDA is not available. Disabling')\n"
          ]
        },
        {
          "output_type": "stream",
          "name": "stdout",
          "text": [
            "collected data for fold 2\n"
          ]
        },
        {
          "output_type": "stream",
          "name": "stderr",
          "text": [
            "/usr/local/lib/python3.7/site-packages/torch/amp/autocast_mode.py:198: UserWarning: User provided device_type of 'cuda', but CUDA is not available. Disabling\n",
            "  warnings.warn('User provided device_type of \\'cuda\\', but CUDA is not available. Disabling')\n"
          ]
        },
        {
          "output_type": "stream",
          "name": "stdout",
          "text": [
            "collected data for fold 3\n"
          ]
        },
        {
          "output_type": "stream",
          "name": "stderr",
          "text": [
            "/usr/local/lib/python3.7/site-packages/torch/amp/autocast_mode.py:198: UserWarning: User provided device_type of 'cuda', but CUDA is not available. Disabling\n",
            "  warnings.warn('User provided device_type of \\'cuda\\', but CUDA is not available. Disabling')\n"
          ]
        },
        {
          "output_type": "stream",
          "name": "stdout",
          "text": [
            "collected data for fold 4\n"
          ]
        },
        {
          "output_type": "stream",
          "name": "stderr",
          "text": [
            "/usr/local/lib/python3.7/site-packages/torch/amp/autocast_mode.py:198: UserWarning: User provided device_type of 'cuda', but CUDA is not available. Disabling\n",
            "  warnings.warn('User provided device_type of \\'cuda\\', but CUDA is not available. Disabling')\n"
          ]
        },
        {
          "output_type": "stream",
          "name": "stdout",
          "text": [
            "collected data for fold 5\n",
            "training with data from vm2 for: Modded Graph Conv Featurizer\n"
          ]
        },
        {
          "output_type": "stream",
          "name": "stderr",
          "text": [
            "/usr/local/lib/python3.7/site-packages/torch/amp/autocast_mode.py:198: UserWarning: User provided device_type of 'cuda', but CUDA is not available. Disabling\n",
            "  warnings.warn('User provided device_type of \\'cuda\\', but CUDA is not available. Disabling')\n"
          ]
        },
        {
          "output_type": "stream",
          "name": "stdout",
          "text": [
            "collected data for fold 1\n"
          ]
        },
        {
          "output_type": "stream",
          "name": "stderr",
          "text": [
            "/usr/local/lib/python3.7/site-packages/torch/amp/autocast_mode.py:198: UserWarning: User provided device_type of 'cuda', but CUDA is not available. Disabling\n",
            "  warnings.warn('User provided device_type of \\'cuda\\', but CUDA is not available. Disabling')\n"
          ]
        },
        {
          "output_type": "stream",
          "name": "stdout",
          "text": [
            "collected data for fold 2\n"
          ]
        },
        {
          "output_type": "stream",
          "name": "stderr",
          "text": [
            "/usr/local/lib/python3.7/site-packages/torch/amp/autocast_mode.py:198: UserWarning: User provided device_type of 'cuda', but CUDA is not available. Disabling\n",
            "  warnings.warn('User provided device_type of \\'cuda\\', but CUDA is not available. Disabling')\n"
          ]
        },
        {
          "output_type": "stream",
          "name": "stdout",
          "text": [
            "collected data for fold 3\n"
          ]
        },
        {
          "output_type": "stream",
          "name": "stderr",
          "text": [
            "/usr/local/lib/python3.7/site-packages/torch/amp/autocast_mode.py:198: UserWarning: User provided device_type of 'cuda', but CUDA is not available. Disabling\n",
            "  warnings.warn('User provided device_type of \\'cuda\\', but CUDA is not available. Disabling')\n"
          ]
        },
        {
          "output_type": "stream",
          "name": "stdout",
          "text": [
            "collected data for fold 4\n"
          ]
        },
        {
          "output_type": "stream",
          "name": "stderr",
          "text": [
            "/usr/local/lib/python3.7/site-packages/torch/amp/autocast_mode.py:198: UserWarning: User provided device_type of 'cuda', but CUDA is not available. Disabling\n",
            "  warnings.warn('User provided device_type of \\'cuda\\', but CUDA is not available. Disabling')\n"
          ]
        },
        {
          "output_type": "stream",
          "name": "stdout",
          "text": [
            "collected data for fold 5\n",
            "training with data from vm2 for: Modded Circular Fingerprint\n",
            "collected data for fold 1\n",
            "collected data for fold 2\n",
            "collected data for fold 3\n",
            "collected data for fold 4\n",
            "collected data for fold 5\n",
            "training with data from vina for: Circular Fingerprint\n",
            "collected data for fold 1\n",
            "collected data for fold 2\n",
            "collected data for fold 3\n",
            "collected data for fold 4\n",
            "collected data for fold 5\n",
            "training with data from vina for: Graph Conv Featurizer\n"
          ]
        },
        {
          "output_type": "stream",
          "name": "stderr",
          "text": [
            "/usr/local/lib/python3.7/site-packages/torch/amp/autocast_mode.py:198: UserWarning: User provided device_type of 'cuda', but CUDA is not available. Disabling\n",
            "  warnings.warn('User provided device_type of \\'cuda\\', but CUDA is not available. Disabling')\n"
          ]
        },
        {
          "output_type": "stream",
          "name": "stdout",
          "text": [
            "collected data for fold 1\n"
          ]
        },
        {
          "output_type": "stream",
          "name": "stderr",
          "text": [
            "/usr/local/lib/python3.7/site-packages/torch/amp/autocast_mode.py:198: UserWarning: User provided device_type of 'cuda', but CUDA is not available. Disabling\n",
            "  warnings.warn('User provided device_type of \\'cuda\\', but CUDA is not available. Disabling')\n"
          ]
        },
        {
          "output_type": "stream",
          "name": "stdout",
          "text": [
            "collected data for fold 2\n"
          ]
        },
        {
          "output_type": "stream",
          "name": "stderr",
          "text": [
            "/usr/local/lib/python3.7/site-packages/torch/amp/autocast_mode.py:198: UserWarning: User provided device_type of 'cuda', but CUDA is not available. Disabling\n",
            "  warnings.warn('User provided device_type of \\'cuda\\', but CUDA is not available. Disabling')\n"
          ]
        },
        {
          "output_type": "stream",
          "name": "stdout",
          "text": [
            "collected data for fold 3\n"
          ]
        },
        {
          "output_type": "stream",
          "name": "stderr",
          "text": [
            "/usr/local/lib/python3.7/site-packages/torch/amp/autocast_mode.py:198: UserWarning: User provided device_type of 'cuda', but CUDA is not available. Disabling\n",
            "  warnings.warn('User provided device_type of \\'cuda\\', but CUDA is not available. Disabling')\n"
          ]
        },
        {
          "output_type": "stream",
          "name": "stdout",
          "text": [
            "collected data for fold 4\n"
          ]
        },
        {
          "output_type": "stream",
          "name": "stderr",
          "text": [
            "/usr/local/lib/python3.7/site-packages/torch/amp/autocast_mode.py:198: UserWarning: User provided device_type of 'cuda', but CUDA is not available. Disabling\n",
            "  warnings.warn('User provided device_type of \\'cuda\\', but CUDA is not available. Disabling')\n"
          ]
        },
        {
          "output_type": "stream",
          "name": "stdout",
          "text": [
            "collected data for fold 5\n"
          ]
        }
      ]
    },
    {
      "cell_type": "code",
      "source": [
        "final_metrics = defaultdict(dict)\n",
        "\n",
        "for dock_type, metrics_for_dock in metrics_data.items():\n",
        "  for featuerizer in metrics_for_dock:\n",
        "    df = pandas.DataFrame.from_dict(metrics_data[dock_type][featuerizer])\n",
        "    training = pandas.DataFrame.from_dict( dict(df[0]) )\n",
        "    test = pandas.DataFrame.from_dict( dict(df[1]) )\n",
        "    final_metrics[dock_type][featuerizer] = (training, test)"
      ],
      "metadata": {
        "id": "wBokSStpvPH0"
      },
      "execution_count": null,
      "outputs": []
    },
    {
      "cell_type": "code",
      "source": [
        "tuning_results['vm2']['Modded Circular Fingerprint'][1]"
      ],
      "metadata": {
        "colab": {
          "base_uri": "https://localhost:8080/"
        },
        "id": "NAHYjM8boohw",
        "outputId": "abb45ddc-6a08-4463-83be-18afc91a29e4"
      },
      "execution_count": null,
      "outputs": [
        {
          "output_type": "execute_result",
          "data": {
            "text/plain": [
              "{'dropout': 0.0, 'learning_rate': 0.001, 'layers': 151, 'units': 2000}"
            ]
          },
          "metadata": {},
          "execution_count": 32
        }
      ]
    },
    {
      "cell_type": "code",
      "source": [
        "opt_losses"
      ],
      "metadata": {
        "id": "3nzCc0lnw3-n"
      },
      "execution_count": null,
      "outputs": []
    },
    {
      "cell_type": "markdown",
      "metadata": {
        "id": "NAlMd-cUgj0v"
      },
      "source": [
        "\n",
        "\n",
        "---\n",
        "Future Work! Replacment of the Loss function with a Physics guided version.\n",
        "Up until now we've basically done 1/2 of what a regular physics guided network does. We've introduced a feature that's calculated from a regular physics model. However, to fully realize the knowledged in a regular physics model, we should encourage the nueral network to favor following gradients that are physically consistent. This is what the below is all about!\n"
      ]
    },
    {
      "cell_type": "markdown",
      "metadata": {
        "id": "vUa24Tc939hM"
      },
      "source": [
        "Loss function/objective function is a key element of a physics informed/derived neural network. The loss function will include elements related to physics properties of entropy calculations.\n",
        "The idea here is to imbue some knowledge into how the loss function functions beyond looking at prediction and ground truth - ideally resulting in a quicker convergence of the overall model enabling lower volume of data needed to train the network.\n",
        "We'll also be using data training techiques to further stretch what data we have further - in order to create the most general model possible. Our goal is to do Leave One Out Cross Validation with the data we have."
      ]
    },
    {
      "cell_type": "code",
      "execution_count": null,
      "metadata": {
        "id": "hY41c4vQ-Ydg"
      },
      "outputs": [],
      "source": [
        "class PhysicsGuidedLoss(deepchem.models.losses.Loss):\n",
        "  # This Loss function does L2Loss along with some Physics Guided\n",
        "  # consistency parameters to enable rapid convergence with the\n",
        "  # limited dataset we have to train on.\n",
        "\n",
        "  def _compute_tf_loss(self, output, labels):\n",
        "    import tensorflow as tf\n",
        "    output, labels = _make_tf_shapes_consistent(output, labels)\n",
        "    output, labels = _ensure_float(output, labels)\n",
        "    return tf.square(output - labels)\n",
        "\n",
        "  def _create_pytorch_loss(self):\n",
        "    import torch\n",
        "\n",
        "    def loss(output, labels):\n",
        "      output, labels = _make_pytorch_shapes_consistent(output, labels)\n",
        "      return torch.nn.functional.mse_loss(output, labels, reduction='none')\n",
        "\n",
        "    return loss"
      ]
    },
    {
      "cell_type": "markdown",
      "metadata": {
        "id": "LwCYQBa1-ZQH"
      },
      "source": [
        "Finally, we wrap this into an actual deep chem model - which couples the loss function with the rest of the network. \n",
        "The Deepchem model is designed to work with the rest of the deepchem tool set (including training, batching, etc)"
      ]
    },
    {
      "cell_type": "code",
      "execution_count": null,
      "metadata": {
        "id": "r3nqu6Kq5qU6"
      },
      "outputs": [],
      "source": [
        "#model = deepchem.models.TorchModel(pytorch_model, PhysicsGuidedLoss())"
      ]
    },
    {
      "cell_type": "markdown",
      "metadata": {
        "id": "Rd9XTCTXnXy0"
      },
      "source": [
        "Until we have the loss function set up to be physics guided - we'll just add in physics features into the input vector space. What this means is that "
      ]
    }
  ],
  "metadata": {
    "colab": {
      "collapsed_sections": [],
      "provenance": [],
      "mount_file_id": "1_1pgpFg__y-9lt3rgdLXBygnLDoQhlAt",
      "authorship_tag": "ABX9TyNtotfksxP9GOm+uV9NK4sg",
      "include_colab_link": true
    },
    "kernelspec": {
      "display_name": "Python 3",
      "name": "python3"
    },
    "language_info": {
      "name": "python"
    },
    "gpuClass": "standard"
  },
  "nbformat": 4,
  "nbformat_minor": 0
}